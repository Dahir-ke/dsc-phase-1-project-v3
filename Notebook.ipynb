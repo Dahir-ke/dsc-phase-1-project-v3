{
 "cells": [
  {
   "cell_type": "markdown",
   "metadata": {},
   "source": [
    "## Final Project Submission\n",
    "\n",
    "Please fill out:\n",
    "* Student name:                           ``Dahir Ahmed``\n",
    "* Student pace:                             ``Part time`` \n",
    "* Scheduled project review date/time:       ``27TH OCT TO  31ST OCT 2025``\n",
    "* Instructor name:                           ``Brian Chacha``\n",
    "* Blog post URL:\n"
   ]
  },
  {
   "cell_type": "markdown",
   "metadata": {},
   "source": [
    "## INTRODUCATION \n",
    "Your company is expanding in to new industries to diversify its portfolio. Specifically, they are interested in purchasing and operating airplanes for commercial and private enterprises, but do not know anything about the potential risks of aircraft. You are charged with determining which aircraft are the lowest risk for the company to start this new business endeavor. You must then translate your findings into actionable insights that the head of the new aviation division can use to help decide which aircraft to purchase.\n"
   ]
  },
  {
   "cell_type": "code",
   "execution_count": 1,
   "metadata": {},
   "outputs": [],
   "source": [
    "# Your code here - remember to use markdown cells for comments as well!\n",
    "# Import the pandas library for data manipulation and analysis\n",
    "import pandas as pd\n",
    "\n",
    "# Import the numpy library for numerical operations and working with arrays\n",
    "import numpy as np\n",
    "\n",
    "\n",
    "# Import the warnings module to control or suppress warning messages\n",
    "import warnings\n",
    "\n",
    "# Suppress all warning messages to keep the output clean\n",
    "warnings.filterwarnings('ignore')\n",
    "\n"
   ]
  },
  {
   "cell_type": "markdown",
   "metadata": {},
   "source": [
    "1.1) Read Aviation_Data.csv into a pandas DataFrame named df"
   ]
  },
  {
   "cell_type": "code",
   "execution_count": 2,
   "metadata": {},
   "outputs": [
    {
     "data": {
      "application/vnd.microsoft.datawrangler.viewer.v0+json": {
       "columns": [
        {
         "name": "index",
         "rawType": "int64",
         "type": "integer"
        },
        {
         "name": "Event.Id",
         "rawType": "object",
         "type": "string"
        },
        {
         "name": "Investigation.Type",
         "rawType": "object",
         "type": "string"
        },
        {
         "name": "Accident.Number",
         "rawType": "object",
         "type": "string"
        },
        {
         "name": "Event.Date",
         "rawType": "object",
         "type": "string"
        },
        {
         "name": "Location",
         "rawType": "object",
         "type": "string"
        },
        {
         "name": "Country",
         "rawType": "object",
         "type": "string"
        },
        {
         "name": "Latitude",
         "rawType": "object",
         "type": "unknown"
        },
        {
         "name": "Longitude",
         "rawType": "object",
         "type": "unknown"
        },
        {
         "name": "Airport.Code",
         "rawType": "object",
         "type": "unknown"
        },
        {
         "name": "Airport.Name",
         "rawType": "object",
         "type": "unknown"
        },
        {
         "name": "Injury.Severity",
         "rawType": "object",
         "type": "string"
        },
        {
         "name": "Aircraft.damage",
         "rawType": "object",
         "type": "string"
        },
        {
         "name": "Aircraft.Category",
         "rawType": "object",
         "type": "unknown"
        },
        {
         "name": "Registration.Number",
         "rawType": "object",
         "type": "string"
        },
        {
         "name": "Make",
         "rawType": "object",
         "type": "string"
        },
        {
         "name": "Model",
         "rawType": "object",
         "type": "string"
        },
        {
         "name": "Amateur.Built",
         "rawType": "object",
         "type": "string"
        },
        {
         "name": "Number.of.Engines",
         "rawType": "float64",
         "type": "float"
        },
        {
         "name": "Engine.Type",
         "rawType": "object",
         "type": "unknown"
        },
        {
         "name": "FAR.Description",
         "rawType": "object",
         "type": "unknown"
        },
        {
         "name": "Schedule",
         "rawType": "object",
         "type": "unknown"
        },
        {
         "name": "Purpose.of.flight",
         "rawType": "object",
         "type": "string"
        },
        {
         "name": "Air.carrier",
         "rawType": "object",
         "type": "unknown"
        },
        {
         "name": "Total.Fatal.Injuries",
         "rawType": "float64",
         "type": "float"
        },
        {
         "name": "Total.Serious.Injuries",
         "rawType": "float64",
         "type": "float"
        },
        {
         "name": "Total.Minor.Injuries",
         "rawType": "float64",
         "type": "float"
        },
        {
         "name": "Total.Uninjured",
         "rawType": "float64",
         "type": "float"
        },
        {
         "name": "Weather.Condition",
         "rawType": "object",
         "type": "string"
        },
        {
         "name": "Broad.phase.of.flight",
         "rawType": "object",
         "type": "string"
        },
        {
         "name": "Report.Status",
         "rawType": "object",
         "type": "string"
        },
        {
         "name": "Publication.Date",
         "rawType": "object",
         "type": "unknown"
        }
       ],
       "ref": "bbe9256d-a63a-4fb3-b327-2b410d92515d",
       "rows": [
        [
         "0",
         "20001218X45444",
         "Accident",
         "SEA87LA080",
         "10/24/1948",
         "MOOSE CREEK, ID",
         "United States",
         null,
         null,
         null,
         null,
         "Fatal(2)",
         "Destroyed",
         null,
         "NC6404",
         "Stinson",
         "108-3",
         "No",
         "1.0",
         "Reciprocating",
         null,
         null,
         "Personal",
         null,
         "2.0",
         "0.0",
         "0.0",
         "0.0",
         "UNK",
         "Cruise",
         "Probable Cause",
         null
        ],
        [
         "1",
         "20001218X45447",
         "Accident",
         "LAX94LA336",
         "7/19/1962",
         "BRIDGEPORT, CA",
         "United States",
         null,
         null,
         null,
         null,
         "Fatal(4)",
         "Destroyed",
         null,
         "N5069P",
         "Piper",
         "PA24-180",
         "No",
         "1.0",
         "Reciprocating",
         null,
         null,
         "Personal",
         null,
         "4.0",
         "0.0",
         "0.0",
         "0.0",
         "UNK",
         "Unknown",
         "Probable Cause",
         "19-09-1996"
        ],
        [
         "2",
         "20061025X01555",
         "Accident",
         "NYC07LA005",
         "8/30/1974",
         "Saltville, VA",
         "United States",
         "36.922223",
         "-81.878056",
         null,
         null,
         "Fatal(3)",
         "Destroyed",
         null,
         "N5142R",
         "Cessna",
         "172M",
         "No",
         "1.0",
         "Reciprocating",
         null,
         null,
         "Personal",
         null,
         "3.0",
         null,
         null,
         null,
         "IMC",
         "Cruise",
         "Probable Cause",
         "26-02-2007"
        ],
        [
         "3",
         "20001218X45448",
         "Accident",
         "LAX96LA321",
         "6/19/1977",
         "EUREKA, CA",
         "United States",
         null,
         null,
         null,
         null,
         "Fatal(2)",
         "Destroyed",
         null,
         "N1168J",
         "Rockwell",
         "112",
         "No",
         "1.0",
         "Reciprocating",
         null,
         null,
         "Personal",
         null,
         "2.0",
         "0.0",
         "0.0",
         "0.0",
         "IMC",
         "Cruise",
         "Probable Cause",
         "12/9/2000"
        ],
        [
         "4",
         "20041105X01764",
         "Accident",
         "CHI79FA064",
         "8/2/1979",
         "Canton, OH",
         "United States",
         null,
         null,
         null,
         null,
         "Fatal(1)",
         "Destroyed",
         null,
         "N15NY",
         "Cessna",
         "501",
         "No",
         null,
         null,
         null,
         null,
         "Personal",
         null,
         "1.0",
         "2.0",
         null,
         "0.0",
         "VMC",
         "Approach",
         "Probable Cause",
         "16-04-1980"
        ]
       ],
       "shape": {
        "columns": 31,
        "rows": 5
       }
      },
      "text/html": [
       "<div>\n",
       "<style scoped>\n",
       "    .dataframe tbody tr th:only-of-type {\n",
       "        vertical-align: middle;\n",
       "    }\n",
       "\n",
       "    .dataframe tbody tr th {\n",
       "        vertical-align: top;\n",
       "    }\n",
       "\n",
       "    .dataframe thead th {\n",
       "        text-align: right;\n",
       "    }\n",
       "</style>\n",
       "<table border=\"1\" class=\"dataframe\">\n",
       "  <thead>\n",
       "    <tr style=\"text-align: right;\">\n",
       "      <th></th>\n",
       "      <th>Event.Id</th>\n",
       "      <th>Investigation.Type</th>\n",
       "      <th>Accident.Number</th>\n",
       "      <th>Event.Date</th>\n",
       "      <th>Location</th>\n",
       "      <th>Country</th>\n",
       "      <th>Latitude</th>\n",
       "      <th>Longitude</th>\n",
       "      <th>Airport.Code</th>\n",
       "      <th>Airport.Name</th>\n",
       "      <th>...</th>\n",
       "      <th>Purpose.of.flight</th>\n",
       "      <th>Air.carrier</th>\n",
       "      <th>Total.Fatal.Injuries</th>\n",
       "      <th>Total.Serious.Injuries</th>\n",
       "      <th>Total.Minor.Injuries</th>\n",
       "      <th>Total.Uninjured</th>\n",
       "      <th>Weather.Condition</th>\n",
       "      <th>Broad.phase.of.flight</th>\n",
       "      <th>Report.Status</th>\n",
       "      <th>Publication.Date</th>\n",
       "    </tr>\n",
       "  </thead>\n",
       "  <tbody>\n",
       "    <tr>\n",
       "      <th>0</th>\n",
       "      <td>20001218X45444</td>\n",
       "      <td>Accident</td>\n",
       "      <td>SEA87LA080</td>\n",
       "      <td>10/24/1948</td>\n",
       "      <td>MOOSE CREEK, ID</td>\n",
       "      <td>United States</td>\n",
       "      <td>NaN</td>\n",
       "      <td>NaN</td>\n",
       "      <td>NaN</td>\n",
       "      <td>NaN</td>\n",
       "      <td>...</td>\n",
       "      <td>Personal</td>\n",
       "      <td>NaN</td>\n",
       "      <td>2.0</td>\n",
       "      <td>0.0</td>\n",
       "      <td>0.0</td>\n",
       "      <td>0.0</td>\n",
       "      <td>UNK</td>\n",
       "      <td>Cruise</td>\n",
       "      <td>Probable Cause</td>\n",
       "      <td>NaN</td>\n",
       "    </tr>\n",
       "    <tr>\n",
       "      <th>1</th>\n",
       "      <td>20001218X45447</td>\n",
       "      <td>Accident</td>\n",
       "      <td>LAX94LA336</td>\n",
       "      <td>7/19/1962</td>\n",
       "      <td>BRIDGEPORT, CA</td>\n",
       "      <td>United States</td>\n",
       "      <td>NaN</td>\n",
       "      <td>NaN</td>\n",
       "      <td>NaN</td>\n",
       "      <td>NaN</td>\n",
       "      <td>...</td>\n",
       "      <td>Personal</td>\n",
       "      <td>NaN</td>\n",
       "      <td>4.0</td>\n",
       "      <td>0.0</td>\n",
       "      <td>0.0</td>\n",
       "      <td>0.0</td>\n",
       "      <td>UNK</td>\n",
       "      <td>Unknown</td>\n",
       "      <td>Probable Cause</td>\n",
       "      <td>19-09-1996</td>\n",
       "    </tr>\n",
       "    <tr>\n",
       "      <th>2</th>\n",
       "      <td>20061025X01555</td>\n",
       "      <td>Accident</td>\n",
       "      <td>NYC07LA005</td>\n",
       "      <td>8/30/1974</td>\n",
       "      <td>Saltville, VA</td>\n",
       "      <td>United States</td>\n",
       "      <td>36.922223</td>\n",
       "      <td>-81.878056</td>\n",
       "      <td>NaN</td>\n",
       "      <td>NaN</td>\n",
       "      <td>...</td>\n",
       "      <td>Personal</td>\n",
       "      <td>NaN</td>\n",
       "      <td>3.0</td>\n",
       "      <td>NaN</td>\n",
       "      <td>NaN</td>\n",
       "      <td>NaN</td>\n",
       "      <td>IMC</td>\n",
       "      <td>Cruise</td>\n",
       "      <td>Probable Cause</td>\n",
       "      <td>26-02-2007</td>\n",
       "    </tr>\n",
       "    <tr>\n",
       "      <th>3</th>\n",
       "      <td>20001218X45448</td>\n",
       "      <td>Accident</td>\n",
       "      <td>LAX96LA321</td>\n",
       "      <td>6/19/1977</td>\n",
       "      <td>EUREKA, CA</td>\n",
       "      <td>United States</td>\n",
       "      <td>NaN</td>\n",
       "      <td>NaN</td>\n",
       "      <td>NaN</td>\n",
       "      <td>NaN</td>\n",
       "      <td>...</td>\n",
       "      <td>Personal</td>\n",
       "      <td>NaN</td>\n",
       "      <td>2.0</td>\n",
       "      <td>0.0</td>\n",
       "      <td>0.0</td>\n",
       "      <td>0.0</td>\n",
       "      <td>IMC</td>\n",
       "      <td>Cruise</td>\n",
       "      <td>Probable Cause</td>\n",
       "      <td>12/9/2000</td>\n",
       "    </tr>\n",
       "    <tr>\n",
       "      <th>4</th>\n",
       "      <td>20041105X01764</td>\n",
       "      <td>Accident</td>\n",
       "      <td>CHI79FA064</td>\n",
       "      <td>8/2/1979</td>\n",
       "      <td>Canton, OH</td>\n",
       "      <td>United States</td>\n",
       "      <td>NaN</td>\n",
       "      <td>NaN</td>\n",
       "      <td>NaN</td>\n",
       "      <td>NaN</td>\n",
       "      <td>...</td>\n",
       "      <td>Personal</td>\n",
       "      <td>NaN</td>\n",
       "      <td>1.0</td>\n",
       "      <td>2.0</td>\n",
       "      <td>NaN</td>\n",
       "      <td>0.0</td>\n",
       "      <td>VMC</td>\n",
       "      <td>Approach</td>\n",
       "      <td>Probable Cause</td>\n",
       "      <td>16-04-1980</td>\n",
       "    </tr>\n",
       "  </tbody>\n",
       "</table>\n",
       "<p>5 rows × 31 columns</p>\n",
       "</div>"
      ],
      "text/plain": [
       "         Event.Id Investigation.Type Accident.Number  Event.Date  \\\n",
       "0  20001218X45444           Accident      SEA87LA080  10/24/1948   \n",
       "1  20001218X45447           Accident      LAX94LA336   7/19/1962   \n",
       "2  20061025X01555           Accident      NYC07LA005   8/30/1974   \n",
       "3  20001218X45448           Accident      LAX96LA321   6/19/1977   \n",
       "4  20041105X01764           Accident      CHI79FA064    8/2/1979   \n",
       "\n",
       "          Location        Country   Latitude   Longitude Airport.Code  \\\n",
       "0  MOOSE CREEK, ID  United States        NaN         NaN          NaN   \n",
       "1   BRIDGEPORT, CA  United States        NaN         NaN          NaN   \n",
       "2    Saltville, VA  United States  36.922223  -81.878056          NaN   \n",
       "3       EUREKA, CA  United States        NaN         NaN          NaN   \n",
       "4       Canton, OH  United States        NaN         NaN          NaN   \n",
       "\n",
       "  Airport.Name  ... Purpose.of.flight Air.carrier Total.Fatal.Injuries  \\\n",
       "0          NaN  ...          Personal         NaN                  2.0   \n",
       "1          NaN  ...          Personal         NaN                  4.0   \n",
       "2          NaN  ...          Personal         NaN                  3.0   \n",
       "3          NaN  ...          Personal         NaN                  2.0   \n",
       "4          NaN  ...          Personal         NaN                  1.0   \n",
       "\n",
       "  Total.Serious.Injuries Total.Minor.Injuries Total.Uninjured  \\\n",
       "0                    0.0                  0.0             0.0   \n",
       "1                    0.0                  0.0             0.0   \n",
       "2                    NaN                  NaN             NaN   \n",
       "3                    0.0                  0.0             0.0   \n",
       "4                    2.0                  NaN             0.0   \n",
       "\n",
       "  Weather.Condition  Broad.phase.of.flight   Report.Status Publication.Date  \n",
       "0               UNK                 Cruise  Probable Cause              NaN  \n",
       "1               UNK                Unknown  Probable Cause       19-09-1996  \n",
       "2               IMC                 Cruise  Probable Cause       26-02-2007  \n",
       "3               IMC                 Cruise  Probable Cause        12/9/2000  \n",
       "4               VMC               Approach  Probable Cause       16-04-1980  \n",
       "\n",
       "[5 rows x 31 columns]"
      ]
     },
     "execution_count": 2,
     "metadata": {},
     "output_type": "execute_result"
    }
   ],
   "source": [
    "# Load the CSV file \"Aviation_Data.csv\" from the 'data' folder into a pandas DataFrame named 'df'\n",
    "\n",
    "df = pd.read_csv(\"./data/Aviation_Data.csv\")\n",
    "\n",
    "# Display the first 5 rows of the DataFrame to quickly inspect the data\n",
    "\n",
    "df.head()"
   ]
  },
  {
   "cell_type": "code",
   "execution_count": 3,
   "metadata": {},
   "outputs": [
    {
     "name": "stdout",
     "output_type": "stream",
     "text": [
      "This dataset has 90348 rows and 31 columns.\n"
     ]
    }
   ],
   "source": [
    "# Display the shape (rows, columns)\n",
    "df.shape\n",
    "\n",
    "# Print the number of rows and columns in a readable format\n",
    "print(f\"This dataset has {df.shape[0]} rows and {df.shape[1]} columns.\")\n"
   ]
  },
  {
   "cell_type": "code",
   "execution_count": 4,
   "metadata": {},
   "outputs": [
    {
     "name": "stdout",
     "output_type": "stream",
     "text": [
      "<class 'pandas.core.frame.DataFrame'>\n",
      "RangeIndex: 90348 entries, 0 to 90347\n",
      "Data columns (total 31 columns):\n",
      " #   Column                  Non-Null Count  Dtype  \n",
      "---  ------                  --------------  -----  \n",
      " 0   Event.Id                88889 non-null  object \n",
      " 1   Investigation.Type      90348 non-null  object \n",
      " 2   Accident.Number         88889 non-null  object \n",
      " 3   Event.Date              88889 non-null  object \n",
      " 4   Location                88837 non-null  object \n",
      " 5   Country                 88663 non-null  object \n",
      " 6   Latitude                34382 non-null  object \n",
      " 7   Longitude               34373 non-null  object \n",
      " 8   Airport.Code            50132 non-null  object \n",
      " 9   Airport.Name            52704 non-null  object \n",
      " 10  Injury.Severity         87889 non-null  object \n",
      " 11  Aircraft.damage         85695 non-null  object \n",
      " 12  Aircraft.Category       32287 non-null  object \n",
      " 13  Registration.Number     87507 non-null  object \n",
      " 14  Make                    88826 non-null  object \n",
      " 15  Model                   88797 non-null  object \n",
      " 16  Amateur.Built           88787 non-null  object \n",
      " 17  Number.of.Engines       82805 non-null  float64\n",
      " 18  Engine.Type             81793 non-null  object \n",
      " 19  FAR.Description         32023 non-null  object \n",
      " 20  Schedule                12582 non-null  object \n",
      " 21  Purpose.of.flight       82697 non-null  object \n",
      " 22  Air.carrier             16648 non-null  object \n",
      " 23  Total.Fatal.Injuries    77488 non-null  float64\n",
      " 24  Total.Serious.Injuries  76379 non-null  float64\n",
      " 25  Total.Minor.Injuries    76956 non-null  float64\n",
      " 26  Total.Uninjured         82977 non-null  float64\n",
      " 27  Weather.Condition       84397 non-null  object \n",
      " 28  Broad.phase.of.flight   61724 non-null  object \n",
      " 29  Report.Status           82505 non-null  object \n",
      " 30  Publication.Date        73659 non-null  object \n",
      "dtypes: float64(5), object(26)\n",
      "memory usage: 21.4+ MB\n"
     ]
    }
   ],
   "source": [
    "df.info()"
   ]
  },
  {
   "cell_type": "markdown",
   "metadata": {},
   "source": [
    "# How to Find Duplicates in our Aviation Data \n",
    "\n",
    "our data has **90,348 rows** and **31 columns**.  \n",
    "Sometimes the **same crash** gets entered **twice** by mistake.  \n",
    "We want to **find & remove** those duplicates so our analysis is clean!\n",
    "\n"
   ]
  },
  {
   "cell_type": "code",
   "execution_count": 5,
   "metadata": {},
   "outputs": [
    {
     "name": "stdout",
     "output_type": "stream",
     "text": [
      "There are 1390 duplicate rows in this dataset.\n"
     ]
    }
   ],
   "source": [
    "duplicate_rows = df.duplicated().sum()\n",
    "\n",
    "print(f\"There are {duplicate_rows} duplicate rows in this dataset.\")\n"
   ]
  },
  {
   "cell_type": "code",
   "execution_count": 6,
   "metadata": {},
   "outputs": [],
   "source": [
    "#If you don’t want to modify the original DataFrame:\n",
    "\n",
    "cleaned_df = df.drop_duplicates()"
   ]
  },
  {
   "cell_type": "markdown",
   "metadata": {},
   "source": [
    "## How to Find Missing Values in Our Aviation Data\n",
    "\n",
    "Our dataset(cleaned) has ``88,958`` rows and ``31`` columns.\n",
    "Sometimes, during data entry, some information gets left blank — like the aircraft type, location, or number of fatalities.\n",
    "\n",
    "These missing values ``(NaNs)`` can affect our analysis, so we need to identify and handle them before moving forward!\n",
    "\n",
    "## We’ll check:\n",
    "\n",
    "1. How many missing values exist in each column\n",
    "\n",
    "2. Which columns have the most missing data\n",
    "\n",
    "3. And decide whether to fill, drop, or keep them depending on their importance."
   ]
  },
  {
   "cell_type": "code",
   "execution_count": 8,
   "metadata": {},
   "outputs": [
    {
     "data": {
      "application/vnd.microsoft.datawrangler.viewer.v0+json": {
       "columns": [
        {
         "name": "index",
         "rawType": "object",
         "type": "string"
        },
        {
         "name": "0",
         "rawType": "float64",
         "type": "float"
        }
       ],
       "ref": "1bfdbf84-1dad-4a4c-9a3f-f9419ed8d4b6",
       "rows": [
        [
         "Schedule",
         "85.85624676813778"
        ],
        [
         "Air.carrier",
         "81.2855504844983"
        ],
        [
         "FAR.Description",
         "64.00211335686504"
        ],
        [
         "Aircraft.Category",
         "63.705344094966165"
        ],
        [
         "Longitude",
         "61.360417275568246"
        ],
        [
         "Latitude",
         "61.35030014163988"
        ],
        [
         "Airport.Code",
         "43.64531576699117"
        ],
        [
         "Airport.Name",
         "40.75406371546123"
        ],
        [
         "Broad.phase.of.flight",
         "30.614447267249712"
        ],
        [
         "Publication.Date",
         "17.198003552238134"
        ],
        [
         "Total.Serious.Injuries",
         "14.140380853886104"
        ],
        [
         "Total.Minor.Injuries",
         "13.491760156478339"
        ],
        [
         "Total.Fatal.Injuries",
         "12.893725128712427"
        ],
        [
         "Engine.Type",
         "8.054362732975113"
        ],
        [
         "Report.Status",
         "7.253985026641787"
        ],
        [
         "Purpose.of.flight",
         "7.038152836169878"
        ],
        [
         "Number.of.Engines",
         "6.916747229029429"
        ],
        [
         "Total.Uninjured",
         "6.723397558398345"
        ],
        [
         "Weather.Condition",
         "5.127138649699859"
        ],
        [
         "Aircraft.damage",
         "3.6680231120303963"
        ],
        [
         "Registration.Number",
         "1.631106814451764"
        ],
        [
         "Injury.Severity",
         "1.20169068549203"
        ],
        [
         "Country",
         "0.33161716765215044"
        ],
        [
         "Amateur.Built",
         "0.19222554463904315"
        ],
        [
         "Model",
         "0.18098428471863126"
        ],
        [
         "Make",
         "0.14838463094943682"
        ],
        [
         "Location",
         "0.13601924503698373"
        ],
        [
         "Event.Date",
         "0.07756469345084196"
        ],
        [
         "Accident.Number",
         "0.07756469345084196"
        ],
        [
         "Event.Id",
         "0.07756469345084196"
        ],
        [
         "Investigation.Type",
         "0.0"
        ]
       ],
       "shape": {
        "columns": 1,
        "rows": 31
       }
      },
      "text/plain": [
       "Schedule                  85.856247\n",
       "Air.carrier               81.285550\n",
       "FAR.Description           64.002113\n",
       "Aircraft.Category         63.705344\n",
       "Longitude                 61.360417\n",
       "Latitude                  61.350300\n",
       "Airport.Code              43.645316\n",
       "Airport.Name              40.754064\n",
       "Broad.phase.of.flight     30.614447\n",
       "Publication.Date          17.198004\n",
       "Total.Serious.Injuries    14.140381\n",
       "Total.Minor.Injuries      13.491760\n",
       "Total.Fatal.Injuries      12.893725\n",
       "Engine.Type                8.054363\n",
       "Report.Status              7.253985\n",
       "Purpose.of.flight          7.038153\n",
       "Number.of.Engines          6.916747\n",
       "Total.Uninjured            6.723398\n",
       "Weather.Condition          5.127139\n",
       "Aircraft.damage            3.668023\n",
       "Registration.Number        1.631107\n",
       "Injury.Severity            1.201691\n",
       "Country                    0.331617\n",
       "Amateur.Built              0.192226\n",
       "Model                      0.180984\n",
       "Make                       0.148385\n",
       "Location                   0.136019\n",
       "Event.Date                 0.077565\n",
       "Accident.Number            0.077565\n",
       "Event.Id                   0.077565\n",
       "Investigation.Type         0.000000\n",
       "dtype: float64"
      ]
     },
     "execution_count": 8,
     "metadata": {},
     "output_type": "execute_result"
    }
   ],
   "source": [
    "#Check missing data percentages:\n",
    "cleaned_df.isnull().mean().sort_values(ascending=False) * 100 \n"
   ]
  },
  {
   "cell_type": "code",
   "execution_count": 9,
   "metadata": {},
   "outputs": [
    {
     "data": {
      "application/vnd.microsoft.datawrangler.viewer.v0+json": {
       "columns": [
        {
         "name": "index",
         "rawType": "object",
         "type": "string"
        },
        {
         "name": "Number.of.Engines",
         "rawType": "float64",
         "type": "float"
        },
        {
         "name": "Total.Fatal.Injuries",
         "rawType": "float64",
         "type": "float"
        },
        {
         "name": "Total.Serious.Injuries",
         "rawType": "float64",
         "type": "float"
        },
        {
         "name": "Total.Minor.Injuries",
         "rawType": "float64",
         "type": "float"
        },
        {
         "name": "Total.Uninjured",
         "rawType": "float64",
         "type": "float"
        }
       ],
       "ref": "c87f8bf6-4a31-4c6a-bd79-1b743b6b533a",
       "rows": [
        [
         "count",
         "82805.0",
         "77488.0",
         "76379.0",
         "76956.0",
         "82977.0"
        ],
        [
         "mean",
         "1.1465853511261397",
         "0.6478551517654346",
         "0.27988059545162935",
         "0.3570611778158948",
         "5.325439579642552"
        ],
        [
         "std",
         "0.4465102138197625",
         "5.485960107558412",
         "1.544083645233756",
         "2.2356253196561946",
         "27.913634431016273"
        ],
        [
         "min",
         "0.0",
         "0.0",
         "0.0",
         "0.0",
         "0.0"
        ],
        [
         "25%",
         "1.0",
         "0.0",
         "0.0",
         "0.0",
         "0.0"
        ],
        [
         "50%",
         "1.0",
         "0.0",
         "0.0",
         "0.0",
         "1.0"
        ],
        [
         "75%",
         "1.0",
         "0.0",
         "0.0",
         "0.0",
         "2.0"
        ],
        [
         "max",
         "8.0",
         "349.0",
         "161.0",
         "380.0",
         "699.0"
        ]
       ],
       "shape": {
        "columns": 5,
        "rows": 8
       }
      },
      "text/html": [
       "<div>\n",
       "<style scoped>\n",
       "    .dataframe tbody tr th:only-of-type {\n",
       "        vertical-align: middle;\n",
       "    }\n",
       "\n",
       "    .dataframe tbody tr th {\n",
       "        vertical-align: top;\n",
       "    }\n",
       "\n",
       "    .dataframe thead th {\n",
       "        text-align: right;\n",
       "    }\n",
       "</style>\n",
       "<table border=\"1\" class=\"dataframe\">\n",
       "  <thead>\n",
       "    <tr style=\"text-align: right;\">\n",
       "      <th></th>\n",
       "      <th>Number.of.Engines</th>\n",
       "      <th>Total.Fatal.Injuries</th>\n",
       "      <th>Total.Serious.Injuries</th>\n",
       "      <th>Total.Minor.Injuries</th>\n",
       "      <th>Total.Uninjured</th>\n",
       "    </tr>\n",
       "  </thead>\n",
       "  <tbody>\n",
       "    <tr>\n",
       "      <th>count</th>\n",
       "      <td>82805.000000</td>\n",
       "      <td>77488.000000</td>\n",
       "      <td>76379.000000</td>\n",
       "      <td>76956.000000</td>\n",
       "      <td>82977.000000</td>\n",
       "    </tr>\n",
       "    <tr>\n",
       "      <th>mean</th>\n",
       "      <td>1.146585</td>\n",
       "      <td>0.647855</td>\n",
       "      <td>0.279881</td>\n",
       "      <td>0.357061</td>\n",
       "      <td>5.325440</td>\n",
       "    </tr>\n",
       "    <tr>\n",
       "      <th>std</th>\n",
       "      <td>0.446510</td>\n",
       "      <td>5.485960</td>\n",
       "      <td>1.544084</td>\n",
       "      <td>2.235625</td>\n",
       "      <td>27.913634</td>\n",
       "    </tr>\n",
       "    <tr>\n",
       "      <th>min</th>\n",
       "      <td>0.000000</td>\n",
       "      <td>0.000000</td>\n",
       "      <td>0.000000</td>\n",
       "      <td>0.000000</td>\n",
       "      <td>0.000000</td>\n",
       "    </tr>\n",
       "    <tr>\n",
       "      <th>25%</th>\n",
       "      <td>1.000000</td>\n",
       "      <td>0.000000</td>\n",
       "      <td>0.000000</td>\n",
       "      <td>0.000000</td>\n",
       "      <td>0.000000</td>\n",
       "    </tr>\n",
       "    <tr>\n",
       "      <th>50%</th>\n",
       "      <td>1.000000</td>\n",
       "      <td>0.000000</td>\n",
       "      <td>0.000000</td>\n",
       "      <td>0.000000</td>\n",
       "      <td>1.000000</td>\n",
       "    </tr>\n",
       "    <tr>\n",
       "      <th>75%</th>\n",
       "      <td>1.000000</td>\n",
       "      <td>0.000000</td>\n",
       "      <td>0.000000</td>\n",
       "      <td>0.000000</td>\n",
       "      <td>2.000000</td>\n",
       "    </tr>\n",
       "    <tr>\n",
       "      <th>max</th>\n",
       "      <td>8.000000</td>\n",
       "      <td>349.000000</td>\n",
       "      <td>161.000000</td>\n",
       "      <td>380.000000</td>\n",
       "      <td>699.000000</td>\n",
       "    </tr>\n",
       "  </tbody>\n",
       "</table>\n",
       "</div>"
      ],
      "text/plain": [
       "       Number.of.Engines  Total.Fatal.Injuries  Total.Serious.Injuries  \\\n",
       "count       82805.000000          77488.000000            76379.000000   \n",
       "mean            1.146585              0.647855                0.279881   \n",
       "std             0.446510              5.485960                1.544084   \n",
       "min             0.000000              0.000000                0.000000   \n",
       "25%             1.000000              0.000000                0.000000   \n",
       "50%             1.000000              0.000000                0.000000   \n",
       "75%             1.000000              0.000000                0.000000   \n",
       "max             8.000000            349.000000              161.000000   \n",
       "\n",
       "       Total.Minor.Injuries  Total.Uninjured  \n",
       "count          76956.000000     82977.000000  \n",
       "mean               0.357061         5.325440  \n",
       "std                2.235625        27.913634  \n",
       "min                0.000000         0.000000  \n",
       "25%                0.000000         0.000000  \n",
       "50%                0.000000         1.000000  \n",
       "75%                0.000000         2.000000  \n",
       "max              380.000000       699.000000  "
      ]
     },
     "execution_count": 9,
     "metadata": {},
     "output_type": "execute_result"
    }
   ],
   "source": [
    "cleaned_df.describe()\n"
   ]
  },
  {
   "cell_type": "code",
   "execution_count": 10,
   "metadata": {},
   "outputs": [
    {
     "data": {
      "application/vnd.microsoft.datawrangler.viewer.v0+json": {
       "columns": [
        {
         "name": "index",
         "rawType": "object",
         "type": "string"
        },
        {
         "name": "Event.Id",
         "rawType": "object",
         "type": "unknown"
        },
        {
         "name": "Investigation.Type",
         "rawType": "object",
         "type": "unknown"
        },
        {
         "name": "Accident.Number",
         "rawType": "object",
         "type": "unknown"
        },
        {
         "name": "Event.Date",
         "rawType": "object",
         "type": "unknown"
        },
        {
         "name": "Location",
         "rawType": "object",
         "type": "unknown"
        },
        {
         "name": "Country",
         "rawType": "object",
         "type": "unknown"
        },
        {
         "name": "Latitude",
         "rawType": "object",
         "type": "unknown"
        },
        {
         "name": "Longitude",
         "rawType": "object",
         "type": "unknown"
        },
        {
         "name": "Airport.Code",
         "rawType": "object",
         "type": "unknown"
        },
        {
         "name": "Airport.Name",
         "rawType": "object",
         "type": "unknown"
        },
        {
         "name": "Injury.Severity",
         "rawType": "object",
         "type": "unknown"
        },
        {
         "name": "Aircraft.damage",
         "rawType": "object",
         "type": "unknown"
        },
        {
         "name": "Aircraft.Category",
         "rawType": "object",
         "type": "unknown"
        },
        {
         "name": "Registration.Number",
         "rawType": "object",
         "type": "unknown"
        },
        {
         "name": "Make",
         "rawType": "object",
         "type": "unknown"
        },
        {
         "name": "Model",
         "rawType": "object",
         "type": "unknown"
        },
        {
         "name": "Amateur.Built",
         "rawType": "object",
         "type": "unknown"
        },
        {
         "name": "Number.of.Engines",
         "rawType": "float64",
         "type": "float"
        },
        {
         "name": "Engine.Type",
         "rawType": "object",
         "type": "unknown"
        },
        {
         "name": "FAR.Description",
         "rawType": "object",
         "type": "unknown"
        },
        {
         "name": "Schedule",
         "rawType": "object",
         "type": "unknown"
        },
        {
         "name": "Purpose.of.flight",
         "rawType": "object",
         "type": "unknown"
        },
        {
         "name": "Air.carrier",
         "rawType": "object",
         "type": "unknown"
        },
        {
         "name": "Total.Fatal.Injuries",
         "rawType": "float64",
         "type": "float"
        },
        {
         "name": "Total.Serious.Injuries",
         "rawType": "float64",
         "type": "float"
        },
        {
         "name": "Total.Minor.Injuries",
         "rawType": "float64",
         "type": "float"
        },
        {
         "name": "Total.Uninjured",
         "rawType": "float64",
         "type": "float"
        },
        {
         "name": "Weather.Condition",
         "rawType": "object",
         "type": "unknown"
        },
        {
         "name": "Broad.phase.of.flight",
         "rawType": "object",
         "type": "unknown"
        },
        {
         "name": "Report.Status",
         "rawType": "object",
         "type": "unknown"
        },
        {
         "name": "Publication.Date",
         "rawType": "object",
         "type": "unknown"
        }
       ],
       "ref": "577ad32d-f4b3-470d-9d96-df63460dfde2",
       "rows": [
        [
         "count",
         "88889",
         "88958",
         "88889",
         "88889",
         "88837",
         "88663",
         "34382",
         "34373",
         "50132",
         "52704",
         "87889",
         "85695",
         "32287",
         "87507",
         "88826",
         "88797",
         "88787",
         "82805.0",
         "81793",
         "32023",
         "12582",
         "82697",
         "16648",
         "77488.0",
         "76379.0",
         "76956.0",
         "82977.0",
         "84397",
         "61724",
         "82505",
         "73659"
        ],
        [
         "unique",
         "84468",
         "71",
         "88863",
         "14782",
         "27758",
         "219",
         "25589",
         "27154",
         "10356",
         "24869",
         "109",
         "4",
         "15",
         "79104",
         "8237",
         "12315",
         "2",
         null,
         "12",
         "31",
         "3",
         "26",
         "13590",
         null,
         null,
         null,
         null,
         "4",
         "12",
         "17006",
         "2923"
        ],
        [
         "top",
         "2.02207E+13",
         "Accident",
         "DCA22LA135",
         "6/30/1984",
         "ANCHORAGE, AK",
         "United States",
         "332739N",
         "0112457W",
         "NONE",
         "Private",
         "Non-Fatal",
         "Substantial",
         "Airplane",
         "NONE",
         "Cessna",
         "152",
         "No",
         null,
         "Reciprocating",
         "91",
         "NSCH",
         "Personal",
         "Pilot",
         null,
         null,
         null,
         null,
         "VMC",
         "Landing",
         "Probable Cause",
         "25-09-2020"
        ],
        [
         "freq",
         "190",
         "85015",
         "2",
         "25",
         "434",
         "82248",
         "19",
         "24",
         "1488",
         "240",
         "67357",
         "64148",
         "27617",
         "344",
         "22227",
         "2367",
         "80312",
         null,
         "69530",
         "18221",
         "4474",
         "49448",
         "258",
         null,
         null,
         null,
         null,
         "77303",
         "15428",
         "61754",
         "16317"
        ],
        [
         "mean",
         null,
         null,
         null,
         null,
         null,
         null,
         null,
         null,
         null,
         null,
         null,
         null,
         null,
         null,
         null,
         null,
         null,
         "1.1465853511261397",
         null,
         null,
         null,
         null,
         null,
         "0.6478551517654346",
         "0.27988059545162935",
         "0.3570611778158948",
         "5.325439579642552",
         null,
         null,
         null,
         null
        ],
        [
         "std",
         null,
         null,
         null,
         null,
         null,
         null,
         null,
         null,
         null,
         null,
         null,
         null,
         null,
         null,
         null,
         null,
         null,
         "0.4465102138197625",
         null,
         null,
         null,
         null,
         null,
         "5.485960107558412",
         "1.544083645233756",
         "2.2356253196561946",
         "27.913634431016273",
         null,
         null,
         null,
         null
        ],
        [
         "min",
         null,
         null,
         null,
         null,
         null,
         null,
         null,
         null,
         null,
         null,
         null,
         null,
         null,
         null,
         null,
         null,
         null,
         "0.0",
         null,
         null,
         null,
         null,
         null,
         "0.0",
         "0.0",
         "0.0",
         "0.0",
         null,
         null,
         null,
         null
        ],
        [
         "25%",
         null,
         null,
         null,
         null,
         null,
         null,
         null,
         null,
         null,
         null,
         null,
         null,
         null,
         null,
         null,
         null,
         null,
         "1.0",
         null,
         null,
         null,
         null,
         null,
         "0.0",
         "0.0",
         "0.0",
         "0.0",
         null,
         null,
         null,
         null
        ],
        [
         "50%",
         null,
         null,
         null,
         null,
         null,
         null,
         null,
         null,
         null,
         null,
         null,
         null,
         null,
         null,
         null,
         null,
         null,
         "1.0",
         null,
         null,
         null,
         null,
         null,
         "0.0",
         "0.0",
         "0.0",
         "1.0",
         null,
         null,
         null,
         null
        ],
        [
         "75%",
         null,
         null,
         null,
         null,
         null,
         null,
         null,
         null,
         null,
         null,
         null,
         null,
         null,
         null,
         null,
         null,
         null,
         "1.0",
         null,
         null,
         null,
         null,
         null,
         "0.0",
         "0.0",
         "0.0",
         "2.0",
         null,
         null,
         null,
         null
        ],
        [
         "max",
         null,
         null,
         null,
         null,
         null,
         null,
         null,
         null,
         null,
         null,
         null,
         null,
         null,
         null,
         null,
         null,
         null,
         "8.0",
         null,
         null,
         null,
         null,
         null,
         "349.0",
         "161.0",
         "380.0",
         "699.0",
         null,
         null,
         null,
         null
        ]
       ],
       "shape": {
        "columns": 31,
        "rows": 11
       }
      },
      "text/html": [
       "<div>\n",
       "<style scoped>\n",
       "    .dataframe tbody tr th:only-of-type {\n",
       "        vertical-align: middle;\n",
       "    }\n",
       "\n",
       "    .dataframe tbody tr th {\n",
       "        vertical-align: top;\n",
       "    }\n",
       "\n",
       "    .dataframe thead th {\n",
       "        text-align: right;\n",
       "    }\n",
       "</style>\n",
       "<table border=\"1\" class=\"dataframe\">\n",
       "  <thead>\n",
       "    <tr style=\"text-align: right;\">\n",
       "      <th></th>\n",
       "      <th>Event.Id</th>\n",
       "      <th>Investigation.Type</th>\n",
       "      <th>Accident.Number</th>\n",
       "      <th>Event.Date</th>\n",
       "      <th>Location</th>\n",
       "      <th>Country</th>\n",
       "      <th>Latitude</th>\n",
       "      <th>Longitude</th>\n",
       "      <th>Airport.Code</th>\n",
       "      <th>Airport.Name</th>\n",
       "      <th>...</th>\n",
       "      <th>Purpose.of.flight</th>\n",
       "      <th>Air.carrier</th>\n",
       "      <th>Total.Fatal.Injuries</th>\n",
       "      <th>Total.Serious.Injuries</th>\n",
       "      <th>Total.Minor.Injuries</th>\n",
       "      <th>Total.Uninjured</th>\n",
       "      <th>Weather.Condition</th>\n",
       "      <th>Broad.phase.of.flight</th>\n",
       "      <th>Report.Status</th>\n",
       "      <th>Publication.Date</th>\n",
       "    </tr>\n",
       "  </thead>\n",
       "  <tbody>\n",
       "    <tr>\n",
       "      <th>count</th>\n",
       "      <td>88889</td>\n",
       "      <td>88958</td>\n",
       "      <td>88889</td>\n",
       "      <td>88889</td>\n",
       "      <td>88837</td>\n",
       "      <td>88663</td>\n",
       "      <td>34382</td>\n",
       "      <td>34373</td>\n",
       "      <td>50132</td>\n",
       "      <td>52704</td>\n",
       "      <td>...</td>\n",
       "      <td>82697</td>\n",
       "      <td>16648</td>\n",
       "      <td>77488.000000</td>\n",
       "      <td>76379.000000</td>\n",
       "      <td>76956.000000</td>\n",
       "      <td>82977.000000</td>\n",
       "      <td>84397</td>\n",
       "      <td>61724</td>\n",
       "      <td>82505</td>\n",
       "      <td>73659</td>\n",
       "    </tr>\n",
       "    <tr>\n",
       "      <th>unique</th>\n",
       "      <td>84468</td>\n",
       "      <td>71</td>\n",
       "      <td>88863</td>\n",
       "      <td>14782</td>\n",
       "      <td>27758</td>\n",
       "      <td>219</td>\n",
       "      <td>25589</td>\n",
       "      <td>27154</td>\n",
       "      <td>10356</td>\n",
       "      <td>24869</td>\n",
       "      <td>...</td>\n",
       "      <td>26</td>\n",
       "      <td>13590</td>\n",
       "      <td>NaN</td>\n",
       "      <td>NaN</td>\n",
       "      <td>NaN</td>\n",
       "      <td>NaN</td>\n",
       "      <td>4</td>\n",
       "      <td>12</td>\n",
       "      <td>17006</td>\n",
       "      <td>2923</td>\n",
       "    </tr>\n",
       "    <tr>\n",
       "      <th>top</th>\n",
       "      <td>2.02207E+13</td>\n",
       "      <td>Accident</td>\n",
       "      <td>DCA22LA135</td>\n",
       "      <td>6/30/1984</td>\n",
       "      <td>ANCHORAGE, AK</td>\n",
       "      <td>United States</td>\n",
       "      <td>332739N</td>\n",
       "      <td>0112457W</td>\n",
       "      <td>NONE</td>\n",
       "      <td>Private</td>\n",
       "      <td>...</td>\n",
       "      <td>Personal</td>\n",
       "      <td>Pilot</td>\n",
       "      <td>NaN</td>\n",
       "      <td>NaN</td>\n",
       "      <td>NaN</td>\n",
       "      <td>NaN</td>\n",
       "      <td>VMC</td>\n",
       "      <td>Landing</td>\n",
       "      <td>Probable Cause</td>\n",
       "      <td>25-09-2020</td>\n",
       "    </tr>\n",
       "    <tr>\n",
       "      <th>freq</th>\n",
       "      <td>190</td>\n",
       "      <td>85015</td>\n",
       "      <td>2</td>\n",
       "      <td>25</td>\n",
       "      <td>434</td>\n",
       "      <td>82248</td>\n",
       "      <td>19</td>\n",
       "      <td>24</td>\n",
       "      <td>1488</td>\n",
       "      <td>240</td>\n",
       "      <td>...</td>\n",
       "      <td>49448</td>\n",
       "      <td>258</td>\n",
       "      <td>NaN</td>\n",
       "      <td>NaN</td>\n",
       "      <td>NaN</td>\n",
       "      <td>NaN</td>\n",
       "      <td>77303</td>\n",
       "      <td>15428</td>\n",
       "      <td>61754</td>\n",
       "      <td>16317</td>\n",
       "    </tr>\n",
       "    <tr>\n",
       "      <th>mean</th>\n",
       "      <td>NaN</td>\n",
       "      <td>NaN</td>\n",
       "      <td>NaN</td>\n",
       "      <td>NaN</td>\n",
       "      <td>NaN</td>\n",
       "      <td>NaN</td>\n",
       "      <td>NaN</td>\n",
       "      <td>NaN</td>\n",
       "      <td>NaN</td>\n",
       "      <td>NaN</td>\n",
       "      <td>...</td>\n",
       "      <td>NaN</td>\n",
       "      <td>NaN</td>\n",
       "      <td>0.647855</td>\n",
       "      <td>0.279881</td>\n",
       "      <td>0.357061</td>\n",
       "      <td>5.325440</td>\n",
       "      <td>NaN</td>\n",
       "      <td>NaN</td>\n",
       "      <td>NaN</td>\n",
       "      <td>NaN</td>\n",
       "    </tr>\n",
       "    <tr>\n",
       "      <th>std</th>\n",
       "      <td>NaN</td>\n",
       "      <td>NaN</td>\n",
       "      <td>NaN</td>\n",
       "      <td>NaN</td>\n",
       "      <td>NaN</td>\n",
       "      <td>NaN</td>\n",
       "      <td>NaN</td>\n",
       "      <td>NaN</td>\n",
       "      <td>NaN</td>\n",
       "      <td>NaN</td>\n",
       "      <td>...</td>\n",
       "      <td>NaN</td>\n",
       "      <td>NaN</td>\n",
       "      <td>5.485960</td>\n",
       "      <td>1.544084</td>\n",
       "      <td>2.235625</td>\n",
       "      <td>27.913634</td>\n",
       "      <td>NaN</td>\n",
       "      <td>NaN</td>\n",
       "      <td>NaN</td>\n",
       "      <td>NaN</td>\n",
       "    </tr>\n",
       "    <tr>\n",
       "      <th>min</th>\n",
       "      <td>NaN</td>\n",
       "      <td>NaN</td>\n",
       "      <td>NaN</td>\n",
       "      <td>NaN</td>\n",
       "      <td>NaN</td>\n",
       "      <td>NaN</td>\n",
       "      <td>NaN</td>\n",
       "      <td>NaN</td>\n",
       "      <td>NaN</td>\n",
       "      <td>NaN</td>\n",
       "      <td>...</td>\n",
       "      <td>NaN</td>\n",
       "      <td>NaN</td>\n",
       "      <td>0.000000</td>\n",
       "      <td>0.000000</td>\n",
       "      <td>0.000000</td>\n",
       "      <td>0.000000</td>\n",
       "      <td>NaN</td>\n",
       "      <td>NaN</td>\n",
       "      <td>NaN</td>\n",
       "      <td>NaN</td>\n",
       "    </tr>\n",
       "    <tr>\n",
       "      <th>25%</th>\n",
       "      <td>NaN</td>\n",
       "      <td>NaN</td>\n",
       "      <td>NaN</td>\n",
       "      <td>NaN</td>\n",
       "      <td>NaN</td>\n",
       "      <td>NaN</td>\n",
       "      <td>NaN</td>\n",
       "      <td>NaN</td>\n",
       "      <td>NaN</td>\n",
       "      <td>NaN</td>\n",
       "      <td>...</td>\n",
       "      <td>NaN</td>\n",
       "      <td>NaN</td>\n",
       "      <td>0.000000</td>\n",
       "      <td>0.000000</td>\n",
       "      <td>0.000000</td>\n",
       "      <td>0.000000</td>\n",
       "      <td>NaN</td>\n",
       "      <td>NaN</td>\n",
       "      <td>NaN</td>\n",
       "      <td>NaN</td>\n",
       "    </tr>\n",
       "    <tr>\n",
       "      <th>50%</th>\n",
       "      <td>NaN</td>\n",
       "      <td>NaN</td>\n",
       "      <td>NaN</td>\n",
       "      <td>NaN</td>\n",
       "      <td>NaN</td>\n",
       "      <td>NaN</td>\n",
       "      <td>NaN</td>\n",
       "      <td>NaN</td>\n",
       "      <td>NaN</td>\n",
       "      <td>NaN</td>\n",
       "      <td>...</td>\n",
       "      <td>NaN</td>\n",
       "      <td>NaN</td>\n",
       "      <td>0.000000</td>\n",
       "      <td>0.000000</td>\n",
       "      <td>0.000000</td>\n",
       "      <td>1.000000</td>\n",
       "      <td>NaN</td>\n",
       "      <td>NaN</td>\n",
       "      <td>NaN</td>\n",
       "      <td>NaN</td>\n",
       "    </tr>\n",
       "    <tr>\n",
       "      <th>75%</th>\n",
       "      <td>NaN</td>\n",
       "      <td>NaN</td>\n",
       "      <td>NaN</td>\n",
       "      <td>NaN</td>\n",
       "      <td>NaN</td>\n",
       "      <td>NaN</td>\n",
       "      <td>NaN</td>\n",
       "      <td>NaN</td>\n",
       "      <td>NaN</td>\n",
       "      <td>NaN</td>\n",
       "      <td>...</td>\n",
       "      <td>NaN</td>\n",
       "      <td>NaN</td>\n",
       "      <td>0.000000</td>\n",
       "      <td>0.000000</td>\n",
       "      <td>0.000000</td>\n",
       "      <td>2.000000</td>\n",
       "      <td>NaN</td>\n",
       "      <td>NaN</td>\n",
       "      <td>NaN</td>\n",
       "      <td>NaN</td>\n",
       "    </tr>\n",
       "    <tr>\n",
       "      <th>max</th>\n",
       "      <td>NaN</td>\n",
       "      <td>NaN</td>\n",
       "      <td>NaN</td>\n",
       "      <td>NaN</td>\n",
       "      <td>NaN</td>\n",
       "      <td>NaN</td>\n",
       "      <td>NaN</td>\n",
       "      <td>NaN</td>\n",
       "      <td>NaN</td>\n",
       "      <td>NaN</td>\n",
       "      <td>...</td>\n",
       "      <td>NaN</td>\n",
       "      <td>NaN</td>\n",
       "      <td>349.000000</td>\n",
       "      <td>161.000000</td>\n",
       "      <td>380.000000</td>\n",
       "      <td>699.000000</td>\n",
       "      <td>NaN</td>\n",
       "      <td>NaN</td>\n",
       "      <td>NaN</td>\n",
       "      <td>NaN</td>\n",
       "    </tr>\n",
       "  </tbody>\n",
       "</table>\n",
       "<p>11 rows × 31 columns</p>\n",
       "</div>"
      ],
      "text/plain": [
       "           Event.Id Investigation.Type Accident.Number Event.Date  \\\n",
       "count         88889              88958           88889      88889   \n",
       "unique        84468                 71           88863      14782   \n",
       "top     2.02207E+13           Accident      DCA22LA135  6/30/1984   \n",
       "freq            190              85015               2         25   \n",
       "mean            NaN                NaN             NaN        NaN   \n",
       "std             NaN                NaN             NaN        NaN   \n",
       "min             NaN                NaN             NaN        NaN   \n",
       "25%             NaN                NaN             NaN        NaN   \n",
       "50%             NaN                NaN             NaN        NaN   \n",
       "75%             NaN                NaN             NaN        NaN   \n",
       "max             NaN                NaN             NaN        NaN   \n",
       "\n",
       "             Location        Country Latitude Longitude Airport.Code  \\\n",
       "count           88837          88663    34382     34373        50132   \n",
       "unique          27758            219    25589     27154        10356   \n",
       "top     ANCHORAGE, AK  United States  332739N  0112457W         NONE   \n",
       "freq              434          82248       19        24         1488   \n",
       "mean              NaN            NaN      NaN       NaN          NaN   \n",
       "std               NaN            NaN      NaN       NaN          NaN   \n",
       "min               NaN            NaN      NaN       NaN          NaN   \n",
       "25%               NaN            NaN      NaN       NaN          NaN   \n",
       "50%               NaN            NaN      NaN       NaN          NaN   \n",
       "75%               NaN            NaN      NaN       NaN          NaN   \n",
       "max               NaN            NaN      NaN       NaN          NaN   \n",
       "\n",
       "       Airport.Name  ... Purpose.of.flight Air.carrier Total.Fatal.Injuries  \\\n",
       "count         52704  ...             82697       16648         77488.000000   \n",
       "unique        24869  ...                26       13590                  NaN   \n",
       "top         Private  ...          Personal       Pilot                  NaN   \n",
       "freq            240  ...             49448         258                  NaN   \n",
       "mean            NaN  ...               NaN         NaN             0.647855   \n",
       "std             NaN  ...               NaN         NaN             5.485960   \n",
       "min             NaN  ...               NaN         NaN             0.000000   \n",
       "25%             NaN  ...               NaN         NaN             0.000000   \n",
       "50%             NaN  ...               NaN         NaN             0.000000   \n",
       "75%             NaN  ...               NaN         NaN             0.000000   \n",
       "max             NaN  ...               NaN         NaN           349.000000   \n",
       "\n",
       "       Total.Serious.Injuries Total.Minor.Injuries Total.Uninjured  \\\n",
       "count            76379.000000         76956.000000    82977.000000   \n",
       "unique                    NaN                  NaN             NaN   \n",
       "top                       NaN                  NaN             NaN   \n",
       "freq                      NaN                  NaN             NaN   \n",
       "mean                 0.279881             0.357061        5.325440   \n",
       "std                  1.544084             2.235625       27.913634   \n",
       "min                  0.000000             0.000000        0.000000   \n",
       "25%                  0.000000             0.000000        0.000000   \n",
       "50%                  0.000000             0.000000        1.000000   \n",
       "75%                  0.000000             0.000000        2.000000   \n",
       "max                161.000000           380.000000      699.000000   \n",
       "\n",
       "       Weather.Condition  Broad.phase.of.flight   Report.Status  \\\n",
       "count              84397                  61724           82505   \n",
       "unique                 4                     12           17006   \n",
       "top                  VMC                Landing  Probable Cause   \n",
       "freq               77303                  15428           61754   \n",
       "mean                 NaN                    NaN             NaN   \n",
       "std                  NaN                    NaN             NaN   \n",
       "min                  NaN                    NaN             NaN   \n",
       "25%                  NaN                    NaN             NaN   \n",
       "50%                  NaN                    NaN             NaN   \n",
       "75%                  NaN                    NaN             NaN   \n",
       "max                  NaN                    NaN             NaN   \n",
       "\n",
       "       Publication.Date  \n",
       "count             73659  \n",
       "unique             2923  \n",
       "top          25-09-2020  \n",
       "freq              16317  \n",
       "mean                NaN  \n",
       "std                 NaN  \n",
       "min                 NaN  \n",
       "25%                 NaN  \n",
       "50%                 NaN  \n",
       "75%                 NaN  \n",
       "max                 NaN  \n",
       "\n",
       "[11 rows x 31 columns]"
      ]
     },
     "execution_count": 10,
     "metadata": {},
     "output_type": "execute_result"
    }
   ],
   "source": [
    "#Get summary stats\n",
    "cleaned_df.describe(include='all')"
   ]
  },
  {
   "cell_type": "markdown",
   "metadata": {},
   "source": [
    "### 1. Columns to **DROP** (too many blanks + not very helpful)\n",
    "\n",
    "| Column                  | % Missing | Why drop it? |\n",
    "|-------------------------|-----------|--------------|\n",
    "| **Schedule**            | 86%       | Almost all rows are blank. It just says if the flight was on a regular schedule (like a bus). We already know from `Purpose.of.flight` if it was a normal passenger trip. |\n",
    "| **Air.carrier**         | 82%       | Mostly empty. It's just the airline name (like \"Delta\"). We don’t need the name to understand the crash. |\n",
    "| **FAR.Description**     | 65%       | A boring legal rule number. Missing for most small planes. Doesn’t help us predict injuries or damage. |\n",
    "| **Aircraft.Category**   | 64%       | Says if it's a plane, helicopter, etc. But we already have `Make` and `Model` — that’s enough! |\n",
    "| **Longitude / Latitude**| ~62%      | GPS numbers. Great for Google Maps, but more than half are missing. We still have city and airport to know *where*. |\n",
    "| **Airport.Code**        | 44%       | The short code like \"LAX\" or \"JFK\". Many crashes happen **away** from airports, so it’s often blank. |\n",
    "| **Airport.Name**        | 42%       | Same as above. We can just use the city name instead. |\n",
    "| **Broad.phase.of.flight**| 32%    | Tells you *when* in the flight it crashed (takeoff? landing?). Helpful, but too many blanks and too many options. Hard to guess the missing ones. |\n",
    "| **Publication.Date**    | 18%       | This is the day the **report** came out — not the crash day. Totally useless for understanding the accident. |\n",
    "\n",
    "---\n",
    "\n"
   ]
  },
  {
   "cell_type": "code",
   "execution_count": 11,
   "metadata": {},
   "outputs": [],
   "source": [
    "cols_to_drop = [\n",
    "    'Schedule', 'Air.carrier', 'FAR.Description', 'Aircraft.Category',\n",
    "    'Longitude', 'Latitude', 'Airport.Code', 'Airport.Name',\n",
    "    'Broad.phase.of.flight', 'Publication.Date'\n",
    "]\n",
    "\n",
    "cleaned_df= cleaned_df.drop(columns=cols_to_drop)"
   ]
  },
  {
   "cell_type": "code",
   "execution_count": 12,
   "metadata": {},
   "outputs": [
    {
     "data": {
      "application/vnd.microsoft.datawrangler.viewer.v0+json": {
       "columns": [
        {
         "name": "index",
         "rawType": "object",
         "type": "string"
        },
        {
         "name": "0",
         "rawType": "float64",
         "type": "float"
        }
       ],
       "ref": "3423faea-3996-4483-90f8-51d02c6d8297",
       "rows": [
        [
         "Total.Serious.Injuries",
         "14.140380853886104"
        ],
        [
         "Total.Minor.Injuries",
         "13.491760156478339"
        ],
        [
         "Total.Fatal.Injuries",
         "12.893725128712427"
        ],
        [
         "Engine.Type",
         "8.054362732975113"
        ],
        [
         "Report.Status",
         "7.253985026641787"
        ],
        [
         "Purpose.of.flight",
         "7.038152836169878"
        ],
        [
         "Number.of.Engines",
         "6.916747229029429"
        ],
        [
         "Total.Uninjured",
         "6.723397558398345"
        ],
        [
         "Weather.Condition",
         "5.127138649699859"
        ],
        [
         "Aircraft.damage",
         "3.6680231120303963"
        ],
        [
         "Registration.Number",
         "1.631106814451764"
        ],
        [
         "Injury.Severity",
         "1.20169068549203"
        ],
        [
         "Country",
         "0.33161716765215044"
        ],
        [
         "Amateur.Built",
         "0.19222554463904315"
        ],
        [
         "Model",
         "0.18098428471863126"
        ],
        [
         "Make",
         "0.14838463094943682"
        ],
        [
         "Location",
         "0.13601924503698373"
        ],
        [
         "Event.Date",
         "0.07756469345084196"
        ],
        [
         "Accident.Number",
         "0.07756469345084196"
        ],
        [
         "Event.Id",
         "0.07756469345084196"
        ],
        [
         "Investigation.Type",
         "0.0"
        ]
       ],
       "shape": {
        "columns": 1,
        "rows": 21
       }
      },
      "text/plain": [
       "Total.Serious.Injuries    14.140381\n",
       "Total.Minor.Injuries      13.491760\n",
       "Total.Fatal.Injuries      12.893725\n",
       "Engine.Type                8.054363\n",
       "Report.Status              7.253985\n",
       "Purpose.of.flight          7.038153\n",
       "Number.of.Engines          6.916747\n",
       "Total.Uninjured            6.723398\n",
       "Weather.Condition          5.127139\n",
       "Aircraft.damage            3.668023\n",
       "Registration.Number        1.631107\n",
       "Injury.Severity            1.201691\n",
       "Country                    0.331617\n",
       "Amateur.Built              0.192226\n",
       "Model                      0.180984\n",
       "Make                       0.148385\n",
       "Location                   0.136019\n",
       "Event.Date                 0.077565\n",
       "Accident.Number            0.077565\n",
       "Event.Id                   0.077565\n",
       "Investigation.Type         0.000000\n",
       "dtype: float64"
      ]
     },
     "execution_count": 12,
     "metadata": {},
     "output_type": "execute_result"
    }
   ],
   "source": [
    "cleaned_df.isnull().mean().sort_values(ascending=False) * 100 "
   ]
  },
  {
   "cell_type": "markdown",
   "metadata": {},
   "source": [
    "### 2. Columns to **KEEP** (a little blank is okay — they’re super important!)\n",
    "\n",
    "| Column | % Missing | Why keep it? |\n",
    "|--------|-----------|--------------|\n",
    "| **Total.Serious.Injuries** | 15% | This tells us how many people got **really hurt**. Most crashes have 0 — so we can just fill blanks with **0**. |\n",
    "| **Total.Minor.Injuries** | 15% | Same idea — small cuts or bruises. Fill blanks with **0**. |\n",
    "| **Total.Fatal.Injuries** | 14% | **Super important!** How many people died. We *must* keep this. Fill blanks with **0**. |\n",
    "| **Engine.Type** | 9% | Is it a normal engine or a jet? Big difference in crashes. Easy to fill with “Unknown” if missing. |\n",
    "| **Report.Status** | 9% | Says if the report is “final” or “still being checked”. Helps us know if the data is ready. |\n",
    "| **Purpose.of.flight** | 8% | Was it a normal passenger flight? Training? Crop dusting? **Tells us a lot** about the risk. |\n",
    "| **Number.of.Engines** | 8% | 1 engine or 2+? Two engines = safer usually. Easy to guess if missing. |\n",
    "| **Total.Uninjured** | 8% | How many people walked away fine. Completes the story! Fill with a number if missing. |\n",
    "| **Weather.Condition** | 7% | Was it sunny or stormy? Weather causes many crashes. Most are “good weather” — so fill with that. |\n",
    "| **Aircraft.damage** | 5% | Did the plane get scratched or totally destroyed? **Main thing** we want to predict. |\n",
    "| **Registration.Number** | 3% | The plane’s license plate (like N123AB). Helps find duplicates. |\n",
    "| **Injury.Severity** | 3% | Says “Fatal” or “Minor” in one word. We can make it from the injury counts if needed. |\n",
    "| **Country, Amateur.Built, Model, Make, Location, Event.Date, Accident.Number, Event.Id** | ≤ 2% | Almost no blanks! These are **must-haves**: \n",
    "\n"
   ]
  },
  {
   "cell_type": "code",
   "execution_count": 13,
   "metadata": {},
   "outputs": [
    {
     "data": {
      "application/vnd.microsoft.datawrangler.viewer.v0+json": {
       "columns": [
        {
         "name": "Country",
         "rawType": "object",
         "type": "string"
        },
        {
         "name": "count",
         "rawType": "int64",
         "type": "integer"
        }
       ],
       "ref": "7c2573cf-e8a9-44c7-8ffe-6fb57d8cbe46",
       "rows": [
        [
         "United States",
         "82248"
        ],
        [
         "Brazil",
         "374"
        ],
        [
         "Canada",
         "359"
        ],
        [
         "Mexico",
         "358"
        ],
        [
         "United Kingdom",
         "344"
        ]
       ],
       "shape": {
        "columns": 1,
        "rows": 5
       }
      },
      "text/plain": [
       "Country\n",
       "United States     82248\n",
       "Brazil              374\n",
       "Canada              359\n",
       "Mexico              358\n",
       "United Kingdom      344\n",
       "Name: count, dtype: int64"
      ]
     },
     "execution_count": 13,
     "metadata": {},
     "output_type": "execute_result"
    }
   ],
   "source": [
    "# checking country which appears most \n",
    "cleaned_df['Country'].value_counts().head()"
   ]
  },
  {
   "cell_type": "code",
   "execution_count": 14,
   "metadata": {},
   "outputs": [],
   "source": [
    "#any missing value will be replaced with mode country which is United states\n",
    "cleaned_df['Country'].fillna('United States', inplace=True)\n"
   ]
  },
  {
   "cell_type": "code",
   "execution_count": 15,
   "metadata": {},
   "outputs": [
    {
     "name": "stdout",
     "output_type": "stream",
     "text": [
      "<class 'pandas.core.frame.DataFrame'>\n",
      "Index: 88958 entries, 0 to 90347\n",
      "Data columns (total 21 columns):\n",
      " #   Column                  Non-Null Count  Dtype  \n",
      "---  ------                  --------------  -----  \n",
      " 0   Event.Id                88889 non-null  object \n",
      " 1   Investigation.Type      88958 non-null  object \n",
      " 2   Accident.Number         88889 non-null  object \n",
      " 3   Event.Date              88889 non-null  object \n",
      " 4   Location                88837 non-null  object \n",
      " 5   Country                 88958 non-null  object \n",
      " 6   Injury.Severity         87889 non-null  object \n",
      " 7   Aircraft.damage         85695 non-null  object \n",
      " 8   Registration.Number     87507 non-null  object \n",
      " 9   Make                    88826 non-null  object \n",
      " 10  Model                   88797 non-null  object \n",
      " 11  Amateur.Built           88787 non-null  object \n",
      " 12  Number.of.Engines       82805 non-null  float64\n",
      " 13  Engine.Type             81793 non-null  object \n",
      " 14  Purpose.of.flight       82697 non-null  object \n",
      " 15  Total.Fatal.Injuries    77488 non-null  float64\n",
      " 16  Total.Serious.Injuries  76379 non-null  float64\n",
      " 17  Total.Minor.Injuries    76956 non-null  float64\n",
      " 18  Total.Uninjured         82977 non-null  float64\n",
      " 19  Weather.Condition       84397 non-null  object \n",
      " 20  Report.Status           82505 non-null  object \n",
      "dtypes: float64(5), object(16)\n",
      "memory usage: 14.9+ MB\n"
     ]
    }
   ],
   "source": [
    "cleaned_df.info()"
   ]
  },
  {
   "cell_type": "code",
   "execution_count": 16,
   "metadata": {},
   "outputs": [
    {
     "name": "stdout",
     "output_type": "stream",
     "text": [
      "['Number.of.Engines', 'Total.Fatal.Injuries', 'Total.Serious.Injuries', 'Total.Minor.Injuries', 'Total.Uninjured']\n"
     ]
    }
   ],
   "source": [
    "# lets get numeric column to see use mean mode or median to fill empty cells\n",
    "numeric_cols = cleaned_df.select_dtypes(include=['number']).columns\n",
    "print(numeric_cols.tolist())\n"
   ]
  },
  {
   "cell_type": "code",
   "execution_count": 17,
   "metadata": {},
   "outputs": [
    {
     "name": "stdout",
     "output_type": "stream",
     "text": [
      "Mode: 1.0, Median: 1.0, Mean: 1.15\n"
     ]
    }
   ],
   "source": [
    "# Will use the number of engine using make\n",
    "mode_value = cleaned_df['Number.of.Engines'].mode()[0]\n",
    "median_value = cleaned_df['Number.of.Engines'].median()\n",
    "mean_value = cleaned_df['Number.of.Engines'].mean()\n",
    "\n",
    "print(f\"Mode: {mode_value}, Median: {median_value}, Mean: {mean_value:.2f}\")\n"
   ]
  },
  {
   "cell_type": "code",
   "execution_count": 18,
   "metadata": {},
   "outputs": [],
   "source": [
    "# Replace missing or zero engine counts with 1\n",
    "cleaned_df['Number.of.Engines'] = cleaned_df['Number.of.Engines'].replace(0, np.nan)\n",
    "cleaned_df['Number.of.Engines'].fillna(1, inplace=True)"
   ]
  },
  {
   "cell_type": "markdown",
   "metadata": {},
   "source": [
    "## Fill missing injury counts with zero"
   ]
  },
  {
   "cell_type": "code",
   "execution_count": 19,
   "metadata": {},
   "outputs": [],
   "source": [
    "injury_cols = ['Total.Fatal.Injuries', \n",
    "               'Total.Serious.Injuries', \n",
    "               'Total.Minor.Injuries', \n",
    "               'Total.Uninjured']\n",
    "\n",
    "# Replace NaN with 0\n",
    "cleaned_df[injury_cols] = cleaned_df[injury_cols].fillna(0)\n"
   ]
  },
  {
   "cell_type": "code",
   "execution_count": 20,
   "metadata": {},
   "outputs": [
    {
     "name": "stdout",
     "output_type": "stream",
     "text": [
      "<class 'pandas.core.frame.DataFrame'>\n",
      "Index: 88958 entries, 0 to 90347\n",
      "Data columns (total 21 columns):\n",
      " #   Column                  Non-Null Count  Dtype  \n",
      "---  ------                  --------------  -----  \n",
      " 0   Event.Id                88889 non-null  object \n",
      " 1   Investigation.Type      88958 non-null  object \n",
      " 2   Accident.Number         88889 non-null  object \n",
      " 3   Event.Date              88889 non-null  object \n",
      " 4   Location                88837 non-null  object \n",
      " 5   Country                 88958 non-null  object \n",
      " 6   Injury.Severity         87889 non-null  object \n",
      " 7   Aircraft.damage         85695 non-null  object \n",
      " 8   Registration.Number     87507 non-null  object \n",
      " 9   Make                    88826 non-null  object \n",
      " 10  Model                   88797 non-null  object \n",
      " 11  Amateur.Built           88787 non-null  object \n",
      " 12  Number.of.Engines       88958 non-null  float64\n",
      " 13  Engine.Type             81793 non-null  object \n",
      " 14  Purpose.of.flight       82697 non-null  object \n",
      " 15  Total.Fatal.Injuries    88958 non-null  float64\n",
      " 16  Total.Serious.Injuries  88958 non-null  float64\n",
      " 17  Total.Minor.Injuries    88958 non-null  float64\n",
      " 18  Total.Uninjured         88958 non-null  float64\n",
      " 19  Weather.Condition       84397 non-null  object \n",
      " 20  Report.Status           82505 non-null  object \n",
      "dtypes: float64(5), object(16)\n",
      "memory usage: 14.9+ MB\n"
     ]
    }
   ],
   "source": [
    "cleaned_df.info()"
   ]
  },
  {
   "cell_type": "markdown",
   "metadata": {},
   "source": [
    "`` our Investigation.Type column and number has many entries of 88958 but generally the event id has 88889 ``\n",
    " "
   ]
  },
  {
   "cell_type": "code",
   "execution_count": 21,
   "metadata": {},
   "outputs": [
    {
     "data": {
      "application/vnd.microsoft.datawrangler.viewer.v0+json": {
       "columns": [
        {
         "name": "Investigation.Type",
         "rawType": "object",
         "type": "string"
        },
        {
         "name": "count",
         "rawType": "int64",
         "type": "integer"
        }
       ],
       "ref": "957ec82c-1c9f-4ef1-9eeb-303915aa54ad",
       "rows": [
        [
         "Accident",
         "85015"
        ],
        [
         "Incident",
         "3874"
        ],
        [
         "3/12/2020",
         "1"
        ],
        [
         "8/9/2022",
         "1"
        ],
        [
         "1/11/2022",
         "1"
        ],
        [
         "2/12/2022",
         "1"
        ],
        [
         "3/11/2022",
         "1"
        ],
        [
         "5/7/2022",
         "1"
        ],
        [
         "5/8/2022",
         "1"
        ],
        [
         "6/10/2022",
         "1"
        ],
        [
         "8/12/2022",
         "1"
        ],
        [
         "7/12/2020",
         "1"
        ],
        [
         "12/8/2022",
         "1"
        ],
        [
         "13-07-2022",
         "1"
        ],
        [
         "13-09-2021",
         "1"
        ],
        [
         "13-10-2022",
         "1"
        ],
        [
         "13-12-2021",
         "1"
        ],
        [
         "14-06-2021",
         "1"
        ],
        [
         "1/9/2022",
         "1"
        ],
        [
         "1/7/2022",
         "1"
        ],
        [
         "14-06-2022",
         "1"
        ],
        [
         "10/6/2021",
         "1"
        ],
        [
         "8/11/2021",
         "1"
        ],
        [
         "8/6/2021",
         "1"
        ],
        [
         "6/5/2021",
         "1"
        ],
        [
         "6/1/2021",
         "1"
        ],
        [
         "5/5/2021",
         "1"
        ],
        [
         "5/4/2021",
         "1"
        ],
        [
         "5/1/2021",
         "1"
        ],
        [
         "4/8/2021",
         "1"
        ],
        [
         "4/3/2021",
         "1"
        ],
        [
         "3/6/2021",
         "1"
        ],
        [
         "2/2/2021",
         "1"
        ],
        [
         "1/6/2021",
         "1"
        ],
        [
         "11/12/2020",
         "1"
        ],
        [
         "11/2/2021",
         "1"
        ],
        [
         "14-12-2021",
         "1"
        ],
        [
         "15-07-2021",
         "1"
        ],
        [
         "26-08-2021",
         "1"
        ],
        [
         "24-02-2021",
         "1"
        ],
        [
         "24-06-2021",
         "1"
        ],
        [
         "24-08-2021",
         "1"
        ],
        [
         "25-05-2021",
         "1"
        ],
        [
         "25-09-2020",
         "1"
        ],
        [
         "26-01-2021",
         "1"
        ],
        [
         "26-09-2020",
         "1"
        ],
        [
         "15-10-2021",
         "1"
        ],
        [
         "27-05-2021",
         "1"
        ],
        [
         "28-01-2021",
         "1"
        ],
        [
         "29-01-2021",
         "1"
        ]
       ],
       "shape": {
        "columns": 1,
        "rows": 71
       }
      },
      "text/plain": [
       "Investigation.Type\n",
       "Accident      85015\n",
       "Incident       3874\n",
       "3/12/2020         1\n",
       "8/9/2022          1\n",
       "1/11/2022         1\n",
       "              ...  \n",
       "17-12-2021        1\n",
       "16-11-2021        1\n",
       "16-07-2021        1\n",
       "15-12-2022        1\n",
       "3/11/2020         1\n",
       "Name: count, Length: 71, dtype: int64"
      ]
     },
     "execution_count": 21,
     "metadata": {},
     "output_type": "execute_result"
    }
   ],
   "source": [
    "cleaned_df['Investigation.Type'].value_counts()"
   ]
  },
  {
   "cell_type": "markdown",
   "metadata": {},
   "source": [
    "#### cleaning event id where is null will solve the problem\n",
    "`` our Investigation.Type column and number has many entries of 88958 but generally the event id has 88889 ``\n",
    " "
   ]
  },
  {
   "cell_type": "code",
   "execution_count": 22,
   "metadata": {},
   "outputs": [
    {
     "data": {
      "text/plain": [
       "69"
      ]
     },
     "execution_count": 22,
     "metadata": {},
     "output_type": "execute_result"
    }
   ],
   "source": [
    "# cleaning event id where is null will solve the problem\n",
    "cleaned_df['Event.Id'].isna().sum()"
   ]
  },
  {
   "cell_type": "code",
   "execution_count": 23,
   "metadata": {},
   "outputs": [],
   "source": [
    "# Drop rows where Event.Id is missing\n",
    "cleaned_df = cleaned_df.dropna(subset=['Event.Id']).reset_index(drop=True)"
   ]
  },
  {
   "cell_type": "code",
   "execution_count": 24,
   "metadata": {},
   "outputs": [
    {
     "name": "stdout",
     "output_type": "stream",
     "text": [
      "<class 'pandas.core.frame.DataFrame'>\n",
      "RangeIndex: 88889 entries, 0 to 88888\n",
      "Data columns (total 21 columns):\n",
      " #   Column                  Non-Null Count  Dtype  \n",
      "---  ------                  --------------  -----  \n",
      " 0   Event.Id                88889 non-null  object \n",
      " 1   Investigation.Type      88889 non-null  object \n",
      " 2   Accident.Number         88889 non-null  object \n",
      " 3   Event.Date              88889 non-null  object \n",
      " 4   Location                88837 non-null  object \n",
      " 5   Country                 88889 non-null  object \n",
      " 6   Injury.Severity         87889 non-null  object \n",
      " 7   Aircraft.damage         85695 non-null  object \n",
      " 8   Registration.Number     87507 non-null  object \n",
      " 9   Make                    88826 non-null  object \n",
      " 10  Model                   88797 non-null  object \n",
      " 11  Amateur.Built           88787 non-null  object \n",
      " 12  Number.of.Engines       88889 non-null  float64\n",
      " 13  Engine.Type             81793 non-null  object \n",
      " 14  Purpose.of.flight       82697 non-null  object \n",
      " 15  Total.Fatal.Injuries    88889 non-null  float64\n",
      " 16  Total.Serious.Injuries  88889 non-null  float64\n",
      " 17  Total.Minor.Injuries    88889 non-null  float64\n",
      " 18  Total.Uninjured         88889 non-null  float64\n",
      " 19  Weather.Condition       84397 non-null  object \n",
      " 20  Report.Status           82505 non-null  object \n",
      "dtypes: float64(5), object(16)\n",
      "memory usage: 14.2+ MB\n"
     ]
    }
   ],
   "source": [
    "cleaned_df.info()"
   ]
  },
  {
   "cell_type": "code",
   "execution_count": 25,
   "metadata": {},
   "outputs": [
    {
     "data": {
      "application/vnd.microsoft.datawrangler.viewer.v0+json": {
       "columns": [
        {
         "name": "Report.Status",
         "rawType": "object",
         "type": "string"
        },
        {
         "name": "count",
         "rawType": "int64",
         "type": "integer"
        }
       ],
       "ref": "3dcca2d9-ae8d-4827-8eb0-83d124b902de",
       "rows": [
        [
         "Probable Cause",
         "61754"
        ],
        [
         "Foreign",
         "1999"
        ],
        [
         "<br /><br />",
         "167"
        ],
        [
         "Factual",
         "145"
        ],
        [
         "The pilot's failure to maintain directional control during the landing roll.",
         "58"
        ],
        [
         "A loss of engine power for undetermined reasons.",
         "53"
        ],
        [
         "The pilot's failure to maintain directional control during landing.",
         "50"
        ],
        [
         "A total loss of engine power for undetermined reasons.",
         "45"
        ],
        [
         "The loss of engine power for undetermined reasons.",
         "31"
        ],
        [
         "The pilots failure to maintain directional control during the landing roll.",
         "24"
        ],
        [
         "The pilots failure to maintain directional control during landing.",
         "23"
        ],
        [
         "The pilots failure to maintain directional control during the landing roll.\r\n\r",
         "21"
        ],
        [
         "The pilot's failure to maintain directional control during takeoff.",
         "19"
        ],
        [
         "The pilot's improper recovery from a bounced landing.",
         "19"
        ],
        [
         "The pilot's failure to maintain directional control of the airplane during landing.",
         "18"
        ],
        [
         "None.",
         "17"
        ],
        [
         "The student pilot's improper recovery from a bounced landing.",
         "16"
        ],
        [
         ".",
         "16"
        ],
        [
         "The pilot's improper landing flare, which resulted in a hard landing.",
         "16"
        ],
        [
         "The pilot's failure to maintain directional control during the takeoff roll.",
         "15"
        ],
        [
         "Preliminary",
         "15"
        ],
        [
         "A partial loss of engine power for undetermined reasons.",
         "14"
        ],
        [
         "A total loss of engine power for reasons that could not be determined based on the available information.",
         "13"
        ],
        [
         "The pilots failure to maintain directional control during landing.\r\n\r",
         "12"
        ],
        [
         "The pilot's improper fuel management, which resulted in a loss of engine power due to fuel exhaustion.",
         "11"
        ],
        [
         "an inadvertent encounter with clear air turbulence.",
         "11"
        ],
        [
         "The student pilot's improper flare, which resulted in a hard landing.",
         "10"
        ],
        [
         "The pilots improper landing flare, which resulted in a hard landing.\r\n\r",
         "10"
        ],
        [
         "A loss of engine power for reasons that could not be determined based on the available information.",
         "10"
        ],
        [
         "A partial loss of engine power for reasons that could not be determined based on the available information.",
         "10"
        ],
        [
         "The pilot's failure to maintain directional control during the landing roll, which resulted in a ground loop.",
         "9"
        ],
        [
         "The pilot's loss of directional control during landing.",
         "9"
        ],
        [
         "The pilot's failure to maintain directional control while landing.",
         "9"
        ],
        [
         "The student pilot's failure to maintain directional control during takeoff.",
         "9"
        ],
        [
         "The pilots improper fuel management, which resulted in a loss of engine power due to fuel exhaustion.",
         "9"
        ],
        [
         "The pilots failure to maintain directional control during takeoff.",
         "9"
        ],
        [
         "The pilot's selection of unsuitable terrain for landing.",
         "9"
        ],
        [
         "The pilots improper recovery from a bounced landing.",
         "8"
        ],
        [
         "The pilot's failure to maintain directional control of the airplane during the landing roll.",
         "8"
        ],
        [
         "The pilot's failure to maintain directional control.",
         "8"
        ],
        [
         "The pilot's improper fuel management, which resulted in a loss of engine power due to fuel starvation.",
         "7"
        ],
        [
         "The total loss of engine power for undetermined reasons.",
         "7"
        ],
        [
         "The pilot's failure to maintain directional control during the landing roll, which resulted in a runway excursion.",
         "7"
        ],
        [
         "The pilot's improper flare, which resulted in a hard landing.",
         "7"
        ],
        [
         "The student pilot's failure to maintain directional control during landing.",
         "7"
        ],
        [
         "The pilot's failure to maintain directional control while landing with a crosswind.",
         "7"
        ],
        [
         "The pilot's inadequate flare, which resulted in a hard landing.",
         "7"
        ],
        [
         "The loss of engine power due to fuel starvation.",
         "7"
        ],
        [
         "The pilot's improper landing flare and inadequate recovery from a bounced landing.",
         "7"
        ],
        [
         "The pilot's failure to maintain directional control during the landing.",
         "7"
        ]
       ],
       "shape": {
        "columns": 1,
        "rows": 17006
       }
      },
      "text/plain": [
       "Report.Status\n",
       "Probable Cause                                                                                                                                                                                        61754\n",
       "Foreign                                                                                                                                                                                                1999\n",
       "<br /><br />                                                                                                                                                                                            167\n",
       "Factual                                                                                                                                                                                                 145\n",
       "The pilot's failure to maintain directional control during the landing roll.                                                                                                                             58\n",
       "                                                                                                                                                                                                      ...  \n",
       "The pilot's failure to maintain adequate airspeed, which resulted in an aerodynamic stall. Contributing to the accident was a partial loss of engine power due to the formation of carburetor ice.        1\n",
       "The certified flight instructor did not select an adequate landing site for the practice autorotation.                                                                                                    1\n",
       "The failure of the compressor section No. 2 bearing due to false brinnelling and fatigue.                                                                                                                 1\n",
       "The flight's encounter with known severe turbulence associated with mountain wave activity, which resulted in a flight attendant sustaining a broken ankle.                                               1\n",
       "The pilots loss of control due to a wind gust during landing.                                                                                                                                            1\n",
       "Name: count, Length: 17006, dtype: int64"
      ]
     },
     "execution_count": 25,
     "metadata": {},
     "output_type": "execute_result"
    }
   ],
   "source": [
    "cleaned_df['Report.Status'].value_counts()\n",
    "\n",
    "#DROP THIS COLUMN NOT NECESSARY"
   ]
  },
  {
   "cell_type": "code",
   "execution_count": 26,
   "metadata": {},
   "outputs": [
    {
     "name": "stdout",
     "output_type": "stream",
     "text": [
      "<class 'pandas.core.frame.DataFrame'>\n",
      "RangeIndex: 88889 entries, 0 to 88888\n",
      "Data columns (total 21 columns):\n",
      " #   Column                  Non-Null Count  Dtype  \n",
      "---  ------                  --------------  -----  \n",
      " 0   Event.Id                88889 non-null  object \n",
      " 1   Investigation.Type      88889 non-null  object \n",
      " 2   Accident.Number         88889 non-null  object \n",
      " 3   Event.Date              88889 non-null  object \n",
      " 4   Location                88837 non-null  object \n",
      " 5   Country                 88889 non-null  object \n",
      " 6   Injury.Severity         87889 non-null  object \n",
      " 7   Aircraft.damage         85695 non-null  object \n",
      " 8   Registration.Number     87507 non-null  object \n",
      " 9   Make                    88826 non-null  object \n",
      " 10  Model                   88797 non-null  object \n",
      " 11  Amateur.Built           88787 non-null  object \n",
      " 12  Number.of.Engines       88889 non-null  float64\n",
      " 13  Engine.Type             81793 non-null  object \n",
      " 14  Purpose.of.flight       82697 non-null  object \n",
      " 15  Total.Fatal.Injuries    88889 non-null  float64\n",
      " 16  Total.Serious.Injuries  88889 non-null  float64\n",
      " 17  Total.Minor.Injuries    88889 non-null  float64\n",
      " 18  Total.Uninjured         88889 non-null  float64\n",
      " 19  Weather.Condition       84397 non-null  object \n",
      " 20  Report.Status           82505 non-null  object \n",
      "dtypes: float64(5), object(16)\n",
      "memory usage: 14.2+ MB\n"
     ]
    }
   ],
   "source": [
    "cleaned_df.info()"
   ]
  },
  {
   "cell_type": "markdown",
   "metadata": {},
   "source": [
    "Location                88837 \n",
    "Injury.Severity         87889\n",
    "Aircraft.damage         85695\n",
    "Registration.Number     87507\n",
    "Make                    88826 \n",
    "Model                   88797 \n",
    "Amateur.Built           88787\n",
    "Engine.Type             81793 \n",
    "Purpose.of.flight       82697\n",
    "Weather.Condition       84397\n",
    "Report.Status           82505\n",
    "required data           88889"
   ]
  },
  {
   "cell_type": "code",
   "execution_count": 27,
   "metadata": {},
   "outputs": [
    {
     "data": {
      "application/vnd.microsoft.datawrangler.viewer.v0+json": {
       "columns": [
        {
         "name": "Weather.Condition",
         "rawType": "object",
         "type": "string"
        },
        {
         "name": "proportion",
         "rawType": "float64",
         "type": "float"
        }
       ],
       "ref": "630cf586-467b-44af-a1c9-bd2307651442",
       "rows": [
        [
         "VMC",
         "91.59448795573303"
        ],
        [
         "IMC",
         "7.080820408308353"
        ],
        [
         "UNK",
         "1.0142540611633115"
        ],
        [
         "Unk",
         "0.31043757479531264"
        ]
       ],
       "shape": {
        "columns": 1,
        "rows": 4
       }
      },
      "text/plain": [
       "Weather.Condition\n",
       "VMC    91.594488\n",
       "IMC     7.080820\n",
       "UNK     1.014254\n",
       "Unk     0.310438\n",
       "Name: proportion, dtype: float64"
      ]
     },
     "execution_count": 27,
     "metadata": {},
     "output_type": "execute_result"
    }
   ],
   "source": [
    "#checking the weather conditions\n",
    "cleaned_df['Weather.Condition'].value_counts(normalize=True)*100\n",
    " # will use mode to fill missing value"
   ]
  },
  {
   "cell_type": "code",
   "execution_count": 28,
   "metadata": {},
   "outputs": [],
   "source": [
    "# Get the most frequent Weather.Condition\n",
    "weather_mode = cleaned_df['Weather.Condition'].mode()[0]\n",
    "# Fill missing values with the mode\n",
    "cleaned_df['Weather.Condition'] = cleaned_df['Weather.Condition'].fillna(weather_mode)"
   ]
  },
  {
   "cell_type": "code",
   "execution_count": 29,
   "metadata": {},
   "outputs": [
    {
     "data": {
      "application/vnd.microsoft.datawrangler.viewer.v0+json": {
       "columns": [
        {
         "name": "Location",
         "rawType": "object",
         "type": "string"
        },
        {
         "name": "proportion",
         "rawType": "float64",
         "type": "float"
        }
       ],
       "ref": "9d20b6b3-05c9-431c-82ca-cec846d1eab3",
       "rows": [
        [
         "ANCHORAGE, AK",
         "0.48853518241273347"
        ],
        [
         "MIAMI, FL",
         "0.22513142046669743"
        ],
        [
         "ALBUQUERQUE, NM",
         "0.2206287920573635"
        ],
        [
         "HOUSTON, TX",
         "0.217251820750363"
        ],
        [
         "CHICAGO, IL",
         "0.20712090682936166"
        ],
        [
         "FAIRBANKS, AK",
         "0.19586433580602675"
        ],
        [
         "TUCSON, AZ",
         "0.15984330853135517"
        ],
        [
         "ORLANDO, FL",
         "0.14858673750802032"
        ],
        [
         "PHOENIX, AZ",
         "0.14858673750802032"
        ],
        [
         "ENGLEWOOD, CO",
         "0.14746108040568684"
        ],
        [
         "JACKSONVILLE, FL",
         "0.13395319517768497"
        ],
        [
         "SAN DIEGO, CA",
         "0.13395319517768497"
        ],
        [
         "Anchorage, AK",
         "0.12832490966601753"
        ],
        [
         "CHANDLER, AZ",
         "0.12494793835901709"
        ],
        [
         "RENO, NV",
         "0.1226966241543501"
        ],
        [
         "ATLANTA, GA",
         "0.1226966241543501"
        ],
        [
         "DENVER, CO",
         "0.11706833864268265"
        ],
        [
         "SEATTLE, WA",
         "0.11594268154034917"
        ],
        [
         "LAS VEGAS, NV",
         "0.11369136733568222"
        ],
        [
         "FORT WORTH, TX",
         "0.11369136733568222"
        ],
        [
         "LOS ANGELES, CA",
         "0.11031439602868175"
        ],
        [
         "SAN JOSE, CA",
         "0.10806308182401476"
        ],
        [
         "TALKEETNA, AK",
         "0.10806308182401476"
        ],
        [
         "MESA, AZ",
         "0.10693742472168129"
        ],
        [
         "DAYTONA BEACH, FL",
         "0.1046861105170143"
        ],
        [
         "Denver, CO",
         "0.10356045341468083"
        ],
        [
         "Phoenix, AZ",
         "0.10356045341468083"
        ],
        [
         "SAN ANTONIO, TX",
         "0.10356045341468083"
        ],
        [
         "FORT LAUDERDALE, FL",
         "0.09905782500534688"
        ],
        [
         "OSHKOSH, WI",
         "0.09793216790301337"
        ],
        [
         "WASILLA, AK",
         "0.09793216790301337"
        ],
        [
         "VAN NUYS, CA",
         "0.09793216790301337"
        ],
        [
         "KENAI, AK",
         "0.09793216790301337"
        ],
        [
         "PALMER, AK",
         "0.0968065108006799"
        ],
        [
         "LAKELAND, FL",
         "0.0956808536983464"
        ],
        [
         "TAMPA, FL",
         "0.09455519659601293"
        ],
        [
         "COLUMBUS, OH",
         "0.09117822528901247"
        ],
        [
         "ATLANTIC OCEAN",
         "0.09117822528901247"
        ],
        [
         "TULSA, OK",
         "0.09117822528901247"
        ],
        [
         "PRESCOTT, AZ",
         "0.09005256818667898"
        ],
        [
         "LONG BEACH, CA",
         "0.09005256818667898"
        ],
        [
         "Atlanta, GA",
         "0.09005256818667898"
        ],
        [
         "INDIANAPOLIS, IN",
         "0.087801253982012"
        ],
        [
         "SALT LAKE CITY, UT",
         "0.087801253982012"
        ],
        [
         "Houston, TX",
         "0.087801253982012"
        ],
        [
         "BROOMFIELD, CO",
         "0.087801253982012"
        ],
        [
         "CORONA, CA",
         "0.087801253982012"
        ],
        [
         "Palmer, AK",
         "0.08667559687967852"
        ],
        [
         "SKWENTNA, AK",
         "0.08554993977734503"
        ],
        [
         "Talkeetna, AK",
         "0.08442428267501154"
        ]
       ],
       "shape": {
        "columns": 1,
        "rows": 27758
       }
      },
      "text/plain": [
       "Location\n",
       "ANCHORAGE, AK               0.488535\n",
       "MIAMI, FL                   0.225131\n",
       "ALBUQUERQUE, NM             0.220629\n",
       "HOUSTON, TX                 0.217252\n",
       "CHICAGO, IL                 0.207121\n",
       "                              ...   \n",
       "ELK GARDEN, VA              0.001126\n",
       "PIURA, Peru                 0.001126\n",
       "TOQUI, Venezuela            0.001126\n",
       "NORTH ELEUTHERA, Bahamas    0.001126\n",
       "Brasnorte,                  0.001126\n",
       "Name: proportion, Length: 27758, dtype: float64"
      ]
     },
     "execution_count": 29,
     "metadata": {},
     "output_type": "execute_result"
    }
   ],
   "source": [
    "cleaned_df['Location'].value_counts(normalize=True)*100\n",
    "\n",
    "# will FILL WITH UNKNOWN"
   ]
  },
  {
   "cell_type": "code",
   "execution_count": 30,
   "metadata": {},
   "outputs": [],
   "source": [
    "cleaned_df['Location'] = cleaned_df['Location'].fillna('Unknown')"
   ]
  },
  {
   "cell_type": "code",
   "execution_count": 31,
   "metadata": {},
   "outputs": [
    {
     "data": {
      "application/vnd.microsoft.datawrangler.viewer.v0+json": {
       "columns": [
        {
         "name": "Injury.Severity",
         "rawType": "object",
         "type": "string"
        },
        {
         "name": "proportion",
         "rawType": "float64",
         "type": "float"
        }
       ],
       "ref": "aabcd6b4-7b40-4a5d-a8c7-43ffbe25352d",
       "rows": [
        [
         "Non-Fatal",
         "76.63871474245923"
        ],
        [
         "Fatal(1)",
         "7.016805288488889"
        ],
        [
         "Fatal",
         "5.987097361444549"
        ],
        [
         "Fatal(2)",
         "4.222371400289001"
        ],
        [
         "Incident",
         "2.524775569183857"
        ],
        [
         "Fatal(3)",
         "1.3050552401324398"
        ],
        [
         "Fatal(4)",
         "0.9238926373038719"
        ],
        [
         "Fatal(5)",
         "0.2673827213872043"
        ],
        [
         "Minor",
         "0.2480401415421725"
        ],
        [
         "Serious",
         "0.19683919489355892"
        ],
        [
         "Fatal(6)",
         "0.18318560912059528"
        ],
        [
         "Unavailable",
         "0.109228686183709"
        ],
        [
         "Fatal(7)",
         "0.06371673360716358"
        ],
        [
         "Fatal(8)",
         "0.05802773953509541"
        ],
        [
         "Fatal(10)",
         "0.03640956206123633"
        ],
        [
         "Fatal(9)",
         "0.020480378659445436"
        ],
        [
         "Fatal(14)",
         "0.012515786958549989"
        ],
        [
         "Fatal(11)",
         "0.011377988144136354"
        ],
        [
         "Fatal(13)",
         "0.010240189329722718"
        ],
        [
         "Fatal(12)",
         "0.009102390515309082"
        ],
        [
         "Fatal(15)",
         "0.005688994072068177"
        ],
        [
         "Fatal(18)",
         "0.005688994072068177"
        ],
        [
         "Fatal(20)",
         "0.005688994072068177"
        ],
        [
         "Fatal(23)",
         "0.004551195257654541"
        ],
        [
         "Fatal(25)",
         "0.004551195257654541"
        ],
        [
         "Fatal(16)",
         "0.003413396443240906"
        ],
        [
         "Fatal(19)",
         "0.003413396443240906"
        ],
        [
         "Fatal(34)",
         "0.003413396443240906"
        ],
        [
         "Fatal(17)",
         "0.003413396443240906"
        ],
        [
         "Fatal(160)",
         "0.0022755976288272705"
        ],
        [
         "Fatal(104)",
         "0.0022755976288272705"
        ],
        [
         "Fatal(349)",
         "0.0022755976288272705"
        ],
        [
         "Fatal(75)",
         "0.0022755976288272705"
        ],
        [
         "Fatal(65)",
         "0.0022755976288272705"
        ],
        [
         "Fatal(71)",
         "0.0022755976288272705"
        ],
        [
         "Fatal(113)",
         "0.0022755976288272705"
        ],
        [
         "Fatal(24)",
         "0.0022755976288272705"
        ],
        [
         "Fatal(92)",
         "0.0022755976288272705"
        ],
        [
         "Fatal(118)",
         "0.0022755976288272705"
        ],
        [
         "Fatal(46)",
         "0.0022755976288272705"
        ],
        [
         "Fatal(102)",
         "0.0022755976288272705"
        ],
        [
         "Fatal(154)",
         "0.0022755976288272705"
        ],
        [
         "Fatal(52)",
         "0.0022755976288272705"
        ],
        [
         "Fatal(97)",
         "0.0022755976288272705"
        ],
        [
         "Fatal(27)",
         "0.0022755976288272705"
        ],
        [
         "Fatal(82)",
         "0.0022755976288272705"
        ],
        [
         "Fatal(29)",
         "0.0022755976288272705"
        ],
        [
         "Fatal(70)",
         "0.0022755976288272705"
        ],
        [
         "Fatal(131)",
         "0.0022755976288272705"
        ],
        [
         "Fatal(87)",
         "0.0022755976288272705"
        ]
       ],
       "shape": {
        "columns": 1,
        "rows": 109
       }
      },
      "text/plain": [
       "Injury.Severity\n",
       "Non-Fatal     76.638715\n",
       "Fatal(1)       7.016805\n",
       "Fatal          5.987097\n",
       "Fatal(2)       4.222371\n",
       "Incident       2.524776\n",
       "                ...    \n",
       "Fatal(60)      0.001138\n",
       "Fatal(270)     0.001138\n",
       "Fatal(143)     0.001138\n",
       "Fatal(83)      0.001138\n",
       "Fatal(189)     0.001138\n",
       "Name: proportion, Length: 109, dtype: float64"
      ]
     },
     "execution_count": 31,
     "metadata": {},
     "output_type": "execute_result"
    }
   ],
   "source": [
    "cleaned_df['Injury.Severity'].value_counts(normalize=True)*100\n",
    "\n",
    "# will use mode to fill missing values"
   ]
  },
  {
   "cell_type": "code",
   "execution_count": 32,
   "metadata": {},
   "outputs": [],
   "source": [
    "# Get the most frequent injury severity\n",
    "injury_mode = cleaned_df['Injury.Severity'].mode()[0]\n",
    "\n",
    "# Fill missing values with the mode\n",
    "cleaned_df['Injury.Severity'] = cleaned_df['Injury.Severity'].fillna(injury_mode)\n"
   ]
  },
  {
   "cell_type": "code",
   "execution_count": 33,
   "metadata": {},
   "outputs": [
    {
     "data": {
      "application/vnd.microsoft.datawrangler.viewer.v0+json": {
       "columns": [
        {
         "name": "Engine.Type",
         "rawType": "object",
         "type": "string"
        },
        {
         "name": "proportion",
         "rawType": "float64",
         "type": "float"
        }
       ],
       "ref": "1bd0e0f5-5643-497e-b9be-2350afffaa5c",
       "rows": [
        [
         "Reciprocating",
         "85.0072744611397"
        ],
        [
         "Turbo Shaft",
         "4.412358025747925"
        ],
        [
         "Turbo Prop",
         "4.145831550377172"
        ],
        [
         "Turbo Fan",
         "3.033266905480909"
        ],
        [
         "Unknown",
         "2.507549545804653"
        ],
        [
         "Turbo Jet",
         "0.8594867531451347"
        ],
        [
         "Geared Turbofan",
         "0.014671182130500166"
        ],
        [
         "Electric",
         "0.012225985108750139"
        ],
        [
         "LR",
         "0.002445197021750027"
        ],
        [
         "NONE",
         "0.002445197021750027"
        ],
        [
         "Hybrid Rocket",
         "0.0012225985108750136"
        ],
        [
         "UNK",
         "0.0012225985108750136"
        ]
       ],
       "shape": {
        "columns": 1,
        "rows": 12
       }
      },
      "text/plain": [
       "Engine.Type\n",
       "Reciprocating      85.007274\n",
       "Turbo Shaft         4.412358\n",
       "Turbo Prop          4.145832\n",
       "Turbo Fan           3.033267\n",
       "Unknown             2.507550\n",
       "Turbo Jet           0.859487\n",
       "Geared Turbofan     0.014671\n",
       "Electric            0.012226\n",
       "LR                  0.002445\n",
       "NONE                0.002445\n",
       "Hybrid Rocket       0.001223\n",
       "UNK                 0.001223\n",
       "Name: proportion, dtype: float64"
      ]
     },
     "execution_count": 33,
     "metadata": {},
     "output_type": "execute_result"
    }
   ],
   "source": [
    "cleaned_df['Engine.Type'].value_counts(normalize=True)*100\n",
    "\n",
    "# will use mode to fill missing value"
   ]
  },
  {
   "cell_type": "code",
   "execution_count": 34,
   "metadata": {},
   "outputs": [],
   "source": [
    "# Get the most frequent Engine.Type\n",
    "Engine_type_mode = cleaned_df['Engine.Type'].mode()[0]\n",
    "# Fill missing values with the mode\n",
    "cleaned_df['Engine.Type'] = cleaned_df['Engine.Type'].fillna(Engine_type_mode)\n"
   ]
  },
  {
   "cell_type": "code",
   "execution_count": 35,
   "metadata": {},
   "outputs": [
    {
     "data": {
      "application/vnd.microsoft.datawrangler.viewer.v0+json": {
       "columns": [
        {
         "name": "Aircraft.damage",
         "rawType": "object",
         "type": "string"
        },
        {
         "name": "proportion",
         "rawType": "float64",
         "type": "float"
        }
       ],
       "ref": "9fa55bc5-5a5a-4d62-8951-1c21ed61bffc",
       "rows": [
        [
         "Substantial",
         "74.85617597292725"
        ],
        [
         "Destroyed",
         "21.73172297100181"
        ],
        [
         "Minor",
         "3.2732364782075964"
        ],
        [
         "Unknown",
         "0.1388645778633526"
        ]
       ],
       "shape": {
        "columns": 1,
        "rows": 4
       }
      },
      "text/plain": [
       "Aircraft.damage\n",
       "Substantial    74.856176\n",
       "Destroyed      21.731723\n",
       "Minor           3.273236\n",
       "Unknown         0.138865\n",
       "Name: proportion, dtype: float64"
      ]
     },
     "execution_count": 35,
     "metadata": {},
     "output_type": "execute_result"
    }
   ],
   "source": [
    "cleaned_df['Aircraft.damage'].value_counts(normalize=True)*100\n",
    "\n",
    "# FILL WITH UNKNOWN "
   ]
  },
  {
   "cell_type": "code",
   "execution_count": 36,
   "metadata": {},
   "outputs": [],
   "source": [
    "cleaned_df['Aircraft.damage']= cleaned_df['Aircraft.damage'].fillna('Unknown')"
   ]
  },
  {
   "cell_type": "code",
   "execution_count": 37,
   "metadata": {},
   "outputs": [
    {
     "data": {
      "application/vnd.microsoft.datawrangler.viewer.v0+json": {
       "columns": [
        {
         "name": "Registration.Number",
         "rawType": "object",
         "type": "string"
        },
        {
         "name": "count",
         "rawType": "int64",
         "type": "integer"
        }
       ],
       "ref": "57e32420-78e7-4633-a50c-31f648c53077",
       "rows": [
        [
         "NONE",
         "344"
        ],
        [
         "UNREG",
         "126"
        ],
        [
         "UNK",
         "13"
        ],
        [
         "USAF",
         "9"
        ],
        [
         "N20752",
         "8"
        ],
        [
         "N5408Y",
         "6"
        ],
        [
         "N4101E",
         "6"
        ],
        [
         "N121CC",
         "6"
        ],
        [
         "N11VH",
         "6"
        ],
        [
         "N53893",
         "6"
        ],
        [
         "N8402K",
         "6"
        ],
        [
         "unknown",
         "6"
        ],
        [
         "N99HV",
         "5"
        ],
        [
         "N93067",
         "5"
        ],
        [
         "N3125N",
         "5"
        ],
        [
         "N5246E",
         "5"
        ],
        [
         "N8597D",
         "5"
        ],
        [
         "N3331R",
         "5"
        ],
        [
         "N420SB",
         "5"
        ],
        [
         "N8653Y",
         "5"
        ],
        [
         "N32133",
         "5"
        ],
        [
         "USN",
         "5"
        ],
        [
         "N75LE",
         "5"
        ],
        [
         "N9957J",
         "5"
        ],
        [
         "N4326S",
         "4"
        ],
        [
         "N7051",
         "4"
        ],
        [
         "N3184",
         "4"
        ],
        [
         "N4642J",
         "4"
        ],
        [
         "N99US",
         "4"
        ],
        [
         "N1386A",
         "4"
        ],
        [
         "N745",
         "4"
        ],
        [
         "N87020",
         "4"
        ],
        [
         "N5245G",
         "4"
        ],
        [
         "N139F",
         "4"
        ],
        [
         "N8522V",
         "4"
        ],
        [
         "N76RL",
         "4"
        ],
        [
         "AFNG",
         "4"
        ],
        [
         "N595H",
         "4"
        ],
        [
         "N2LU",
         "4"
        ],
        [
         "N1047F",
         "4"
        ],
        [
         "N2335Q",
         "4"
        ],
        [
         "N93286",
         "4"
        ],
        [
         "N4029R",
         "4"
        ],
        [
         "N66076",
         "4"
        ],
        [
         "N10009",
         "4"
        ],
        [
         "N4500W",
         "4"
        ],
        [
         "N48687",
         "4"
        ],
        [
         "N2839V",
         "4"
        ],
        [
         "N3633B",
         "4"
        ],
        [
         "N252W",
         "4"
        ]
       ],
       "shape": {
        "columns": 1,
        "rows": 79104
       }
      },
      "text/plain": [
       "Registration.Number\n",
       "NONE      344\n",
       "UNREG     126\n",
       "UNK        13\n",
       "USAF        9\n",
       "N20752      8\n",
       "         ... \n",
       "N8266R      1\n",
       "N65737      1\n",
       "N681UP      1\n",
       "N53084      1\n",
       "N9026P      1\n",
       "Name: count, Length: 79104, dtype: int64"
      ]
     },
     "execution_count": 37,
     "metadata": {},
     "output_type": "execute_result"
    }
   ],
   "source": [
    "cleaned_df['Registration.Number'].value_counts()\n",
    "\n",
    "# DROP THIS COLUMN"
   ]
  },
  {
   "cell_type": "code",
   "execution_count": 38,
   "metadata": {},
   "outputs": [],
   "source": [
    "# Drop Registration.Number col because it is not useful for analysis\n",
    "cleaned_df = cleaned_df.drop(columns=['Registration.Number'])"
   ]
  },
  {
   "cell_type": "code",
   "execution_count": 39,
   "metadata": {},
   "outputs": [
    {
     "name": "stdout",
     "output_type": "stream",
     "text": [
      "<class 'pandas.core.frame.DataFrame'>\n",
      "RangeIndex: 88889 entries, 0 to 88888\n",
      "Data columns (total 20 columns):\n",
      " #   Column                  Non-Null Count  Dtype  \n",
      "---  ------                  --------------  -----  \n",
      " 0   Event.Id                88889 non-null  object \n",
      " 1   Investigation.Type      88889 non-null  object \n",
      " 2   Accident.Number         88889 non-null  object \n",
      " 3   Event.Date              88889 non-null  object \n",
      " 4   Location                88889 non-null  object \n",
      " 5   Country                 88889 non-null  object \n",
      " 6   Injury.Severity         88889 non-null  object \n",
      " 7   Aircraft.damage         88889 non-null  object \n",
      " 8   Make                    88826 non-null  object \n",
      " 9   Model                   88797 non-null  object \n",
      " 10  Amateur.Built           88787 non-null  object \n",
      " 11  Number.of.Engines       88889 non-null  float64\n",
      " 12  Engine.Type             88889 non-null  object \n",
      " 13  Purpose.of.flight       82697 non-null  object \n",
      " 14  Total.Fatal.Injuries    88889 non-null  float64\n",
      " 15  Total.Serious.Injuries  88889 non-null  float64\n",
      " 16  Total.Minor.Injuries    88889 non-null  float64\n",
      " 17  Total.Uninjured         88889 non-null  float64\n",
      " 18  Weather.Condition       88889 non-null  object \n",
      " 19  Report.Status           82505 non-null  object \n",
      "dtypes: float64(5), object(15)\n",
      "memory usage: 13.6+ MB\n"
     ]
    }
   ],
   "source": [
    "cleaned_df.info()"
   ]
  },
  {
   "cell_type": "code",
   "execution_count": 40,
   "metadata": {},
   "outputs": [
    {
     "data": {
      "application/vnd.microsoft.datawrangler.viewer.v0+json": {
       "columns": [
        {
         "name": "Make",
         "rawType": "object",
         "type": "string"
        },
        {
         "name": "count",
         "rawType": "int64",
         "type": "integer"
        }
       ],
       "ref": "afaf4906-d395-4392-9017-40ddad4f508d",
       "rows": [
        [
         "Cessna",
         "22227"
        ],
        [
         "Piper",
         "12029"
        ],
        [
         "CESSNA",
         "4922"
        ],
        [
         "Beech",
         "4330"
        ],
        [
         "PIPER",
         "2841"
        ],
        [
         "Bell",
         "2134"
        ],
        [
         "Boeing",
         "1594"
        ],
        [
         "BOEING",
         "1151"
        ],
        [
         "Grumman",
         "1094"
        ],
        [
         "Mooney",
         "1092"
        ],
        [
         "BEECH",
         "1042"
        ],
        [
         "Robinson",
         "946"
        ],
        [
         "Bellanca",
         "886"
        ],
        [
         "Hughes",
         "795"
        ],
        [
         "Schweizer",
         "629"
        ],
        [
         "Air Tractor",
         "595"
        ],
        [
         "BELL",
         "588"
        ],
        [
         "Mcdonnell Douglas",
         "526"
        ],
        [
         "Aeronca",
         "487"
        ],
        [
         "Maule",
         "445"
        ],
        [
         "Champion",
         "428"
        ],
        [
         "De Havilland",
         "382"
        ],
        [
         "Aero Commander",
         "360"
        ],
        [
         "Stinson",
         "348"
        ],
        [
         "Aerospatiale",
         "342"
        ],
        [
         "Rockwell",
         "331"
        ],
        [
         "Taylorcraft",
         "321"
        ],
        [
         "Luscombe",
         "319"
        ],
        [
         "Hiller",
         "311"
        ],
        [
         "North American",
         "304"
        ],
        [
         "ROBINSON",
         "284"
        ],
        [
         "Douglas",
         "255"
        ],
        [
         "AIRBUS",
         "251"
        ],
        [
         "Enstrom",
         "247"
        ],
        [
         "MOONEY",
         "242"
        ],
        [
         "Grumman American",
         "224"
        ],
        [
         "ROBINSON HELICOPTER",
         "221"
        ],
        [
         "CIRRUS DESIGN CORP",
         "218"
        ],
        [
         "AIR TRACTOR INC",
         "217"
        ],
        [
         "Ayres",
         "215"
        ],
        [
         "ROBINSON HELICOPTER COMPANY",
         "179"
        ],
        [
         "BELLANCA",
         "159"
        ],
        [
         "Sikorsky",
         "156"
        ],
        [
         "Ercoupe (eng & Research Corp.)",
         "156"
        ],
        [
         "Swearingen",
         "151"
        ],
        [
         "AERONCA",
         "149"
        ],
        [
         "SCHWEIZER",
         "144"
        ],
        [
         "MAULE",
         "144"
        ],
        [
         "Airbus Industrie",
         "142"
        ],
        [
         "Pitts",
         "141"
        ]
       ],
       "shape": {
        "columns": 1,
        "rows": 8237
       }
      },
      "text/plain": [
       "Make\n",
       "Cessna           22227\n",
       "Piper            12029\n",
       "CESSNA            4922\n",
       "Beech             4330\n",
       "PIPER             2841\n",
       "                 ...  \n",
       "Motley Vans          1\n",
       "Perlick              1\n",
       "Knab-douglas         1\n",
       "Boykin B J           1\n",
       "ROYSE RALPH L        1\n",
       "Name: count, Length: 8237, dtype: int64"
      ]
     },
     "execution_count": 40,
     "metadata": {},
     "output_type": "execute_result"
    }
   ],
   "source": [
    "#CHECK MAKE DISTRIBUTION\n",
    "cleaned_df['Make'].value_counts()\n",
    "\n",
    "#FILL BLACKS WITH UNKNOWN\n"
   ]
  },
  {
   "cell_type": "code",
   "execution_count": 41,
   "metadata": {},
   "outputs": [],
   "source": [
    "cleaned_df['Make']= cleaned_df['Make'].fillna('Unknown')"
   ]
  },
  {
   "cell_type": "code",
   "execution_count": 42,
   "metadata": {},
   "outputs": [
    {
     "data": {
      "application/vnd.microsoft.datawrangler.viewer.v0+json": {
       "columns": [
        {
         "name": "Model",
         "rawType": "object",
         "type": "string"
        },
        {
         "name": "count",
         "rawType": "int64",
         "type": "integer"
        }
       ],
       "ref": "655fbeac-9dde-47e4-8436-27c6fda2612b",
       "rows": [
        [
         "152",
         "2367"
        ],
        [
         "172",
         "1756"
        ],
        [
         "172N",
         "1164"
        ],
        [
         "PA-28-140",
         "932"
        ],
        [
         "150",
         "829"
        ],
        [
         "172M",
         "798"
        ],
        [
         "172P",
         "689"
        ],
        [
         "182",
         "659"
        ],
        [
         "180",
         "622"
        ],
        [
         "150M",
         "585"
        ],
        [
         "PA-18",
         "581"
        ],
        [
         "PA-18-150",
         "578"
        ],
        [
         "PA-28-180",
         "572"
        ],
        [
         "PA-28-161",
         "569"
        ],
        [
         "PA-28-181",
         "532"
        ],
        [
         "206B",
         "524"
        ],
        [
         "737",
         "489"
        ],
        [
         "PA-38-112",
         "469"
        ],
        [
         "150L",
         "461"
        ],
        [
         "G-164A",
         "460"
        ],
        [
         "A36",
         "450"
        ],
        [
         "G-164B",
         "420"
        ],
        [
         "140",
         "402"
        ],
        [
         "206",
         "390"
        ],
        [
         "170B",
         "389"
        ],
        [
         "172S",
         "373"
        ],
        [
         "R44",
         "361"
        ],
        [
         "182P",
         "356"
        ],
        [
         "PA-32-300",
         "356"
        ],
        [
         "PA-24-250",
         "352"
        ],
        [
         "269C",
         "341"
        ],
        [
         "PA-28R-200",
         "335"
        ],
        [
         "PA-12",
         "324"
        ],
        [
         "A188B",
         "318"
        ],
        [
         "PA-23-250",
         "311"
        ],
        [
         "177",
         "296"
        ],
        [
         "7AC",
         "295"
        ],
        [
         "SR22",
         "288"
        ],
        [
         "M20J",
         "287"
        ],
        [
         "185",
         "286"
        ],
        [
         "A185F",
         "285"
        ],
        [
         "PA-22-150",
         "281"
        ],
        [
         "PA-31-350",
         "280"
        ],
        [
         "PA28",
         "279"
        ],
        [
         "7GCBC",
         "279"
        ],
        [
         "R22",
         "273"
        ],
        [
         "7ECA",
         "267"
        ],
        [
         "182Q",
         "266"
        ],
        [
         "150F",
         "264"
        ],
        [
         "PA-25-235",
         "261"
        ]
       ],
       "shape": {
        "columns": 1,
        "rows": 12315
       }
      },
      "text/plain": [
       "Model\n",
       "152                 2367\n",
       "172                 1756\n",
       "172N                1164\n",
       "PA-28-140            932\n",
       "150                  829\n",
       "                    ... \n",
       "737-3S3                1\n",
       "MBB-BK117-B2           1\n",
       "GLASSAIR GL25          1\n",
       "ULTIMATE 10-300S       1\n",
       "M-8 EAGLE              1\n",
       "Name: count, Length: 12315, dtype: int64"
      ]
     },
     "execution_count": 42,
     "metadata": {},
     "output_type": "execute_result"
    }
   ],
   "source": [
    "#CHECK MAKE DISTRIBUTION\n",
    "cleaned_df['Model'].value_counts()\n",
    "\n",
    "#FILL BLACKS WITH UNKNOWN"
   ]
  },
  {
   "cell_type": "code",
   "execution_count": 43,
   "metadata": {},
   "outputs": [],
   "source": [
    "cleaned_df['Model'] =cleaned_df['Model'].fillna('Unknown')"
   ]
  },
  {
   "cell_type": "code",
   "execution_count": 44,
   "metadata": {},
   "outputs": [
    {
     "data": {
      "application/vnd.microsoft.datawrangler.viewer.v0+json": {
       "columns": [
        {
         "name": "Model",
         "rawType": "object",
         "type": "string"
        },
        {
         "name": "count",
         "rawType": "int64",
         "type": "integer"
        }
       ],
       "ref": "b64e0880-7573-4762-b992-ea8f9d897cdf",
       "rows": [
        [
         "152",
         "2367"
        ],
        [
         "172",
         "1756"
        ],
        [
         "172N",
         "1164"
        ],
        [
         "PA-28-140",
         "932"
        ],
        [
         "150",
         "829"
        ],
        [
         "172M",
         "798"
        ],
        [
         "172P",
         "689"
        ],
        [
         "182",
         "659"
        ],
        [
         "180",
         "622"
        ],
        [
         "150M",
         "585"
        ],
        [
         "PA-18",
         "581"
        ],
        [
         "PA-18-150",
         "578"
        ],
        [
         "PA-28-180",
         "572"
        ],
        [
         "PA-28-161",
         "569"
        ],
        [
         "PA-28-181",
         "532"
        ],
        [
         "206B",
         "524"
        ],
        [
         "737",
         "489"
        ],
        [
         "PA-38-112",
         "469"
        ],
        [
         "150L",
         "461"
        ],
        [
         "G-164A",
         "460"
        ],
        [
         "A36",
         "450"
        ],
        [
         "G-164B",
         "420"
        ],
        [
         "140",
         "402"
        ],
        [
         "206",
         "390"
        ],
        [
         "170B",
         "389"
        ],
        [
         "172S",
         "373"
        ],
        [
         "R44",
         "361"
        ],
        [
         "PA-32-300",
         "356"
        ],
        [
         "182P",
         "356"
        ],
        [
         "PA-24-250",
         "352"
        ],
        [
         "269C",
         "341"
        ],
        [
         "PA-28R-200",
         "335"
        ],
        [
         "PA-12",
         "324"
        ],
        [
         "A188B",
         "318"
        ],
        [
         "PA-23-250",
         "311"
        ],
        [
         "177",
         "296"
        ],
        [
         "7AC",
         "295"
        ],
        [
         "SR22",
         "288"
        ],
        [
         "M20J",
         "287"
        ],
        [
         "185",
         "286"
        ],
        [
         "A185F",
         "285"
        ],
        [
         "PA-22-150",
         "281"
        ],
        [
         "PA-31-350",
         "280"
        ],
        [
         "7GCBC",
         "279"
        ],
        [
         "PA28",
         "279"
        ],
        [
         "R22",
         "273"
        ],
        [
         "7ECA",
         "267"
        ],
        [
         "182Q",
         "266"
        ],
        [
         "150F",
         "264"
        ],
        [
         "PA-25-235",
         "261"
        ]
       ],
       "shape": {
        "columns": 1,
        "rows": 12315
       }
      },
      "text/plain": [
       "Model\n",
       "152          2367\n",
       "172          1756\n",
       "172N         1164\n",
       "PA-28-140     932\n",
       "150           829\n",
       "             ... \n",
       "C-414           1\n",
       "EA-200          1\n",
       "126-D           1\n",
       "HAWK H2X        1\n",
       "M-8 EAGLE       1\n",
       "Name: count, Length: 12315, dtype: int64"
      ]
     },
     "execution_count": 44,
     "metadata": {},
     "output_type": "execute_result"
    }
   ],
   "source": [
    "cleaned_df['Model'].value_counts()"
   ]
  },
  {
   "cell_type": "code",
   "execution_count": 45,
   "metadata": {},
   "outputs": [
    {
     "data": {
      "application/vnd.microsoft.datawrangler.viewer.v0+json": {
       "columns": [
        {
         "name": "Amateur.Built",
         "rawType": "object",
         "type": "string"
        },
        {
         "name": "count",
         "rawType": "int64",
         "type": "integer"
        }
       ],
       "ref": "5b168a67-3d03-413b-8e34-6d2bdd99af97",
       "rows": [
        [
         "No",
         "80312"
        ],
        [
         "Yes",
         "8475"
        ]
       ],
       "shape": {
        "columns": 1,
        "rows": 2
       }
      },
      "text/plain": [
       "Amateur.Built\n",
       "No     80312\n",
       "Yes     8475\n",
       "Name: count, dtype: int64"
      ]
     },
     "execution_count": 45,
     "metadata": {},
     "output_type": "execute_result"
    }
   ],
   "source": [
    "cleaned_df['Amateur.Built'].value_counts()\n",
    "# fill missing values with mode"
   ]
  },
  {
   "cell_type": "code",
   "execution_count": 46,
   "metadata": {},
   "outputs": [],
   "source": [
    "Amateur_built_mode =cleaned_df['Amateur.Built'].mode()[0] \n",
    "\n",
    "cleaned_df['Amateur.Built'] = cleaned_df['Amateur.Built'].fillna(Amateur_built_mode)"
   ]
  },
  {
   "cell_type": "code",
   "execution_count": 47,
   "metadata": {},
   "outputs": [
    {
     "data": {
      "application/vnd.microsoft.datawrangler.viewer.v0+json": {
       "columns": [
        {
         "name": "Purpose.of.flight",
         "rawType": "object",
         "type": "string"
        },
        {
         "name": "proportion",
         "rawType": "float64",
         "type": "float"
        }
       ],
       "ref": "fb882230-e39f-4a6f-9c3f-ad769a9b6854",
       "rows": [
        [
         "Personal",
         "59.79418842279648"
        ],
        [
         "Instructional",
         "12.819086544856525"
        ],
        [
         "Unknown",
         "8.225207685889451"
        ],
        [
         "Aerial Application",
         "5.697909234917833"
        ],
        [
         "Business",
         "4.858701041150223"
        ],
        [
         "Positioning",
         "1.990398684353725"
        ],
        [
         "Other Work Use",
         "1.5284714076689603"
        ],
        [
         "Ferry",
         "0.9818977713822751"
        ],
        [
         "Aerial Observation",
         "0.9601315646274956"
        ],
        [
         "Public Aircraft",
         "0.87064827019118"
        ],
        [
         "Executive/corporate",
         "0.66870624085517"
        ],
        [
         "Flight Test",
         "0.48973965198253866"
        ],
        [
         "Skydiving",
         "0.22008053496499266"
        ],
        [
         "External Load",
         "0.1487357461576599"
        ],
        [
         "Public Aircraft - Federal",
         "0.1269695394028804"
        ],
        [
         "Banner Tow",
         "0.12213260456848496"
        ],
        [
         "Air Race show",
         "0.11971413715128722"
        ],
        [
         "Public Aircraft - Local",
         "0.0894832944363157"
        ],
        [
         "Public Aircraft - State",
         "0.0773909573503271"
        ],
        [
         "Air Race/show",
         "0.07134478880733279"
        ],
        [
         "Glider Tow",
         "0.06408938655573963"
        ],
        [
         "Firefighting",
         "0.048369348343954434"
        ],
        [
         "Air Drop",
         "0.01330157079458747"
        ],
        [
         "ASHO",
         "0.007255402251593165"
        ],
        [
         "PUBS",
         "0.0048369348343954436"
        ],
        [
         "PUBL",
         "0.0012092337085988609"
        ]
       ],
       "shape": {
        "columns": 1,
        "rows": 26
       }
      },
      "text/plain": [
       "Purpose.of.flight\n",
       "Personal                     59.794188\n",
       "Instructional                12.819087\n",
       "Unknown                       8.225208\n",
       "Aerial Application            5.697909\n",
       "Business                      4.858701\n",
       "Positioning                   1.990399\n",
       "Other Work Use                1.528471\n",
       "Ferry                         0.981898\n",
       "Aerial Observation            0.960132\n",
       "Public Aircraft               0.870648\n",
       "Executive/corporate           0.668706\n",
       "Flight Test                   0.489740\n",
       "Skydiving                     0.220081\n",
       "External Load                 0.148736\n",
       "Public Aircraft - Federal     0.126970\n",
       "Banner Tow                    0.122133\n",
       "Air Race show                 0.119714\n",
       "Public Aircraft - Local       0.089483\n",
       "Public Aircraft - State       0.077391\n",
       "Air Race/show                 0.071345\n",
       "Glider Tow                    0.064089\n",
       "Firefighting                  0.048369\n",
       "Air Drop                      0.013302\n",
       "ASHO                          0.007255\n",
       "PUBS                          0.004837\n",
       "PUBL                          0.001209\n",
       "Name: proportion, dtype: float64"
      ]
     },
     "execution_count": 47,
     "metadata": {},
     "output_type": "execute_result"
    }
   ],
   "source": [
    "cleaned_df['Purpose.of.flight'].value_counts(normalize=True)*100\n",
    "\n",
    "# fill missing values with unknown"
   ]
  },
  {
   "cell_type": "code",
   "execution_count": 48,
   "metadata": {},
   "outputs": [],
   "source": [
    "cleaned_df['Purpose.of.flight']= cleaned_df['Purpose.of.flight'].fillna('Unknown')"
   ]
  },
  {
   "cell_type": "code",
   "execution_count": 49,
   "metadata": {},
   "outputs": [
    {
     "name": "stdout",
     "output_type": "stream",
     "text": [
      "<class 'pandas.core.frame.DataFrame'>\n",
      "RangeIndex: 88889 entries, 0 to 88888\n",
      "Data columns (total 20 columns):\n",
      " #   Column                  Non-Null Count  Dtype  \n",
      "---  ------                  --------------  -----  \n",
      " 0   Event.Id                88889 non-null  object \n",
      " 1   Investigation.Type      88889 non-null  object \n",
      " 2   Accident.Number         88889 non-null  object \n",
      " 3   Event.Date              88889 non-null  object \n",
      " 4   Location                88889 non-null  object \n",
      " 5   Country                 88889 non-null  object \n",
      " 6   Injury.Severity         88889 non-null  object \n",
      " 7   Aircraft.damage         88889 non-null  object \n",
      " 8   Make                    88889 non-null  object \n",
      " 9   Model                   88889 non-null  object \n",
      " 10  Amateur.Built           88889 non-null  object \n",
      " 11  Number.of.Engines       88889 non-null  float64\n",
      " 12  Engine.Type             88889 non-null  object \n",
      " 13  Purpose.of.flight       88889 non-null  object \n",
      " 14  Total.Fatal.Injuries    88889 non-null  float64\n",
      " 15  Total.Serious.Injuries  88889 non-null  float64\n",
      " 16  Total.Minor.Injuries    88889 non-null  float64\n",
      " 17  Total.Uninjured         88889 non-null  float64\n",
      " 18  Weather.Condition       88889 non-null  object \n",
      " 19  Report.Status           82505 non-null  object \n",
      "dtypes: float64(5), object(15)\n",
      "memory usage: 13.6+ MB\n"
     ]
    }
   ],
   "source": [
    "cleaned_df.info()"
   ]
  },
  {
   "cell_type": "code",
   "execution_count": 50,
   "metadata": {},
   "outputs": [
    {
     "data": {
      "application/vnd.microsoft.datawrangler.viewer.v0+json": {
       "columns": [
        {
         "name": "Report.Status",
         "rawType": "object",
         "type": "string"
        },
        {
         "name": "count",
         "rawType": "int64",
         "type": "integer"
        }
       ],
       "ref": "76b5c5c9-8635-407b-929e-e45e25c803e2",
       "rows": [
        [
         "Probable Cause",
         "61754"
        ],
        [
         "Foreign",
         "1999"
        ],
        [
         "<br /><br />",
         "167"
        ],
        [
         "Factual",
         "145"
        ],
        [
         "The pilot's failure to maintain directional control during the landing roll.",
         "58"
        ],
        [
         "A loss of engine power for undetermined reasons.",
         "53"
        ],
        [
         "The pilot's failure to maintain directional control during landing.",
         "50"
        ],
        [
         "A total loss of engine power for undetermined reasons.",
         "45"
        ],
        [
         "The loss of engine power for undetermined reasons.",
         "31"
        ],
        [
         "The pilots failure to maintain directional control during the landing roll.",
         "24"
        ],
        [
         "The pilots failure to maintain directional control during landing.",
         "23"
        ],
        [
         "The pilots failure to maintain directional control during the landing roll.\r\n\r",
         "21"
        ],
        [
         "The pilot's failure to maintain directional control during takeoff.",
         "19"
        ],
        [
         "The pilot's improper recovery from a bounced landing.",
         "19"
        ],
        [
         "The pilot's failure to maintain directional control of the airplane during landing.",
         "18"
        ],
        [
         "None.",
         "17"
        ],
        [
         "The student pilot's improper recovery from a bounced landing.",
         "16"
        ],
        [
         ".",
         "16"
        ],
        [
         "The pilot's improper landing flare, which resulted in a hard landing.",
         "16"
        ],
        [
         "The pilot's failure to maintain directional control during the takeoff roll.",
         "15"
        ],
        [
         "Preliminary",
         "15"
        ],
        [
         "A partial loss of engine power for undetermined reasons.",
         "14"
        ],
        [
         "A total loss of engine power for reasons that could not be determined based on the available information.",
         "13"
        ],
        [
         "The pilots failure to maintain directional control during landing.\r\n\r",
         "12"
        ],
        [
         "The pilot's improper fuel management, which resulted in a loss of engine power due to fuel exhaustion.",
         "11"
        ],
        [
         "an inadvertent encounter with clear air turbulence.",
         "11"
        ],
        [
         "The student pilot's improper flare, which resulted in a hard landing.",
         "10"
        ],
        [
         "The pilots improper landing flare, which resulted in a hard landing.\r\n\r",
         "10"
        ],
        [
         "A loss of engine power for reasons that could not be determined based on the available information.",
         "10"
        ],
        [
         "A partial loss of engine power for reasons that could not be determined based on the available information.",
         "10"
        ],
        [
         "The pilot's failure to maintain directional control during the landing roll, which resulted in a ground loop.",
         "9"
        ],
        [
         "The pilot's loss of directional control during landing.",
         "9"
        ],
        [
         "The pilot's failure to maintain directional control while landing.",
         "9"
        ],
        [
         "The student pilot's failure to maintain directional control during takeoff.",
         "9"
        ],
        [
         "The pilots improper fuel management, which resulted in a loss of engine power due to fuel exhaustion.",
         "9"
        ],
        [
         "The pilots failure to maintain directional control during takeoff.",
         "9"
        ],
        [
         "The pilot's selection of unsuitable terrain for landing.",
         "9"
        ],
        [
         "The pilots improper recovery from a bounced landing.",
         "8"
        ],
        [
         "The pilot's failure to maintain directional control of the airplane during the landing roll.",
         "8"
        ],
        [
         "The pilot's failure to maintain directional control.",
         "8"
        ],
        [
         "The pilot's improper fuel management, which resulted in a loss of engine power due to fuel starvation.",
         "7"
        ],
        [
         "The total loss of engine power for undetermined reasons.",
         "7"
        ],
        [
         "The pilot's failure to maintain directional control during the landing roll, which resulted in a runway excursion.",
         "7"
        ],
        [
         "The pilot's improper flare, which resulted in a hard landing.",
         "7"
        ],
        [
         "The student pilot's failure to maintain directional control during landing.",
         "7"
        ],
        [
         "The pilot's failure to maintain directional control while landing with a crosswind.",
         "7"
        ],
        [
         "The pilot's inadequate flare, which resulted in a hard landing.",
         "7"
        ],
        [
         "The loss of engine power due to fuel starvation.",
         "7"
        ],
        [
         "The pilot's improper landing flare and inadequate recovery from a bounced landing.",
         "7"
        ],
        [
         "The pilot's failure to maintain directional control during the landing.",
         "7"
        ]
       ],
       "shape": {
        "columns": 1,
        "rows": 17006
       }
      },
      "text/plain": [
       "Report.Status\n",
       "Probable Cause                                                                                                                                                                                        61754\n",
       "Foreign                                                                                                                                                                                                1999\n",
       "<br /><br />                                                                                                                                                                                            167\n",
       "Factual                                                                                                                                                                                                 145\n",
       "The pilot's failure to maintain directional control during the landing roll.                                                                                                                             58\n",
       "                                                                                                                                                                                                      ...  \n",
       "The pilot's failure to maintain adequate airspeed, which resulted in an aerodynamic stall. Contributing to the accident was a partial loss of engine power due to the formation of carburetor ice.        1\n",
       "The certified flight instructor did not select an adequate landing site for the practice autorotation.                                                                                                    1\n",
       "The failure of the compressor section No. 2 bearing due to false brinnelling and fatigue.                                                                                                                 1\n",
       "The flight's encounter with known severe turbulence associated with mountain wave activity, which resulted in a flight attendant sustaining a broken ankle.                                               1\n",
       "The pilots loss of control due to a wind gust during landing.                                                                                                                                            1\n",
       "Name: count, Length: 17006, dtype: int64"
      ]
     },
     "execution_count": 50,
     "metadata": {},
     "output_type": "execute_result"
    }
   ],
   "source": [
    "cleaned_df['Report.Status'].value_counts()\n",
    "\n",
    "#drop this column"
   ]
  },
  {
   "cell_type": "code",
   "execution_count": 51,
   "metadata": {},
   "outputs": [],
   "source": [
    "cleaned_df = cleaned_df.drop(columns=['Report.Status'])\n"
   ]
  },
  {
   "cell_type": "code",
   "execution_count": 52,
   "metadata": {},
   "outputs": [
    {
     "name": "stdout",
     "output_type": "stream",
     "text": [
      "<class 'pandas.core.frame.DataFrame'>\n",
      "RangeIndex: 88889 entries, 0 to 88888\n",
      "Data columns (total 19 columns):\n",
      " #   Column                  Non-Null Count  Dtype  \n",
      "---  ------                  --------------  -----  \n",
      " 0   Event.Id                88889 non-null  object \n",
      " 1   Investigation.Type      88889 non-null  object \n",
      " 2   Accident.Number         88889 non-null  object \n",
      " 3   Event.Date              88889 non-null  object \n",
      " 4   Location                88889 non-null  object \n",
      " 5   Country                 88889 non-null  object \n",
      " 6   Injury.Severity         88889 non-null  object \n",
      " 7   Aircraft.damage         88889 non-null  object \n",
      " 8   Make                    88889 non-null  object \n",
      " 9   Model                   88889 non-null  object \n",
      " 10  Amateur.Built           88889 non-null  object \n",
      " 11  Number.of.Engines       88889 non-null  float64\n",
      " 12  Engine.Type             88889 non-null  object \n",
      " 13  Purpose.of.flight       88889 non-null  object \n",
      " 14  Total.Fatal.Injuries    88889 non-null  float64\n",
      " 15  Total.Serious.Injuries  88889 non-null  float64\n",
      " 16  Total.Minor.Injuries    88889 non-null  float64\n",
      " 17  Total.Uninjured         88889 non-null  float64\n",
      " 18  Weather.Condition       88889 non-null  object \n",
      "dtypes: float64(5), object(14)\n",
      "memory usage: 12.9+ MB\n"
     ]
    }
   ],
   "source": [
    "cleaned_df.info()"
   ]
  },
  {
   "cell_type": "code",
   "execution_count": 53,
   "metadata": {},
   "outputs": [],
   "source": [
    "# exporting the cleaned data to csv for visualization and further Analysis \n",
    "cleaned_df.to_csv('cleaned_aircraft_data.csv', index=False)\n"
   ]
  },
  {
   "cell_type": "markdown",
   "metadata": {},
   "source": [
    " ## Core Analysis Directions"
   ]
  },
  {
   "cell_type": "code",
   "execution_count": 54,
   "metadata": {},
   "outputs": [
    {
     "data": {
      "application/vnd.microsoft.datawrangler.viewer.v0+json": {
       "columns": [
        {
         "name": "index",
         "rawType": "int64",
         "type": "integer"
        },
        {
         "name": "Event.Id",
         "rawType": "object",
         "type": "string"
        },
        {
         "name": "Investigation.Type",
         "rawType": "object",
         "type": "string"
        },
        {
         "name": "Accident.Number",
         "rawType": "object",
         "type": "string"
        },
        {
         "name": "Event.Date",
         "rawType": "object",
         "type": "string"
        },
        {
         "name": "Location",
         "rawType": "object",
         "type": "string"
        },
        {
         "name": "Country",
         "rawType": "object",
         "type": "string"
        },
        {
         "name": "Injury.Severity",
         "rawType": "object",
         "type": "string"
        },
        {
         "name": "Aircraft.damage",
         "rawType": "object",
         "type": "string"
        },
        {
         "name": "Make",
         "rawType": "object",
         "type": "string"
        },
        {
         "name": "Model",
         "rawType": "object",
         "type": "string"
        },
        {
         "name": "Amateur.Built",
         "rawType": "object",
         "type": "string"
        },
        {
         "name": "Number.of.Engines",
         "rawType": "float64",
         "type": "float"
        },
        {
         "name": "Engine.Type",
         "rawType": "object",
         "type": "string"
        },
        {
         "name": "Purpose.of.flight",
         "rawType": "object",
         "type": "string"
        },
        {
         "name": "Total.Fatal.Injuries",
         "rawType": "float64",
         "type": "float"
        },
        {
         "name": "Total.Serious.Injuries",
         "rawType": "float64",
         "type": "float"
        },
        {
         "name": "Total.Minor.Injuries",
         "rawType": "float64",
         "type": "float"
        },
        {
         "name": "Total.Uninjured",
         "rawType": "float64",
         "type": "float"
        },
        {
         "name": "Weather.Condition",
         "rawType": "object",
         "type": "string"
        }
       ],
       "ref": "c1d77941-f453-4f9d-9b28-5f5213798b25",
       "rows": [
        [
         "0",
         "20001218X45444",
         "Accident",
         "SEA87LA080",
         "10/24/1948",
         "MOOSE CREEK, ID",
         "United States",
         "Fatal(2)",
         "Destroyed",
         "Stinson",
         "108-3",
         "No",
         "1.0",
         "Reciprocating",
         "Personal",
         "2.0",
         "0.0",
         "0.0",
         "0.0",
         "UNK"
        ],
        [
         "1",
         "20001218X45447",
         "Accident",
         "LAX94LA336",
         "7/19/1962",
         "BRIDGEPORT, CA",
         "United States",
         "Fatal(4)",
         "Destroyed",
         "Piper",
         "PA24-180",
         "No",
         "1.0",
         "Reciprocating",
         "Personal",
         "4.0",
         "0.0",
         "0.0",
         "0.0",
         "UNK"
        ],
        [
         "2",
         "20061025X01555",
         "Accident",
         "NYC07LA005",
         "8/30/1974",
         "Saltville, VA",
         "United States",
         "Fatal(3)",
         "Destroyed",
         "Cessna",
         "172M",
         "No",
         "1.0",
         "Reciprocating",
         "Personal",
         "3.0",
         "0.0",
         "0.0",
         "0.0",
         "IMC"
        ],
        [
         "3",
         "20001218X45448",
         "Accident",
         "LAX96LA321",
         "6/19/1977",
         "EUREKA, CA",
         "United States",
         "Fatal(2)",
         "Destroyed",
         "Rockwell",
         "112",
         "No",
         "1.0",
         "Reciprocating",
         "Personal",
         "2.0",
         "0.0",
         "0.0",
         "0.0",
         "IMC"
        ],
        [
         "4",
         "20041105X01764",
         "Accident",
         "CHI79FA064",
         "8/2/1979",
         "Canton, OH",
         "United States",
         "Fatal(1)",
         "Destroyed",
         "Cessna",
         "501",
         "No",
         "1.0",
         "Reciprocating",
         "Personal",
         "1.0",
         "2.0",
         "0.0",
         "0.0",
         "VMC"
        ]
       ],
       "shape": {
        "columns": 19,
        "rows": 5
       }
      },
      "text/html": [
       "<div>\n",
       "<style scoped>\n",
       "    .dataframe tbody tr th:only-of-type {\n",
       "        vertical-align: middle;\n",
       "    }\n",
       "\n",
       "    .dataframe tbody tr th {\n",
       "        vertical-align: top;\n",
       "    }\n",
       "\n",
       "    .dataframe thead th {\n",
       "        text-align: right;\n",
       "    }\n",
       "</style>\n",
       "<table border=\"1\" class=\"dataframe\">\n",
       "  <thead>\n",
       "    <tr style=\"text-align: right;\">\n",
       "      <th></th>\n",
       "      <th>Event.Id</th>\n",
       "      <th>Investigation.Type</th>\n",
       "      <th>Accident.Number</th>\n",
       "      <th>Event.Date</th>\n",
       "      <th>Location</th>\n",
       "      <th>Country</th>\n",
       "      <th>Injury.Severity</th>\n",
       "      <th>Aircraft.damage</th>\n",
       "      <th>Make</th>\n",
       "      <th>Model</th>\n",
       "      <th>Amateur.Built</th>\n",
       "      <th>Number.of.Engines</th>\n",
       "      <th>Engine.Type</th>\n",
       "      <th>Purpose.of.flight</th>\n",
       "      <th>Total.Fatal.Injuries</th>\n",
       "      <th>Total.Serious.Injuries</th>\n",
       "      <th>Total.Minor.Injuries</th>\n",
       "      <th>Total.Uninjured</th>\n",
       "      <th>Weather.Condition</th>\n",
       "    </tr>\n",
       "  </thead>\n",
       "  <tbody>\n",
       "    <tr>\n",
       "      <th>0</th>\n",
       "      <td>20001218X45444</td>\n",
       "      <td>Accident</td>\n",
       "      <td>SEA87LA080</td>\n",
       "      <td>10/24/1948</td>\n",
       "      <td>MOOSE CREEK, ID</td>\n",
       "      <td>United States</td>\n",
       "      <td>Fatal(2)</td>\n",
       "      <td>Destroyed</td>\n",
       "      <td>Stinson</td>\n",
       "      <td>108-3</td>\n",
       "      <td>No</td>\n",
       "      <td>1.0</td>\n",
       "      <td>Reciprocating</td>\n",
       "      <td>Personal</td>\n",
       "      <td>2.0</td>\n",
       "      <td>0.0</td>\n",
       "      <td>0.0</td>\n",
       "      <td>0.0</td>\n",
       "      <td>UNK</td>\n",
       "    </tr>\n",
       "    <tr>\n",
       "      <th>1</th>\n",
       "      <td>20001218X45447</td>\n",
       "      <td>Accident</td>\n",
       "      <td>LAX94LA336</td>\n",
       "      <td>7/19/1962</td>\n",
       "      <td>BRIDGEPORT, CA</td>\n",
       "      <td>United States</td>\n",
       "      <td>Fatal(4)</td>\n",
       "      <td>Destroyed</td>\n",
       "      <td>Piper</td>\n",
       "      <td>PA24-180</td>\n",
       "      <td>No</td>\n",
       "      <td>1.0</td>\n",
       "      <td>Reciprocating</td>\n",
       "      <td>Personal</td>\n",
       "      <td>4.0</td>\n",
       "      <td>0.0</td>\n",
       "      <td>0.0</td>\n",
       "      <td>0.0</td>\n",
       "      <td>UNK</td>\n",
       "    </tr>\n",
       "    <tr>\n",
       "      <th>2</th>\n",
       "      <td>20061025X01555</td>\n",
       "      <td>Accident</td>\n",
       "      <td>NYC07LA005</td>\n",
       "      <td>8/30/1974</td>\n",
       "      <td>Saltville, VA</td>\n",
       "      <td>United States</td>\n",
       "      <td>Fatal(3)</td>\n",
       "      <td>Destroyed</td>\n",
       "      <td>Cessna</td>\n",
       "      <td>172M</td>\n",
       "      <td>No</td>\n",
       "      <td>1.0</td>\n",
       "      <td>Reciprocating</td>\n",
       "      <td>Personal</td>\n",
       "      <td>3.0</td>\n",
       "      <td>0.0</td>\n",
       "      <td>0.0</td>\n",
       "      <td>0.0</td>\n",
       "      <td>IMC</td>\n",
       "    </tr>\n",
       "    <tr>\n",
       "      <th>3</th>\n",
       "      <td>20001218X45448</td>\n",
       "      <td>Accident</td>\n",
       "      <td>LAX96LA321</td>\n",
       "      <td>6/19/1977</td>\n",
       "      <td>EUREKA, CA</td>\n",
       "      <td>United States</td>\n",
       "      <td>Fatal(2)</td>\n",
       "      <td>Destroyed</td>\n",
       "      <td>Rockwell</td>\n",
       "      <td>112</td>\n",
       "      <td>No</td>\n",
       "      <td>1.0</td>\n",
       "      <td>Reciprocating</td>\n",
       "      <td>Personal</td>\n",
       "      <td>2.0</td>\n",
       "      <td>0.0</td>\n",
       "      <td>0.0</td>\n",
       "      <td>0.0</td>\n",
       "      <td>IMC</td>\n",
       "    </tr>\n",
       "    <tr>\n",
       "      <th>4</th>\n",
       "      <td>20041105X01764</td>\n",
       "      <td>Accident</td>\n",
       "      <td>CHI79FA064</td>\n",
       "      <td>8/2/1979</td>\n",
       "      <td>Canton, OH</td>\n",
       "      <td>United States</td>\n",
       "      <td>Fatal(1)</td>\n",
       "      <td>Destroyed</td>\n",
       "      <td>Cessna</td>\n",
       "      <td>501</td>\n",
       "      <td>No</td>\n",
       "      <td>1.0</td>\n",
       "      <td>Reciprocating</td>\n",
       "      <td>Personal</td>\n",
       "      <td>1.0</td>\n",
       "      <td>2.0</td>\n",
       "      <td>0.0</td>\n",
       "      <td>0.0</td>\n",
       "      <td>VMC</td>\n",
       "    </tr>\n",
       "  </tbody>\n",
       "</table>\n",
       "</div>"
      ],
      "text/plain": [
       "         Event.Id Investigation.Type Accident.Number  Event.Date  \\\n",
       "0  20001218X45444           Accident      SEA87LA080  10/24/1948   \n",
       "1  20001218X45447           Accident      LAX94LA336   7/19/1962   \n",
       "2  20061025X01555           Accident      NYC07LA005   8/30/1974   \n",
       "3  20001218X45448           Accident      LAX96LA321   6/19/1977   \n",
       "4  20041105X01764           Accident      CHI79FA064    8/2/1979   \n",
       "\n",
       "          Location        Country Injury.Severity Aircraft.damage      Make  \\\n",
       "0  MOOSE CREEK, ID  United States        Fatal(2)       Destroyed   Stinson   \n",
       "1   BRIDGEPORT, CA  United States        Fatal(4)       Destroyed     Piper   \n",
       "2    Saltville, VA  United States        Fatal(3)       Destroyed    Cessna   \n",
       "3       EUREKA, CA  United States        Fatal(2)       Destroyed  Rockwell   \n",
       "4       Canton, OH  United States        Fatal(1)       Destroyed    Cessna   \n",
       "\n",
       "      Model Amateur.Built  Number.of.Engines    Engine.Type Purpose.of.flight  \\\n",
       "0     108-3            No                1.0  Reciprocating          Personal   \n",
       "1  PA24-180            No                1.0  Reciprocating          Personal   \n",
       "2      172M            No                1.0  Reciprocating          Personal   \n",
       "3       112            No                1.0  Reciprocating          Personal   \n",
       "4       501            No                1.0  Reciprocating          Personal   \n",
       "\n",
       "   Total.Fatal.Injuries  Total.Serious.Injuries  Total.Minor.Injuries  \\\n",
       "0                   2.0                     0.0                   0.0   \n",
       "1                   4.0                     0.0                   0.0   \n",
       "2                   3.0                     0.0                   0.0   \n",
       "3                   2.0                     0.0                   0.0   \n",
       "4                   1.0                     2.0                   0.0   \n",
       "\n",
       "   Total.Uninjured Weather.Condition  \n",
       "0              0.0               UNK  \n",
       "1              0.0               UNK  \n",
       "2              0.0               IMC  \n",
       "3              0.0               IMC  \n",
       "4              0.0               VMC  "
      ]
     },
     "execution_count": 54,
     "metadata": {},
     "output_type": "execute_result"
    }
   ],
   "source": [
    "df1 = pd.read_csv('cleaned_aircraft_data.csv')\n",
    "df1.head()"
   ]
  },
  {
   "cell_type": "code",
   "execution_count": 55,
   "metadata": {},
   "outputs": [
    {
     "name": "stdout",
     "output_type": "stream",
     "text": [
      "Injury Severity Distribution:\n",
      "Injury.Severity\n",
      "Non-Fatal     67357\n",
      "Fatal(1)       6167\n",
      "Fatal          5262\n",
      "Fatal(2)       3711\n",
      "Incident       2219\n",
      "              ...  \n",
      "Fatal(60)         1\n",
      "Fatal(270)        1\n",
      "Fatal(143)        1\n",
      "Fatal(83)         1\n",
      "Fatal(189)        1\n",
      "Name: count, Length: 109, dtype: int64\n",
      "\n",
      "Aircraft Damage Distribution:\n",
      "Aircraft.damage\n",
      "Substantial    64148\n",
      "Destroyed      18623\n",
      "Minor           2805\n",
      "Unknown          119\n",
      "Name: count, dtype: int64\n",
      "\n",
      "Top 10 Aircraft Makes:\n",
      "Make\n",
      "Cessna     22227\n",
      "Piper      12029\n",
      "CESSNA      4922\n",
      "Beech       4330\n",
      "PIPER       2841\n",
      "Bell        2134\n",
      "Boeing      1594\n",
      "BOEING      1151\n",
      "Grumman     1094\n",
      "Mooney      1092\n",
      "Name: count, dtype: int64\n",
      "\n",
      "Flight Purpose Distribution:\n",
      "Purpose.of.flight\n",
      "Personal                     49448\n",
      "Instructional                10601\n",
      "Unknown                       6802\n",
      "Aerial Application            4712\n",
      "Business                      4018\n",
      "Positioning                   1646\n",
      "Other Work Use                1264\n",
      "Ferry                          812\n",
      "Aerial Observation             794\n",
      "Public Aircraft                720\n",
      "Executive/corporate            553\n",
      "Flight Test                    405\n",
      "Skydiving                      182\n",
      "External Load                  123\n",
      "Public Aircraft - Federal      105\n",
      "Banner Tow                     101\n",
      "Air Race show                   99\n",
      "Public Aircraft - Local         74\n",
      "Public Aircraft - State         64\n",
      "Air Race/show                   59\n",
      "Glider Tow                      53\n",
      "Firefighting                    40\n",
      "Air Drop                        11\n",
      "ASHO                             6\n",
      "PUBS                             4\n",
      "PUBL                             1\n",
      "Name: count, dtype: int64\n"
     ]
    }
   ],
   "source": [
    "# Check basic statistics and value distributions\n",
    "print(\"Injury Severity Distribution:\")\n",
    "print(df['Injury.Severity'].value_counts())\n",
    "\n",
    "print(\"\\nAircraft Damage Distribution:\")\n",
    "print(df['Aircraft.damage'].value_counts())\n",
    "\n",
    "print(\"\\nTop 10 Aircraft Makes:\")\n",
    "print(df['Make'].value_counts().head(10))\n",
    "\n",
    "print(\"\\nFlight Purpose Distribution:\")\n",
    "print(df['Purpose.of.flight'].value_counts())"
   ]
  },
  {
   "cell_type": "code",
   "execution_count": 56,
   "metadata": {},
   "outputs": [],
   "source": [
    "# Group by Make/Model to calculate safety metrics\n",
    "aircraft_safety = df.groupby(['Make', 'Model']).agg({\n",
    "    'Total.Fatal.Injuries': 'sum',\n",
    "    'Total.Serious.Injuries': 'sum',\n",
    "    'Total.Minor.Injuries': 'sum', \n",
    "    'Total.Uninjured': 'sum',\n",
    "    'Event.Id': 'count'  # Total incidents\n",
    "}).rename(columns={'Event.Id': 'Total_Incidents'})"
   ]
  },
  {
   "cell_type": "code",
   "execution_count": 57,
   "metadata": {},
   "outputs": [],
   "source": [
    "# Calculate safety ratios using original column names\n",
    "aircraft_safety['Survival_Rate'] = aircraft_safety['Total.Uninjured'] / (\n",
    "    aircraft_safety['Total.Fatal.Injuries'] + aircraft_safety['Total.Serious.Injuries'] + \n",
    "    aircraft_safety['Total.Minor.Injuries'] + aircraft_safety['Total.Uninjured']\n",
    ")\n",
    "aircraft_safety['Fatality_Rate'] = aircraft_safety['Total.Fatal.Injuries'] / (\n",
    "    aircraft_safety['Total.Fatal.Injuries'] + aircraft_safety['Total.Serious.Injuries'] + \n",
    "    aircraft_safety['Total.Minor.Injuries'] + aircraft_safety['Total.Uninjured']\n",
    ")\n"
   ]
  },
  {
   "cell_type": "code",
   "execution_count": 58,
   "metadata": {},
   "outputs": [
    {
     "name": "stdout",
     "output_type": "stream",
     "text": [
      "Safety analysis completed!\n",
      "Analyzed 20135 unique aircraft models\n"
     ]
    }
   ],
   "source": [
    "# Handle division by zero\n",
    "aircraft_safety = aircraft_safety.fillna(0)\n",
    "\n",
    "# Reset index to make Make and Model regular columns\n",
    "aircraft_safety = aircraft_safety.reset_index()\n",
    "\n",
    "print(\"Safety analysis completed!\")\n",
    "print(f\"Analyzed {len(aircraft_safety)} unique aircraft models\")"
   ]
  },
  {
   "cell_type": "code",
   "execution_count": 59,
   "metadata": {},
   "outputs": [],
   "source": [
    "# Convert Event.Date to datetime and extract year\n",
    "df['Event.Date'] = pd.to_datetime(df['Event.Date'])\n",
    "df['Year'] = df['Event.Date'].dt.year"
   ]
  },
  {
   "cell_type": "code",
   "execution_count": 60,
   "metadata": {},
   "outputs": [
    {
     "data": {
      "application/vnd.microsoft.datawrangler.viewer.v0+json": {
       "columns": [
        {
         "name": "Weather.Condition",
         "rawType": "object",
         "type": "string"
        },
        {
         "name": "count",
         "rawType": "int64",
         "type": "integer"
        }
       ],
       "ref": "766d1421-c2d0-40e1-a2d0-38ef485f3864",
       "rows": [
        [
         "VMC",
         "81795"
        ],
        [
         "IMC",
         "5976"
        ],
        [
         "UNK",
         "856"
        ],
        [
         "Unk",
         "262"
        ]
       ],
       "shape": {
        "columns": 1,
        "rows": 4
       }
      },
      "text/plain": [
       "Weather.Condition\n",
       "VMC    81795\n",
       "IMC     5976\n",
       "UNK      856\n",
       "Unk      262\n",
       "Name: count, dtype: int64"
      ]
     },
     "execution_count": 60,
     "metadata": {},
     "output_type": "execute_result"
    }
   ],
   "source": [
    "df1['Weather.Condition'].value_counts()"
   ]
  },
  {
   "cell_type": "code",
   "execution_count": 61,
   "metadata": {},
   "outputs": [
    {
     "name": "stdout",
     "output_type": "stream",
     "text": [
      "Weather Condition value counts after standardization:\n",
      "Weather.Condition\n",
      "VMC    81795\n",
      "IMC     5976\n",
      "UNK     1118\n",
      "Name: count, dtype: int64\n"
     ]
    }
   ],
   "source": [
    "# Standardize Weather.Condition - convert all 'unk' variations to 'UNK'\n",
    "def standardize_weather(weather):\n",
    "    if pd.isna(weather):\n",
    "        return 'UNK'\n",
    "    weather_str = str(weather).strip()\n",
    "    if weather_str.lower() in ['unk', 'unknown']:\n",
    "        return 'UNK'\n",
    "    return weather_str\n",
    "\n",
    "# Apply the standardization\n",
    "cleaned_df['Weather.Condition'] = cleaned_df['Weather.Condition'].apply(standardize_weather)\n",
    "\n",
    "# Verify the changes\n",
    "print(\"Weather Condition value counts after standardization:\")\n",
    "print(cleaned_df['Weather.Condition'].value_counts())"
   ]
  },
  {
   "cell_type": "code",
   "execution_count": 62,
   "metadata": {},
   "outputs": [],
   "source": [
    "def calculate_safety_score(group):\n",
    "    total_fatal = group['Total.Fatal.Injuries'].sum()\n",
    "    total_serious = group['Total.Serious.Injuries'].sum()\n",
    "    total_minor = group['Total.Minor.Injuries'].sum()\n",
    "    total_uninjured = group['Total.Uninjured'].sum()\n",
    "    total_incidents = group['Event.Id'].count()\n",
    "    \n",
    "    # Avoid division by zero\n",
    "    total_people = total_fatal + total_serious + total_minor + total_uninjured\n",
    "    if total_people == 0:\n",
    "        survival_rate = 0\n",
    "        fatality_rate = 0\n",
    "    else:\n",
    "        survival_rate = total_uninjured / total_people\n",
    "        fatality_rate = total_fatal / total_people\n",
    "    \n",
    "    return pd.Series({\n",
    "        'Total_Incidents': total_incidents,\n",
    "        'Total_Fatal_Injuries': total_fatal,\n",
    "        'Total_Serious_Injuries': total_serious,\n",
    "        'Total_Minor_Injuries': total_minor,\n",
    "        'Total_Uninjured': total_uninjured,\n",
    "        'Survival_Rate': survival_rate,\n",
    "        'Fatality_Rate': fatality_rate\n",
    "    })"
   ]
  },
  {
   "cell_type": "code",
   "execution_count": 63,
   "metadata": {},
   "outputs": [
    {
     "name": "stdout",
     "output_type": "stream",
     "text": [
      "Safety by Flight Purpose:\n",
      "            Purpose.of.flight  Survival_Rate  Fatality_Rate  Total_Incidents\n",
      "16                       PUBL       1.000000       0.000000              1.0\n",
      "25                    Unknown       0.900665       0.052957           6802.0\n",
      "21  Public Aircraft - Federal       0.735537       0.112948            105.0\n",
      "17                       PUBS       0.714286       0.000000              4.0\n",
      "14              Instructional       0.695527       0.105767          10601.0\n",
      "20            Public Aircraft       0.665737       0.161753            720.0\n",
      "19                Positioning       0.642836       0.192366           1646.0\n",
      "8         Executive/corporate       0.633255       0.235063            553.0\n",
      "1          Aerial Application       0.603032       0.112454           4712.0\n",
      "12                Flight Test       0.601043       0.169492            405.0\n",
      "7                    Business       0.600780       0.214743           4018.0\n",
      "24                  Skydiving       0.592949       0.250000            182.0\n",
      "15             Other Work Use       0.561603       0.152811           1264.0\n",
      "18                   Personal       0.551492       0.198784          49448.0\n",
      "22    Public Aircraft - Local       0.542373       0.073446             74.0\n",
      "13                 Glider Tow       0.484848       0.242424             53.0\n",
      "10                      Ferry       0.470326       0.286350            812.0\n",
      "6                  Banner Tow       0.464286       0.169643            101.0\n",
      "23    Public Aircraft - State       0.464286       0.164286             64.0\n",
      "2          Aerial Observation       0.464122       0.210687            794.0\n",
      "4               Air Race show       0.454545       0.293706             99.0\n",
      "9               External Load       0.401163       0.226744            123.0\n",
      "3                    Air Drop       0.384615       0.384615             11.0\n",
      "5               Air Race/show       0.368932       0.330097             59.0\n",
      "11               Firefighting       0.315789       0.486842             40.0\n",
      "0                        ASHO       0.062500       0.875000              6.0\n"
     ]
    }
   ],
   "source": [
    "# Analyze by flight purpose\n",
    "purpose_safety = df.groupby('Purpose.of.flight').apply(calculate_safety_score).reset_index()\n",
    "purpose_safety = purpose_safety.sort_values('Survival_Rate', ascending=False)\n",
    "print(\"Safety by Flight Purpose:\")\n",
    "print(purpose_safety[['Purpose.of.flight', 'Survival_Rate', 'Fatality_Rate', 'Total_Incidents']])"
   ]
  },
  {
   "cell_type": "code",
   "execution_count": 64,
   "metadata": {},
   "outputs": [
    {
     "name": "stdout",
     "output_type": "stream",
     "text": [
      "\n",
      "Safety by Weather Condition:\n",
      "  Weather.Condition  Survival_Rate  Fatality_Rate  Total_Incidents\n",
      "2               Unk       0.928524       0.042991            262.0\n",
      "3               VMC       0.821402       0.069183          77303.0\n",
      "1               UNK       0.763603       0.178428            856.0\n",
      "0               IMC       0.703767       0.209690           5976.0\n"
     ]
    }
   ],
   "source": [
    "# Analyze by weather condition\n",
    "weather_safety = df.groupby('Weather.Condition').apply(calculate_safety_score).reset_index()\n",
    "weather_safety = weather_safety.sort_values('Survival_Rate', ascending=False)\n",
    "print(\"\\nSafety by Weather Condition:\")\n",
    "print(weather_safety[['Weather.Condition', 'Survival_Rate', 'Fatality_Rate', 'Total_Incidents']])"
   ]
  },
  {
   "cell_type": "code",
   "execution_count": 65,
   "metadata": {},
   "outputs": [
    {
     "data": {
      "application/vnd.microsoft.datawrangler.viewer.v0+json": {
       "columns": [
        {
         "name": "index",
         "rawType": "int64",
         "type": "integer"
        },
        {
         "name": "Year",
         "rawType": "float64",
         "type": "float"
        },
        {
         "name": "Total_Incidents",
         "rawType": "float64",
         "type": "float"
        },
        {
         "name": "Total_Fatal_Injuries",
         "rawType": "float64",
         "type": "float"
        },
        {
         "name": "Total_Serious_Injuries",
         "rawType": "float64",
         "type": "float"
        },
        {
         "name": "Total_Minor_Injuries",
         "rawType": "float64",
         "type": "float"
        },
        {
         "name": "Total_Uninjured",
         "rawType": "float64",
         "type": "float"
        },
        {
         "name": "Survival_Rate",
         "rawType": "float64",
         "type": "float"
        },
        {
         "name": "Fatality_Rate",
         "rawType": "float64",
         "type": "float"
        }
       ],
       "ref": "abe4328a-c7d1-4c88-888b-5389baa53a91",
       "rows": [
        [
         "0",
         "1948.0",
         "1.0",
         "2.0",
         "0.0",
         "0.0",
         "0.0",
         "0.0",
         "1.0"
        ],
        [
         "1",
         "1962.0",
         "1.0",
         "4.0",
         "0.0",
         "0.0",
         "0.0",
         "0.0",
         "1.0"
        ],
        [
         "2",
         "1974.0",
         "1.0",
         "3.0",
         "0.0",
         "0.0",
         "0.0",
         "0.0",
         "1.0"
        ],
        [
         "3",
         "1977.0",
         "1.0",
         "2.0",
         "0.0",
         "0.0",
         "0.0",
         "0.0",
         "1.0"
        ],
        [
         "4",
         "1979.0",
         "2.0",
         "1.0",
         "2.0",
         "1.0",
         "44.0",
         "0.9166666666666666",
         "0.020833333333333332"
        ],
        [
         "5",
         "1981.0",
         "1.0",
         "4.0",
         "0.0",
         "0.0",
         "0.0",
         "0.0",
         "1.0"
        ],
        [
         "6",
         "1982.0",
         "3593.0",
         "1585.0",
         "727.0",
         "998.0",
         "8314.0",
         "0.715244322092223",
         "0.13635581555402615"
        ],
        [
         "7",
         "1983.0",
         "3556.0",
         "1273.0",
         "673.0",
         "1048.0",
         "15106.0",
         "0.834585635359116",
         "0.07033149171270718"
        ],
        [
         "8",
         "1984.0",
         "3457.0",
         "1229.0",
         "697.0",
         "1047.0",
         "12495.0",
         "0.8077967416602017",
         "0.07945435738298423"
        ],
        [
         "9",
         "1985.0",
         "3096.0",
         "1648.0",
         "612.0",
         "1108.0",
         "11292.0",
         "0.7702592087312414",
         "0.11241473396998636"
        ],
        [
         "10",
         "1986.0",
         "2880.0",
         "1180.0",
         "619.0",
         "970.0",
         "11890.0",
         "0.8111058053073197",
         "0.08049662323487278"
        ],
        [
         "11",
         "1987.0",
         "2828.0",
         "1237.0",
         "554.0",
         "936.0",
         "16021.0",
         "0.8545444847450395",
         "0.06598037123959889"
        ],
        [
         "12",
         "1988.0",
         "2730.0",
         "1195.0",
         "620.0",
         "1117.0",
         "14188.0",
         "0.8287383177570093",
         "0.06980140186915888"
        ],
        [
         "13",
         "1989.0",
         "2544.0",
         "1532.0",
         "518.0",
         "1029.0",
         "12221.0",
         "0.7987581699346405",
         "0.10013071895424837"
        ],
        [
         "14",
         "1990.0",
         "2518.0",
         "999.0",
         "589.0",
         "908.0",
         "8959.0",
         "0.7821038847664775",
         "0.0872108249672632"
        ],
        [
         "15",
         "1991.0",
         "2462.0",
         "1087.0",
         "535.0",
         "913.0",
         "8857.0",
         "0.7774754213483146",
         "0.09541783707865169"
        ],
        [
         "16",
         "1992.0",
         "2355.0",
         "1273.0",
         "609.0",
         "775.0",
         "9869.0",
         "0.7878812070892544",
         "0.10162861248602906"
        ],
        [
         "17",
         "1993.0",
         "2313.0",
         "865.0",
         "505.0",
         "910.0",
         "9431.0",
         "0.805311245837247",
         "0.07386218085560584"
        ],
        [
         "18",
         "1994.0",
         "2257.0",
         "1183.0",
         "529.0",
         "763.0",
         "7252.0",
         "0.7455536136527192",
         "0.12162023234296289"
        ],
        [
         "19",
         "1995.0",
         "2309.0",
         "1236.0",
         "480.0",
         "731.0",
         "11854.0",
         "0.8288930843996923",
         "0.08642752255087056"
        ],
        [
         "20",
         "1996.0",
         "2187.0",
         "2533.0",
         "532.0",
         "729.0",
         "12043.0",
         "0.7604344257119404",
         "0.1599419081896824"
        ],
        [
         "21",
         "1997.0",
         "2148.0",
         "1296.0",
         "497.0",
         "1026.0",
         "13538.0",
         "0.8276578834749648",
         "0.07923213303172953"
        ],
        [
         "22",
         "1998.0",
         "2226.0",
         "1325.0",
         "388.0",
         "807.0",
         "11660.0",
         "0.8222849083215797",
         "0.09344146685472496"
        ],
        [
         "23",
         "1999.0",
         "2209.0",
         "1221.0",
         "491.0",
         "1206.0",
         "11958.0",
         "0.8038451196558215",
         "0.08207851573003495"
        ],
        [
         "24",
         "2000.0",
         "2220.0",
         "1765.0",
         "501.0",
         "1256.0",
         "12991.0",
         "0.7867134984557621",
         "0.106885484163992"
        ],
        [
         "25",
         "2001.0",
         "2063.0",
         "1709.0",
         "478.0",
         "612.0",
         "9189.0",
         "0.7665165165165165",
         "0.14255922589255923"
        ],
        [
         "26",
         "2002.0",
         "2020.0",
         "1386.0",
         "432.0",
         "706.0",
         "9488.0",
         "0.7898767898767899",
         "0.11538461538461539"
        ],
        [
         "27",
         "2003.0",
         "2085.0",
         "1374.0",
         "480.0",
         "772.0",
         "9702.0",
         "0.7869889682024659",
         "0.11145360155743024"
        ],
        [
         "28",
         "2004.0",
         "1952.0",
         "978.0",
         "457.0",
         "603.0",
         "8248.0",
         "0.8018666148162551",
         "0.09508069220299437"
        ],
        [
         "29",
         "2005.0",
         "2031.0",
         "1689.0",
         "426.0",
         "620.0",
         "12946.0",
         "0.8255851029908807",
         "0.107709967476564"
        ],
        [
         "30",
         "2006.0",
         "1851.0",
         "1489.0",
         "420.0",
         "473.0",
         "10607.0",
         "0.8166140580491185",
         "0.1146354607745015"
        ],
        [
         "31",
         "2007.0",
         "2016.0",
         "1335.0",
         "402.0",
         "543.0",
         "12040.0",
         "0.840782122905028",
         "0.09322625698324022"
        ],
        [
         "32",
         "2008.0",
         "1893.0",
         "1201.0",
         "763.0",
         "407.0",
         "10478.0",
         "0.8154720211689626",
         "0.09347030897346097"
        ],
        [
         "33",
         "2009.0",
         "1783.0",
         "1184.0",
         "597.0",
         "371.0",
         "10095.0",
         "0.8242834979995101",
         "0.09667673716012085"
        ],
        [
         "34",
         "2010.0",
         "1786.0",
         "1370.0",
         "615.0",
         "333.0",
         "11083.0",
         "0.8270278337437504",
         "0.1022311767778524"
        ],
        [
         "35",
         "2011.0",
         "1850.0",
         "931.0",
         "479.0",
         "361.0",
         "14395.0",
         "0.8904490906841519",
         "0.05759000371149326"
        ],
        [
         "36",
         "2012.0",
         "1835.0",
         "1035.0",
         "451.0",
         "331.0",
         "11804.0",
         "0.8666030394244182",
         "0.07598561045444534"
        ],
        [
         "37",
         "2013.0",
         "1561.0",
         "822.0",
         "675.0",
         "348.0",
         "9161.0",
         "0.8323641650009086",
         "0.07468653461748137"
        ],
        [
         "38",
         "2014.0",
         "1535.0",
         "1428.0",
         "455.0",
         "313.0",
         "9733.0",
         "0.8159108055997988",
         "0.11970827395422919"
        ],
        [
         "39",
         "2015.0",
         "1582.0",
         "1101.0",
         "464.0",
         "346.0",
         "9711.0",
         "0.8355704697986577",
         "0.09473412493546722"
        ],
        [
         "40",
         "2016.0",
         "1664.0",
         "820.0",
         "488.0",
         "307.0",
         "10110.0",
         "0.8622601279317698",
         "0.06993603411513859"
        ],
        [
         "41",
         "2017.0",
         "1638.0",
         "640.0",
         "426.0",
         "285.0",
         "11987.0",
         "0.8987104513420303",
         "0.04798320587794272"
        ],
        [
         "42",
         "2018.0",
         "1681.0",
         "1044.0",
         "594.0",
         "343.0",
         "11039.0",
         "0.8478494623655914",
         "0.08018433179723503"
        ],
        [
         "43",
         "2019.0",
         "1624.0",
         "960.0",
         "386.0",
         "294.0",
         "8859.0",
         "0.8437946471092485",
         "0.0914372797409277"
        ],
        [
         "44",
         "2020.0",
         "1392.0",
         "770.0",
         "493.0",
         "264.0",
         "4570.0",
         "0.7495489585041823",
         "0.12629161882893225"
        ],
        [
         "45",
         "2021.0",
         "1545.0",
         "589.0",
         "346.0",
         "277.0",
         "6997.0",
         "0.8523571689608965",
         "0.07175051772444878"
        ],
        [
         "46",
         "2022.0",
         "1607.0",
         "668.0",
         "372.0",
         "291.0",
         "9664.0",
         "0.8789449749886312",
         "0.060754888585720784"
        ]
       ],
       "shape": {
        "columns": 8,
        "rows": 47
       }
      },
      "text/html": [
       "<div>\n",
       "<style scoped>\n",
       "    .dataframe tbody tr th:only-of-type {\n",
       "        vertical-align: middle;\n",
       "    }\n",
       "\n",
       "    .dataframe tbody tr th {\n",
       "        vertical-align: top;\n",
       "    }\n",
       "\n",
       "    .dataframe thead th {\n",
       "        text-align: right;\n",
       "    }\n",
       "</style>\n",
       "<table border=\"1\" class=\"dataframe\">\n",
       "  <thead>\n",
       "    <tr style=\"text-align: right;\">\n",
       "      <th></th>\n",
       "      <th>Year</th>\n",
       "      <th>Total_Incidents</th>\n",
       "      <th>Total_Fatal_Injuries</th>\n",
       "      <th>Total_Serious_Injuries</th>\n",
       "      <th>Total_Minor_Injuries</th>\n",
       "      <th>Total_Uninjured</th>\n",
       "      <th>Survival_Rate</th>\n",
       "      <th>Fatality_Rate</th>\n",
       "    </tr>\n",
       "  </thead>\n",
       "  <tbody>\n",
       "    <tr>\n",
       "      <th>0</th>\n",
       "      <td>1948.0</td>\n",
       "      <td>1.0</td>\n",
       "      <td>2.0</td>\n",
       "      <td>0.0</td>\n",
       "      <td>0.0</td>\n",
       "      <td>0.0</td>\n",
       "      <td>0.000000</td>\n",
       "      <td>1.000000</td>\n",
       "    </tr>\n",
       "    <tr>\n",
       "      <th>1</th>\n",
       "      <td>1962.0</td>\n",
       "      <td>1.0</td>\n",
       "      <td>4.0</td>\n",
       "      <td>0.0</td>\n",
       "      <td>0.0</td>\n",
       "      <td>0.0</td>\n",
       "      <td>0.000000</td>\n",
       "      <td>1.000000</td>\n",
       "    </tr>\n",
       "    <tr>\n",
       "      <th>2</th>\n",
       "      <td>1974.0</td>\n",
       "      <td>1.0</td>\n",
       "      <td>3.0</td>\n",
       "      <td>0.0</td>\n",
       "      <td>0.0</td>\n",
       "      <td>0.0</td>\n",
       "      <td>0.000000</td>\n",
       "      <td>1.000000</td>\n",
       "    </tr>\n",
       "    <tr>\n",
       "      <th>3</th>\n",
       "      <td>1977.0</td>\n",
       "      <td>1.0</td>\n",
       "      <td>2.0</td>\n",
       "      <td>0.0</td>\n",
       "      <td>0.0</td>\n",
       "      <td>0.0</td>\n",
       "      <td>0.000000</td>\n",
       "      <td>1.000000</td>\n",
       "    </tr>\n",
       "    <tr>\n",
       "      <th>4</th>\n",
       "      <td>1979.0</td>\n",
       "      <td>2.0</td>\n",
       "      <td>1.0</td>\n",
       "      <td>2.0</td>\n",
       "      <td>1.0</td>\n",
       "      <td>44.0</td>\n",
       "      <td>0.916667</td>\n",
       "      <td>0.020833</td>\n",
       "    </tr>\n",
       "    <tr>\n",
       "      <th>5</th>\n",
       "      <td>1981.0</td>\n",
       "      <td>1.0</td>\n",
       "      <td>4.0</td>\n",
       "      <td>0.0</td>\n",
       "      <td>0.0</td>\n",
       "      <td>0.0</td>\n",
       "      <td>0.000000</td>\n",
       "      <td>1.000000</td>\n",
       "    </tr>\n",
       "    <tr>\n",
       "      <th>6</th>\n",
       "      <td>1982.0</td>\n",
       "      <td>3593.0</td>\n",
       "      <td>1585.0</td>\n",
       "      <td>727.0</td>\n",
       "      <td>998.0</td>\n",
       "      <td>8314.0</td>\n",
       "      <td>0.715244</td>\n",
       "      <td>0.136356</td>\n",
       "    </tr>\n",
       "    <tr>\n",
       "      <th>7</th>\n",
       "      <td>1983.0</td>\n",
       "      <td>3556.0</td>\n",
       "      <td>1273.0</td>\n",
       "      <td>673.0</td>\n",
       "      <td>1048.0</td>\n",
       "      <td>15106.0</td>\n",
       "      <td>0.834586</td>\n",
       "      <td>0.070331</td>\n",
       "    </tr>\n",
       "    <tr>\n",
       "      <th>8</th>\n",
       "      <td>1984.0</td>\n",
       "      <td>3457.0</td>\n",
       "      <td>1229.0</td>\n",
       "      <td>697.0</td>\n",
       "      <td>1047.0</td>\n",
       "      <td>12495.0</td>\n",
       "      <td>0.807797</td>\n",
       "      <td>0.079454</td>\n",
       "    </tr>\n",
       "    <tr>\n",
       "      <th>9</th>\n",
       "      <td>1985.0</td>\n",
       "      <td>3096.0</td>\n",
       "      <td>1648.0</td>\n",
       "      <td>612.0</td>\n",
       "      <td>1108.0</td>\n",
       "      <td>11292.0</td>\n",
       "      <td>0.770259</td>\n",
       "      <td>0.112415</td>\n",
       "    </tr>\n",
       "    <tr>\n",
       "      <th>10</th>\n",
       "      <td>1986.0</td>\n",
       "      <td>2880.0</td>\n",
       "      <td>1180.0</td>\n",
       "      <td>619.0</td>\n",
       "      <td>970.0</td>\n",
       "      <td>11890.0</td>\n",
       "      <td>0.811106</td>\n",
       "      <td>0.080497</td>\n",
       "    </tr>\n",
       "    <tr>\n",
       "      <th>11</th>\n",
       "      <td>1987.0</td>\n",
       "      <td>2828.0</td>\n",
       "      <td>1237.0</td>\n",
       "      <td>554.0</td>\n",
       "      <td>936.0</td>\n",
       "      <td>16021.0</td>\n",
       "      <td>0.854544</td>\n",
       "      <td>0.065980</td>\n",
       "    </tr>\n",
       "    <tr>\n",
       "      <th>12</th>\n",
       "      <td>1988.0</td>\n",
       "      <td>2730.0</td>\n",
       "      <td>1195.0</td>\n",
       "      <td>620.0</td>\n",
       "      <td>1117.0</td>\n",
       "      <td>14188.0</td>\n",
       "      <td>0.828738</td>\n",
       "      <td>0.069801</td>\n",
       "    </tr>\n",
       "    <tr>\n",
       "      <th>13</th>\n",
       "      <td>1989.0</td>\n",
       "      <td>2544.0</td>\n",
       "      <td>1532.0</td>\n",
       "      <td>518.0</td>\n",
       "      <td>1029.0</td>\n",
       "      <td>12221.0</td>\n",
       "      <td>0.798758</td>\n",
       "      <td>0.100131</td>\n",
       "    </tr>\n",
       "    <tr>\n",
       "      <th>14</th>\n",
       "      <td>1990.0</td>\n",
       "      <td>2518.0</td>\n",
       "      <td>999.0</td>\n",
       "      <td>589.0</td>\n",
       "      <td>908.0</td>\n",
       "      <td>8959.0</td>\n",
       "      <td>0.782104</td>\n",
       "      <td>0.087211</td>\n",
       "    </tr>\n",
       "    <tr>\n",
       "      <th>15</th>\n",
       "      <td>1991.0</td>\n",
       "      <td>2462.0</td>\n",
       "      <td>1087.0</td>\n",
       "      <td>535.0</td>\n",
       "      <td>913.0</td>\n",
       "      <td>8857.0</td>\n",
       "      <td>0.777475</td>\n",
       "      <td>0.095418</td>\n",
       "    </tr>\n",
       "    <tr>\n",
       "      <th>16</th>\n",
       "      <td>1992.0</td>\n",
       "      <td>2355.0</td>\n",
       "      <td>1273.0</td>\n",
       "      <td>609.0</td>\n",
       "      <td>775.0</td>\n",
       "      <td>9869.0</td>\n",
       "      <td>0.787881</td>\n",
       "      <td>0.101629</td>\n",
       "    </tr>\n",
       "    <tr>\n",
       "      <th>17</th>\n",
       "      <td>1993.0</td>\n",
       "      <td>2313.0</td>\n",
       "      <td>865.0</td>\n",
       "      <td>505.0</td>\n",
       "      <td>910.0</td>\n",
       "      <td>9431.0</td>\n",
       "      <td>0.805311</td>\n",
       "      <td>0.073862</td>\n",
       "    </tr>\n",
       "    <tr>\n",
       "      <th>18</th>\n",
       "      <td>1994.0</td>\n",
       "      <td>2257.0</td>\n",
       "      <td>1183.0</td>\n",
       "      <td>529.0</td>\n",
       "      <td>763.0</td>\n",
       "      <td>7252.0</td>\n",
       "      <td>0.745554</td>\n",
       "      <td>0.121620</td>\n",
       "    </tr>\n",
       "    <tr>\n",
       "      <th>19</th>\n",
       "      <td>1995.0</td>\n",
       "      <td>2309.0</td>\n",
       "      <td>1236.0</td>\n",
       "      <td>480.0</td>\n",
       "      <td>731.0</td>\n",
       "      <td>11854.0</td>\n",
       "      <td>0.828893</td>\n",
       "      <td>0.086428</td>\n",
       "    </tr>\n",
       "    <tr>\n",
       "      <th>20</th>\n",
       "      <td>1996.0</td>\n",
       "      <td>2187.0</td>\n",
       "      <td>2533.0</td>\n",
       "      <td>532.0</td>\n",
       "      <td>729.0</td>\n",
       "      <td>12043.0</td>\n",
       "      <td>0.760434</td>\n",
       "      <td>0.159942</td>\n",
       "    </tr>\n",
       "    <tr>\n",
       "      <th>21</th>\n",
       "      <td>1997.0</td>\n",
       "      <td>2148.0</td>\n",
       "      <td>1296.0</td>\n",
       "      <td>497.0</td>\n",
       "      <td>1026.0</td>\n",
       "      <td>13538.0</td>\n",
       "      <td>0.827658</td>\n",
       "      <td>0.079232</td>\n",
       "    </tr>\n",
       "    <tr>\n",
       "      <th>22</th>\n",
       "      <td>1998.0</td>\n",
       "      <td>2226.0</td>\n",
       "      <td>1325.0</td>\n",
       "      <td>388.0</td>\n",
       "      <td>807.0</td>\n",
       "      <td>11660.0</td>\n",
       "      <td>0.822285</td>\n",
       "      <td>0.093441</td>\n",
       "    </tr>\n",
       "    <tr>\n",
       "      <th>23</th>\n",
       "      <td>1999.0</td>\n",
       "      <td>2209.0</td>\n",
       "      <td>1221.0</td>\n",
       "      <td>491.0</td>\n",
       "      <td>1206.0</td>\n",
       "      <td>11958.0</td>\n",
       "      <td>0.803845</td>\n",
       "      <td>0.082079</td>\n",
       "    </tr>\n",
       "    <tr>\n",
       "      <th>24</th>\n",
       "      <td>2000.0</td>\n",
       "      <td>2220.0</td>\n",
       "      <td>1765.0</td>\n",
       "      <td>501.0</td>\n",
       "      <td>1256.0</td>\n",
       "      <td>12991.0</td>\n",
       "      <td>0.786713</td>\n",
       "      <td>0.106885</td>\n",
       "    </tr>\n",
       "    <tr>\n",
       "      <th>25</th>\n",
       "      <td>2001.0</td>\n",
       "      <td>2063.0</td>\n",
       "      <td>1709.0</td>\n",
       "      <td>478.0</td>\n",
       "      <td>612.0</td>\n",
       "      <td>9189.0</td>\n",
       "      <td>0.766517</td>\n",
       "      <td>0.142559</td>\n",
       "    </tr>\n",
       "    <tr>\n",
       "      <th>26</th>\n",
       "      <td>2002.0</td>\n",
       "      <td>2020.0</td>\n",
       "      <td>1386.0</td>\n",
       "      <td>432.0</td>\n",
       "      <td>706.0</td>\n",
       "      <td>9488.0</td>\n",
       "      <td>0.789877</td>\n",
       "      <td>0.115385</td>\n",
       "    </tr>\n",
       "    <tr>\n",
       "      <th>27</th>\n",
       "      <td>2003.0</td>\n",
       "      <td>2085.0</td>\n",
       "      <td>1374.0</td>\n",
       "      <td>480.0</td>\n",
       "      <td>772.0</td>\n",
       "      <td>9702.0</td>\n",
       "      <td>0.786989</td>\n",
       "      <td>0.111454</td>\n",
       "    </tr>\n",
       "    <tr>\n",
       "      <th>28</th>\n",
       "      <td>2004.0</td>\n",
       "      <td>1952.0</td>\n",
       "      <td>978.0</td>\n",
       "      <td>457.0</td>\n",
       "      <td>603.0</td>\n",
       "      <td>8248.0</td>\n",
       "      <td>0.801867</td>\n",
       "      <td>0.095081</td>\n",
       "    </tr>\n",
       "    <tr>\n",
       "      <th>29</th>\n",
       "      <td>2005.0</td>\n",
       "      <td>2031.0</td>\n",
       "      <td>1689.0</td>\n",
       "      <td>426.0</td>\n",
       "      <td>620.0</td>\n",
       "      <td>12946.0</td>\n",
       "      <td>0.825585</td>\n",
       "      <td>0.107710</td>\n",
       "    </tr>\n",
       "    <tr>\n",
       "      <th>30</th>\n",
       "      <td>2006.0</td>\n",
       "      <td>1851.0</td>\n",
       "      <td>1489.0</td>\n",
       "      <td>420.0</td>\n",
       "      <td>473.0</td>\n",
       "      <td>10607.0</td>\n",
       "      <td>0.816614</td>\n",
       "      <td>0.114635</td>\n",
       "    </tr>\n",
       "    <tr>\n",
       "      <th>31</th>\n",
       "      <td>2007.0</td>\n",
       "      <td>2016.0</td>\n",
       "      <td>1335.0</td>\n",
       "      <td>402.0</td>\n",
       "      <td>543.0</td>\n",
       "      <td>12040.0</td>\n",
       "      <td>0.840782</td>\n",
       "      <td>0.093226</td>\n",
       "    </tr>\n",
       "    <tr>\n",
       "      <th>32</th>\n",
       "      <td>2008.0</td>\n",
       "      <td>1893.0</td>\n",
       "      <td>1201.0</td>\n",
       "      <td>763.0</td>\n",
       "      <td>407.0</td>\n",
       "      <td>10478.0</td>\n",
       "      <td>0.815472</td>\n",
       "      <td>0.093470</td>\n",
       "    </tr>\n",
       "    <tr>\n",
       "      <th>33</th>\n",
       "      <td>2009.0</td>\n",
       "      <td>1783.0</td>\n",
       "      <td>1184.0</td>\n",
       "      <td>597.0</td>\n",
       "      <td>371.0</td>\n",
       "      <td>10095.0</td>\n",
       "      <td>0.824283</td>\n",
       "      <td>0.096677</td>\n",
       "    </tr>\n",
       "    <tr>\n",
       "      <th>34</th>\n",
       "      <td>2010.0</td>\n",
       "      <td>1786.0</td>\n",
       "      <td>1370.0</td>\n",
       "      <td>615.0</td>\n",
       "      <td>333.0</td>\n",
       "      <td>11083.0</td>\n",
       "      <td>0.827028</td>\n",
       "      <td>0.102231</td>\n",
       "    </tr>\n",
       "    <tr>\n",
       "      <th>35</th>\n",
       "      <td>2011.0</td>\n",
       "      <td>1850.0</td>\n",
       "      <td>931.0</td>\n",
       "      <td>479.0</td>\n",
       "      <td>361.0</td>\n",
       "      <td>14395.0</td>\n",
       "      <td>0.890449</td>\n",
       "      <td>0.057590</td>\n",
       "    </tr>\n",
       "    <tr>\n",
       "      <th>36</th>\n",
       "      <td>2012.0</td>\n",
       "      <td>1835.0</td>\n",
       "      <td>1035.0</td>\n",
       "      <td>451.0</td>\n",
       "      <td>331.0</td>\n",
       "      <td>11804.0</td>\n",
       "      <td>0.866603</td>\n",
       "      <td>0.075986</td>\n",
       "    </tr>\n",
       "    <tr>\n",
       "      <th>37</th>\n",
       "      <td>2013.0</td>\n",
       "      <td>1561.0</td>\n",
       "      <td>822.0</td>\n",
       "      <td>675.0</td>\n",
       "      <td>348.0</td>\n",
       "      <td>9161.0</td>\n",
       "      <td>0.832364</td>\n",
       "      <td>0.074687</td>\n",
       "    </tr>\n",
       "    <tr>\n",
       "      <th>38</th>\n",
       "      <td>2014.0</td>\n",
       "      <td>1535.0</td>\n",
       "      <td>1428.0</td>\n",
       "      <td>455.0</td>\n",
       "      <td>313.0</td>\n",
       "      <td>9733.0</td>\n",
       "      <td>0.815911</td>\n",
       "      <td>0.119708</td>\n",
       "    </tr>\n",
       "    <tr>\n",
       "      <th>39</th>\n",
       "      <td>2015.0</td>\n",
       "      <td>1582.0</td>\n",
       "      <td>1101.0</td>\n",
       "      <td>464.0</td>\n",
       "      <td>346.0</td>\n",
       "      <td>9711.0</td>\n",
       "      <td>0.835570</td>\n",
       "      <td>0.094734</td>\n",
       "    </tr>\n",
       "    <tr>\n",
       "      <th>40</th>\n",
       "      <td>2016.0</td>\n",
       "      <td>1664.0</td>\n",
       "      <td>820.0</td>\n",
       "      <td>488.0</td>\n",
       "      <td>307.0</td>\n",
       "      <td>10110.0</td>\n",
       "      <td>0.862260</td>\n",
       "      <td>0.069936</td>\n",
       "    </tr>\n",
       "    <tr>\n",
       "      <th>41</th>\n",
       "      <td>2017.0</td>\n",
       "      <td>1638.0</td>\n",
       "      <td>640.0</td>\n",
       "      <td>426.0</td>\n",
       "      <td>285.0</td>\n",
       "      <td>11987.0</td>\n",
       "      <td>0.898710</td>\n",
       "      <td>0.047983</td>\n",
       "    </tr>\n",
       "    <tr>\n",
       "      <th>42</th>\n",
       "      <td>2018.0</td>\n",
       "      <td>1681.0</td>\n",
       "      <td>1044.0</td>\n",
       "      <td>594.0</td>\n",
       "      <td>343.0</td>\n",
       "      <td>11039.0</td>\n",
       "      <td>0.847849</td>\n",
       "      <td>0.080184</td>\n",
       "    </tr>\n",
       "    <tr>\n",
       "      <th>43</th>\n",
       "      <td>2019.0</td>\n",
       "      <td>1624.0</td>\n",
       "      <td>960.0</td>\n",
       "      <td>386.0</td>\n",
       "      <td>294.0</td>\n",
       "      <td>8859.0</td>\n",
       "      <td>0.843795</td>\n",
       "      <td>0.091437</td>\n",
       "    </tr>\n",
       "    <tr>\n",
       "      <th>44</th>\n",
       "      <td>2020.0</td>\n",
       "      <td>1392.0</td>\n",
       "      <td>770.0</td>\n",
       "      <td>493.0</td>\n",
       "      <td>264.0</td>\n",
       "      <td>4570.0</td>\n",
       "      <td>0.749549</td>\n",
       "      <td>0.126292</td>\n",
       "    </tr>\n",
       "    <tr>\n",
       "      <th>45</th>\n",
       "      <td>2021.0</td>\n",
       "      <td>1545.0</td>\n",
       "      <td>589.0</td>\n",
       "      <td>346.0</td>\n",
       "      <td>277.0</td>\n",
       "      <td>6997.0</td>\n",
       "      <td>0.852357</td>\n",
       "      <td>0.071751</td>\n",
       "    </tr>\n",
       "    <tr>\n",
       "      <th>46</th>\n",
       "      <td>2022.0</td>\n",
       "      <td>1607.0</td>\n",
       "      <td>668.0</td>\n",
       "      <td>372.0</td>\n",
       "      <td>291.0</td>\n",
       "      <td>9664.0</td>\n",
       "      <td>0.878945</td>\n",
       "      <td>0.060755</td>\n",
       "    </tr>\n",
       "  </tbody>\n",
       "</table>\n",
       "</div>"
      ],
      "text/plain": [
       "      Year  Total_Incidents  Total_Fatal_Injuries  Total_Serious_Injuries  \\\n",
       "0   1948.0              1.0                   2.0                     0.0   \n",
       "1   1962.0              1.0                   4.0                     0.0   \n",
       "2   1974.0              1.0                   3.0                     0.0   \n",
       "3   1977.0              1.0                   2.0                     0.0   \n",
       "4   1979.0              2.0                   1.0                     2.0   \n",
       "5   1981.0              1.0                   4.0                     0.0   \n",
       "6   1982.0           3593.0                1585.0                   727.0   \n",
       "7   1983.0           3556.0                1273.0                   673.0   \n",
       "8   1984.0           3457.0                1229.0                   697.0   \n",
       "9   1985.0           3096.0                1648.0                   612.0   \n",
       "10  1986.0           2880.0                1180.0                   619.0   \n",
       "11  1987.0           2828.0                1237.0                   554.0   \n",
       "12  1988.0           2730.0                1195.0                   620.0   \n",
       "13  1989.0           2544.0                1532.0                   518.0   \n",
       "14  1990.0           2518.0                 999.0                   589.0   \n",
       "15  1991.0           2462.0                1087.0                   535.0   \n",
       "16  1992.0           2355.0                1273.0                   609.0   \n",
       "17  1993.0           2313.0                 865.0                   505.0   \n",
       "18  1994.0           2257.0                1183.0                   529.0   \n",
       "19  1995.0           2309.0                1236.0                   480.0   \n",
       "20  1996.0           2187.0                2533.0                   532.0   \n",
       "21  1997.0           2148.0                1296.0                   497.0   \n",
       "22  1998.0           2226.0                1325.0                   388.0   \n",
       "23  1999.0           2209.0                1221.0                   491.0   \n",
       "24  2000.0           2220.0                1765.0                   501.0   \n",
       "25  2001.0           2063.0                1709.0                   478.0   \n",
       "26  2002.0           2020.0                1386.0                   432.0   \n",
       "27  2003.0           2085.0                1374.0                   480.0   \n",
       "28  2004.0           1952.0                 978.0                   457.0   \n",
       "29  2005.0           2031.0                1689.0                   426.0   \n",
       "30  2006.0           1851.0                1489.0                   420.0   \n",
       "31  2007.0           2016.0                1335.0                   402.0   \n",
       "32  2008.0           1893.0                1201.0                   763.0   \n",
       "33  2009.0           1783.0                1184.0                   597.0   \n",
       "34  2010.0           1786.0                1370.0                   615.0   \n",
       "35  2011.0           1850.0                 931.0                   479.0   \n",
       "36  2012.0           1835.0                1035.0                   451.0   \n",
       "37  2013.0           1561.0                 822.0                   675.0   \n",
       "38  2014.0           1535.0                1428.0                   455.0   \n",
       "39  2015.0           1582.0                1101.0                   464.0   \n",
       "40  2016.0           1664.0                 820.0                   488.0   \n",
       "41  2017.0           1638.0                 640.0                   426.0   \n",
       "42  2018.0           1681.0                1044.0                   594.0   \n",
       "43  2019.0           1624.0                 960.0                   386.0   \n",
       "44  2020.0           1392.0                 770.0                   493.0   \n",
       "45  2021.0           1545.0                 589.0                   346.0   \n",
       "46  2022.0           1607.0                 668.0                   372.0   \n",
       "\n",
       "    Total_Minor_Injuries  Total_Uninjured  Survival_Rate  Fatality_Rate  \n",
       "0                    0.0              0.0       0.000000       1.000000  \n",
       "1                    0.0              0.0       0.000000       1.000000  \n",
       "2                    0.0              0.0       0.000000       1.000000  \n",
       "3                    0.0              0.0       0.000000       1.000000  \n",
       "4                    1.0             44.0       0.916667       0.020833  \n",
       "5                    0.0              0.0       0.000000       1.000000  \n",
       "6                  998.0           8314.0       0.715244       0.136356  \n",
       "7                 1048.0          15106.0       0.834586       0.070331  \n",
       "8                 1047.0          12495.0       0.807797       0.079454  \n",
       "9                 1108.0          11292.0       0.770259       0.112415  \n",
       "10                 970.0          11890.0       0.811106       0.080497  \n",
       "11                 936.0          16021.0       0.854544       0.065980  \n",
       "12                1117.0          14188.0       0.828738       0.069801  \n",
       "13                1029.0          12221.0       0.798758       0.100131  \n",
       "14                 908.0           8959.0       0.782104       0.087211  \n",
       "15                 913.0           8857.0       0.777475       0.095418  \n",
       "16                 775.0           9869.0       0.787881       0.101629  \n",
       "17                 910.0           9431.0       0.805311       0.073862  \n",
       "18                 763.0           7252.0       0.745554       0.121620  \n",
       "19                 731.0          11854.0       0.828893       0.086428  \n",
       "20                 729.0          12043.0       0.760434       0.159942  \n",
       "21                1026.0          13538.0       0.827658       0.079232  \n",
       "22                 807.0          11660.0       0.822285       0.093441  \n",
       "23                1206.0          11958.0       0.803845       0.082079  \n",
       "24                1256.0          12991.0       0.786713       0.106885  \n",
       "25                 612.0           9189.0       0.766517       0.142559  \n",
       "26                 706.0           9488.0       0.789877       0.115385  \n",
       "27                 772.0           9702.0       0.786989       0.111454  \n",
       "28                 603.0           8248.0       0.801867       0.095081  \n",
       "29                 620.0          12946.0       0.825585       0.107710  \n",
       "30                 473.0          10607.0       0.816614       0.114635  \n",
       "31                 543.0          12040.0       0.840782       0.093226  \n",
       "32                 407.0          10478.0       0.815472       0.093470  \n",
       "33                 371.0          10095.0       0.824283       0.096677  \n",
       "34                 333.0          11083.0       0.827028       0.102231  \n",
       "35                 361.0          14395.0       0.890449       0.057590  \n",
       "36                 331.0          11804.0       0.866603       0.075986  \n",
       "37                 348.0           9161.0       0.832364       0.074687  \n",
       "38                 313.0           9733.0       0.815911       0.119708  \n",
       "39                 346.0           9711.0       0.835570       0.094734  \n",
       "40                 307.0          10110.0       0.862260       0.069936  \n",
       "41                 285.0          11987.0       0.898710       0.047983  \n",
       "42                 343.0          11039.0       0.847849       0.080184  \n",
       "43                 294.0           8859.0       0.843795       0.091437  \n",
       "44                 264.0           4570.0       0.749549       0.126292  \n",
       "45                 277.0           6997.0       0.852357       0.071751  \n",
       "46                 291.0           9664.0       0.878945       0.060755  "
      ]
     },
     "execution_count": 65,
     "metadata": {},
     "output_type": "execute_result"
    }
   ],
   "source": [
    "# Temporal analysis: fatality rate by year\n",
    "yearly_safety = df.groupby('Year').apply(calculate_safety_score).reset_index()\n",
    "\n",
    "yearly_safety"
   ]
  },
  {
   "cell_type": "code",
   "execution_count": 66,
   "metadata": {},
   "outputs": [],
   "source": [
    "# Filter data from year 2000 onwards\n",
    "df_recent = df[df['Year'] >= 2000]\n"
   ]
  },
  {
   "cell_type": "code",
   "execution_count": 67,
   "metadata": {},
   "outputs": [
    {
     "name": "stdout",
     "output_type": "stream",
     "text": [
      "Top 10 Safest Aircraft Models (2000 onwards):\n",
      "                          Make        Model  Survival_Rate  Fatality_Rate  \\\n",
      "4069                    Cessna         180J       1.000000            0.0   \n",
      "2800                    Boeing          747       1.000000            0.0   \n",
      "4806  DIAMOND AIRCRAFT IND INC     DA 20 C1       1.000000            0.0   \n",
      "1828                    BOEING      737-800       0.998681            0.0   \n",
      "3914                  Canadair  CL-600-2B19       0.996965            0.0   \n",
      "1930                    BOEING          787       0.996735            0.0   \n",
      "2759                    Boeing          737       0.996525            0.0   \n",
      "1914                    BOEING          777       0.995280            0.0   \n",
      "1868                    BOEING          757       0.995236            0.0   \n",
      "1825                    BOEING      737-7H4       0.992801            0.0   \n",
      "\n",
      "      Total_Incidents  \n",
      "4069             10.0  \n",
      "2800             11.0  \n",
      "4806             11.0  \n",
      "1828             20.0  \n",
      "3914             14.0  \n",
      "1930             25.0  \n",
      "2759             43.0  \n",
      "1914             83.0  \n",
      "1868             31.0  \n",
      "1825             13.0  \n"
     ]
    }
   ],
   "source": [
    "# Redo aircraft safety analysis for recent data (2000 onwards)\n",
    "aircraft_safety_recent = df_recent.groupby(['Make', 'Model']).apply(calculate_safety_score).reset_index()\n",
    "\n",
    "# Filter models with at least 10 incidents in the recent period\n",
    "reliable_recent_models = aircraft_safety_recent[aircraft_safety_recent['Total_Incidents'] >= 10]\n",
    "reliable_recent_models = reliable_recent_models.sort_values('Survival_Rate', ascending=False)\n",
    "\n",
    "print(\"Top 10 Safest Aircraft Models (2000 onwards):\")\n",
    "print(reliable_recent_models[['Make', 'Model', 'Survival_Rate', 'Fatality_Rate', 'Total_Incidents']].head(10))"
   ]
  },
  {
   "cell_type": "code",
   "execution_count": 68,
   "metadata": {},
   "outputs": [
    {
     "name": "stdout",
     "output_type": "stream",
     "text": [
      "\n",
      "Safety by Number of Engines (2000 onwards):\n",
      "   Number.of.Engines  Survival_Rate  Fatality_Rate  Total_Incidents\n",
      "4                4.0       0.979299       0.004551            144.0\n",
      "2                2.0       0.932169       0.040680           4929.0\n",
      "3                3.0       0.930799       0.053606             91.0\n",
      "0                0.0       0.613100       0.061691            548.0\n",
      "1                1.0       0.577269       0.175564          30551.0\n",
      "6                8.0       0.314286       0.000000              3.0\n",
      "5                6.0       0.000000       0.000000              1.0\n"
     ]
    }
   ],
   "source": [
    "# Analyze by number of engines\n",
    "engine_count_safety = df_recent.groupby('Number.of.Engines').apply(calculate_safety_score).reset_index()\n",
    "engine_count_safety = engine_count_safety.sort_values('Survival_Rate', ascending=False)\n",
    "print(\"\\nSafety by Number of Engines (2000 onwards):\")\n",
    "print(engine_count_safety[['Number.of.Engines', 'Survival_Rate', 'Fatality_Rate', 'Total_Incidents']])"
   ]
  },
  {
   "cell_type": "code",
   "execution_count": 69,
   "metadata": {},
   "outputs": [
    {
     "name": "stdout",
     "output_type": "stream",
     "text": [
      "\n",
      "Safety by Amateur-Built (2000 onwards):\n",
      "  Amateur.Built  Survival_Rate  Fatality_Rate  Total_Incidents\n",
      "0            No       0.841814       0.088549          36442.0\n",
      "1           Yes       0.416536       0.226434           4672.0\n"
     ]
    }
   ],
   "source": [
    "# Analyze amateur-built aircraft\n",
    "amateur_safety = df_recent.groupby('Amateur.Built').apply(calculate_safety_score).reset_index()\n",
    "amateur_safety = amateur_safety.sort_values('Survival_Rate', ascending=False)\n",
    "print(\"\\nSafety by Amateur-Built (2000 onwards):\")\n",
    "print(amateur_safety[['Amateur.Built', 'Survival_Rate', 'Fatality_Rate', 'Total_Incidents']])"
   ]
  },
  {
   "cell_type": "code",
   "execution_count": 70,
   "metadata": {},
   "outputs": [
    {
     "data": {
      "image/png": "[encoded data removed]",
      "text/plain": [
       "<Figure size 600x600 with 1 Axes>"
      ]
     },
     "metadata": {},
     "output_type": "display_data"
    }
   ],
   "source": [
    "import matplotlib.pyplot as plt\n",
    "\n",
    "# Data\n",
    "labels = ['Amateur Built', 'Not Amateur Built']\n",
    "sizes = [0.416536, 0.841814]  # survival rates\n",
    "colors = ['orange', 'green']\n",
    "\n",
    "# Pie chart\n",
    "plt.figure(figsize=(6, 6))\n",
    "plt.pie(\n",
    "    sizes,\n",
    "    labels=labels,\n",
    "    autopct='%1.1f%%',\n",
    "    startangle=90,\n",
    "    colors=colors,\n",
    "    textprops={'color': 'white', 'weight': 'bold'}\n",
    ")\n",
    "\n",
    "plt.title('Survival Rate by Aircraft Build Type (2000 Onwards)', fontsize=14, weight='bold')\n",
    "plt.tight_layout()\n",
    "plt.show()\n"
   ]
  },
  {
   "cell_type": "code",
   "execution_count": 71,
   "metadata": {},
   "outputs": [
    {
     "data": {
      "image/png": "[encoded data removed]",
      "text/plain": [
       "<Figure size 1000x600 with 1 Axes>"
      ]
     },
     "metadata": {},
     "output_type": "display_data"
    }
   ],
   "source": [
    "import matplotlib.pyplot as plt\n",
    "import seaborn as sns\n",
    "\n",
    "# Set style for better looking plots\n",
    "sns.set_style(\"whitegrid\")\n",
    "\n",
    "# Plot 1: Top 10 safest aircraft models (2000 onwards)\n",
    "top_10_aircraft = reliable_recent_models.head(10)\n",
    "\n",
    "plt.figure(figsize=(10, 6))\n",
    "sns.barplot(data=top_10_aircraft, x='Survival_Rate', y='Model', hue='Make', dodge=False)\n",
    "plt.title('Top 10 Safest Aircraft Models (2000 onwards)')\n",
    "plt.xlabel('Survival Rate')\n",
    "plt.ylabel('Aircraft Model')\n",
    "plt.legend(bbox_to_anchor=(1.05, 1), loc='upper left')\n",
    "plt.tight_layout()\n",
    "plt.show()"
   ]
  },
  {
   "cell_type": "code",
   "execution_count": 72,
   "metadata": {},
   "outputs": [
    {
     "data": {
      "image/png": "[encoded data removed]",
      "text/plain": [
       "<Figure size 1000x600 with 1 Axes>"
      ]
     },
     "metadata": {},
     "output_type": "display_data"
    }
   ],
   "source": [
    "# Plot 2: Survival Rate by Flight Purpose (for top 10 purposes by incident count)\n",
    "top_purposes = df_recent['Purpose.of.flight'].value_counts().head(10).index\n",
    "purpose_safety_recent = df_recent[df_recent['Purpose.of.flight'].isin(top_purposes)].groupby('Purpose.of.flight').apply(calculate_safety_score).reset_index()\n",
    "purpose_safety_recent = purpose_safety_recent.sort_values('Survival_Rate', ascending=False)\n",
    "\n",
    "plt.figure(figsize=(10, 6))\n",
    "sns.barplot(data=purpose_safety_recent, x='Survival_Rate', y='Purpose.of.flight')\n",
    "plt.title('Survival Rate by Flight Purpose (2000 onwards)')\n",
    "plt.xlabel('Survival Rate')\n",
    "plt.ylabel('Flight Purpose')\n",
    "plt.tight_layout()\n",
    "plt.show()"
   ]
  },
  {
   "cell_type": "code",
   "execution_count": 73,
   "metadata": {},
   "outputs": [
    {
     "data": {
      "image/png": "[encoded data removed]",
      "text/plain": [
       "<Figure size 1000x600 with 1 Axes>"
      ]
     },
     "metadata": {},
     "output_type": "display_data"
    }
   ],
   "source": [
    "# Plot 3: Survival Rate by Weather Condition\n",
    "weather_safety_recent = df_recent.groupby('Weather.Condition').apply(calculate_safety_score).reset_index()\n",
    "weather_safety_recent = weather_safety_recent.sort_values('Survival_Rate', ascending=False)\n",
    "\n",
    "plt.figure(figsize=(10, 6))\n",
    "sns.barplot(data=weather_safety_recent, x='Survival_Rate', y='Weather.Condition')\n",
    "plt.title('Survival Rate by Weather Condition (2000 onwards)')\n",
    "plt.xlabel('Survival Rate')\n",
    "plt.ylabel('Weather Condition')\n",
    "plt.tight_layout()\n",
    "plt.show()"
   ]
  },
  {
   "cell_type": "code",
   "execution_count": 74,
   "metadata": {},
   "outputs": [
    {
     "data": {
      "image/png": "[encoded data removed]",
      "text/plain": [
       "<Figure size 1200x600 with 1 Axes>"
      ]
     },
     "metadata": {},
     "output_type": "display_data"
    }
   ],
   "source": [
    "# Plot 4: Fatality Rate Over Time (2000 onwards)\n",
    "yearly_safety_recent = df_recent.groupby('Year').apply(calculate_safety_score).reset_index()\n",
    "\n",
    "plt.figure(figsize=(12, 6))\n",
    "plt.plot(yearly_safety_recent['Year'], yearly_safety_recent['Fatality_Rate'], marker='o')\n",
    "plt.title('Fatality Rate Over Time (2000 onwards)')\n",
    "plt.xlabel('Year')\n",
    "plt.ylabel('Fatality Rate')\n",
    "plt.grid(True)\n",
    "plt.tight_layout()\n",
    "plt.show()"
   ]
  },
  {
   "cell_type": "code",
   "execution_count": 75,
   "metadata": {},
   "outputs": [],
   "source": [
    "# Export the recent data for Tableau\n",
    "df_recent.to_csv('aviation_safety_recent.csv', index=False)"
   ]
  },
  {
   "cell_type": "code",
   "execution_count": 76,
   "metadata": {},
   "outputs": [
    {
     "name": "stdout",
     "output_type": "stream",
     "text": [
      "  Amateur.Built  Survival_Rate  Fatality_Rate  Total_Incidents\n",
      "0            No       0.841814       0.088549          36442.0\n",
      "1           Yes       0.416536       0.226434           4672.0\n"
     ]
    }
   ],
   "source": [
    "# Amateur-built analysis for recent data\n",
    "amateur_safety_recent = df_recent.groupby('Amateur.Built').apply(calculate_safety_score).reset_index()\n",
    "print(amateur_safety_recent[['Amateur.Built', 'Survival_Rate', 'Fatality_Rate', 'Total_Incidents']])"
   ]
  },
  {
   "cell_type": "markdown",
   "metadata": {},
   "source": [
    "##  Explore Operational Factors"
   ]
  },
  {
   "cell_type": "code",
   "execution_count": 77,
   "metadata": {},
   "outputs": [
    {
     "name": "stdout",
     "output_type": "stream",
     "text": [
      "Safety by Flight Purpose:\n",
      "            Purpose.of.flight  Total.Fatal.Injuries  Total.Uninjured  \\\n",
      "17                       PUBS                   0.0              5.0   \n",
      "16                       PUBL                   0.0              2.0   \n",
      "25                    Unknown                9789.0         166487.0   \n",
      "22    Public Aircraft - Local                  13.0             96.0   \n",
      "14              Instructional                1913.0          12580.0   \n",
      "21  Public Aircraft - Federal                  41.0            267.0   \n",
      "1          Aerial Application                 549.0           2944.0   \n",
      "20            Public Aircraft                 406.0           1671.0   \n",
      "15             Other Work Use                 511.0           1878.0   \n",
      "12                Flight Test                 130.0            461.0   \n",
      "19                Positioning                 635.0           2122.0   \n",
      "23    Public Aircraft - State                  23.0             65.0   \n",
      "7                    Business                2313.0           6471.0   \n",
      "18                   Personal               18762.0          52052.0   \n",
      "6                  Banner Tow                  19.0             52.0   \n",
      "8         Executive/corporate                 598.0           1611.0   \n",
      "24                  Skydiving                 234.0            555.0   \n",
      "2          Aerial Observation                 414.0            912.0   \n",
      "13                 Glider Tow                  16.0             32.0   \n",
      "9               External Load                  39.0             69.0   \n",
      "10                      Ferry                 386.0            634.0   \n",
      "4               Air Race show                  42.0             65.0   \n",
      "5               Air Race/show                  34.0             38.0   \n",
      "3                    Air Drop                  10.0             10.0   \n",
      "11               Firefighting                  37.0             24.0   \n",
      "0                        ASHO                  14.0              1.0   \n",
      "\n",
      "    Event.Id  Safety_Score  \n",
      "17         4      0.980392  \n",
      "16         1      0.952381  \n",
      "25      6802      0.944467  \n",
      "22        74      0.879927  \n",
      "14     10601      0.867999  \n",
      "21       105      0.866602  \n",
      "1       4712      0.842804  \n",
      "20       720      0.804487  \n",
      "15      1264      0.786070  \n",
      "12       405      0.779902  \n",
      "19      1646      0.769649  \n",
      "23        64      0.737798  \n",
      "7       4018      0.736672  \n",
      "18     49448      0.735051  \n",
      "6        101      0.731364  \n",
      "8        553      0.729256  \n",
      "24       182      0.703333  \n",
      "2        794      0.687731  \n",
      "13        53      0.665281  \n",
      "9        123      0.638298  \n",
      "10       812      0.621508  \n",
      "4         99      0.606909  \n",
      "5         59      0.527046  \n",
      "3         11      0.497512  \n",
      "11        40      0.392799  \n",
      "0          6      0.066225  \n"
     ]
    }
   ],
   "source": [
    "# Analyze safety by flight purpose\n",
    "purpose_safety = df.groupby('Purpose.of.flight').agg({\n",
    "    'Total.Fatal.Injuries': 'sum',\n",
    "    'Total.Uninjured': 'sum',\n",
    "    'Event.Id': 'count'\n",
    "}).reset_index()\n",
    "\n",
    "purpose_safety['Safety_Score'] = purpose_safety['Total.Uninjured'] / (\n",
    "    purpose_safety['Total.Fatal.Injuries'] + purpose_safety['Total.Uninjured'] + 0.1\n",
    ")\n",
    "\n",
    "print(\"Safety by Flight Purpose:\")\n",
    "print(purpose_safety.sort_values('Safety_Score', ascending=False))"
   ]
  },
  {
   "cell_type": "code",
   "execution_count": 78,
   "metadata": {},
   "outputs": [
    {
     "name": "stdout",
     "output_type": "stream",
     "text": [
      "Safety by Weather Condition:\n",
      "  Weather.Condition  Total.Fatal.Injuries  Total.Uninjured  Event.Id  \\\n",
      "2               Unk                 326.0           7041.0       262   \n",
      "3               VMC               25558.0         303449.0     77303   \n",
      "1               UNK                2407.0          10301.0       856   \n",
      "0               IMC               11824.0          39684.0      5976   \n",
      "\n",
      "   Safety_Score  \n",
      "2      0.955736  \n",
      "3      0.922317  \n",
      "1      0.810585  \n",
      "0      0.770442  \n"
     ]
    }
   ],
   "source": [
    "# Analyze safety by weather conditions\n",
    "weather_safety = df.groupby('Weather.Condition').agg({\n",
    "    'Total.Fatal.Injuries': 'sum',\n",
    "    'Total.Uninjured': 'sum', \n",
    "    'Event.Id': 'count'\n",
    "}).reset_index()\n",
    "\n",
    "weather_safety['Safety_Score'] = weather_safety['Total.Uninjured'] / (\n",
    "    weather_safety['Total.Fatal.Injuries'] + weather_safety['Total.Uninjured'] + 0.1\n",
    ")\n",
    "\n",
    "print(\"Safety by Weather Condition:\")\n",
    "print(weather_safety.sort_values('Safety_Score', ascending=False))"
   ]
  },
  {
   "cell_type": "code",
   "execution_count": 79,
   "metadata": {},
   "outputs": [
    {
     "name": "stdout",
     "output_type": "stream",
     "text": [
      "Safety by Engine Type:\n",
      "        Engine.Type  Total.Fatal.Injuries  Total.Uninjured  Event.Id  \\\n",
      "1   Geared Turbofan                   0.0            121.0        12   \n",
      "3                LR                   0.0             11.0         2   \n",
      "6         Turbo Fan                4560.0         211048.0      2481   \n",
      "7         Turbo Jet                 862.0          34072.0       703   \n",
      "4              NONE                   0.0              2.0         2   \n",
      "8        Turbo Prop                2568.0          16835.0      3391   \n",
      "11          Unknown                3770.0          12794.0      2051   \n",
      "0          Electric                   2.0              7.0        10   \n",
      "5     Reciprocating               23642.0          75246.0     69530   \n",
      "9       Turbo Shaft                1695.0           4858.0      3609   \n",
      "2     Hybrid Rocket                   1.0              0.0         1   \n",
      "10              UNK                   0.0              0.0         1   \n",
      "\n",
      "    Safety_Score  \n",
      "1       0.999174  \n",
      "3       0.990991  \n",
      "6       0.978850  \n",
      "7       0.975322  \n",
      "4       0.952381  \n",
      "8       0.867645  \n",
      "11      0.772393  \n",
      "0       0.769231  \n",
      "5       0.760921  \n",
      "9       0.741329  \n",
      "2       0.000000  \n",
      "10      0.000000  \n"
     ]
    }
   ],
   "source": [
    "# Analyze safety by engine type\n",
    "engine_safety = df.groupby('Engine.Type').agg({\n",
    "    'Total.Fatal.Injuries': 'sum',\n",
    "    'Total.Uninjured': 'sum',\n",
    "    'Event.Id': 'count'\n",
    "}).reset_index()\n",
    "\n",
    "engine_safety['Safety_Score'] = engine_safety['Total.Uninjured'] / (\n",
    "    engine_safety['Total.Fatal.Injuries'] + engine_safety['Total.Uninjured'] + 0.1\n",
    ")\n",
    "\n",
    "print(\"Safety by Engine Type:\")\n",
    "print(engine_safety.sort_values('Safety_Score', ascending=False))"
   ]
  },
  {
   "cell_type": "code",
   "execution_count": 80,
   "metadata": {},
   "outputs": [
    {
     "name": "stdout",
     "output_type": "stream",
     "text": [
      "Riskiest Make+Model in VMC (top 20, min events = 20):\n"
     ]
    },
    {
     "data": {
      "application/vnd.microsoft.datawrangler.viewer.v0+json": {
       "columns": [
        {
         "name": "index",
         "rawType": "int64",
         "type": "integer"
        },
        {
         "name": "Make",
         "rawType": "object",
         "type": "string"
        },
        {
         "name": "Model",
         "rawType": "object",
         "type": "string"
        },
        {
         "name": "events",
         "rawType": "int64",
         "type": "integer"
        },
        {
         "name": "total_fatal",
         "rawType": "float64",
         "type": "float"
        },
        {
         "name": "fatality_rate",
         "rawType": "float64",
         "type": "float"
        },
        {
         "name": "survival_rate",
         "rawType": "float64",
         "type": "float"
        },
        {
         "name": "most_common_injury",
         "rawType": "object",
         "type": "string"
        }
       ],
       "ref": "f0c6b889-a8f4-4a5d-a591-dd21270f0739",
       "rows": [
        [
         "13844",
         "PIPER",
         "PA25",
         "30",
         "20.0",
         "0.7142857142857143",
         "0.2857142857142857",
         "Fatal"
        ],
        [
         "12792",
         "Mitsubishi",
         "MU-2B-60",
         "23",
         "38.0",
         "0.6229508196721312",
         "0.3770491803278688",
         "Non-Fatal"
        ],
        [
         "1942",
         "BEECH",
         "C90",
         "22",
         "33.0",
         "0.5689655172413793",
         "0.43103448275862066",
         "Fatal"
        ],
        [
         "4826",
         "CESSNA",
         "421C",
         "22",
         "30.0",
         "0.4918032786885246",
         "0.5081967213114754",
         "Fatal"
        ],
        [
         "1998",
         "BEECH",
         "V35",
         "24",
         "28.0",
         "0.4827586206896552",
         "0.5172413793103448",
         "Fatal"
        ],
        [
         "16446",
         "SOCATA",
         "TBM 700",
         "20",
         "26.0",
         "0.48148148148148145",
         "0.5185185185185186",
         "Non-Fatal"
        ],
        [
         "15256",
         "ROBINSON",
         "R44",
         "131",
         "138.0",
         "0.4808362369337979",
         "0.519163763066202",
         "Fatal"
        ],
        [
         "15261",
         "ROBINSON",
         "R66",
         "22",
         "17.0",
         "0.4722222222222222",
         "0.5277777777777778",
         "Fatal"
        ],
        [
         "1858",
         "BEECH",
         "58",
         "53",
         "61.0",
         "0.4485294117647059",
         "0.5514705882352942",
         "Non-Fatal"
        ],
        [
         "4914",
         "CESSNA",
         "T210",
         "25",
         "21.0",
         "0.42",
         "0.5800000000000001",
         "Non-Fatal"
        ],
        [
         "15247",
         "ROBINSON",
         "R22",
         "58",
         "37.0",
         "0.4157303370786517",
         "0.5842696629213483",
         "Non-Fatal"
        ],
        [
         "5847",
         "Cessna",
         "A150K",
         "21",
         "14.0",
         "0.4117647058823529",
         "0.5882352941176471",
         "Non-Fatal"
        ],
        [
         "3232",
         "Beech",
         "V35",
         "43",
         "35.0",
         "0.4069767441860465",
         "0.5930232558139534",
         "Non-Fatal"
        ],
        [
         "4953",
         "CESSNA",
         "U206F",
         "21",
         "29.0",
         "0.4027777777777778",
         "0.5972222222222222",
         "Non-Fatal"
        ],
        [
         "2929",
         "Beech",
         "A36TC",
         "44",
         "49.0",
         "0.4016393442622951",
         "0.5983606557377049",
         "Non-Fatal"
        ],
        [
         "3178",
         "Beech",
         "F35",
         "22",
         "14.0",
         "0.4",
         "0.6",
         "Non-Fatal"
        ],
        [
         "13876",
         "PIPER",
         "PA34",
         "30",
         "25.0",
         "0.3968253968253968",
         "0.6031746031746033",
         "Non-Fatal"
        ],
        [
         "9388",
         "Grumman American",
         "AA-5",
         "26",
         "22.0",
         "0.39285714285714285",
         "0.6071428571428572",
         "Non-Fatal"
        ],
        [
         "12098",
         "MOONEY",
         "M20E",
         "25",
         "16.0",
         "0.36363636363636365",
         "0.6363636363636364",
         "Non-Fatal"
        ],
        [
         "6113",
         "Cessna",
         "T303",
         "20",
         "17.0",
         "0.3617021276595745",
         "0.6382978723404256",
         "Non-Fatal"
        ]
       ],
       "shape": {
        "columns": 7,
        "rows": 20
       }
      },
      "text/html": [
       "<div>\n",
       "<style scoped>\n",
       "    .dataframe tbody tr th:only-of-type {\n",
       "        vertical-align: middle;\n",
       "    }\n",
       "\n",
       "    .dataframe tbody tr th {\n",
       "        vertical-align: top;\n",
       "    }\n",
       "\n",
       "    .dataframe thead th {\n",
       "        text-align: right;\n",
       "    }\n",
       "</style>\n",
       "<table border=\"1\" class=\"dataframe\">\n",
       "  <thead>\n",
       "    <tr style=\"text-align: right;\">\n",
       "      <th></th>\n",
       "      <th>Make</th>\n",
       "      <th>Model</th>\n",
       "      <th>events</th>\n",
       "      <th>total_fatal</th>\n",
       "      <th>fatality_rate</th>\n",
       "      <th>survival_rate</th>\n",
       "      <th>most_common_injury</th>\n",
       "    </tr>\n",
       "  </thead>\n",
       "  <tbody>\n",
       "    <tr>\n",
       "      <th>13844</th>\n",
       "      <td>PIPER</td>\n",
       "      <td>PA25</td>\n",
       "      <td>30</td>\n",
       "      <td>20.0</td>\n",
       "      <td>0.714286</td>\n",
       "      <td>0.285714</td>\n",
       "      <td>Fatal</td>\n",
       "    </tr>\n",
       "    <tr>\n",
       "      <th>12792</th>\n",
       "      <td>Mitsubishi</td>\n",
       "      <td>MU-2B-60</td>\n",
       "      <td>23</td>\n",
       "      <td>38.0</td>\n",
       "      <td>0.622951</td>\n",
       "      <td>0.377049</td>\n",
       "      <td>Non-Fatal</td>\n",
       "    </tr>\n",
       "    <tr>\n",
       "      <th>1942</th>\n",
       "      <td>BEECH</td>\n",
       "      <td>C90</td>\n",
       "      <td>22</td>\n",
       "      <td>33.0</td>\n",
       "      <td>0.568966</td>\n",
       "      <td>0.431034</td>\n",
       "      <td>Fatal</td>\n",
       "    </tr>\n",
       "    <tr>\n",
       "      <th>4826</th>\n",
       "      <td>CESSNA</td>\n",
       "      <td>421C</td>\n",
       "      <td>22</td>\n",
       "      <td>30.0</td>\n",
       "      <td>0.491803</td>\n",
       "      <td>0.508197</td>\n",
       "      <td>Fatal</td>\n",
       "    </tr>\n",
       "    <tr>\n",
       "      <th>1998</th>\n",
       "      <td>BEECH</td>\n",
       "      <td>V35</td>\n",
       "      <td>24</td>\n",
       "      <td>28.0</td>\n",
       "      <td>0.482759</td>\n",
       "      <td>0.517241</td>\n",
       "      <td>Fatal</td>\n",
       "    </tr>\n",
       "    <tr>\n",
       "      <th>16446</th>\n",
       "      <td>SOCATA</td>\n",
       "      <td>TBM 700</td>\n",
       "      <td>20</td>\n",
       "      <td>26.0</td>\n",
       "      <td>0.481481</td>\n",
       "      <td>0.518519</td>\n",
       "      <td>Non-Fatal</td>\n",
       "    </tr>\n",
       "    <tr>\n",
       "      <th>15256</th>\n",
       "      <td>ROBINSON</td>\n",
       "      <td>R44</td>\n",
       "      <td>131</td>\n",
       "      <td>138.0</td>\n",
       "      <td>0.480836</td>\n",
       "      <td>0.519164</td>\n",
       "      <td>Fatal</td>\n",
       "    </tr>\n",
       "    <tr>\n",
       "      <th>15261</th>\n",
       "      <td>ROBINSON</td>\n",
       "      <td>R66</td>\n",
       "      <td>22</td>\n",
       "      <td>17.0</td>\n",
       "      <td>0.472222</td>\n",
       "      <td>0.527778</td>\n",
       "      <td>Fatal</td>\n",
       "    </tr>\n",
       "    <tr>\n",
       "      <th>1858</th>\n",
       "      <td>BEECH</td>\n",
       "      <td>58</td>\n",
       "      <td>53</td>\n",
       "      <td>61.0</td>\n",
       "      <td>0.448529</td>\n",
       "      <td>0.551471</td>\n",
       "      <td>Non-Fatal</td>\n",
       "    </tr>\n",
       "    <tr>\n",
       "      <th>4914</th>\n",
       "      <td>CESSNA</td>\n",
       "      <td>T210</td>\n",
       "      <td>25</td>\n",
       "      <td>21.0</td>\n",
       "      <td>0.420000</td>\n",
       "      <td>0.580000</td>\n",
       "      <td>Non-Fatal</td>\n",
       "    </tr>\n",
       "    <tr>\n",
       "      <th>15247</th>\n",
       "      <td>ROBINSON</td>\n",
       "      <td>R22</td>\n",
       "      <td>58</td>\n",
       "      <td>37.0</td>\n",
       "      <td>0.415730</td>\n",
       "      <td>0.584270</td>\n",
       "      <td>Non-Fatal</td>\n",
       "    </tr>\n",
       "    <tr>\n",
       "      <th>5847</th>\n",
       "      <td>Cessna</td>\n",
       "      <td>A150K</td>\n",
       "      <td>21</td>\n",
       "      <td>14.0</td>\n",
       "      <td>0.411765</td>\n",
       "      <td>0.588235</td>\n",
       "      <td>Non-Fatal</td>\n",
       "    </tr>\n",
       "    <tr>\n",
       "      <th>3232</th>\n",
       "      <td>Beech</td>\n",
       "      <td>V35</td>\n",
       "      <td>43</td>\n",
       "      <td>35.0</td>\n",
       "      <td>0.406977</td>\n",
       "      <td>0.593023</td>\n",
       "      <td>Non-Fatal</td>\n",
       "    </tr>\n",
       "    <tr>\n",
       "      <th>4953</th>\n",
       "      <td>CESSNA</td>\n",
       "      <td>U206F</td>\n",
       "      <td>21</td>\n",
       "      <td>29.0</td>\n",
       "      <td>0.402778</td>\n",
       "      <td>0.597222</td>\n",
       "      <td>Non-Fatal</td>\n",
       "    </tr>\n",
       "    <tr>\n",
       "      <th>2929</th>\n",
       "      <td>Beech</td>\n",
       "      <td>A36TC</td>\n",
       "      <td>44</td>\n",
       "      <td>49.0</td>\n",
       "      <td>0.401639</td>\n",
       "      <td>0.598361</td>\n",
       "      <td>Non-Fatal</td>\n",
       "    </tr>\n",
       "    <tr>\n",
       "      <th>3178</th>\n",
       "      <td>Beech</td>\n",
       "      <td>F35</td>\n",
       "      <td>22</td>\n",
       "      <td>14.0</td>\n",
       "      <td>0.400000</td>\n",
       "      <td>0.600000</td>\n",
       "      <td>Non-Fatal</td>\n",
       "    </tr>\n",
       "    <tr>\n",
       "      <th>13876</th>\n",
       "      <td>PIPER</td>\n",
       "      <td>PA34</td>\n",
       "      <td>30</td>\n",
       "      <td>25.0</td>\n",
       "      <td>0.396825</td>\n",
       "      <td>0.603175</td>\n",
       "      <td>Non-Fatal</td>\n",
       "    </tr>\n",
       "    <tr>\n",
       "      <th>9388</th>\n",
       "      <td>Grumman American</td>\n",
       "      <td>AA-5</td>\n",
       "      <td>26</td>\n",
       "      <td>22.0</td>\n",
       "      <td>0.392857</td>\n",
       "      <td>0.607143</td>\n",
       "      <td>Non-Fatal</td>\n",
       "    </tr>\n",
       "    <tr>\n",
       "      <th>12098</th>\n",
       "      <td>MOONEY</td>\n",
       "      <td>M20E</td>\n",
       "      <td>25</td>\n",
       "      <td>16.0</td>\n",
       "      <td>0.363636</td>\n",
       "      <td>0.636364</td>\n",
       "      <td>Non-Fatal</td>\n",
       "    </tr>\n",
       "    <tr>\n",
       "      <th>6113</th>\n",
       "      <td>Cessna</td>\n",
       "      <td>T303</td>\n",
       "      <td>20</td>\n",
       "      <td>17.0</td>\n",
       "      <td>0.361702</td>\n",
       "      <td>0.638298</td>\n",
       "      <td>Non-Fatal</td>\n",
       "    </tr>\n",
       "  </tbody>\n",
       "</table>\n",
       "</div>"
      ],
      "text/plain": [
       "                   Make     Model  events  total_fatal  fatality_rate  \\\n",
       "13844             PIPER      PA25      30         20.0       0.714286   \n",
       "12792        Mitsubishi  MU-2B-60      23         38.0       0.622951   \n",
       "1942              BEECH       C90      22         33.0       0.568966   \n",
       "4826             CESSNA      421C      22         30.0       0.491803   \n",
       "1998              BEECH       V35      24         28.0       0.482759   \n",
       "16446            SOCATA   TBM 700      20         26.0       0.481481   \n",
       "15256          ROBINSON       R44     131        138.0       0.480836   \n",
       "15261          ROBINSON       R66      22         17.0       0.472222   \n",
       "1858              BEECH        58      53         61.0       0.448529   \n",
       "4914             CESSNA      T210      25         21.0       0.420000   \n",
       "15247          ROBINSON       R22      58         37.0       0.415730   \n",
       "5847             Cessna     A150K      21         14.0       0.411765   \n",
       "3232              Beech       V35      43         35.0       0.406977   \n",
       "4953             CESSNA     U206F      21         29.0       0.402778   \n",
       "2929              Beech     A36TC      44         49.0       0.401639   \n",
       "3178              Beech       F35      22         14.0       0.400000   \n",
       "13876             PIPER      PA34      30         25.0       0.396825   \n",
       "9388   Grumman American      AA-5      26         22.0       0.392857   \n",
       "12098            MOONEY      M20E      25         16.0       0.363636   \n",
       "6113             Cessna      T303      20         17.0       0.361702   \n",
       "\n",
       "       survival_rate most_common_injury  \n",
       "13844       0.285714              Fatal  \n",
       "12792       0.377049          Non-Fatal  \n",
       "1942        0.431034              Fatal  \n",
       "4826        0.508197              Fatal  \n",
       "1998        0.517241              Fatal  \n",
       "16446       0.518519          Non-Fatal  \n",
       "15256       0.519164              Fatal  \n",
       "15261       0.527778              Fatal  \n",
       "1858        0.551471          Non-Fatal  \n",
       "4914        0.580000          Non-Fatal  \n",
       "15247       0.584270          Non-Fatal  \n",
       "5847        0.588235          Non-Fatal  \n",
       "3232        0.593023          Non-Fatal  \n",
       "4953        0.597222          Non-Fatal  \n",
       "2929        0.598361          Non-Fatal  \n",
       "3178        0.600000          Non-Fatal  \n",
       "13876       0.603175          Non-Fatal  \n",
       "9388        0.607143          Non-Fatal  \n",
       "12098       0.636364          Non-Fatal  \n",
       "6113        0.638298          Non-Fatal  "
      ]
     },
     "metadata": {},
     "output_type": "display_data"
    },
    {
     "name": "stdout",
     "output_type": "stream",
     "text": [
      "\n",
      "Safest Make+Model in VMC (top 20, min events = 20):\n"
     ]
    },
    {
     "data": {
      "application/vnd.microsoft.datawrangler.viewer.v0+json": {
       "columns": [
        {
         "name": "index",
         "rawType": "int64",
         "type": "integer"
        },
        {
         "name": "Make",
         "rawType": "object",
         "type": "string"
        },
        {
         "name": "Model",
         "rawType": "object",
         "type": "string"
        },
        {
         "name": "events",
         "rawType": "int64",
         "type": "integer"
        },
        {
         "name": "total_fatal",
         "rawType": "float64",
         "type": "float"
        },
        {
         "name": "fatality_rate",
         "rawType": "float64",
         "type": "float"
        },
        {
         "name": "survival_rate",
         "rawType": "float64",
         "type": "float"
        },
        {
         "name": "most_common_injury",
         "rawType": "object",
         "type": "string"
        }
       ],
       "ref": "2abdf523-af91-4e12-a2a3-bccabc2eda74",
       "rows": [
        [
         "2344",
         "BOEING",
         "777",
         "81",
         "0.0",
         "0.0",
         "1.0",
         "Non-Fatal"
        ],
        [
         "16954",
         "Schweizer",
         "SGS 2-33A",
         "53",
         "0.0",
         "0.0",
         "1.0",
         "Non-Fatal"
        ],
        [
         "9416",
         "Grumman-schweizer",
         "G-164A",
         "48",
         "0.0",
         "0.0",
         "1.0",
         "Non-Fatal"
        ],
        [
         "2323",
         "BOEING",
         "767",
         "46",
         "0.0",
         "0.0",
         "1.0",
         "Non-Fatal"
        ],
        [
         "3802",
         "Boeing",
         "737",
         "45",
         "0.0",
         "0.0",
         "1.0",
         "Non-Fatal"
        ],
        [
         "3754",
         "Boeing",
         "727-200",
         "35",
         "0.0",
         "0.0",
         "1.0",
         "Non-Fatal"
        ],
        [
         "3082",
         "Beech",
         "C-23",
         "33",
         "0.0",
         "0.0",
         "1.0",
         "Non-Fatal"
        ],
        [
         "4078",
         "Boeing",
         "E75",
         "29",
         "0.0",
         "0.0",
         "1.0",
         "Non-Fatal"
        ],
        [
         "2305",
         "BOEING",
         "757",
         "27",
         "0.0",
         "0.0",
         "1.0",
         "Non-Fatal"
        ],
        [
         "12297",
         "Maule",
         "M-4-220C",
         "26",
         "0.0",
         "0.0",
         "1.0",
         "Non-Fatal"
        ],
        [
         "13739",
         "PIPER",
         "PA-22-160",
         "25",
         "0.0",
         "0.0",
         "1.0",
         "Non-Fatal"
        ],
        [
         "2360",
         "BOEING",
         "787",
         "24",
         "0.0",
         "0.0",
         "1.0",
         "Non-Fatal"
        ],
        [
         "4747",
         "CESSNA",
         "195",
         "24",
         "0.0",
         "0.0",
         "1.0",
         "Non-Fatal"
        ],
        [
         "8862",
         "GRUMMAN ACFT ENG COR-SCHWEIZER",
         "G-164B",
         "24",
         "0.0",
         "0.0",
         "1.0",
         "Non-Fatal"
        ],
        [
         "4710",
         "CESSNA",
         "180H",
         "23",
         "0.0",
         "0.0",
         "1.0",
         "Non-Fatal"
        ],
        [
         "13670",
         "PIPER",
         "PA 28",
         "23",
         "0.0",
         "0.0",
         "1.0",
         "Non-Fatal"
        ],
        [
         "4711",
         "CESSNA",
         "180J",
         "22",
         "0.0",
         "0.0",
         "1.0",
         "Non-Fatal"
        ],
        [
         "580",
         "AVIAT AIRCRAFT INC",
         "A-1B",
         "21",
         "0.0",
         "0.0",
         "1.0",
         "Non-Fatal"
        ],
        [
         "9361",
         "Grumman",
         "G164B",
         "21",
         "0.0",
         "0.0",
         "1.0",
         "Non-Fatal"
        ],
        [
         "11523",
         "Let",
         "BLANIK L-13",
         "21",
         "0.0",
         "0.0",
         "1.0",
         "Non-Fatal"
        ]
       ],
       "shape": {
        "columns": 7,
        "rows": 20
       }
      },
      "text/html": [
       "<div>\n",
       "<style scoped>\n",
       "    .dataframe tbody tr th:only-of-type {\n",
       "        vertical-align: middle;\n",
       "    }\n",
       "\n",
       "    .dataframe tbody tr th {\n",
       "        vertical-align: top;\n",
       "    }\n",
       "\n",
       "    .dataframe thead th {\n",
       "        text-align: right;\n",
       "    }\n",
       "</style>\n",
       "<table border=\"1\" class=\"dataframe\">\n",
       "  <thead>\n",
       "    <tr style=\"text-align: right;\">\n",
       "      <th></th>\n",
       "      <th>Make</th>\n",
       "      <th>Model</th>\n",
       "      <th>events</th>\n",
       "      <th>total_fatal</th>\n",
       "      <th>fatality_rate</th>\n",
       "      <th>survival_rate</th>\n",
       "      <th>most_common_injury</th>\n",
       "    </tr>\n",
       "  </thead>\n",
       "  <tbody>\n",
       "    <tr>\n",
       "      <th>2344</th>\n",
       "      <td>BOEING</td>\n",
       "      <td>777</td>\n",
       "      <td>81</td>\n",
       "      <td>0.0</td>\n",
       "      <td>0.0</td>\n",
       "      <td>1.0</td>\n",
       "      <td>Non-Fatal</td>\n",
       "    </tr>\n",
       "    <tr>\n",
       "      <th>16954</th>\n",
       "      <td>Schweizer</td>\n",
       "      <td>SGS 2-33A</td>\n",
       "      <td>53</td>\n",
       "      <td>0.0</td>\n",
       "      <td>0.0</td>\n",
       "      <td>1.0</td>\n",
       "      <td>Non-Fatal</td>\n",
       "    </tr>\n",
       "    <tr>\n",
       "      <th>9416</th>\n",
       "      <td>Grumman-schweizer</td>\n",
       "      <td>G-164A</td>\n",
       "      <td>48</td>\n",
       "      <td>0.0</td>\n",
       "      <td>0.0</td>\n",
       "      <td>1.0</td>\n",
       "      <td>Non-Fatal</td>\n",
       "    </tr>\n",
       "    <tr>\n",
       "      <th>2323</th>\n",
       "      <td>BOEING</td>\n",
       "      <td>767</td>\n",
       "      <td>46</td>\n",
       "      <td>0.0</td>\n",
       "      <td>0.0</td>\n",
       "      <td>1.0</td>\n",
       "      <td>Non-Fatal</td>\n",
       "    </tr>\n",
       "    <tr>\n",
       "      <th>3802</th>\n",
       "      <td>Boeing</td>\n",
       "      <td>737</td>\n",
       "      <td>45</td>\n",
       "      <td>0.0</td>\n",
       "      <td>0.0</td>\n",
       "      <td>1.0</td>\n",
       "      <td>Non-Fatal</td>\n",
       "    </tr>\n",
       "    <tr>\n",
       "      <th>3754</th>\n",
       "      <td>Boeing</td>\n",
       "      <td>727-200</td>\n",
       "      <td>35</td>\n",
       "      <td>0.0</td>\n",
       "      <td>0.0</td>\n",
       "      <td>1.0</td>\n",
       "      <td>Non-Fatal</td>\n",
       "    </tr>\n",
       "    <tr>\n",
       "      <th>3082</th>\n",
       "      <td>Beech</td>\n",
       "      <td>C-23</td>\n",
       "      <td>33</td>\n",
       "      <td>0.0</td>\n",
       "      <td>0.0</td>\n",
       "      <td>1.0</td>\n",
       "      <td>Non-Fatal</td>\n",
       "    </tr>\n",
       "    <tr>\n",
       "      <th>4078</th>\n",
       "      <td>Boeing</td>\n",
       "      <td>E75</td>\n",
       "      <td>29</td>\n",
       "      <td>0.0</td>\n",
       "      <td>0.0</td>\n",
       "      <td>1.0</td>\n",
       "      <td>Non-Fatal</td>\n",
       "    </tr>\n",
       "    <tr>\n",
       "      <th>2305</th>\n",
       "      <td>BOEING</td>\n",
       "      <td>757</td>\n",
       "      <td>27</td>\n",
       "      <td>0.0</td>\n",
       "      <td>0.0</td>\n",
       "      <td>1.0</td>\n",
       "      <td>Non-Fatal</td>\n",
       "    </tr>\n",
       "    <tr>\n",
       "      <th>12297</th>\n",
       "      <td>Maule</td>\n",
       "      <td>M-4-220C</td>\n",
       "      <td>26</td>\n",
       "      <td>0.0</td>\n",
       "      <td>0.0</td>\n",
       "      <td>1.0</td>\n",
       "      <td>Non-Fatal</td>\n",
       "    </tr>\n",
       "    <tr>\n",
       "      <th>13739</th>\n",
       "      <td>PIPER</td>\n",
       "      <td>PA-22-160</td>\n",
       "      <td>25</td>\n",
       "      <td>0.0</td>\n",
       "      <td>0.0</td>\n",
       "      <td>1.0</td>\n",
       "      <td>Non-Fatal</td>\n",
       "    </tr>\n",
       "    <tr>\n",
       "      <th>2360</th>\n",
       "      <td>BOEING</td>\n",
       "      <td>787</td>\n",
       "      <td>24</td>\n",
       "      <td>0.0</td>\n",
       "      <td>0.0</td>\n",
       "      <td>1.0</td>\n",
       "      <td>Non-Fatal</td>\n",
       "    </tr>\n",
       "    <tr>\n",
       "      <th>4747</th>\n",
       "      <td>CESSNA</td>\n",
       "      <td>195</td>\n",
       "      <td>24</td>\n",
       "      <td>0.0</td>\n",
       "      <td>0.0</td>\n",
       "      <td>1.0</td>\n",
       "      <td>Non-Fatal</td>\n",
       "    </tr>\n",
       "    <tr>\n",
       "      <th>8862</th>\n",
       "      <td>GRUMMAN ACFT ENG COR-SCHWEIZER</td>\n",
       "      <td>G-164B</td>\n",
       "      <td>24</td>\n",
       "      <td>0.0</td>\n",
       "      <td>0.0</td>\n",
       "      <td>1.0</td>\n",
       "      <td>Non-Fatal</td>\n",
       "    </tr>\n",
       "    <tr>\n",
       "      <th>4710</th>\n",
       "      <td>CESSNA</td>\n",
       "      <td>180H</td>\n",
       "      <td>23</td>\n",
       "      <td>0.0</td>\n",
       "      <td>0.0</td>\n",
       "      <td>1.0</td>\n",
       "      <td>Non-Fatal</td>\n",
       "    </tr>\n",
       "    <tr>\n",
       "      <th>13670</th>\n",
       "      <td>PIPER</td>\n",
       "      <td>PA 28</td>\n",
       "      <td>23</td>\n",
       "      <td>0.0</td>\n",
       "      <td>0.0</td>\n",
       "      <td>1.0</td>\n",
       "      <td>Non-Fatal</td>\n",
       "    </tr>\n",
       "    <tr>\n",
       "      <th>4711</th>\n",
       "      <td>CESSNA</td>\n",
       "      <td>180J</td>\n",
       "      <td>22</td>\n",
       "      <td>0.0</td>\n",
       "      <td>0.0</td>\n",
       "      <td>1.0</td>\n",
       "      <td>Non-Fatal</td>\n",
       "    </tr>\n",
       "    <tr>\n",
       "      <th>580</th>\n",
       "      <td>AVIAT AIRCRAFT INC</td>\n",
       "      <td>A-1B</td>\n",
       "      <td>21</td>\n",
       "      <td>0.0</td>\n",
       "      <td>0.0</td>\n",
       "      <td>1.0</td>\n",
       "      <td>Non-Fatal</td>\n",
       "    </tr>\n",
       "    <tr>\n",
       "      <th>9361</th>\n",
       "      <td>Grumman</td>\n",
       "      <td>G164B</td>\n",
       "      <td>21</td>\n",
       "      <td>0.0</td>\n",
       "      <td>0.0</td>\n",
       "      <td>1.0</td>\n",
       "      <td>Non-Fatal</td>\n",
       "    </tr>\n",
       "    <tr>\n",
       "      <th>11523</th>\n",
       "      <td>Let</td>\n",
       "      <td>BLANIK L-13</td>\n",
       "      <td>21</td>\n",
       "      <td>0.0</td>\n",
       "      <td>0.0</td>\n",
       "      <td>1.0</td>\n",
       "      <td>Non-Fatal</td>\n",
       "    </tr>\n",
       "  </tbody>\n",
       "</table>\n",
       "</div>"
      ],
      "text/plain": [
       "                                 Make        Model  events  total_fatal  \\\n",
       "2344                           BOEING          777      81          0.0   \n",
       "16954                       Schweizer    SGS 2-33A      53          0.0   \n",
       "9416                Grumman-schweizer       G-164A      48          0.0   \n",
       "2323                           BOEING          767      46          0.0   \n",
       "3802                           Boeing          737      45          0.0   \n",
       "3754                           Boeing      727-200      35          0.0   \n",
       "3082                            Beech         C-23      33          0.0   \n",
       "4078                           Boeing          E75      29          0.0   \n",
       "2305                           BOEING          757      27          0.0   \n",
       "12297                           Maule     M-4-220C      26          0.0   \n",
       "13739                           PIPER    PA-22-160      25          0.0   \n",
       "2360                           BOEING          787      24          0.0   \n",
       "4747                           CESSNA          195      24          0.0   \n",
       "8862   GRUMMAN ACFT ENG COR-SCHWEIZER       G-164B      24          0.0   \n",
       "4710                           CESSNA         180H      23          0.0   \n",
       "13670                           PIPER        PA 28      23          0.0   \n",
       "4711                           CESSNA         180J      22          0.0   \n",
       "580                AVIAT AIRCRAFT INC         A-1B      21          0.0   \n",
       "9361                          Grumman        G164B      21          0.0   \n",
       "11523                             Let  BLANIK L-13      21          0.0   \n",
       "\n",
       "       fatality_rate  survival_rate most_common_injury  \n",
       "2344             0.0            1.0          Non-Fatal  \n",
       "16954            0.0            1.0          Non-Fatal  \n",
       "9416             0.0            1.0          Non-Fatal  \n",
       "2323             0.0            1.0          Non-Fatal  \n",
       "3802             0.0            1.0          Non-Fatal  \n",
       "3754             0.0            1.0          Non-Fatal  \n",
       "3082             0.0            1.0          Non-Fatal  \n",
       "4078             0.0            1.0          Non-Fatal  \n",
       "2305             0.0            1.0          Non-Fatal  \n",
       "12297            0.0            1.0          Non-Fatal  \n",
       "13739            0.0            1.0          Non-Fatal  \n",
       "2360             0.0            1.0          Non-Fatal  \n",
       "4747             0.0            1.0          Non-Fatal  \n",
       "8862             0.0            1.0          Non-Fatal  \n",
       "4710             0.0            1.0          Non-Fatal  \n",
       "13670            0.0            1.0          Non-Fatal  \n",
       "4711             0.0            1.0          Non-Fatal  \n",
       "580              0.0            1.0          Non-Fatal  \n",
       "9361             0.0            1.0          Non-Fatal  \n",
       "11523            0.0            1.0          Non-Fatal  "
      ]
     },
     "metadata": {},
     "output_type": "display_data"
    },
    {
     "name": "stdout",
     "output_type": "stream",
     "text": [
      "\n",
      "Saved CSVs: vmc_make_model_stats.csv, vmc_riskiest_make_model.csv, vmc_safest_make_model.csv\n"
     ]
    },
    {
     "data": {
      "image/png": "[encoded data removed]",
      "text/plain": [
       "<Figure size 1100x600 with 1 Axes>"
      ]
     },
     "metadata": {},
     "output_type": "display_data"
    }
   ],
   "source": [
    "\n",
    "\n",
    "# Parameters (tune if needed)\n",
    "vmc_label = 'VMC'      # label for clear weather in your dataset\n",
    "min_events = 20        # minimum VMC events to consider a Make+Model (change to 30 for stricter)\n",
    "top_n = 20             # how many riskiest to show\n",
    "\n",
    "# Work on a copy so df1 remains unchanged\n",
    "df = df1.copy()\n",
    "\n",
    "# Make sure Weather.Condition standardized and uppercase\n",
    "df['Weather.Condition'] = df['Weather.Condition'].astype(str).str.upper().str.strip()\n",
    "\n",
    "# Filter to clear-weather events (VMC) only\n",
    "df_vmc = df[df['Weather.Condition'] == vmc_label].copy()\n",
    "\n",
    "# Ensure totals exist\n",
    "df_vmc['total_casualties'] = (\n",
    "    df_vmc['Total.Fatal.Injuries'].fillna(0)\n",
    "    + df_vmc['Total.Serious.Injuries'].fillna(0)\n",
    "    + df_vmc['Total.Minor.Injuries'].fillna(0)\n",
    ")\n",
    "df_vmc['people_involved'] = (df_vmc['total_casualties'] + df_vmc['Total.Uninjured'].fillna(0)).replace({0: np.nan})\n",
    "\n",
    "# safe mode helper\n",
    "def first_mode(s):\n",
    "    m = s.mode()\n",
    "    return m.iat[0] if len(m) > 0 else np.nan\n",
    "\n",
    "# Group by Make + Model and compute stats in VMC\n",
    "vmc_stats = (\n",
    "    df_vmc\n",
    "    .groupby(['Make','Model'], dropna=False)\n",
    "    .agg(\n",
    "        events = ('Event.Id','size'),\n",
    "        total_fatal = ('Total.Fatal.Injuries','sum'),\n",
    "        total_casualties = ('total_casualties','sum'),\n",
    "        total_uninjured = ('Total.Uninjured','sum'),\n",
    "        most_common_injury = ('Injury.Severity', lambda s: first_mode(s))\n",
    "    )\n",
    "    .reset_index()\n",
    ")\n",
    "\n",
    "# compute denom and rates\n",
    "vmc_stats['denom'] = (vmc_stats['total_casualties'] + vmc_stats['total_uninjured']).replace({0: np.nan})\n",
    "vmc_stats['fatality_rate'] = vmc_stats['total_fatal'] / vmc_stats['denom']            # fraction 0-1\n",
    "vmc_stats['survival_rate'] = 1 - vmc_stats['fatality_rate']\n",
    "\n",
    "# filter by minimum events to get reliable samples\n",
    "vmc_reliable = vmc_stats[vmc_stats['events'] >= min_events].copy()\n",
    "\n",
    "# Sort to get riskiest (highest fatality_rate) and safest (highest survival_rate)\n",
    "riskiest_vmc = vmc_reliable.sort_values(by=['fatality_rate','events'], ascending=[False, False]).head(top_n)\n",
    "safest_vmc = vmc_reliable.sort_values(by=['survival_rate','events'], ascending=[False, False]).head(top_n)\n",
    "\n",
    "# Display top results\n",
    "print(f\"Riskiest Make+Model in VMC (top {top_n}, min events = {min_events}):\")\n",
    "display(riskiest_vmc[['Make','Model','events','total_fatal','fatality_rate','survival_rate','most_common_injury']].head(20))\n",
    "\n",
    "print(f\"\\nSafest Make+Model in VMC (top {top_n}, min events = {min_events}):\")\n",
    "display(safest_vmc[['Make','Model','events','total_fatal','fatality_rate','survival_rate','most_common_injury']].head(20))\n",
    "\n",
    "# Save CSV outputs for reporting\n",
    "vmc_reliable.to_csv('vmc_make_model_stats.csv', index=False)\n",
    "riskiest_vmc.to_csv('vmc_riskiest_make_model.csv', index=False)\n",
    "safest_vmc.to_csv('vmc_safest_make_model.csv', index=False)\n",
    "print(\"\\nSaved CSVs: vmc_make_model_stats.csv, vmc_riskiest_make_model.csv, vmc_safest_make_model.csv\")\n",
    "\n",
    "# Quick bar chart of top 10 riskiest (fatality_rate %)\n",
    "plot_n = min(10, len(riskiest_vmc))\n",
    "if plot_n > 0:\n",
    "    plot_df = riskiest_vmc.head(plot_n).copy()\n",
    "    plot_df['label'] = plot_df['Make'].astype(str) + \" — \" + plot_df['Model'].astype(str)\n",
    "    plot_df['fatality_pct'] = (plot_df['fatality_rate'] * 100).round(3)\n",
    "\n",
    "    plt.figure(figsize=(11,6))\n",
    "    plt.barh(plot_df['label'][::-1], plot_df['fatality_pct'][::-1], color='#C04000')\n",
    "    plt.xlabel('Fatality rate in VMC (%)')\n",
    "    plt.title(f'Top {plot_n} Riskiest Make+Model in Clear Weather (VMC)')\n",
    "    for i, (pct, ev) in enumerate(zip(plot_df['fatality_pct'][::-1], plot_df['events'][::-1])):\n",
    "        plt.text(pct + 0.01, i, f\"{pct:.3f}%\", va='center', fontsize=10)\n",
    "        plt.text(max(plot_df['fatality_pct'].max()*1.1, 1.0) + 0.3, i, f\"{int(ev)} events\", va='center', fontsize=9, color='gray')\n",
    "    plt.tight_layout()\n",
    "    plt.savefig('vmc_riskiest_bar.png', dpi=300, bbox_inches='tight')\n",
    "    plt.show()\n",
    "else:\n",
    "    print(\"No Make+Model meets the min_events threshold in VMC to plot.\")\n"
   ]
  },
  {
   "cell_type": "code",
   "execution_count": 81,
   "metadata": {},
   "outputs": [
    {
     "name": "stdout",
     "output_type": "stream",
     "text": [
      "  Weather.Condition  Events  Total_Fatal_Injuries  Total_Uninjured  \\\n",
      "2               VMC   81795               35644.0         384863.0   \n",
      "0               IMC    5976               11824.0          39684.0   \n",
      "1               UNK    1118                2733.0          17342.0   \n",
      "\n",
      "   Fatality_Rate  Survival_Rate  Safety_Score  \n",
      "2       0.076904       0.923096      0.923096  \n",
      "0       0.209690       0.790310      0.790310  \n",
      "1       0.129692       0.870308      0.870308  \n"
     ]
    }
   ],
   "source": [
    "df = df1.copy()\n",
    "\n",
    "# standardize weather labels\n",
    "df['Weather.Condition'] = df['Weather.Condition'].astype(str).str.upper().str.strip()\n",
    "df['Weather.Condition'] = df['Weather.Condition'].replace({'UNK':'UNK', 'UNk':'UNK', 'Unk':'UNK'})  # catch variants\n",
    "\n",
    "# computed fields\n",
    "df['total_casualties'] = df['Total.Fatal.Injuries'].fillna(0) + df['Total.Serious.Injuries'].fillna(0) + df['Total.Minor.Injuries'].fillna(0)\n",
    "df['people_involved'] = (df['total_casualties'] + df['Total.Uninjured'].fillna(0)).replace({0: np.nan})\n",
    "\n",
    "# aggregate by weather\n",
    "weather = (\n",
    "    df.groupby('Weather.Condition', dropna=False)\n",
    "      .agg(\n",
    "          Total_Fatal_Injuries = ('Total.Fatal.Injuries','sum'),\n",
    "          Total_Uninjured = ('Total.Uninjured','sum'),\n",
    "          Events = ('Event.Id','size'),\n",
    "          People_Involved = ('people_involved','sum')\n",
    "      )\n",
    "      .reset_index()\n",
    ")\n",
    "\n",
    "# compute fatality & survival rates and a safety_score (survival fraction)\n",
    "weather['Fatality_Rate'] = weather['Total_Fatal_Injuries'] / weather['People_Involved']\n",
    "weather['Survival_Rate'] = 1 - weather['Fatality_Rate']\n",
    "weather['Safety_Score'] = weather['Survival_Rate']  # or any custom formula you prefer\n",
    "\n",
    "# sort and display\n",
    "weather = weather.sort_values(by='Events', ascending=False)\n",
    "print(weather[['Weather.Condition','Events','Total_Fatal_Injuries','Total_Uninjured','Fatality_Rate','Survival_Rate','Safety_Score']])"
   ]
  },
  {
   "cell_type": "code",
   "execution_count": 82,
   "metadata": {},
   "outputs": [
    {
     "data": {
      "image/png": "[encoded data removed]",
      "text/plain": [
       "<Figure size 600x400 with 1 Axes>"
      ]
     },
     "metadata": {},
     "output_type": "display_data"
    },
    {
     "data": {
      "image/png": "[encoded data removed]",
      "text/plain": [
       "<Figure size 600x400 with 1 Axes>"
      ]
     },
     "metadata": {},
     "output_type": "display_data"
    }
   ],
   "source": [
    "# 1) Event share\n",
    "plt.figure(figsize=(6,4))\n",
    "weather.set_index('Weather.Condition')['Events'].plot(kind='bar', color=['#4C72B0','#55A868','#C44E52'])\n",
    "plt.ylabel('Number of Events')\n",
    "plt.title('Event Counts by Weather Condition')\n",
    "plt.tight_layout()\n",
    "plt.savefig('weather_event_counts.png', dpi=300)\n",
    "plt.show()\n",
    "\n",
    "# 2) Survival (or Fatality) Rate\n",
    "plt.figure(figsize=(6,4))\n",
    "(weather.set_index('Weather.Condition')['Survival_Rate']*100).plot(kind='bar', color=['#55A868','#C44E52','#8172B2'])\n",
    "plt.ylabel('Survival Rate (%)')\n",
    "plt.title('Survival Rate by Weather Condition')\n",
    "plt.tight_layout()\n",
    "plt.savefig('weather_survival_rate.png', dpi=300)\n",
    "plt.show()"
   ]
  },
  {
   "cell_type": "code",
   "execution_count": 83,
   "metadata": {},
   "outputs": [
    {
     "data": {
      "image/png": "[encoded data removed]",
      "text/plain": [
       "<Figure size 800x500 with 1 Axes>"
      ]
     },
     "metadata": {},
     "output_type": "display_data"
    }
   ],
   "source": [
    "import matplotlib.pyplot as plt\n",
    "\n",
    "# Group data by Number of Engines\n",
    "engine_fatality = df1.groupby('Number.of.Engines')['Total.Fatal.Injuries'].sum().reset_index()\n",
    "\n",
    "# Sort by number of engines for cleaner visuals\n",
    "engine_fatality = engine_fatality.sort_values('Number.of.Engines')\n",
    "\n",
    "# Plot\n",
    "plt.figure(figsize=(8, 5))\n",
    "bars = plt.bar(\n",
    "    engine_fatality['Number.of.Engines'].astype(str),\n",
    "    engine_fatality['Total.Fatal.Injuries'],\n",
    "    color='#2E86C1'\n",
    ")\n",
    "\n",
    "# Labels and title\n",
    "plt.title('Total Fatalities by Number of Aircraft Engines', fontsize=14, weight='bold')\n",
    "plt.xlabel('Number of Engines', fontsize=12)\n",
    "plt.ylabel('Total Fatal Injuries', fontsize=12)\n",
    "\n",
    "# Add data labels\n",
    "for bar in bars:\n",
    "    height = bar.get_height()\n",
    "    plt.text(\n",
    "        bar.get_x() + bar.get_width() / 2,\n",
    "        height,\n",
    "        f'{int(height)}',\n",
    "        ha='center',\n",
    "        va='bottom',\n",
    "        fontsize=10,\n",
    "        fontweight='bold'\n",
    "    )\n",
    "\n",
    "plt.tight_layout()\n",
    "plt.show()\n"
   ]
  },
  {
   "cell_type": "code",
   "execution_count": 84,
   "metadata": {},
   "outputs": [
    {
     "data": {
      "image/png": "[encoded data removed]",
      "text/plain": [
       "<Figure size 1000x500 with 1 Axes>"
      ]
     },
     "metadata": {},
     "output_type": "display_data"
    }
   ],
   "source": [
    "import matplotlib.pyplot as plt\n",
    "\n",
    "# Group by Make, Model, and Number of Engines\n",
    "engine_risk = (\n",
    "    df1.groupby(['Make', 'Model', 'Number.of.Engines'])\n",
    "    .agg({'Total.Fatal.Injuries': 'sum', 'Event.Id': 'count'})\n",
    "    .reset_index()\n",
    ")\n",
    "\n",
    "# Calculate fatality rate per incident\n",
    "engine_risk['Fatality_Rate'] = engine_risk['Total.Fatal.Injuries'] / engine_risk['Event.Id']\n",
    "\n",
    "# Top 10 riskiest aircraft configurations\n",
    "top10_engine_risk = engine_risk.sort_values('Fatality_Rate', ascending=False).head(10)\n",
    "\n",
    "# Combine Make + Model for display\n",
    "top10_engine_risk['Aircraft'] = (\n",
    "    top10_engine_risk['Make'] + ' ' +\n",
    "    top10_engine_risk['Model'] +\n",
    "    ' (' + top10_engine_risk['Number.of.Engines'].astype(str) + ' Eng.)'\n",
    ")\n",
    "\n",
    "# Plot\n",
    "plt.figure(figsize=(10, 5))\n",
    "bars = plt.barh(\n",
    "    top10_engine_risk['Aircraft'],\n",
    "    top10_engine_risk['Fatality_Rate'] * 0.01,\n",
    "    color='#E74C3C'\n",
    ")\n",
    "plt.xlabel('Fatality Rate (%)')\n",
    "plt.title('Top 10 Riskiest Aircraft by Engine Configuration')\n",
    "plt.gca().invert_yaxis()\n",
    "\n",
    "# Add labels\n",
    "for bar in bars:\n",
    "    width = bar.get_width()\n",
    "    plt.text(width + 0.2, bar.get_y() + bar.get_height()/2,\n",
    "             f'{width:.1f}%', va='center', fontsize=10, fontweight='bold')\n",
    "\n",
    "plt.tight_layout()\n",
    "plt.show()\n"
   ]
  },
  {
   "cell_type": "code",
   "execution_count": 85,
   "metadata": {},
   "outputs": [
    {
     "data": {
      "image/png": "[encoded data removed]",
      "text/plain": [
       "<Figure size 1000x500 with 1 Axes>"
      ]
     },
     "metadata": {},
     "output_type": "display_data"
    }
   ],
   "source": [
    "# Option A: % of incidents that were fatal (recommended)\n",
    "# Assume df1 is incident-level and Event.Id identifies incidents\n",
    "\n",
    "# compute per-incident flag\n",
    "df1['fatal_incident_flag'] = (df1['Total.Fatal.Injuries'] > 0).astype(int)\n",
    "\n",
    "# group and aggregate\n",
    "engine_risk = (\n",
    "    df1.groupby(['Make', 'Model', 'Number.of.Engines'])\n",
    "    .agg(total_fatalities=('Total.Fatal.Injuries', 'sum'),\n",
    "         total_incidents=('Event.Id', 'count'),\n",
    "         fatal_incidents=('fatal_incident_flag', 'sum'))\n",
    "    .reset_index()\n",
    ")\n",
    "\n",
    "# percent of incidents that were fatal\n",
    "engine_risk['pct_fatal_incidents'] = engine_risk['fatal_incidents'] / engine_risk['total_incidents'] * 100\n",
    "\n",
    "# filter small samples\n",
    "engine_risk = engine_risk[engine_risk['total_incidents'] >= 10]\n",
    "\n",
    "# top 10 riskiest by this metric\n",
    "top10 = engine_risk.sort_values('pct_fatal_incidents', ascending=False).head(10)\n",
    "\n",
    "# display / plot\n",
    "top10['Aircraft'] = top10['Make'] + ' ' + top10['Model'] + ' (' + top10['Number.of.Engines'].astype(str) + ' Eng.)'\n",
    "\n",
    "plt.figure(figsize=(10,5))\n",
    "bars = plt.barh(top10['Aircraft'], top10['pct_fatal_incidents'], color='#E74C3C')\n",
    "plt.xlabel('% of incidents that were fatal')\n",
    "plt.title('Top 10 — % of Incidents that were Fatal')\n",
    "plt.gca().invert_yaxis()\n",
    "for bar in bars:\n",
    "    plt.text(bar.get_width() + 0.5, bar.get_y() + bar.get_height()/2,\n",
    "             f'{bar.get_width():.1f}%', va='center', fontsize=10, fontweight='bold')\n",
    "plt.tight_layout()\n",
    "plt.show()\n"
   ]
  },
  {
   "cell_type": "markdown",
   "metadata": {},
   "source": [
    "## CONCLUSION \n",
    "Prioritize Certified, Professionally Manufactured Aircraft\n",
    " Amateur-built aircraft have less than half the survival rate. This is     non-negotiable for a corporate fleet.\n",
    " Procure from the Vetted \"Top 10 Safest Models\" List\n",
    "Base purchasing decisions on our data-driven list of models with proven safety records since the year 2000.\n",
    " Apply Strict Safety Thresholds\n",
    " Only consider aircraft meeting these minimums:\n",
    "Survival Rate ≥ 0.85\n",
    "Fatality Rate ≤ 0.07\n",
    "≥ 10 Recorded Incidents (for statistical significance)\n"
   ]
  }
 ],
 "metadata": {
  "kernelspec": {
   "display_name": "base",
   "language": "python",
   "name": "python3"
  },
  "language_info": {
   "codemirror_mode": {
    "name": "ipython",
    "version": 3
   },
   "file_extension": ".py",
   "mimetype": "text/x-python",
   "name": "python",
   "nbconvert_exporter": "python",
   "pygments_lexer": "ipython3",
   "version": "3.11.7"
  }
 },
 "nbformat": 4,
 "nbformat_minor": 2
}
