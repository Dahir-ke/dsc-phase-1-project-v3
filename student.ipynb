{
 "cells": [
  {
   "cell_type": "markdown",
   "metadata": {},
   "source": [
    "## Final Project Submission\n",
    "\n",
    "Please fill out:\n",
    "* Student name: Dahir Ahmed\n",
    "* Student pace: Part time \n",
    "* Scheduled project review date/time:27TH OCT TO  31ST OCT 2025\n",
    "* Instructor name: \n",
    "* Blog post URL:\n"
   ]
  },
  {
   "cell_type": "code",
   "execution_count": 10,
   "metadata": {},
   "outputs": [],
   "source": [
    "# Your code here - remember to use markdown cells for comments as well!\n",
    "# Import the pandas library for data manipulation and analysis\n",
    "import pandas as pd\n",
    "\n",
    "# Import the numpy library for numerical operations and working with arrays\n",
    "import numpy as np\n",
    "\n",
    "\n",
    "# Import the warnings module to control or suppress warning messages\n",
    "import warnings\n",
    "\n",
    "# Suppress all warning messages to keep the output clean\n",
    "warnings.filterwarnings('ignore')\n",
    "\n"
   ]
  },
  {
   "cell_type": "markdown",
   "metadata": {},
   "source": [
    "1.1) Read Aviation_Data.csv into a pandas DataFrame named df"
   ]
  },
  {
   "cell_type": "code",
   "execution_count": 14,
   "metadata": {},
   "outputs": [
    {
     "data": {
      "application/vnd.microsoft.datawrangler.viewer.v0+json": {
       "columns": [
        {
         "name": "index",
         "rawType": "int64",
         "type": "integer"
        },
        {
         "name": "Event.Id",
         "rawType": "object",
         "type": "string"
        },
        {
         "name": "Investigation.Type",
         "rawType": "object",
         "type": "string"
        },
        {
         "name": "Accident.Number",
         "rawType": "object",
         "type": "string"
        },
        {
         "name": "Event.Date",
         "rawType": "object",
         "type": "string"
        },
        {
         "name": "Location",
         "rawType": "object",
         "type": "string"
        },
        {
         "name": "Country",
         "rawType": "object",
         "type": "string"
        },
        {
         "name": "Latitude",
         "rawType": "object",
         "type": "string"
        },
        {
         "name": "Longitude",
         "rawType": "object",
         "type": "string"
        },
        {
         "name": "Airport.Code",
         "rawType": "object",
         "type": "string"
        },
        {
         "name": "Airport.Name",
         "rawType": "object",
         "type": "string"
        },
        {
         "name": "Injury.Severity",
         "rawType": "object",
         "type": "string"
        },
        {
         "name": "Aircraft.damage",
         "rawType": "object",
         "type": "string"
        },
        {
         "name": "Aircraft.Category",
         "rawType": "object",
         "type": "string"
        },
        {
         "name": "Registration.Number",
         "rawType": "object",
         "type": "string"
        },
        {
         "name": "Make",
         "rawType": "object",
         "type": "string"
        },
        {
         "name": "Model",
         "rawType": "object",
         "type": "string"
        },
        {
         "name": "Amateur.Built",
         "rawType": "object",
         "type": "string"
        },
        {
         "name": "Number.of.Engines",
         "rawType": "float64",
         "type": "float"
        },
        {
         "name": "Engine.Type",
         "rawType": "object",
         "type": "string"
        },
        {
         "name": "FAR.Description",
         "rawType": "object",
         "type": "string"
        },
        {
         "name": "Schedule",
         "rawType": "object",
         "type": "string"
        },
        {
         "name": "Purpose.of.flight",
         "rawType": "object",
         "type": "string"
        },
        {
         "name": "Air.carrier",
         "rawType": "object",
         "type": "string"
        },
        {
         "name": "Total.Fatal.Injuries",
         "rawType": "float64",
         "type": "float"
        },
        {
         "name": "Total.Serious.Injuries",
         "rawType": "float64",
         "type": "float"
        },
        {
         "name": "Total.Minor.Injuries",
         "rawType": "float64",
         "type": "float"
        },
        {
         "name": "Total.Uninjured",
         "rawType": "float64",
         "type": "float"
        },
        {
         "name": "Weather.Condition",
         "rawType": "object",
         "type": "string"
        },
        {
         "name": "Broad.phase.of.flight",
         "rawType": "object",
         "type": "string"
        },
        {
         "name": "Report.Status",
         "rawType": "object",
         "type": "string"
        },
        {
         "name": "Publication.Date",
         "rawType": "object",
         "type": "string"
        }
       ],
       "ref": "2e89db62-d63a-47e3-9628-4f0544e09b8e",
       "rows": [
        [
         "0",
         "20001218X45444",
         "Accident",
         "SEA87LA080",
         "1948-10-24",
         "MOOSE CREEK, ID",
         "United States",
         null,
         null,
         null,
         null,
         "Fatal(2)",
         "Destroyed",
         null,
         "NC6404",
         "Stinson",
         "108-3",
         "No",
         "1.0",
         "Reciprocating",
         null,
         null,
         "Personal",
         null,
         "2.0",
         "0.0",
         "0.0",
         "0.0",
         "UNK",
         "Cruise",
         "Probable Cause",
         null
        ],
        [
         "1",
         "20001218X45447",
         "Accident",
         "LAX94LA336",
         "1962-07-19",
         "BRIDGEPORT, CA",
         "United States",
         null,
         null,
         null,
         null,
         "Fatal(4)",
         "Destroyed",
         null,
         "N5069P",
         "Piper",
         "PA24-180",
         "No",
         "1.0",
         "Reciprocating",
         null,
         null,
         "Personal",
         null,
         "4.0",
         "0.0",
         "0.0",
         "0.0",
         "UNK",
         "Unknown",
         "Probable Cause",
         "19-09-1996"
        ],
        [
         "2",
         "20061025X01555",
         "Accident",
         "NYC07LA005",
         "1974-08-30",
         "Saltville, VA",
         "United States",
         "36.922222999999995",
         "-81.878056",
         null,
         null,
         "Fatal(3)",
         "Destroyed",
         null,
         "N5142R",
         "Cessna",
         "172M",
         "No",
         "1.0",
         "Reciprocating",
         null,
         null,
         "Personal",
         null,
         "3.0",
         null,
         null,
         null,
         "IMC",
         "Cruise",
         "Probable Cause",
         "26-02-2007"
        ],
        [
         "3",
         "20001218X45448",
         "Accident",
         "LAX96LA321",
         "1977-06-19",
         "EUREKA, CA",
         "United States",
         null,
         null,
         null,
         null,
         "Fatal(2)",
         "Destroyed",
         null,
         "N1168J",
         "Rockwell",
         "112",
         "No",
         "1.0",
         "Reciprocating",
         null,
         null,
         "Personal",
         null,
         "2.0",
         "0.0",
         "0.0",
         "0.0",
         "IMC",
         "Cruise",
         "Probable Cause",
         "12-09-2000"
        ],
        [
         "4",
         "20041105X01764",
         "Accident",
         "CHI79FA064",
         "1979-08-02",
         "Canton, OH",
         "United States",
         null,
         null,
         null,
         null,
         "Fatal(1)",
         "Destroyed",
         null,
         "N15NY",
         "Cessna",
         "501",
         "No",
         null,
         null,
         null,
         null,
         "Personal",
         null,
         "1.0",
         "2.0",
         null,
         "0.0",
         "VMC",
         "Approach",
         "Probable Cause",
         "16-04-1980"
        ]
       ],
       "shape": {
        "columns": 31,
        "rows": 5
       }
      },
      "text/html": [
       "<div>\n",
       "<style scoped>\n",
       "    .dataframe tbody tr th:only-of-type {\n",
       "        vertical-align: middle;\n",
       "    }\n",
       "\n",
       "    .dataframe tbody tr th {\n",
       "        vertical-align: top;\n",
       "    }\n",
       "\n",
       "    .dataframe thead th {\n",
       "        text-align: right;\n",
       "    }\n",
       "</style>\n",
       "<table border=\"1\" class=\"dataframe\">\n",
       "  <thead>\n",
       "    <tr style=\"text-align: right;\">\n",
       "      <th></th>\n",
       "      <th>Event.Id</th>\n",
       "      <th>Investigation.Type</th>\n",
       "      <th>Accident.Number</th>\n",
       "      <th>Event.Date</th>\n",
       "      <th>Location</th>\n",
       "      <th>Country</th>\n",
       "      <th>Latitude</th>\n",
       "      <th>Longitude</th>\n",
       "      <th>Airport.Code</th>\n",
       "      <th>Airport.Name</th>\n",
       "      <th>...</th>\n",
       "      <th>Purpose.of.flight</th>\n",
       "      <th>Air.carrier</th>\n",
       "      <th>Total.Fatal.Injuries</th>\n",
       "      <th>Total.Serious.Injuries</th>\n",
       "      <th>Total.Minor.Injuries</th>\n",
       "      <th>Total.Uninjured</th>\n",
       "      <th>Weather.Condition</th>\n",
       "      <th>Broad.phase.of.flight</th>\n",
       "      <th>Report.Status</th>\n",
       "      <th>Publication.Date</th>\n",
       "    </tr>\n",
       "  </thead>\n",
       "  <tbody>\n",
       "    <tr>\n",
       "      <th>0</th>\n",
       "      <td>20001218X45444</td>\n",
       "      <td>Accident</td>\n",
       "      <td>SEA87LA080</td>\n",
       "      <td>1948-10-24</td>\n",
       "      <td>MOOSE CREEK, ID</td>\n",
       "      <td>United States</td>\n",
       "      <td>NaN</td>\n",
       "      <td>NaN</td>\n",
       "      <td>NaN</td>\n",
       "      <td>NaN</td>\n",
       "      <td>...</td>\n",
       "      <td>Personal</td>\n",
       "      <td>NaN</td>\n",
       "      <td>2.0</td>\n",
       "      <td>0.0</td>\n",
       "      <td>0.0</td>\n",
       "      <td>0.0</td>\n",
       "      <td>UNK</td>\n",
       "      <td>Cruise</td>\n",
       "      <td>Probable Cause</td>\n",
       "      <td>NaN</td>\n",
       "    </tr>\n",
       "    <tr>\n",
       "      <th>1</th>\n",
       "      <td>20001218X45447</td>\n",
       "      <td>Accident</td>\n",
       "      <td>LAX94LA336</td>\n",
       "      <td>1962-07-19</td>\n",
       "      <td>BRIDGEPORT, CA</td>\n",
       "      <td>United States</td>\n",
       "      <td>NaN</td>\n",
       "      <td>NaN</td>\n",
       "      <td>NaN</td>\n",
       "      <td>NaN</td>\n",
       "      <td>...</td>\n",
       "      <td>Personal</td>\n",
       "      <td>NaN</td>\n",
       "      <td>4.0</td>\n",
       "      <td>0.0</td>\n",
       "      <td>0.0</td>\n",
       "      <td>0.0</td>\n",
       "      <td>UNK</td>\n",
       "      <td>Unknown</td>\n",
       "      <td>Probable Cause</td>\n",
       "      <td>19-09-1996</td>\n",
       "    </tr>\n",
       "    <tr>\n",
       "      <th>2</th>\n",
       "      <td>20061025X01555</td>\n",
       "      <td>Accident</td>\n",
       "      <td>NYC07LA005</td>\n",
       "      <td>1974-08-30</td>\n",
       "      <td>Saltville, VA</td>\n",
       "      <td>United States</td>\n",
       "      <td>36.9222</td>\n",
       "      <td>-81.8781</td>\n",
       "      <td>NaN</td>\n",
       "      <td>NaN</td>\n",
       "      <td>...</td>\n",
       "      <td>Personal</td>\n",
       "      <td>NaN</td>\n",
       "      <td>3.0</td>\n",
       "      <td>NaN</td>\n",
       "      <td>NaN</td>\n",
       "      <td>NaN</td>\n",
       "      <td>IMC</td>\n",
       "      <td>Cruise</td>\n",
       "      <td>Probable Cause</td>\n",
       "      <td>26-02-2007</td>\n",
       "    </tr>\n",
       "    <tr>\n",
       "      <th>3</th>\n",
       "      <td>20001218X45448</td>\n",
       "      <td>Accident</td>\n",
       "      <td>LAX96LA321</td>\n",
       "      <td>1977-06-19</td>\n",
       "      <td>EUREKA, CA</td>\n",
       "      <td>United States</td>\n",
       "      <td>NaN</td>\n",
       "      <td>NaN</td>\n",
       "      <td>NaN</td>\n",
       "      <td>NaN</td>\n",
       "      <td>...</td>\n",
       "      <td>Personal</td>\n",
       "      <td>NaN</td>\n",
       "      <td>2.0</td>\n",
       "      <td>0.0</td>\n",
       "      <td>0.0</td>\n",
       "      <td>0.0</td>\n",
       "      <td>IMC</td>\n",
       "      <td>Cruise</td>\n",
       "      <td>Probable Cause</td>\n",
       "      <td>12-09-2000</td>\n",
       "    </tr>\n",
       "    <tr>\n",
       "      <th>4</th>\n",
       "      <td>20041105X01764</td>\n",
       "      <td>Accident</td>\n",
       "      <td>CHI79FA064</td>\n",
       "      <td>1979-08-02</td>\n",
       "      <td>Canton, OH</td>\n",
       "      <td>United States</td>\n",
       "      <td>NaN</td>\n",
       "      <td>NaN</td>\n",
       "      <td>NaN</td>\n",
       "      <td>NaN</td>\n",
       "      <td>...</td>\n",
       "      <td>Personal</td>\n",
       "      <td>NaN</td>\n",
       "      <td>1.0</td>\n",
       "      <td>2.0</td>\n",
       "      <td>NaN</td>\n",
       "      <td>0.0</td>\n",
       "      <td>VMC</td>\n",
       "      <td>Approach</td>\n",
       "      <td>Probable Cause</td>\n",
       "      <td>16-04-1980</td>\n",
       "    </tr>\n",
       "  </tbody>\n",
       "</table>\n",
       "<p>5 rows × 31 columns</p>\n",
       "</div>"
      ],
      "text/plain": [
       "         Event.Id Investigation.Type Accident.Number  Event.Date  \\\n",
       "0  20001218X45444           Accident      SEA87LA080  1948-10-24   \n",
       "1  20001218X45447           Accident      LAX94LA336  1962-07-19   \n",
       "2  20061025X01555           Accident      NYC07LA005  1974-08-30   \n",
       "3  20001218X45448           Accident      LAX96LA321  1977-06-19   \n",
       "4  20041105X01764           Accident      CHI79FA064  1979-08-02   \n",
       "\n",
       "          Location        Country Latitude Longitude Airport.Code  \\\n",
       "0  MOOSE CREEK, ID  United States      NaN       NaN          NaN   \n",
       "1   BRIDGEPORT, CA  United States      NaN       NaN          NaN   \n",
       "2    Saltville, VA  United States  36.9222  -81.8781          NaN   \n",
       "3       EUREKA, CA  United States      NaN       NaN          NaN   \n",
       "4       Canton, OH  United States      NaN       NaN          NaN   \n",
       "\n",
       "  Airport.Name  ... Purpose.of.flight Air.carrier Total.Fatal.Injuries  \\\n",
       "0          NaN  ...          Personal         NaN                  2.0   \n",
       "1          NaN  ...          Personal         NaN                  4.0   \n",
       "2          NaN  ...          Personal         NaN                  3.0   \n",
       "3          NaN  ...          Personal         NaN                  2.0   \n",
       "4          NaN  ...          Personal         NaN                  1.0   \n",
       "\n",
       "  Total.Serious.Injuries Total.Minor.Injuries Total.Uninjured  \\\n",
       "0                    0.0                  0.0             0.0   \n",
       "1                    0.0                  0.0             0.0   \n",
       "2                    NaN                  NaN             NaN   \n",
       "3                    0.0                  0.0             0.0   \n",
       "4                    2.0                  NaN             0.0   \n",
       "\n",
       "  Weather.Condition  Broad.phase.of.flight   Report.Status Publication.Date  \n",
       "0               UNK                 Cruise  Probable Cause              NaN  \n",
       "1               UNK                Unknown  Probable Cause       19-09-1996  \n",
       "2               IMC                 Cruise  Probable Cause       26-02-2007  \n",
       "3               IMC                 Cruise  Probable Cause       12-09-2000  \n",
       "4               VMC               Approach  Probable Cause       16-04-1980  \n",
       "\n",
       "[5 rows x 31 columns]"
      ]
     },
     "execution_count": 14,
     "metadata": {},
     "output_type": "execute_result"
    }
   ],
   "source": [
    "# Load the CSV file \"Aviation_Data.csv\" from the 'data' folder into a pandas DataFrame named 'df'\n",
    "\n",
    "df = pd.read_csv(\"./data/Aviation_Data.csv\")\n",
    "\n",
    "# Display the first 5 rows of the DataFrame to quickly inspect the data\n",
    "\n",
    "df.head()"
   ]
  },
  {
   "cell_type": "code",
   "execution_count": 19,
   "metadata": {},
   "outputs": [
    {
     "name": "stdout",
     "output_type": "stream",
     "text": [
      "This dataset has 90348 rows and 31 columns.\n"
     ]
    }
   ],
   "source": [
    "# Display the shape (rows, columns)\n",
    "df.shape\n",
    "\n",
    "# Print the number of rows and columns in a readable format\n",
    "print(f\"This dataset has {df.shape[0]} rows and {df.shape[1]} columns.\")\n"
   ]
  },
  {
   "cell_type": "code",
   "execution_count": 18,
   "metadata": {},
   "outputs": [
    {
     "name": "stdout",
     "output_type": "stream",
     "text": [
      "<class 'pandas.core.frame.DataFrame'>\n",
      "RangeIndex: 90348 entries, 0 to 90347\n",
      "Data columns (total 31 columns):\n",
      " #   Column                  Non-Null Count  Dtype  \n",
      "---  ------                  --------------  -----  \n",
      " 0   Event.Id                88889 non-null  object \n",
      " 1   Investigation.Type      90348 non-null  object \n",
      " 2   Accident.Number         88889 non-null  object \n",
      " 3   Event.Date              88889 non-null  object \n",
      " 4   Location                88837 non-null  object \n",
      " 5   Country                 88663 non-null  object \n",
      " 6   Latitude                34382 non-null  object \n",
      " 7   Longitude               34373 non-null  object \n",
      " 8   Airport.Code            50249 non-null  object \n",
      " 9   Airport.Name            52790 non-null  object \n",
      " 10  Injury.Severity         87889 non-null  object \n",
      " 11  Aircraft.damage         85695 non-null  object \n",
      " 12  Aircraft.Category       32287 non-null  object \n",
      " 13  Registration.Number     87572 non-null  object \n",
      " 14  Make                    88826 non-null  object \n",
      " 15  Model                   88797 non-null  object \n",
      " 16  Amateur.Built           88787 non-null  object \n",
      " 17  Number.of.Engines       82805 non-null  float64\n",
      " 18  Engine.Type             81812 non-null  object \n",
      " 19  FAR.Description         32023 non-null  object \n",
      " 20  Schedule                12582 non-null  object \n",
      " 21  Purpose.of.flight       82697 non-null  object \n",
      " 22  Air.carrier             16648 non-null  object \n",
      " 23  Total.Fatal.Injuries    77488 non-null  float64\n",
      " 24  Total.Serious.Injuries  76379 non-null  float64\n",
      " 25  Total.Minor.Injuries    76956 non-null  float64\n",
      " 26  Total.Uninjured         82977 non-null  float64\n",
      " 27  Weather.Condition       84397 non-null  object \n",
      " 28  Broad.phase.of.flight   61724 non-null  object \n",
      " 29  Report.Status           82508 non-null  object \n",
      " 30  Publication.Date        73659 non-null  object \n",
      "dtypes: float64(5), object(26)\n",
      "memory usage: 21.4+ MB\n"
     ]
    }
   ],
   "source": [
    "df.info()"
   ]
  },
  {
   "cell_type": "markdown",
   "metadata": {},
   "source": [
    "# How to Find Duplicates in our Aviation Data \n",
    "\n",
    "our data has **90,348 rows** and **31 columns**.  \n",
    "Sometimes the **same crash** gets entered **twice** by mistake.  \n",
    "We want to **find & remove** those duplicates so our analysis is clean!\n",
    "\n",
    "we have 88889 event ids(which should be unique) but invistagation type 90348 techically we have duplicates of \n",
    "(90348-888889) 1489"
   ]
  },
  {
   "cell_type": "code",
   "execution_count": 43,
   "metadata": {},
   "outputs": [
    {
     "data": {
      "application/vnd.microsoft.datawrangler.viewer.v0+json": {
       "columns": [
        {
         "name": "index",
         "rawType": "object",
         "type": "string"
        },
        {
         "name": "Event.Id",
         "rawType": "int64",
         "type": "integer"
        }
       ],
       "ref": "fc801489-179f-49ee-ad6c-89617056ae4f",
       "rows": [
        [
         "20001212X19172",
         "3"
        ],
        [
         "20001214X45071",
         "3"
        ],
        [
         "20001213X33965",
         "2"
        ],
        [
         "20001208X07187",
         "2"
        ],
        [
         "20020214X00224",
         "2"
        ],
        [
         "20010821X01739",
         "2"
        ],
        [
         "20001213X25259",
         "2"
        ],
        [
         "20220727105589",
         "2"
        ],
        [
         "20001212X23663",
         "2"
        ],
        [
         "20031022X01799",
         "2"
        ],
        [
         "20001206X02276",
         "2"
        ],
        [
         "20001212X23591",
         "2"
        ],
        [
         "20001208X09314",
         "2"
        ],
        [
         "20001208X07246",
         "2"
        ],
        [
         "20001212X23104",
         "2"
        ],
        [
         "20051020X01700",
         "2"
        ],
        [
         "20001212X22757",
         "2"
        ],
        [
         "20001213X27563",
         "2"
        ],
        [
         "20001213X35186",
         "2"
        ],
        [
         "20001212X20092",
         "2"
        ],
        [
         "20001214X39651",
         "2"
        ],
        [
         "20001214X38212",
         "2"
        ],
        [
         "20001211X15430",
         "2"
        ],
        [
         "20011102X02187",
         "2"
        ],
        [
         "20001212X20686",
         "2"
        ],
        [
         "20001211X09700",
         "2"
        ],
        [
         "20001213X34928",
         "2"
        ],
        [
         "20001214X45174",
         "2"
        ],
        [
         "20051117X01851",
         "2"
        ],
        [
         "20050915X01463",
         "2"
        ],
        [
         "20001213X30577",
         "2"
        ],
        [
         "20001212X18830",
         "2"
        ],
        [
         "20001214X42191",
         "2"
        ],
        [
         "20050901X01366",
         "2"
        ],
        [
         "20001214X36348",
         "2"
        ],
        [
         "20001214X36733",
         "2"
        ],
        [
         "20001208X09006",
         "2"
        ],
        [
         "20001213X28137",
         "2"
        ],
        [
         "20061020X01542",
         "2"
        ],
        [
         "20001212X22182",
         "2"
        ],
        [
         "20001208X06960",
         "2"
        ],
        [
         "20001213X32977",
         "2"
        ],
        [
         "20080307X00282",
         "2"
        ],
        [
         "20001214X40252",
         "2"
        ],
        [
         "20220802105640",
         "2"
        ],
        [
         "20220929106019",
         "2"
        ],
        [
         "20001213X31929",
         "2"
        ],
        [
         "20001212X17483",
         "2"
        ],
        [
         "20001212X23426",
         "2"
        ],
        [
         "20220718105496",
         "2"
        ]
       ],
       "shape": {
        "columns": 1,
        "rows": 87951
       }
      },
      "text/plain": [
       "20001212X19172    3\n",
       "20001214X45071    3\n",
       "20001213X33965    2\n",
       "20001208X07187    2\n",
       "20020214X00224    2\n",
       "                 ..\n",
       "20001213X34057    1\n",
       "20020917X04401    1\n",
       "20110418X31323    1\n",
       "20001213X29614    1\n",
       "20221011106090    1\n",
       "Name: Event.Id, Length: 87951, dtype: int64"
      ]
     },
     "execution_count": 43,
     "metadata": {},
     "output_type": "execute_result"
    }
   ],
   "source": [
    "df['Event.Id'].value_counts()"
   ]
  },
  {
   "cell_type": "code",
   "execution_count": 30,
   "metadata": {},
   "outputs": [
    {
     "data": {
      "application/vnd.microsoft.datawrangler.viewer.v0+json": {
       "columns": [
        {
         "name": "index",
         "rawType": "object",
         "type": "string"
        },
        {
         "name": "0",
         "rawType": "float64",
         "type": "float"
        }
       ],
       "ref": "4c7e58b0-3af5-4b98-9fd7-0e33ddb81ccf",
       "rows": [
        [
         "Schedule",
         "86.07384778855094"
        ],
        [
         "Air.carrier",
         "81.57347146588747"
        ],
        [
         "FAR.Description",
         "64.55593925709479"
        ],
        [
         "Aircraft.Category",
         "64.26373577721698"
        ],
        [
         "Longitude",
         "61.95488555363705"
        ],
        [
         "Latitude",
         "61.94492407136849"
        ],
        [
         "Airport.Code",
         "44.38283083189445"
        ],
        [
         "Airport.Name",
         "41.57037233807057"
        ],
        [
         "Broad.phase.of.flight",
         "31.68194093947846"
        ],
        [
         "Publication.Date",
         "18.471908620002655"
        ],
        [
         "Total.Serious.Injuries",
         "15.461327312170717"
        ],
        [
         "Total.Minor.Injuries",
         "14.822685615619605"
        ],
        [
         "Total.Fatal.Injuries",
         "14.233851330411298"
        ],
        [
         "Engine.Type",
         "9.447912516049055"
        ],
        [
         "Report.Status",
         "8.677557887280294"
        ],
        [
         "Purpose.of.flight",
         "8.468366759640501"
        ],
        [
         "Number.of.Engines",
         "8.348828972417763"
        ],
        [
         "Total.Uninjured",
         "8.15845397795192"
        ],
        [
         "Weather.Condition",
         "6.58675344224554"
        ],
        [
         "Aircraft.damage",
         "5.150086332846328"
        ],
        [
         "Registration.Number",
         "3.072563864169655"
        ],
        [
         "Injury.Severity",
         "2.7216983220436535"
        ],
        [
         "Country",
         "1.865010846947359"
        ],
        [
         "Amateur.Built",
         "1.7277637579138445"
        ],
        [
         "Model",
         "1.716695444282109"
        ],
        [
         "Make",
         "1.6845973347500776"
        ],
        [
         "Location",
         "1.672422189755169"
        ],
        [
         "Event.Date",
         "1.6148669588701468"
        ],
        [
         "Accident.Number",
         "1.6148669588701468"
        ],
        [
         "Event.Id",
         "1.6148669588701468"
        ],
        [
         "Investigation.Type",
         "0.0"
        ]
       ],
       "shape": {
        "columns": 1,
        "rows": 31
       }
      },
      "text/plain": [
       "Schedule                  86.073848\n",
       "Air.carrier               81.573471\n",
       "FAR.Description           64.555939\n",
       "Aircraft.Category         64.263736\n",
       "Longitude                 61.954886\n",
       "Latitude                  61.944924\n",
       "Airport.Code              44.382831\n",
       "Airport.Name              41.570372\n",
       "Broad.phase.of.flight     31.681941\n",
       "Publication.Date          18.471909\n",
       "Total.Serious.Injuries    15.461327\n",
       "Total.Minor.Injuries      14.822686\n",
       "Total.Fatal.Injuries      14.233851\n",
       "Engine.Type                9.447913\n",
       "Report.Status              8.677558\n",
       "Purpose.of.flight          8.468367\n",
       "Number.of.Engines          8.348829\n",
       "Total.Uninjured            8.158454\n",
       "Weather.Condition          6.586753\n",
       "Aircraft.damage            5.150086\n",
       "Registration.Number        3.072564\n",
       "Injury.Severity            2.721698\n",
       "Country                    1.865011\n",
       "Amateur.Built              1.727764\n",
       "Model                      1.716695\n",
       "Make                       1.684597\n",
       "Location                   1.672422\n",
       "Event.Date                 1.614867\n",
       "Accident.Number            1.614867\n",
       "Event.Id                   1.614867\n",
       "Investigation.Type         0.000000\n",
       "dtype: float64"
      ]
     },
     "execution_count": 30,
     "metadata": {},
     "output_type": "execute_result"
    }
   ],
   "source": [
    "#Check missing data percentages:\n",
    "df.isnull().mean().sort_values(ascending=False) * 100 \n"
   ]
  },
  {
   "cell_type": "code",
   "execution_count": 29,
   "metadata": {},
   "outputs": [
    {
     "data": {
      "application/vnd.microsoft.datawrangler.viewer.v0+json": {
       "columns": [
        {
         "name": "index",
         "rawType": "object",
         "type": "string"
        },
        {
         "name": "Number.of.Engines",
         "rawType": "float64",
         "type": "float"
        },
        {
         "name": "Total.Fatal.Injuries",
         "rawType": "float64",
         "type": "float"
        },
        {
         "name": "Total.Serious.Injuries",
         "rawType": "float64",
         "type": "float"
        },
        {
         "name": "Total.Minor.Injuries",
         "rawType": "float64",
         "type": "float"
        },
        {
         "name": "Total.Uninjured",
         "rawType": "float64",
         "type": "float"
        }
       ],
       "ref": "62aeca9f-40b0-4a5e-9ac4-373f0583ab06",
       "rows": [
        [
         "count",
         "82805.0",
         "77488.0",
         "76379.0",
         "76956.0",
         "82977.0"
        ],
        [
         "mean",
         "1.1465853511261397",
         "0.6478551517654346",
         "0.27988059545162935",
         "0.3570611778158948",
         "5.325439579642552"
        ],
        [
         "std",
         "0.4465102138196286",
         "5.485960107559197",
         "1.5440836452335867",
         "2.235625319656934",
         "27.913634431008564"
        ],
        [
         "min",
         "0.0",
         "0.0",
         "0.0",
         "0.0",
         "0.0"
        ],
        [
         "25%",
         "1.0",
         "0.0",
         "0.0",
         "0.0",
         "0.0"
        ],
        [
         "50%",
         "1.0",
         "0.0",
         "0.0",
         "0.0",
         "1.0"
        ],
        [
         "75%",
         "1.0",
         "0.0",
         "0.0",
         "0.0",
         "2.0"
        ],
        [
         "max",
         "8.0",
         "349.0",
         "161.0",
         "380.0",
         "699.0"
        ]
       ],
       "shape": {
        "columns": 5,
        "rows": 8
       }
      },
      "text/html": [
       "<div>\n",
       "<style scoped>\n",
       "    .dataframe tbody tr th:only-of-type {\n",
       "        vertical-align: middle;\n",
       "    }\n",
       "\n",
       "    .dataframe tbody tr th {\n",
       "        vertical-align: top;\n",
       "    }\n",
       "\n",
       "    .dataframe thead th {\n",
       "        text-align: right;\n",
       "    }\n",
       "</style>\n",
       "<table border=\"1\" class=\"dataframe\">\n",
       "  <thead>\n",
       "    <tr style=\"text-align: right;\">\n",
       "      <th></th>\n",
       "      <th>Number.of.Engines</th>\n",
       "      <th>Total.Fatal.Injuries</th>\n",
       "      <th>Total.Serious.Injuries</th>\n",
       "      <th>Total.Minor.Injuries</th>\n",
       "      <th>Total.Uninjured</th>\n",
       "    </tr>\n",
       "  </thead>\n",
       "  <tbody>\n",
       "    <tr>\n",
       "      <th>count</th>\n",
       "      <td>82805.000000</td>\n",
       "      <td>77488.000000</td>\n",
       "      <td>76379.000000</td>\n",
       "      <td>76956.000000</td>\n",
       "      <td>82977.000000</td>\n",
       "    </tr>\n",
       "    <tr>\n",
       "      <th>mean</th>\n",
       "      <td>1.146585</td>\n",
       "      <td>0.647855</td>\n",
       "      <td>0.279881</td>\n",
       "      <td>0.357061</td>\n",
       "      <td>5.325440</td>\n",
       "    </tr>\n",
       "    <tr>\n",
       "      <th>std</th>\n",
       "      <td>0.446510</td>\n",
       "      <td>5.485960</td>\n",
       "      <td>1.544084</td>\n",
       "      <td>2.235625</td>\n",
       "      <td>27.913634</td>\n",
       "    </tr>\n",
       "    <tr>\n",
       "      <th>min</th>\n",
       "      <td>0.000000</td>\n",
       "      <td>0.000000</td>\n",
       "      <td>0.000000</td>\n",
       "      <td>0.000000</td>\n",
       "      <td>0.000000</td>\n",
       "    </tr>\n",
       "    <tr>\n",
       "      <th>25%</th>\n",
       "      <td>1.000000</td>\n",
       "      <td>0.000000</td>\n",
       "      <td>0.000000</td>\n",
       "      <td>0.000000</td>\n",
       "      <td>0.000000</td>\n",
       "    </tr>\n",
       "    <tr>\n",
       "      <th>50%</th>\n",
       "      <td>1.000000</td>\n",
       "      <td>0.000000</td>\n",
       "      <td>0.000000</td>\n",
       "      <td>0.000000</td>\n",
       "      <td>1.000000</td>\n",
       "    </tr>\n",
       "    <tr>\n",
       "      <th>75%</th>\n",
       "      <td>1.000000</td>\n",
       "      <td>0.000000</td>\n",
       "      <td>0.000000</td>\n",
       "      <td>0.000000</td>\n",
       "      <td>2.000000</td>\n",
       "    </tr>\n",
       "    <tr>\n",
       "      <th>max</th>\n",
       "      <td>8.000000</td>\n",
       "      <td>349.000000</td>\n",
       "      <td>161.000000</td>\n",
       "      <td>380.000000</td>\n",
       "      <td>699.000000</td>\n",
       "    </tr>\n",
       "  </tbody>\n",
       "</table>\n",
       "</div>"
      ],
      "text/plain": [
       "       Number.of.Engines  Total.Fatal.Injuries  Total.Serious.Injuries  \\\n",
       "count       82805.000000          77488.000000            76379.000000   \n",
       "mean            1.146585              0.647855                0.279881   \n",
       "std             0.446510              5.485960                1.544084   \n",
       "min             0.000000              0.000000                0.000000   \n",
       "25%             1.000000              0.000000                0.000000   \n",
       "50%             1.000000              0.000000                0.000000   \n",
       "75%             1.000000              0.000000                0.000000   \n",
       "max             8.000000            349.000000              161.000000   \n",
       "\n",
       "       Total.Minor.Injuries  Total.Uninjured  \n",
       "count          76956.000000     82977.000000  \n",
       "mean               0.357061         5.325440  \n",
       "std                2.235625        27.913634  \n",
       "min                0.000000         0.000000  \n",
       "25%                0.000000         0.000000  \n",
       "50%                0.000000         1.000000  \n",
       "75%                0.000000         2.000000  \n",
       "max              380.000000       699.000000  "
      ]
     },
     "execution_count": 29,
     "metadata": {},
     "output_type": "execute_result"
    }
   ],
   "source": [
    "df.describe()\n"
   ]
  },
  {
   "cell_type": "code",
   "execution_count": null,
   "metadata": {},
   "outputs": [
    {
     "data": {
      "application/vnd.microsoft.datawrangler.viewer.v0+json": {
       "columns": [
        {
         "name": "index",
         "rawType": "object",
         "type": "string"
        },
        {
         "name": "Event.Id",
         "rawType": "object",
         "type": "string"
        },
        {
         "name": "Investigation.Type",
         "rawType": "object",
         "type": "string"
        },
        {
         "name": "Accident.Number",
         "rawType": "object",
         "type": "string"
        },
        {
         "name": "Event.Date",
         "rawType": "object",
         "type": "string"
        },
        {
         "name": "Location",
         "rawType": "object",
         "type": "string"
        },
        {
         "name": "Country",
         "rawType": "object",
         "type": "string"
        },
        {
         "name": "Latitude",
         "rawType": "object",
         "type": "string"
        },
        {
         "name": "Longitude",
         "rawType": "object",
         "type": "string"
        },
        {
         "name": "Airport.Code",
         "rawType": "object",
         "type": "string"
        },
        {
         "name": "Airport.Name",
         "rawType": "object",
         "type": "string"
        },
        {
         "name": "Injury.Severity",
         "rawType": "object",
         "type": "string"
        },
        {
         "name": "Aircraft.damage",
         "rawType": "object",
         "type": "string"
        },
        {
         "name": "Aircraft.Category",
         "rawType": "object",
         "type": "string"
        },
        {
         "name": "Registration.Number",
         "rawType": "object",
         "type": "string"
        },
        {
         "name": "Make",
         "rawType": "object",
         "type": "string"
        },
        {
         "name": "Model",
         "rawType": "object",
         "type": "string"
        },
        {
         "name": "Amateur.Built",
         "rawType": "object",
         "type": "string"
        },
        {
         "name": "Number.of.Engines",
         "rawType": "float64",
         "type": "float"
        },
        {
         "name": "Engine.Type",
         "rawType": "object",
         "type": "string"
        },
        {
         "name": "FAR.Description",
         "rawType": "object",
         "type": "string"
        },
        {
         "name": "Schedule",
         "rawType": "object",
         "type": "string"
        },
        {
         "name": "Purpose.of.flight",
         "rawType": "object",
         "type": "string"
        },
        {
         "name": "Air.carrier",
         "rawType": "object",
         "type": "string"
        },
        {
         "name": "Total.Fatal.Injuries",
         "rawType": "float64",
         "type": "float"
        },
        {
         "name": "Total.Serious.Injuries",
         "rawType": "float64",
         "type": "float"
        },
        {
         "name": "Total.Minor.Injuries",
         "rawType": "float64",
         "type": "float"
        },
        {
         "name": "Total.Uninjured",
         "rawType": "float64",
         "type": "float"
        },
        {
         "name": "Weather.Condition",
         "rawType": "object",
         "type": "string"
        },
        {
         "name": "Broad.phase.of.flight",
         "rawType": "object",
         "type": "string"
        },
        {
         "name": "Report.Status",
         "rawType": "object",
         "type": "string"
        },
        {
         "name": "Publication.Date",
         "rawType": "object",
         "type": "string"
        }
       ],
       "ref": "66170506-2632-4095-b88e-70d9b3cb3cb2",
       "rows": [
        [
         "count",
         "88889",
         "90348",
         "88889",
         "88889",
         "88837",
         "88663",
         "34382",
         "34373",
         "50249",
         "52790",
         "87889",
         "85695",
         "32287",
         "87572",
         "88826",
         "88797",
         "88787",
         "82805.0",
         "81812",
         "32023",
         "12582",
         "82697",
         "16648",
         "77488.0",
         "76379.0",
         "76956.0",
         "82977.0",
         "84397",
         "61724",
         "82508",
         "73659"
        ],
        [
         "unique",
         "87951",
         "71",
         "88863",
         "14782",
         "27758",
         "219",
         "25592",
         "27156",
         "10375",
         "24871",
         "109",
         "4",
         "15",
         "79105",
         "8237",
         "12318",
         "2",
         null,
         "13",
         "31",
         "3",
         "26",
         "13590",
         null,
         null,
         null,
         null,
         "4",
         "12",
         "17007",
         "2923"
        ],
        [
         "top",
         "20001212X19172",
         "Accident",
         "WPR22FA309",
         "1982-05-16",
         "ANCHORAGE, AK",
         "United States",
         "332739N",
         "0112457W",
         "NONE",
         "Private",
         "Non-Fatal",
         "Substantial",
         "Airplane",
         "NONE",
         "Cessna",
         "152",
         "No",
         null,
         "Reciprocating",
         "091",
         "NSCH",
         "Personal",
         "Pilot",
         null,
         null,
         null,
         null,
         "VMC",
         "Landing",
         "Probable Cause",
         "25-09-2020"
        ],
        [
         "freq",
         "3",
         "85015",
         "2",
         "25",
         "434",
         "82248",
         "19",
         "24",
         "1488",
         "240",
         "67357",
         "64148",
         "27617",
         "344",
         "22227",
         "2367",
         "80312",
         null,
         "69530",
         "18221",
         "4474",
         "49448",
         "258",
         null,
         null,
         null,
         null,
         "77303",
         "15428",
         "61754",
         "16317"
        ],
        [
         "mean",
         null,
         null,
         null,
         null,
         null,
         null,
         null,
         null,
         null,
         null,
         null,
         null,
         null,
         null,
         null,
         null,
         null,
         "1.1465853511261397",
         null,
         null,
         null,
         null,
         null,
         "0.6478551517654346",
         "0.27988059545162935",
         "0.3570611778158948",
         "5.325439579642552",
         null,
         null,
         null,
         null
        ],
        [
         "std",
         null,
         null,
         null,
         null,
         null,
         null,
         null,
         null,
         null,
         null,
         null,
         null,
         null,
         null,
         null,
         null,
         null,
         "0.4465102138196286",
         null,
         null,
         null,
         null,
         null,
         "5.485960107559197",
         "1.5440836452335867",
         "2.235625319656934",
         "27.913634431008564",
         null,
         null,
         null,
         null
        ],
        [
         "min",
         null,
         null,
         null,
         null,
         null,
         null,
         null,
         null,
         null,
         null,
         null,
         null,
         null,
         null,
         null,
         null,
         null,
         "0.0",
         null,
         null,
         null,
         null,
         null,
         "0.0",
         "0.0",
         "0.0",
         "0.0",
         null,
         null,
         null,
         null
        ],
        [
         "25%",
         null,
         null,
         null,
         null,
         null,
         null,
         null,
         null,
         null,
         null,
         null,
         null,
         null,
         null,
         null,
         null,
         null,
         "1.0",
         null,
         null,
         null,
         null,
         null,
         "0.0",
         "0.0",
         "0.0",
         "0.0",
         null,
         null,
         null,
         null
        ],
        [
         "50%",
         null,
         null,
         null,
         null,
         null,
         null,
         null,
         null,
         null,
         null,
         null,
         null,
         null,
         null,
         null,
         null,
         null,
         "1.0",
         null,
         null,
         null,
         null,
         null,
         "0.0",
         "0.0",
         "0.0",
         "1.0",
         null,
         null,
         null,
         null
        ],
        [
         "75%",
         null,
         null,
         null,
         null,
         null,
         null,
         null,
         null,
         null,
         null,
         null,
         null,
         null,
         null,
         null,
         null,
         null,
         "1.0",
         null,
         null,
         null,
         null,
         null,
         "0.0",
         "0.0",
         "0.0",
         "2.0",
         null,
         null,
         null,
         null
        ],
        [
         "max",
         null,
         null,
         null,
         null,
         null,
         null,
         null,
         null,
         null,
         null,
         null,
         null,
         null,
         null,
         null,
         null,
         null,
         "8.0",
         null,
         null,
         null,
         null,
         null,
         "349.0",
         "161.0",
         "380.0",
         "699.0",
         null,
         null,
         null,
         null
        ]
       ],
       "shape": {
        "columns": 31,
        "rows": 11
       }
      },
      "text/html": [
       "<div>\n",
       "<style scoped>\n",
       "    .dataframe tbody tr th:only-of-type {\n",
       "        vertical-align: middle;\n",
       "    }\n",
       "\n",
       "    .dataframe tbody tr th {\n",
       "        vertical-align: top;\n",
       "    }\n",
       "\n",
       "    .dataframe thead th {\n",
       "        text-align: right;\n",
       "    }\n",
       "</style>\n",
       "<table border=\"1\" class=\"dataframe\">\n",
       "  <thead>\n",
       "    <tr style=\"text-align: right;\">\n",
       "      <th></th>\n",
       "      <th>Event.Id</th>\n",
       "      <th>Investigation.Type</th>\n",
       "      <th>Accident.Number</th>\n",
       "      <th>Event.Date</th>\n",
       "      <th>Location</th>\n",
       "      <th>Country</th>\n",
       "      <th>Latitude</th>\n",
       "      <th>Longitude</th>\n",
       "      <th>Airport.Code</th>\n",
       "      <th>Airport.Name</th>\n",
       "      <th>...</th>\n",
       "      <th>Purpose.of.flight</th>\n",
       "      <th>Air.carrier</th>\n",
       "      <th>Total.Fatal.Injuries</th>\n",
       "      <th>Total.Serious.Injuries</th>\n",
       "      <th>Total.Minor.Injuries</th>\n",
       "      <th>Total.Uninjured</th>\n",
       "      <th>Weather.Condition</th>\n",
       "      <th>Broad.phase.of.flight</th>\n",
       "      <th>Report.Status</th>\n",
       "      <th>Publication.Date</th>\n",
       "    </tr>\n",
       "  </thead>\n",
       "  <tbody>\n",
       "    <tr>\n",
       "      <th>count</th>\n",
       "      <td>88889</td>\n",
       "      <td>90348</td>\n",
       "      <td>88889</td>\n",
       "      <td>88889</td>\n",
       "      <td>88837</td>\n",
       "      <td>88663</td>\n",
       "      <td>34382</td>\n",
       "      <td>34373</td>\n",
       "      <td>50249</td>\n",
       "      <td>52790</td>\n",
       "      <td>...</td>\n",
       "      <td>82697</td>\n",
       "      <td>16648</td>\n",
       "      <td>77488.000000</td>\n",
       "      <td>76379.000000</td>\n",
       "      <td>76956.000000</td>\n",
       "      <td>82977.000000</td>\n",
       "      <td>84397</td>\n",
       "      <td>61724</td>\n",
       "      <td>82508</td>\n",
       "      <td>73659</td>\n",
       "    </tr>\n",
       "    <tr>\n",
       "      <th>unique</th>\n",
       "      <td>87951</td>\n",
       "      <td>71</td>\n",
       "      <td>88863</td>\n",
       "      <td>14782</td>\n",
       "      <td>27758</td>\n",
       "      <td>219</td>\n",
       "      <td>25592</td>\n",
       "      <td>27156</td>\n",
       "      <td>10375</td>\n",
       "      <td>24871</td>\n",
       "      <td>...</td>\n",
       "      <td>26</td>\n",
       "      <td>13590</td>\n",
       "      <td>NaN</td>\n",
       "      <td>NaN</td>\n",
       "      <td>NaN</td>\n",
       "      <td>NaN</td>\n",
       "      <td>4</td>\n",
       "      <td>12</td>\n",
       "      <td>17007</td>\n",
       "      <td>2923</td>\n",
       "    </tr>\n",
       "    <tr>\n",
       "      <th>top</th>\n",
       "      <td>20001212X19172</td>\n",
       "      <td>Accident</td>\n",
       "      <td>WPR22FA309</td>\n",
       "      <td>1982-05-16</td>\n",
       "      <td>ANCHORAGE, AK</td>\n",
       "      <td>United States</td>\n",
       "      <td>332739N</td>\n",
       "      <td>0112457W</td>\n",
       "      <td>NONE</td>\n",
       "      <td>Private</td>\n",
       "      <td>...</td>\n",
       "      <td>Personal</td>\n",
       "      <td>Pilot</td>\n",
       "      <td>NaN</td>\n",
       "      <td>NaN</td>\n",
       "      <td>NaN</td>\n",
       "      <td>NaN</td>\n",
       "      <td>VMC</td>\n",
       "      <td>Landing</td>\n",
       "      <td>Probable Cause</td>\n",
       "      <td>25-09-2020</td>\n",
       "    </tr>\n",
       "    <tr>\n",
       "      <th>freq</th>\n",
       "      <td>3</td>\n",
       "      <td>85015</td>\n",
       "      <td>2</td>\n",
       "      <td>25</td>\n",
       "      <td>434</td>\n",
       "      <td>82248</td>\n",
       "      <td>19</td>\n",
       "      <td>24</td>\n",
       "      <td>1488</td>\n",
       "      <td>240</td>\n",
       "      <td>...</td>\n",
       "      <td>49448</td>\n",
       "      <td>258</td>\n",
       "      <td>NaN</td>\n",
       "      <td>NaN</td>\n",
       "      <td>NaN</td>\n",
       "      <td>NaN</td>\n",
       "      <td>77303</td>\n",
       "      <td>15428</td>\n",
       "      <td>61754</td>\n",
       "      <td>16317</td>\n",
       "    </tr>\n",
       "    <tr>\n",
       "      <th>mean</th>\n",
       "      <td>NaN</td>\n",
       "      <td>NaN</td>\n",
       "      <td>NaN</td>\n",
       "      <td>NaN</td>\n",
       "      <td>NaN</td>\n",
       "      <td>NaN</td>\n",
       "      <td>NaN</td>\n",
       "      <td>NaN</td>\n",
       "      <td>NaN</td>\n",
       "      <td>NaN</td>\n",
       "      <td>...</td>\n",
       "      <td>NaN</td>\n",
       "      <td>NaN</td>\n",
       "      <td>0.647855</td>\n",
       "      <td>0.279881</td>\n",
       "      <td>0.357061</td>\n",
       "      <td>5.325440</td>\n",
       "      <td>NaN</td>\n",
       "      <td>NaN</td>\n",
       "      <td>NaN</td>\n",
       "      <td>NaN</td>\n",
       "    </tr>\n",
       "    <tr>\n",
       "      <th>std</th>\n",
       "      <td>NaN</td>\n",
       "      <td>NaN</td>\n",
       "      <td>NaN</td>\n",
       "      <td>NaN</td>\n",
       "      <td>NaN</td>\n",
       "      <td>NaN</td>\n",
       "      <td>NaN</td>\n",
       "      <td>NaN</td>\n",
       "      <td>NaN</td>\n",
       "      <td>NaN</td>\n",
       "      <td>...</td>\n",
       "      <td>NaN</td>\n",
       "      <td>NaN</td>\n",
       "      <td>5.485960</td>\n",
       "      <td>1.544084</td>\n",
       "      <td>2.235625</td>\n",
       "      <td>27.913634</td>\n",
       "      <td>NaN</td>\n",
       "      <td>NaN</td>\n",
       "      <td>NaN</td>\n",
       "      <td>NaN</td>\n",
       "    </tr>\n",
       "    <tr>\n",
       "      <th>min</th>\n",
       "      <td>NaN</td>\n",
       "      <td>NaN</td>\n",
       "      <td>NaN</td>\n",
       "      <td>NaN</td>\n",
       "      <td>NaN</td>\n",
       "      <td>NaN</td>\n",
       "      <td>NaN</td>\n",
       "      <td>NaN</td>\n",
       "      <td>NaN</td>\n",
       "      <td>NaN</td>\n",
       "      <td>...</td>\n",
       "      <td>NaN</td>\n",
       "      <td>NaN</td>\n",
       "      <td>0.000000</td>\n",
       "      <td>0.000000</td>\n",
       "      <td>0.000000</td>\n",
       "      <td>0.000000</td>\n",
       "      <td>NaN</td>\n",
       "      <td>NaN</td>\n",
       "      <td>NaN</td>\n",
       "      <td>NaN</td>\n",
       "    </tr>\n",
       "    <tr>\n",
       "      <th>25%</th>\n",
       "      <td>NaN</td>\n",
       "      <td>NaN</td>\n",
       "      <td>NaN</td>\n",
       "      <td>NaN</td>\n",
       "      <td>NaN</td>\n",
       "      <td>NaN</td>\n",
       "      <td>NaN</td>\n",
       "      <td>NaN</td>\n",
       "      <td>NaN</td>\n",
       "      <td>NaN</td>\n",
       "      <td>...</td>\n",
       "      <td>NaN</td>\n",
       "      <td>NaN</td>\n",
       "      <td>0.000000</td>\n",
       "      <td>0.000000</td>\n",
       "      <td>0.000000</td>\n",
       "      <td>0.000000</td>\n",
       "      <td>NaN</td>\n",
       "      <td>NaN</td>\n",
       "      <td>NaN</td>\n",
       "      <td>NaN</td>\n",
       "    </tr>\n",
       "    <tr>\n",
       "      <th>50%</th>\n",
       "      <td>NaN</td>\n",
       "      <td>NaN</td>\n",
       "      <td>NaN</td>\n",
       "      <td>NaN</td>\n",
       "      <td>NaN</td>\n",
       "      <td>NaN</td>\n",
       "      <td>NaN</td>\n",
       "      <td>NaN</td>\n",
       "      <td>NaN</td>\n",
       "      <td>NaN</td>\n",
       "      <td>...</td>\n",
       "      <td>NaN</td>\n",
       "      <td>NaN</td>\n",
       "      <td>0.000000</td>\n",
       "      <td>0.000000</td>\n",
       "      <td>0.000000</td>\n",
       "      <td>1.000000</td>\n",
       "      <td>NaN</td>\n",
       "      <td>NaN</td>\n",
       "      <td>NaN</td>\n",
       "      <td>NaN</td>\n",
       "    </tr>\n",
       "    <tr>\n",
       "      <th>75%</th>\n",
       "      <td>NaN</td>\n",
       "      <td>NaN</td>\n",
       "      <td>NaN</td>\n",
       "      <td>NaN</td>\n",
       "      <td>NaN</td>\n",
       "      <td>NaN</td>\n",
       "      <td>NaN</td>\n",
       "      <td>NaN</td>\n",
       "      <td>NaN</td>\n",
       "      <td>NaN</td>\n",
       "      <td>...</td>\n",
       "      <td>NaN</td>\n",
       "      <td>NaN</td>\n",
       "      <td>0.000000</td>\n",
       "      <td>0.000000</td>\n",
       "      <td>0.000000</td>\n",
       "      <td>2.000000</td>\n",
       "      <td>NaN</td>\n",
       "      <td>NaN</td>\n",
       "      <td>NaN</td>\n",
       "      <td>NaN</td>\n",
       "    </tr>\n",
       "    <tr>\n",
       "      <th>max</th>\n",
       "      <td>NaN</td>\n",
       "      <td>NaN</td>\n",
       "      <td>NaN</td>\n",
       "      <td>NaN</td>\n",
       "      <td>NaN</td>\n",
       "      <td>NaN</td>\n",
       "      <td>NaN</td>\n",
       "      <td>NaN</td>\n",
       "      <td>NaN</td>\n",
       "      <td>NaN</td>\n",
       "      <td>...</td>\n",
       "      <td>NaN</td>\n",
       "      <td>NaN</td>\n",
       "      <td>349.000000</td>\n",
       "      <td>161.000000</td>\n",
       "      <td>380.000000</td>\n",
       "      <td>699.000000</td>\n",
       "      <td>NaN</td>\n",
       "      <td>NaN</td>\n",
       "      <td>NaN</td>\n",
       "      <td>NaN</td>\n",
       "    </tr>\n",
       "  </tbody>\n",
       "</table>\n",
       "<p>11 rows × 31 columns</p>\n",
       "</div>"
      ],
      "text/plain": [
       "              Event.Id Investigation.Type Accident.Number  Event.Date  \\\n",
       "count            88889              90348           88889       88889   \n",
       "unique           87951                 71           88863       14782   \n",
       "top     20001212X19172           Accident      WPR22FA309  1982-05-16   \n",
       "freq                 3              85015               2          25   \n",
       "mean               NaN                NaN             NaN         NaN   \n",
       "std                NaN                NaN             NaN         NaN   \n",
       "min                NaN                NaN             NaN         NaN   \n",
       "25%                NaN                NaN             NaN         NaN   \n",
       "50%                NaN                NaN             NaN         NaN   \n",
       "75%                NaN                NaN             NaN         NaN   \n",
       "max                NaN                NaN             NaN         NaN   \n",
       "\n",
       "             Location        Country Latitude Longitude Airport.Code  \\\n",
       "count           88837          88663    34382     34373        50249   \n",
       "unique          27758            219    25592     27156        10375   \n",
       "top     ANCHORAGE, AK  United States  332739N  0112457W         NONE   \n",
       "freq              434          82248       19        24         1488   \n",
       "mean              NaN            NaN      NaN       NaN          NaN   \n",
       "std               NaN            NaN      NaN       NaN          NaN   \n",
       "min               NaN            NaN      NaN       NaN          NaN   \n",
       "25%               NaN            NaN      NaN       NaN          NaN   \n",
       "50%               NaN            NaN      NaN       NaN          NaN   \n",
       "75%               NaN            NaN      NaN       NaN          NaN   \n",
       "max               NaN            NaN      NaN       NaN          NaN   \n",
       "\n",
       "       Airport.Name  ... Purpose.of.flight Air.carrier Total.Fatal.Injuries  \\\n",
       "count         52790  ...             82697       16648         77488.000000   \n",
       "unique        24871  ...                26       13590                  NaN   \n",
       "top         Private  ...          Personal       Pilot                  NaN   \n",
       "freq            240  ...             49448         258                  NaN   \n",
       "mean            NaN  ...               NaN         NaN             0.647855   \n",
       "std             NaN  ...               NaN         NaN             5.485960   \n",
       "min             NaN  ...               NaN         NaN             0.000000   \n",
       "25%             NaN  ...               NaN         NaN             0.000000   \n",
       "50%             NaN  ...               NaN         NaN             0.000000   \n",
       "75%             NaN  ...               NaN         NaN             0.000000   \n",
       "max             NaN  ...               NaN         NaN           349.000000   \n",
       "\n",
       "       Total.Serious.Injuries Total.Minor.Injuries Total.Uninjured  \\\n",
       "count            76379.000000         76956.000000    82977.000000   \n",
       "unique                    NaN                  NaN             NaN   \n",
       "top                       NaN                  NaN             NaN   \n",
       "freq                      NaN                  NaN             NaN   \n",
       "mean                 0.279881             0.357061        5.325440   \n",
       "std                  1.544084             2.235625       27.913634   \n",
       "min                  0.000000             0.000000        0.000000   \n",
       "25%                  0.000000             0.000000        0.000000   \n",
       "50%                  0.000000             0.000000        1.000000   \n",
       "75%                  0.000000             0.000000        2.000000   \n",
       "max                161.000000           380.000000      699.000000   \n",
       "\n",
       "       Weather.Condition  Broad.phase.of.flight   Report.Status  \\\n",
       "count              84397                  61724           82508   \n",
       "unique                 4                     12           17007   \n",
       "top                  VMC                Landing  Probable Cause   \n",
       "freq               77303                  15428           61754   \n",
       "mean                 NaN                    NaN             NaN   \n",
       "std                  NaN                    NaN             NaN   \n",
       "min                  NaN                    NaN             NaN   \n",
       "25%                  NaN                    NaN             NaN   \n",
       "50%                  NaN                    NaN             NaN   \n",
       "75%                  NaN                    NaN             NaN   \n",
       "max                  NaN                    NaN             NaN   \n",
       "\n",
       "       Publication.Date  \n",
       "count             73659  \n",
       "unique             2923  \n",
       "top          25-09-2020  \n",
       "freq              16317  \n",
       "mean                NaN  \n",
       "std                 NaN  \n",
       "min                 NaN  \n",
       "25%                 NaN  \n",
       "50%                 NaN  \n",
       "75%                 NaN  \n",
       "max                 NaN  \n",
       "\n",
       "[11 rows x 31 columns]"
      ]
     },
     "execution_count": 28,
     "metadata": {},
     "output_type": "execute_result"
    }
   ],
   "source": [
    "#Get summary stats\n",
    "\n",
    "df.describe(include='all')"
   ]
  },
  {
   "cell_type": "markdown",
   "metadata": {},
   "source": [
    "### 1. Columns to **DROP** (too many blanks + not very helpful)\n",
    "\n",
    "| Column                  | % Missing | Why drop it? |\n",
    "|-------------------------|-----------|--------------|\n",
    "| **Schedule**            | 86%       | Almost all rows are blank. It just says if the flight was on a regular schedule (like a bus). We already know from `Purpose.of.flight` if it was a normal passenger trip. |\n",
    "| **Air.carrier**         | 82%       | Mostly empty. It's just the airline name (like \"Delta\"). We don’t need the name to understand the crash. |\n",
    "| **FAR.Description**     | 65%       | A boring legal rule number. Missing for most small planes. Doesn’t help us predict injuries or damage. |\n",
    "| **Aircraft.Category**   | 64%       | Says if it's a plane, helicopter, etc. But we already have `Make` and `Model` — that’s enough! |\n",
    "| **Longitude / Latitude**| ~62%      | GPS numbers. Great for Google Maps, but more than half are missing. We still have city and airport to know *where*. |\n",
    "| **Airport.Code**        | 44%       | The short code like \"LAX\" or \"JFK\". Many crashes happen **away** from airports, so it’s often blank. |\n",
    "| **Airport.Name**        | 42%       | Same as above. We can just use the city name instead. |\n",
    "| **Broad.phase.of.flight**| 32%    | Tells you *when* in the flight it crashed (takeoff? landing?). Helpful, but too many blanks and too many options. Hard to guess the missing ones. |\n",
    "| **Publication.Date**    | 18%       | This is the day the **report** came out — not the crash day. Totally useless for understanding the accident. |\n",
    "\n",
    "---\n",
    "\n"
   ]
  },
  {
   "cell_type": "code",
   "execution_count": 31,
   "metadata": {},
   "outputs": [],
   "source": [
    "cols_to_drop = [\n",
    "    'Schedule', 'Air.carrier', 'FAR.Description', 'Aircraft.Category',\n",
    "    'Longitude', 'Latitude', 'Airport.Code', 'Airport.Name',\n",
    "    'Broad.phase.of.flight', 'Publication.Date'\n",
    "]\n",
    "\n",
    "df = df.drop(columns=cols_to_drop)"
   ]
  },
  {
   "cell_type": "code",
   "execution_count": 32,
   "metadata": {},
   "outputs": [
    {
     "data": {
      "text/plain": [
       "(90348, 21)"
      ]
     },
     "execution_count": 32,
     "metadata": {},
     "output_type": "execute_result"
    }
   ],
   "source": [
    "df.shape"
   ]
  },
  {
   "cell_type": "code",
   "execution_count": 34,
   "metadata": {},
   "outputs": [
    {
     "data": {
      "application/vnd.microsoft.datawrangler.viewer.v0+json": {
       "columns": [
        {
         "name": "index",
         "rawType": "object",
         "type": "string"
        },
        {
         "name": "0",
         "rawType": "float64",
         "type": "float"
        }
       ],
       "ref": "8080185a-6962-4b80-a51b-be5cf188150e",
       "rows": [
        [
         "Total.Serious.Injuries",
         "15.461327312170717"
        ],
        [
         "Total.Minor.Injuries",
         "14.822685615619605"
        ],
        [
         "Total.Fatal.Injuries",
         "14.233851330411298"
        ],
        [
         "Engine.Type",
         "9.447912516049055"
        ],
        [
         "Report.Status",
         "8.677557887280294"
        ],
        [
         "Purpose.of.flight",
         "8.468366759640501"
        ],
        [
         "Number.of.Engines",
         "8.348828972417763"
        ],
        [
         "Total.Uninjured",
         "8.15845397795192"
        ],
        [
         "Weather.Condition",
         "6.58675344224554"
        ],
        [
         "Aircraft.damage",
         "5.150086332846328"
        ],
        [
         "Registration.Number",
         "3.072563864169655"
        ],
        [
         "Injury.Severity",
         "2.7216983220436535"
        ],
        [
         "Country",
         "1.865010846947359"
        ],
        [
         "Amateur.Built",
         "1.7277637579138445"
        ],
        [
         "Model",
         "1.716695444282109"
        ],
        [
         "Make",
         "1.6845973347500776"
        ],
        [
         "Location",
         "1.672422189755169"
        ],
        [
         "Event.Date",
         "1.6148669588701468"
        ],
        [
         "Accident.Number",
         "1.6148669588701468"
        ],
        [
         "Event.Id",
         "1.6148669588701468"
        ],
        [
         "Investigation.Type",
         "0.0"
        ]
       ],
       "shape": {
        "columns": 1,
        "rows": 21
       }
      },
      "text/plain": [
       "Total.Serious.Injuries    15.461327\n",
       "Total.Minor.Injuries      14.822686\n",
       "Total.Fatal.Injuries      14.233851\n",
       "Engine.Type                9.447913\n",
       "Report.Status              8.677558\n",
       "Purpose.of.flight          8.468367\n",
       "Number.of.Engines          8.348829\n",
       "Total.Uninjured            8.158454\n",
       "Weather.Condition          6.586753\n",
       "Aircraft.damage            5.150086\n",
       "Registration.Number        3.072564\n",
       "Injury.Severity            2.721698\n",
       "Country                    1.865011\n",
       "Amateur.Built              1.727764\n",
       "Model                      1.716695\n",
       "Make                       1.684597\n",
       "Location                   1.672422\n",
       "Event.Date                 1.614867\n",
       "Accident.Number            1.614867\n",
       "Event.Id                   1.614867\n",
       "Investigation.Type         0.000000\n",
       "dtype: float64"
      ]
     },
     "execution_count": 34,
     "metadata": {},
     "output_type": "execute_result"
    }
   ],
   "source": [
    "df.isnull().mean().sort_values(ascending=False) * 100 "
   ]
  },
  {
   "cell_type": "markdown",
   "metadata": {},
   "source": [
    "### 2. Columns to **KEEP** (a little blank is okay — they’re super important!)\n",
    "\n",
    "| Column | % Missing | Why keep it? |\n",
    "|--------|-----------|--------------|\n",
    "| **Total.Serious.Injuries** | 15% | This tells us how many people got **really hurt**. Most crashes have 0 — so we can just fill blanks with **0**. |\n",
    "| **Total.Minor.Injuries** | 15% | Same idea — small cuts or bruises. Fill blanks with **0**. |\n",
    "| **Total.Fatal.Injuries** | 14% | **Super important!** How many people died. We *must* keep this. Fill blanks with **0**. |\n",
    "| **Engine.Type** | 9% | Is it a normal engine or a jet? Big difference in crashes. Easy to fill with “Unknown” if missing. |\n",
    "| **Report.Status** | 9% | Says if the report is “final” or “still being checked”. Helps us know if the data is ready. |\n",
    "| **Purpose.of.flight** | 8% | Was it a normal passenger flight? Training? Crop dusting? **Tells us a lot** about the risk. |\n",
    "| **Number.of.Engines** | 8% | 1 engine or 2+? Two engines = safer usually. Easy to guess if missing. |\n",
    "| **Total.Uninjured** | 8% | How many people walked away fine. Completes the story! Fill with a number if missing. |\n",
    "| **Weather.Condition** | 7% | Was it sunny or stormy? Weather causes many crashes. Most are “good weather” — so fill with that. |\n",
    "| **Aircraft.damage** | 5% | Did the plane get scratched or totally destroyed? **Main thing** we want to predict. |\n",
    "| **Registration.Number** | 3% | The plane’s license plate (like N123AB). Helps find duplicates. |\n",
    "| **Injury.Severity** | 3% | Says “Fatal” or “Minor” in one word. We can make it from the injury counts if needed. |\n",
    "| **Country, Amateur.Built, Model, Make, Location, Event.Date, Accident.Number, Event.Id** | ≤ 2% | Almost no blanks! These are **must-haves**: \n",
    "\n"
   ]
  },
  {
   "cell_type": "code",
   "execution_count": null,
   "metadata": {},
   "outputs": [],
   "source": [
    "\n"
   ]
  }
 ],
 "metadata": {
  "kernelspec": {
   "display_name": "learn-env",
   "language": "python",
   "name": "python3"
  },
  "language_info": {
   "codemirror_mode": {
    "name": "ipython",
    "version": 3
   },
   "file_extension": ".py",
   "mimetype": "text/x-python",
   "name": "python",
   "nbconvert_exporter": "python",
   "pygments_lexer": "ipython3",
   "version": "3.8.12"
  }
 },
 "nbformat": 4,
 "nbformat_minor": 2
}
