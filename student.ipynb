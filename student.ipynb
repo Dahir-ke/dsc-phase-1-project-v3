{
 "cells": [
  {
   "cell_type": "markdown",
   "metadata": {},
   "source": [
    "## Final Project Submission\n",
    "\n",
    "Please fill out:\n",
    "* Student name:                           ``Dahir Ahmed``\n",
    "* Student pace:                             ``Part time`` \n",
    "* Scheduled project review date/time:       ``27TH OCT TO  31ST OCT 2025``\n",
    "* Instructor name:                           ``Brian Chacha``\n",
    "* Blog post URL:\n"
   ]
  },
  {
   "cell_type": "code",
   "execution_count": 14,
   "metadata": {},
   "outputs": [],
   "source": [
    "# Your code here - remember to use markdown cells for comments as well!\n",
    "# Import the pandas library for data manipulation and analysis\n",
    "import pandas as pd\n",
    "\n",
    "# Import the numpy library for numerical operations and working with arrays\n",
    "import numpy as np\n",
    "\n",
    "\n",
    "# Import the warnings module to control or suppress warning messages\n",
    "import warnings\n",
    "\n",
    "# Suppress all warning messages to keep the output clean\n",
    "warnings.filterwarnings('ignore')\n",
    "\n"
   ]
  },
  {
   "cell_type": "markdown",
   "metadata": {},
   "source": [
    "1.1) Read Aviation_Data.csv into a pandas DataFrame named df"
   ]
  },
  {
   "cell_type": "code",
   "execution_count": 15,
   "metadata": {},
   "outputs": [
    {
     "data": {
      "application/vnd.microsoft.datawrangler.viewer.v0+json": {
       "columns": [
        {
         "name": "index",
         "rawType": "int64",
         "type": "integer"
        },
        {
         "name": "Event.Id",
         "rawType": "object",
         "type": "string"
        },
        {
         "name": "Investigation.Type",
         "rawType": "object",
         "type": "string"
        },
        {
         "name": "Accident.Number",
         "rawType": "object",
         "type": "string"
        },
        {
         "name": "Event.Date",
         "rawType": "object",
         "type": "string"
        },
        {
         "name": "Location",
         "rawType": "object",
         "type": "string"
        },
        {
         "name": "Country",
         "rawType": "object",
         "type": "string"
        },
        {
         "name": "Latitude",
         "rawType": "object",
         "type": "string"
        },
        {
         "name": "Longitude",
         "rawType": "object",
         "type": "string"
        },
        {
         "name": "Airport.Code",
         "rawType": "object",
         "type": "string"
        },
        {
         "name": "Airport.Name",
         "rawType": "object",
         "type": "string"
        },
        {
         "name": "Injury.Severity",
         "rawType": "object",
         "type": "string"
        },
        {
         "name": "Aircraft.damage",
         "rawType": "object",
         "type": "string"
        },
        {
         "name": "Aircraft.Category",
         "rawType": "object",
         "type": "string"
        },
        {
         "name": "Registration.Number",
         "rawType": "object",
         "type": "string"
        },
        {
         "name": "Make",
         "rawType": "object",
         "type": "string"
        },
        {
         "name": "Model",
         "rawType": "object",
         "type": "string"
        },
        {
         "name": "Amateur.Built",
         "rawType": "object",
         "type": "string"
        },
        {
         "name": "Number.of.Engines",
         "rawType": "float64",
         "type": "float"
        },
        {
         "name": "Engine.Type",
         "rawType": "object",
         "type": "string"
        },
        {
         "name": "FAR.Description",
         "rawType": "object",
         "type": "string"
        },
        {
         "name": "Schedule",
         "rawType": "object",
         "type": "string"
        },
        {
         "name": "Purpose.of.flight",
         "rawType": "object",
         "type": "string"
        },
        {
         "name": "Air.carrier",
         "rawType": "object",
         "type": "string"
        },
        {
         "name": "Total.Fatal.Injuries",
         "rawType": "float64",
         "type": "float"
        },
        {
         "name": "Total.Serious.Injuries",
         "rawType": "float64",
         "type": "float"
        },
        {
         "name": "Total.Minor.Injuries",
         "rawType": "float64",
         "type": "float"
        },
        {
         "name": "Total.Uninjured",
         "rawType": "float64",
         "type": "float"
        },
        {
         "name": "Weather.Condition",
         "rawType": "object",
         "type": "string"
        },
        {
         "name": "Broad.phase.of.flight",
         "rawType": "object",
         "type": "string"
        },
        {
         "name": "Report.Status",
         "rawType": "object",
         "type": "string"
        },
        {
         "name": "Publication.Date",
         "rawType": "object",
         "type": "string"
        }
       ],
       "ref": "b329ee9f-9cd1-4dfa-bd27-f23a852cb7a5",
       "rows": [
        [
         "0",
         "20001218X45444",
         "Accident",
         "SEA87LA080",
         "1948-10-24",
         "MOOSE CREEK, ID",
         "United States",
         null,
         null,
         null,
         null,
         "Fatal(2)",
         "Destroyed",
         null,
         "NC6404",
         "Stinson",
         "108-3",
         "No",
         "1.0",
         "Reciprocating",
         null,
         null,
         "Personal",
         null,
         "2.0",
         "0.0",
         "0.0",
         "0.0",
         "UNK",
         "Cruise",
         "Probable Cause",
         null
        ],
        [
         "1",
         "20001218X45447",
         "Accident",
         "LAX94LA336",
         "1962-07-19",
         "BRIDGEPORT, CA",
         "United States",
         null,
         null,
         null,
         null,
         "Fatal(4)",
         "Destroyed",
         null,
         "N5069P",
         "Piper",
         "PA24-180",
         "No",
         "1.0",
         "Reciprocating",
         null,
         null,
         "Personal",
         null,
         "4.0",
         "0.0",
         "0.0",
         "0.0",
         "UNK",
         "Unknown",
         "Probable Cause",
         "19-09-1996"
        ],
        [
         "2",
         "20061025X01555",
         "Accident",
         "NYC07LA005",
         "1974-08-30",
         "Saltville, VA",
         "United States",
         "36.922222999999995",
         "-81.878056",
         null,
         null,
         "Fatal(3)",
         "Destroyed",
         null,
         "N5142R",
         "Cessna",
         "172M",
         "No",
         "1.0",
         "Reciprocating",
         null,
         null,
         "Personal",
         null,
         "3.0",
         null,
         null,
         null,
         "IMC",
         "Cruise",
         "Probable Cause",
         "26-02-2007"
        ],
        [
         "3",
         "20001218X45448",
         "Accident",
         "LAX96LA321",
         "1977-06-19",
         "EUREKA, CA",
         "United States",
         null,
         null,
         null,
         null,
         "Fatal(2)",
         "Destroyed",
         null,
         "N1168J",
         "Rockwell",
         "112",
         "No",
         "1.0",
         "Reciprocating",
         null,
         null,
         "Personal",
         null,
         "2.0",
         "0.0",
         "0.0",
         "0.0",
         "IMC",
         "Cruise",
         "Probable Cause",
         "12-09-2000"
        ],
        [
         "4",
         "20041105X01764",
         "Accident",
         "CHI79FA064",
         "1979-08-02",
         "Canton, OH",
         "United States",
         null,
         null,
         null,
         null,
         "Fatal(1)",
         "Destroyed",
         null,
         "N15NY",
         "Cessna",
         "501",
         "No",
         null,
         null,
         null,
         null,
         "Personal",
         null,
         "1.0",
         "2.0",
         null,
         "0.0",
         "VMC",
         "Approach",
         "Probable Cause",
         "16-04-1980"
        ]
       ],
       "shape": {
        "columns": 31,
        "rows": 5
       }
      },
      "text/html": [
       "<div>\n",
       "<style scoped>\n",
       "    .dataframe tbody tr th:only-of-type {\n",
       "        vertical-align: middle;\n",
       "    }\n",
       "\n",
       "    .dataframe tbody tr th {\n",
       "        vertical-align: top;\n",
       "    }\n",
       "\n",
       "    .dataframe thead th {\n",
       "        text-align: right;\n",
       "    }\n",
       "</style>\n",
       "<table border=\"1\" class=\"dataframe\">\n",
       "  <thead>\n",
       "    <tr style=\"text-align: right;\">\n",
       "      <th></th>\n",
       "      <th>Event.Id</th>\n",
       "      <th>Investigation.Type</th>\n",
       "      <th>Accident.Number</th>\n",
       "      <th>Event.Date</th>\n",
       "      <th>Location</th>\n",
       "      <th>Country</th>\n",
       "      <th>Latitude</th>\n",
       "      <th>Longitude</th>\n",
       "      <th>Airport.Code</th>\n",
       "      <th>Airport.Name</th>\n",
       "      <th>...</th>\n",
       "      <th>Purpose.of.flight</th>\n",
       "      <th>Air.carrier</th>\n",
       "      <th>Total.Fatal.Injuries</th>\n",
       "      <th>Total.Serious.Injuries</th>\n",
       "      <th>Total.Minor.Injuries</th>\n",
       "      <th>Total.Uninjured</th>\n",
       "      <th>Weather.Condition</th>\n",
       "      <th>Broad.phase.of.flight</th>\n",
       "      <th>Report.Status</th>\n",
       "      <th>Publication.Date</th>\n",
       "    </tr>\n",
       "  </thead>\n",
       "  <tbody>\n",
       "    <tr>\n",
       "      <th>0</th>\n",
       "      <td>20001218X45444</td>\n",
       "      <td>Accident</td>\n",
       "      <td>SEA87LA080</td>\n",
       "      <td>1948-10-24</td>\n",
       "      <td>MOOSE CREEK, ID</td>\n",
       "      <td>United States</td>\n",
       "      <td>NaN</td>\n",
       "      <td>NaN</td>\n",
       "      <td>NaN</td>\n",
       "      <td>NaN</td>\n",
       "      <td>...</td>\n",
       "      <td>Personal</td>\n",
       "      <td>NaN</td>\n",
       "      <td>2.0</td>\n",
       "      <td>0.0</td>\n",
       "      <td>0.0</td>\n",
       "      <td>0.0</td>\n",
       "      <td>UNK</td>\n",
       "      <td>Cruise</td>\n",
       "      <td>Probable Cause</td>\n",
       "      <td>NaN</td>\n",
       "    </tr>\n",
       "    <tr>\n",
       "      <th>1</th>\n",
       "      <td>20001218X45447</td>\n",
       "      <td>Accident</td>\n",
       "      <td>LAX94LA336</td>\n",
       "      <td>1962-07-19</td>\n",
       "      <td>BRIDGEPORT, CA</td>\n",
       "      <td>United States</td>\n",
       "      <td>NaN</td>\n",
       "      <td>NaN</td>\n",
       "      <td>NaN</td>\n",
       "      <td>NaN</td>\n",
       "      <td>...</td>\n",
       "      <td>Personal</td>\n",
       "      <td>NaN</td>\n",
       "      <td>4.0</td>\n",
       "      <td>0.0</td>\n",
       "      <td>0.0</td>\n",
       "      <td>0.0</td>\n",
       "      <td>UNK</td>\n",
       "      <td>Unknown</td>\n",
       "      <td>Probable Cause</td>\n",
       "      <td>19-09-1996</td>\n",
       "    </tr>\n",
       "    <tr>\n",
       "      <th>2</th>\n",
       "      <td>20061025X01555</td>\n",
       "      <td>Accident</td>\n",
       "      <td>NYC07LA005</td>\n",
       "      <td>1974-08-30</td>\n",
       "      <td>Saltville, VA</td>\n",
       "      <td>United States</td>\n",
       "      <td>36.9222</td>\n",
       "      <td>-81.8781</td>\n",
       "      <td>NaN</td>\n",
       "      <td>NaN</td>\n",
       "      <td>...</td>\n",
       "      <td>Personal</td>\n",
       "      <td>NaN</td>\n",
       "      <td>3.0</td>\n",
       "      <td>NaN</td>\n",
       "      <td>NaN</td>\n",
       "      <td>NaN</td>\n",
       "      <td>IMC</td>\n",
       "      <td>Cruise</td>\n",
       "      <td>Probable Cause</td>\n",
       "      <td>26-02-2007</td>\n",
       "    </tr>\n",
       "    <tr>\n",
       "      <th>3</th>\n",
       "      <td>20001218X45448</td>\n",
       "      <td>Accident</td>\n",
       "      <td>LAX96LA321</td>\n",
       "      <td>1977-06-19</td>\n",
       "      <td>EUREKA, CA</td>\n",
       "      <td>United States</td>\n",
       "      <td>NaN</td>\n",
       "      <td>NaN</td>\n",
       "      <td>NaN</td>\n",
       "      <td>NaN</td>\n",
       "      <td>...</td>\n",
       "      <td>Personal</td>\n",
       "      <td>NaN</td>\n",
       "      <td>2.0</td>\n",
       "      <td>0.0</td>\n",
       "      <td>0.0</td>\n",
       "      <td>0.0</td>\n",
       "      <td>IMC</td>\n",
       "      <td>Cruise</td>\n",
       "      <td>Probable Cause</td>\n",
       "      <td>12-09-2000</td>\n",
       "    </tr>\n",
       "    <tr>\n",
       "      <th>4</th>\n",
       "      <td>20041105X01764</td>\n",
       "      <td>Accident</td>\n",
       "      <td>CHI79FA064</td>\n",
       "      <td>1979-08-02</td>\n",
       "      <td>Canton, OH</td>\n",
       "      <td>United States</td>\n",
       "      <td>NaN</td>\n",
       "      <td>NaN</td>\n",
       "      <td>NaN</td>\n",
       "      <td>NaN</td>\n",
       "      <td>...</td>\n",
       "      <td>Personal</td>\n",
       "      <td>NaN</td>\n",
       "      <td>1.0</td>\n",
       "      <td>2.0</td>\n",
       "      <td>NaN</td>\n",
       "      <td>0.0</td>\n",
       "      <td>VMC</td>\n",
       "      <td>Approach</td>\n",
       "      <td>Probable Cause</td>\n",
       "      <td>16-04-1980</td>\n",
       "    </tr>\n",
       "  </tbody>\n",
       "</table>\n",
       "<p>5 rows × 31 columns</p>\n",
       "</div>"
      ],
      "text/plain": [
       "         Event.Id Investigation.Type Accident.Number  Event.Date  \\\n",
       "0  20001218X45444           Accident      SEA87LA080  1948-10-24   \n",
       "1  20001218X45447           Accident      LAX94LA336  1962-07-19   \n",
       "2  20061025X01555           Accident      NYC07LA005  1974-08-30   \n",
       "3  20001218X45448           Accident      LAX96LA321  1977-06-19   \n",
       "4  20041105X01764           Accident      CHI79FA064  1979-08-02   \n",
       "\n",
       "          Location        Country Latitude Longitude Airport.Code  \\\n",
       "0  MOOSE CREEK, ID  United States      NaN       NaN          NaN   \n",
       "1   BRIDGEPORT, CA  United States      NaN       NaN          NaN   \n",
       "2    Saltville, VA  United States  36.9222  -81.8781          NaN   \n",
       "3       EUREKA, CA  United States      NaN       NaN          NaN   \n",
       "4       Canton, OH  United States      NaN       NaN          NaN   \n",
       "\n",
       "  Airport.Name  ... Purpose.of.flight Air.carrier Total.Fatal.Injuries  \\\n",
       "0          NaN  ...          Personal         NaN                  2.0   \n",
       "1          NaN  ...          Personal         NaN                  4.0   \n",
       "2          NaN  ...          Personal         NaN                  3.0   \n",
       "3          NaN  ...          Personal         NaN                  2.0   \n",
       "4          NaN  ...          Personal         NaN                  1.0   \n",
       "\n",
       "  Total.Serious.Injuries Total.Minor.Injuries Total.Uninjured  \\\n",
       "0                    0.0                  0.0             0.0   \n",
       "1                    0.0                  0.0             0.0   \n",
       "2                    NaN                  NaN             NaN   \n",
       "3                    0.0                  0.0             0.0   \n",
       "4                    2.0                  NaN             0.0   \n",
       "\n",
       "  Weather.Condition  Broad.phase.of.flight   Report.Status Publication.Date  \n",
       "0               UNK                 Cruise  Probable Cause              NaN  \n",
       "1               UNK                Unknown  Probable Cause       19-09-1996  \n",
       "2               IMC                 Cruise  Probable Cause       26-02-2007  \n",
       "3               IMC                 Cruise  Probable Cause       12-09-2000  \n",
       "4               VMC               Approach  Probable Cause       16-04-1980  \n",
       "\n",
       "[5 rows x 31 columns]"
      ]
     },
     "execution_count": 15,
     "metadata": {},
     "output_type": "execute_result"
    }
   ],
   "source": [
    "# Load the CSV file \"Aviation_Data.csv\" from the 'data' folder into a pandas DataFrame named 'df'\n",
    "\n",
    "df = pd.read_csv(\"./data/Aviation_Data.csv\")\n",
    "\n",
    "# Display the first 5 rows of the DataFrame to quickly inspect the data\n",
    "\n",
    "df.head()"
   ]
  },
  {
   "cell_type": "code",
   "execution_count": 16,
   "metadata": {},
   "outputs": [
    {
     "name": "stdout",
     "output_type": "stream",
     "text": [
      "This dataset has 90348 rows and 31 columns.\n"
     ]
    }
   ],
   "source": [
    "# Display the shape (rows, columns)\n",
    "df.shape\n",
    "\n",
    "# Print the number of rows and columns in a readable format\n",
    "print(f\"This dataset has {df.shape[0]} rows and {df.shape[1]} columns.\")\n"
   ]
  },
  {
   "cell_type": "code",
   "execution_count": 5,
   "metadata": {},
   "outputs": [
    {
     "name": "stdout",
     "output_type": "stream",
     "text": [
      "<class 'pandas.core.frame.DataFrame'>\n",
      "RangeIndex: 90348 entries, 0 to 90347\n",
      "Data columns (total 31 columns):\n",
      " #   Column                  Non-Null Count  Dtype  \n",
      "---  ------                  --------------  -----  \n",
      " 0   Event.Id                88889 non-null  object \n",
      " 1   Investigation.Type      90348 non-null  object \n",
      " 2   Accident.Number         88889 non-null  object \n",
      " 3   Event.Date              88889 non-null  object \n",
      " 4   Location                88837 non-null  object \n",
      " 5   Country                 88663 non-null  object \n",
      " 6   Latitude                34382 non-null  object \n",
      " 7   Longitude               34373 non-null  object \n",
      " 8   Airport.Code            50249 non-null  object \n",
      " 9   Airport.Name            52790 non-null  object \n",
      " 10  Injury.Severity         87889 non-null  object \n",
      " 11  Aircraft.damage         85695 non-null  object \n",
      " 12  Aircraft.Category       32287 non-null  object \n",
      " 13  Registration.Number     87572 non-null  object \n",
      " 14  Make                    88826 non-null  object \n",
      " 15  Model                   88797 non-null  object \n",
      " 16  Amateur.Built           88787 non-null  object \n",
      " 17  Number.of.Engines       82805 non-null  float64\n",
      " 18  Engine.Type             81812 non-null  object \n",
      " 19  FAR.Description         32023 non-null  object \n",
      " 20  Schedule                12582 non-null  object \n",
      " 21  Purpose.of.flight       82697 non-null  object \n",
      " 22  Air.carrier             16648 non-null  object \n",
      " 23  Total.Fatal.Injuries    77488 non-null  float64\n",
      " 24  Total.Serious.Injuries  76379 non-null  float64\n",
      " 25  Total.Minor.Injuries    76956 non-null  float64\n",
      " 26  Total.Uninjured         82977 non-null  float64\n",
      " 27  Weather.Condition       84397 non-null  object \n",
      " 28  Broad.phase.of.flight   61724 non-null  object \n",
      " 29  Report.Status           82508 non-null  object \n",
      " 30  Publication.Date        73659 non-null  object \n",
      "dtypes: float64(5), object(26)\n",
      "memory usage: 21.4+ MB\n"
     ]
    }
   ],
   "source": [
    "df.info()"
   ]
  },
  {
   "cell_type": "markdown",
   "metadata": {},
   "source": [
    "# How to Find Duplicates in our Aviation Data \n",
    "\n",
    "our data has **90,348 rows** and **31 columns**.  \n",
    "Sometimes the **same crash** gets entered **twice** by mistake.  \n",
    "We want to **find & remove** those duplicates so our analysis is clean!\n",
    "\n"
   ]
  },
  {
   "cell_type": "code",
   "execution_count": 20,
   "metadata": {},
   "outputs": [
    {
     "name": "stdout",
     "output_type": "stream",
     "text": [
      "There are 1390 duplicate rows in this dataset.\n"
     ]
    }
   ],
   "source": [
    "duplicate_rows = df.duplicated().sum()\n",
    "\n",
    "print(f\"There are {duplicate_rows} duplicate rows in this dataset.\")\n"
   ]
  },
  {
   "cell_type": "code",
   "execution_count": 21,
   "metadata": {},
   "outputs": [],
   "source": [
    "#If you don’t want to modify the original DataFrame:\n",
    "\n",
    "cleaned_df = df.drop_duplicates()"
   ]
  },
  {
   "cell_type": "code",
   "execution_count": 23,
   "metadata": {},
   "outputs": [
    {
     "data": {
      "text/plain": [
       "(88958, 31)"
      ]
     },
     "execution_count": 23,
     "metadata": {},
     "output_type": "execute_result"
    }
   ],
   "source": [
    "cleaned_df.shape"
   ]
  },
  {
   "cell_type": "markdown",
   "metadata": {},
   "source": [
    "## How to Find Missing Values in Our Aviation Data\n",
    "\n",
    "Our dataset(cleaned) has ``88,958`` rows and ``31`` columns.\n",
    "Sometimes, during data entry, some information gets left blank — like the aircraft type, location, or number of fatalities.\n",
    "\n",
    "These missing values ``(NaNs)`` can affect our analysis, so we need to identify and handle them before moving forward!\n",
    "\n",
    "## We’ll check:\n",
    "\n",
    "1. How many missing values exist in each column\n",
    "\n",
    "2. Which columns have the most missing data\n",
    "\n",
    "3. And decide whether to fill, drop, or keep them depending on their importance."
   ]
  },
  {
   "cell_type": "code",
   "execution_count": 24,
   "metadata": {},
   "outputs": [
    {
     "data": {
      "application/vnd.microsoft.datawrangler.viewer.v0+json": {
       "columns": [
        {
         "name": "index",
         "rawType": "object",
         "type": "string"
        },
        {
         "name": "0",
         "rawType": "float64",
         "type": "float"
        }
       ],
       "ref": "75bf7e52-48ff-45c0-a447-4f446e43f1b6",
       "rows": [
        [
         "Schedule",
         "85.85624676813778"
        ],
        [
         "Air.carrier",
         "81.2855504844983"
        ],
        [
         "FAR.Description",
         "64.00211335686504"
        ],
        [
         "Aircraft.Category",
         "63.705344094966165"
        ],
        [
         "Longitude",
         "61.360417275568246"
        ],
        [
         "Latitude",
         "61.35030014163988"
        ],
        [
         "Airport.Code",
         "43.51379302592234"
        ],
        [
         "Airport.Name",
         "40.65738888014568"
        ],
        [
         "Broad.phase.of.flight",
         "30.614447267249712"
        ],
        [
         "Publication.Date",
         "17.198003552238134"
        ],
        [
         "Total.Serious.Injuries",
         "14.140380853886104"
        ],
        [
         "Total.Minor.Injuries",
         "13.491760156478339"
        ],
        [
         "Total.Fatal.Injuries",
         "12.893725128712427"
        ],
        [
         "Engine.Type",
         "8.033004339126329"
        ],
        [
         "Report.Status",
         "7.250612648665662"
        ],
        [
         "Purpose.of.flight",
         "7.038152836169878"
        ],
        [
         "Number.of.Engines",
         "6.916747229029429"
        ],
        [
         "Total.Uninjured",
         "6.723397558398345"
        ],
        [
         "Weather.Condition",
         "5.127138649699859"
        ],
        [
         "Aircraft.damage",
         "3.6680231120303963"
        ],
        [
         "Registration.Number",
         "1.5580386249690865"
        ],
        [
         "Injury.Severity",
         "1.20169068549203"
        ],
        [
         "Country",
         "0.33161716765215044"
        ],
        [
         "Amateur.Built",
         "0.19222554463904315"
        ],
        [
         "Model",
         "0.18098428471863126"
        ],
        [
         "Make",
         "0.14838463094943682"
        ],
        [
         "Location",
         "0.13601924503698373"
        ],
        [
         "Event.Date",
         "0.07756469345084196"
        ],
        [
         "Accident.Number",
         "0.07756469345084196"
        ],
        [
         "Event.Id",
         "0.07756469345084196"
        ],
        [
         "Investigation.Type",
         "0.0"
        ]
       ],
       "shape": {
        "columns": 1,
        "rows": 31
       }
      },
      "text/plain": [
       "Schedule                  85.856247\n",
       "Air.carrier               81.285550\n",
       "FAR.Description           64.002113\n",
       "Aircraft.Category         63.705344\n",
       "Longitude                 61.360417\n",
       "Latitude                  61.350300\n",
       "Airport.Code              43.513793\n",
       "Airport.Name              40.657389\n",
       "Broad.phase.of.flight     30.614447\n",
       "Publication.Date          17.198004\n",
       "Total.Serious.Injuries    14.140381\n",
       "Total.Minor.Injuries      13.491760\n",
       "Total.Fatal.Injuries      12.893725\n",
       "Engine.Type                8.033004\n",
       "Report.Status              7.250613\n",
       "Purpose.of.flight          7.038153\n",
       "Number.of.Engines          6.916747\n",
       "Total.Uninjured            6.723398\n",
       "Weather.Condition          5.127139\n",
       "Aircraft.damage            3.668023\n",
       "Registration.Number        1.558039\n",
       "Injury.Severity            1.201691\n",
       "Country                    0.331617\n",
       "Amateur.Built              0.192226\n",
       "Model                      0.180984\n",
       "Make                       0.148385\n",
       "Location                   0.136019\n",
       "Event.Date                 0.077565\n",
       "Accident.Number            0.077565\n",
       "Event.Id                   0.077565\n",
       "Investigation.Type         0.000000\n",
       "dtype: float64"
      ]
     },
     "execution_count": 24,
     "metadata": {},
     "output_type": "execute_result"
    }
   ],
   "source": [
    "#Check missing data percentages:\n",
    "cleaned_df.isnull().mean().sort_values(ascending=False) * 100 \n"
   ]
  },
  {
   "cell_type": "code",
   "execution_count": 29,
   "metadata": {},
   "outputs": [
    {
     "data": {
      "application/vnd.microsoft.datawrangler.viewer.v0+json": {
       "columns": [
        {
         "name": "index",
         "rawType": "object",
         "type": "string"
        },
        {
         "name": "Number.of.Engines",
         "rawType": "float64",
         "type": "float"
        },
        {
         "name": "Total.Fatal.Injuries",
         "rawType": "float64",
         "type": "float"
        },
        {
         "name": "Total.Serious.Injuries",
         "rawType": "float64",
         "type": "float"
        },
        {
         "name": "Total.Minor.Injuries",
         "rawType": "float64",
         "type": "float"
        },
        {
         "name": "Total.Uninjured",
         "rawType": "float64",
         "type": "float"
        }
       ],
       "ref": "14e42f02-d56e-4f3b-95ae-c307105c0370",
       "rows": [
        [
         "count",
         "82805.0",
         "77488.0",
         "76379.0",
         "76956.0",
         "82977.0"
        ],
        [
         "mean",
         "1.1465853511261397",
         "0.6478551517654346",
         "0.27988059545162935",
         "0.3570611778158948",
         "5.325439579642552"
        ],
        [
         "std",
         "0.4465102138196286",
         "5.485960107559197",
         "1.5440836452335867",
         "2.235625319656934",
         "27.91363443100856"
        ],
        [
         "min",
         "0.0",
         "0.0",
         "0.0",
         "0.0",
         "0.0"
        ],
        [
         "25%",
         "1.0",
         "0.0",
         "0.0",
         "0.0",
         "0.0"
        ],
        [
         "50%",
         "1.0",
         "0.0",
         "0.0",
         "0.0",
         "1.0"
        ],
        [
         "75%",
         "1.0",
         "0.0",
         "0.0",
         "0.0",
         "2.0"
        ],
        [
         "max",
         "8.0",
         "349.0",
         "161.0",
         "380.0",
         "699.0"
        ]
       ],
       "shape": {
        "columns": 5,
        "rows": 8
       }
      },
      "text/html": [
       "<div>\n",
       "<style scoped>\n",
       "    .dataframe tbody tr th:only-of-type {\n",
       "        vertical-align: middle;\n",
       "    }\n",
       "\n",
       "    .dataframe tbody tr th {\n",
       "        vertical-align: top;\n",
       "    }\n",
       "\n",
       "    .dataframe thead th {\n",
       "        text-align: right;\n",
       "    }\n",
       "</style>\n",
       "<table border=\"1\" class=\"dataframe\">\n",
       "  <thead>\n",
       "    <tr style=\"text-align: right;\">\n",
       "      <th></th>\n",
       "      <th>Number.of.Engines</th>\n",
       "      <th>Total.Fatal.Injuries</th>\n",
       "      <th>Total.Serious.Injuries</th>\n",
       "      <th>Total.Minor.Injuries</th>\n",
       "      <th>Total.Uninjured</th>\n",
       "    </tr>\n",
       "  </thead>\n",
       "  <tbody>\n",
       "    <tr>\n",
       "      <th>count</th>\n",
       "      <td>82805.000000</td>\n",
       "      <td>77488.000000</td>\n",
       "      <td>76379.000000</td>\n",
       "      <td>76956.000000</td>\n",
       "      <td>82977.000000</td>\n",
       "    </tr>\n",
       "    <tr>\n",
       "      <th>mean</th>\n",
       "      <td>1.146585</td>\n",
       "      <td>0.647855</td>\n",
       "      <td>0.279881</td>\n",
       "      <td>0.357061</td>\n",
       "      <td>5.325440</td>\n",
       "    </tr>\n",
       "    <tr>\n",
       "      <th>std</th>\n",
       "      <td>0.446510</td>\n",
       "      <td>5.485960</td>\n",
       "      <td>1.544084</td>\n",
       "      <td>2.235625</td>\n",
       "      <td>27.913634</td>\n",
       "    </tr>\n",
       "    <tr>\n",
       "      <th>min</th>\n",
       "      <td>0.000000</td>\n",
       "      <td>0.000000</td>\n",
       "      <td>0.000000</td>\n",
       "      <td>0.000000</td>\n",
       "      <td>0.000000</td>\n",
       "    </tr>\n",
       "    <tr>\n",
       "      <th>25%</th>\n",
       "      <td>1.000000</td>\n",
       "      <td>0.000000</td>\n",
       "      <td>0.000000</td>\n",
       "      <td>0.000000</td>\n",
       "      <td>0.000000</td>\n",
       "    </tr>\n",
       "    <tr>\n",
       "      <th>50%</th>\n",
       "      <td>1.000000</td>\n",
       "      <td>0.000000</td>\n",
       "      <td>0.000000</td>\n",
       "      <td>0.000000</td>\n",
       "      <td>1.000000</td>\n",
       "    </tr>\n",
       "    <tr>\n",
       "      <th>75%</th>\n",
       "      <td>1.000000</td>\n",
       "      <td>0.000000</td>\n",
       "      <td>0.000000</td>\n",
       "      <td>0.000000</td>\n",
       "      <td>2.000000</td>\n",
       "    </tr>\n",
       "    <tr>\n",
       "      <th>max</th>\n",
       "      <td>8.000000</td>\n",
       "      <td>349.000000</td>\n",
       "      <td>161.000000</td>\n",
       "      <td>380.000000</td>\n",
       "      <td>699.000000</td>\n",
       "    </tr>\n",
       "  </tbody>\n",
       "</table>\n",
       "</div>"
      ],
      "text/plain": [
       "       Number.of.Engines  Total.Fatal.Injuries  Total.Serious.Injuries  \\\n",
       "count       82805.000000          77488.000000            76379.000000   \n",
       "mean            1.146585              0.647855                0.279881   \n",
       "std             0.446510              5.485960                1.544084   \n",
       "min             0.000000              0.000000                0.000000   \n",
       "25%             1.000000              0.000000                0.000000   \n",
       "50%             1.000000              0.000000                0.000000   \n",
       "75%             1.000000              0.000000                0.000000   \n",
       "max             8.000000            349.000000              161.000000   \n",
       "\n",
       "       Total.Minor.Injuries  Total.Uninjured  \n",
       "count          76956.000000     82977.000000  \n",
       "mean               0.357061         5.325440  \n",
       "std                2.235625        27.913634  \n",
       "min                0.000000         0.000000  \n",
       "25%                0.000000         0.000000  \n",
       "50%                0.000000         1.000000  \n",
       "75%                0.000000         2.000000  \n",
       "max              380.000000       699.000000  "
      ]
     },
     "execution_count": 29,
     "metadata": {},
     "output_type": "execute_result"
    }
   ],
   "source": [
    "cleaned_df.describe()\n"
   ]
  },
  {
   "cell_type": "code",
   "execution_count": 30,
   "metadata": {},
   "outputs": [
    {
     "data": {
      "application/vnd.microsoft.datawrangler.viewer.v0+json": {
       "columns": [
        {
         "name": "index",
         "rawType": "object",
         "type": "string"
        },
        {
         "name": "Event.Id",
         "rawType": "object",
         "type": "string"
        },
        {
         "name": "Investigation.Type",
         "rawType": "object",
         "type": "string"
        },
        {
         "name": "Accident.Number",
         "rawType": "object",
         "type": "string"
        },
        {
         "name": "Event.Date",
         "rawType": "object",
         "type": "string"
        },
        {
         "name": "Location",
         "rawType": "object",
         "type": "string"
        },
        {
         "name": "Country",
         "rawType": "object",
         "type": "string"
        },
        {
         "name": "Latitude",
         "rawType": "object",
         "type": "string"
        },
        {
         "name": "Longitude",
         "rawType": "object",
         "type": "string"
        },
        {
         "name": "Airport.Code",
         "rawType": "object",
         "type": "string"
        },
        {
         "name": "Airport.Name",
         "rawType": "object",
         "type": "string"
        },
        {
         "name": "Injury.Severity",
         "rawType": "object",
         "type": "string"
        },
        {
         "name": "Aircraft.damage",
         "rawType": "object",
         "type": "string"
        },
        {
         "name": "Aircraft.Category",
         "rawType": "object",
         "type": "string"
        },
        {
         "name": "Registration.Number",
         "rawType": "object",
         "type": "string"
        },
        {
         "name": "Make",
         "rawType": "object",
         "type": "string"
        },
        {
         "name": "Model",
         "rawType": "object",
         "type": "string"
        },
        {
         "name": "Amateur.Built",
         "rawType": "object",
         "type": "string"
        },
        {
         "name": "Number.of.Engines",
         "rawType": "float64",
         "type": "float"
        },
        {
         "name": "Engine.Type",
         "rawType": "object",
         "type": "string"
        },
        {
         "name": "FAR.Description",
         "rawType": "object",
         "type": "string"
        },
        {
         "name": "Schedule",
         "rawType": "object",
         "type": "string"
        },
        {
         "name": "Purpose.of.flight",
         "rawType": "object",
         "type": "string"
        },
        {
         "name": "Air.carrier",
         "rawType": "object",
         "type": "string"
        },
        {
         "name": "Total.Fatal.Injuries",
         "rawType": "float64",
         "type": "float"
        },
        {
         "name": "Total.Serious.Injuries",
         "rawType": "float64",
         "type": "float"
        },
        {
         "name": "Total.Minor.Injuries",
         "rawType": "float64",
         "type": "float"
        },
        {
         "name": "Total.Uninjured",
         "rawType": "float64",
         "type": "float"
        },
        {
         "name": "Weather.Condition",
         "rawType": "object",
         "type": "string"
        },
        {
         "name": "Broad.phase.of.flight",
         "rawType": "object",
         "type": "string"
        },
        {
         "name": "Report.Status",
         "rawType": "object",
         "type": "string"
        },
        {
         "name": "Publication.Date",
         "rawType": "object",
         "type": "string"
        }
       ],
       "ref": "8b79d125-5964-4f05-b684-cce4c200f94c",
       "rows": [
        [
         "count",
         "88889",
         "88958",
         "88889",
         "88889",
         "88837",
         "88663",
         "34382",
         "34373",
         "50249",
         "52790",
         "87889",
         "85695",
         "32287",
         "87572",
         "88826",
         "88797",
         "88787",
         "82805.0",
         "81812",
         "32023",
         "12582",
         "82697",
         "16648",
         "77488.0",
         "76379.0",
         "76956.0",
         "82977.0",
         "84397",
         "61724",
         "82508",
         "73659"
        ],
        [
         "unique",
         "87951",
         "71",
         "88863",
         "14782",
         "27758",
         "219",
         "25592",
         "27156",
         "10375",
         "24871",
         "109",
         "4",
         "15",
         "79105",
         "8237",
         "12318",
         "2",
         null,
         "13",
         "31",
         "3",
         "26",
         "13590",
         null,
         null,
         null,
         null,
         "4",
         "12",
         "17007",
         "2923"
        ],
        [
         "top",
         "20001212X19172",
         "Accident",
         "WPR22FA309",
         "1982-05-16",
         "ANCHORAGE, AK",
         "United States",
         "332739N",
         "0112457W",
         "NONE",
         "Private",
         "Non-Fatal",
         "Substantial",
         "Airplane",
         "NONE",
         "Cessna",
         "152",
         "No",
         null,
         "Reciprocating",
         "091",
         "NSCH",
         "Personal",
         "Pilot",
         null,
         null,
         null,
         null,
         "VMC",
         "Landing",
         "Probable Cause",
         "25-09-2020"
        ],
        [
         "freq",
         "3",
         "85015",
         "2",
         "25",
         "434",
         "82248",
         "19",
         "24",
         "1488",
         "240",
         "67357",
         "64148",
         "27617",
         "344",
         "22227",
         "2367",
         "80312",
         null,
         "69530",
         "18221",
         "4474",
         "49448",
         "258",
         null,
         null,
         null,
         null,
         "77303",
         "15428",
         "61754",
         "16317"
        ],
        [
         "mean",
         null,
         null,
         null,
         null,
         null,
         null,
         null,
         null,
         null,
         null,
         null,
         null,
         null,
         null,
         null,
         null,
         null,
         "1.1465853511261397",
         null,
         null,
         null,
         null,
         null,
         "0.6478551517654346",
         "0.27988059545162935",
         "0.3570611778158948",
         "5.325439579642552",
         null,
         null,
         null,
         null
        ],
        [
         "std",
         null,
         null,
         null,
         null,
         null,
         null,
         null,
         null,
         null,
         null,
         null,
         null,
         null,
         null,
         null,
         null,
         null,
         "0.4465102138196286",
         null,
         null,
         null,
         null,
         null,
         "5.485960107559197",
         "1.5440836452335867",
         "2.235625319656934",
         "27.91363443100856",
         null,
         null,
         null,
         null
        ],
        [
         "min",
         null,
         null,
         null,
         null,
         null,
         null,
         null,
         null,
         null,
         null,
         null,
         null,
         null,
         null,
         null,
         null,
         null,
         "0.0",
         null,
         null,
         null,
         null,
         null,
         "0.0",
         "0.0",
         "0.0",
         "0.0",
         null,
         null,
         null,
         null
        ],
        [
         "25%",
         null,
         null,
         null,
         null,
         null,
         null,
         null,
         null,
         null,
         null,
         null,
         null,
         null,
         null,
         null,
         null,
         null,
         "1.0",
         null,
         null,
         null,
         null,
         null,
         "0.0",
         "0.0",
         "0.0",
         "0.0",
         null,
         null,
         null,
         null
        ],
        [
         "50%",
         null,
         null,
         null,
         null,
         null,
         null,
         null,
         null,
         null,
         null,
         null,
         null,
         null,
         null,
         null,
         null,
         null,
         "1.0",
         null,
         null,
         null,
         null,
         null,
         "0.0",
         "0.0",
         "0.0",
         "1.0",
         null,
         null,
         null,
         null
        ],
        [
         "75%",
         null,
         null,
         null,
         null,
         null,
         null,
         null,
         null,
         null,
         null,
         null,
         null,
         null,
         null,
         null,
         null,
         null,
         "1.0",
         null,
         null,
         null,
         null,
         null,
         "0.0",
         "0.0",
         "0.0",
         "2.0",
         null,
         null,
         null,
         null
        ],
        [
         "max",
         null,
         null,
         null,
         null,
         null,
         null,
         null,
         null,
         null,
         null,
         null,
         null,
         null,
         null,
         null,
         null,
         null,
         "8.0",
         null,
         null,
         null,
         null,
         null,
         "349.0",
         "161.0",
         "380.0",
         "699.0",
         null,
         null,
         null,
         null
        ]
       ],
       "shape": {
        "columns": 31,
        "rows": 11
       }
      },
      "text/html": [
       "<div>\n",
       "<style scoped>\n",
       "    .dataframe tbody tr th:only-of-type {\n",
       "        vertical-align: middle;\n",
       "    }\n",
       "\n",
       "    .dataframe tbody tr th {\n",
       "        vertical-align: top;\n",
       "    }\n",
       "\n",
       "    .dataframe thead th {\n",
       "        text-align: right;\n",
       "    }\n",
       "</style>\n",
       "<table border=\"1\" class=\"dataframe\">\n",
       "  <thead>\n",
       "    <tr style=\"text-align: right;\">\n",
       "      <th></th>\n",
       "      <th>Event.Id</th>\n",
       "      <th>Investigation.Type</th>\n",
       "      <th>Accident.Number</th>\n",
       "      <th>Event.Date</th>\n",
       "      <th>Location</th>\n",
       "      <th>Country</th>\n",
       "      <th>Latitude</th>\n",
       "      <th>Longitude</th>\n",
       "      <th>Airport.Code</th>\n",
       "      <th>Airport.Name</th>\n",
       "      <th>...</th>\n",
       "      <th>Purpose.of.flight</th>\n",
       "      <th>Air.carrier</th>\n",
       "      <th>Total.Fatal.Injuries</th>\n",
       "      <th>Total.Serious.Injuries</th>\n",
       "      <th>Total.Minor.Injuries</th>\n",
       "      <th>Total.Uninjured</th>\n",
       "      <th>Weather.Condition</th>\n",
       "      <th>Broad.phase.of.flight</th>\n",
       "      <th>Report.Status</th>\n",
       "      <th>Publication.Date</th>\n",
       "    </tr>\n",
       "  </thead>\n",
       "  <tbody>\n",
       "    <tr>\n",
       "      <th>count</th>\n",
       "      <td>88889</td>\n",
       "      <td>88958</td>\n",
       "      <td>88889</td>\n",
       "      <td>88889</td>\n",
       "      <td>88837</td>\n",
       "      <td>88663</td>\n",
       "      <td>34382</td>\n",
       "      <td>34373</td>\n",
       "      <td>50249</td>\n",
       "      <td>52790</td>\n",
       "      <td>...</td>\n",
       "      <td>82697</td>\n",
       "      <td>16648</td>\n",
       "      <td>77488.000000</td>\n",
       "      <td>76379.000000</td>\n",
       "      <td>76956.000000</td>\n",
       "      <td>82977.000000</td>\n",
       "      <td>84397</td>\n",
       "      <td>61724</td>\n",
       "      <td>82508</td>\n",
       "      <td>73659</td>\n",
       "    </tr>\n",
       "    <tr>\n",
       "      <th>unique</th>\n",
       "      <td>87951</td>\n",
       "      <td>71</td>\n",
       "      <td>88863</td>\n",
       "      <td>14782</td>\n",
       "      <td>27758</td>\n",
       "      <td>219</td>\n",
       "      <td>25592</td>\n",
       "      <td>27156</td>\n",
       "      <td>10375</td>\n",
       "      <td>24871</td>\n",
       "      <td>...</td>\n",
       "      <td>26</td>\n",
       "      <td>13590</td>\n",
       "      <td>NaN</td>\n",
       "      <td>NaN</td>\n",
       "      <td>NaN</td>\n",
       "      <td>NaN</td>\n",
       "      <td>4</td>\n",
       "      <td>12</td>\n",
       "      <td>17007</td>\n",
       "      <td>2923</td>\n",
       "    </tr>\n",
       "    <tr>\n",
       "      <th>top</th>\n",
       "      <td>20001212X19172</td>\n",
       "      <td>Accident</td>\n",
       "      <td>WPR22FA309</td>\n",
       "      <td>1982-05-16</td>\n",
       "      <td>ANCHORAGE, AK</td>\n",
       "      <td>United States</td>\n",
       "      <td>332739N</td>\n",
       "      <td>0112457W</td>\n",
       "      <td>NONE</td>\n",
       "      <td>Private</td>\n",
       "      <td>...</td>\n",
       "      <td>Personal</td>\n",
       "      <td>Pilot</td>\n",
       "      <td>NaN</td>\n",
       "      <td>NaN</td>\n",
       "      <td>NaN</td>\n",
       "      <td>NaN</td>\n",
       "      <td>VMC</td>\n",
       "      <td>Landing</td>\n",
       "      <td>Probable Cause</td>\n",
       "      <td>25-09-2020</td>\n",
       "    </tr>\n",
       "    <tr>\n",
       "      <th>freq</th>\n",
       "      <td>3</td>\n",
       "      <td>85015</td>\n",
       "      <td>2</td>\n",
       "      <td>25</td>\n",
       "      <td>434</td>\n",
       "      <td>82248</td>\n",
       "      <td>19</td>\n",
       "      <td>24</td>\n",
       "      <td>1488</td>\n",
       "      <td>240</td>\n",
       "      <td>...</td>\n",
       "      <td>49448</td>\n",
       "      <td>258</td>\n",
       "      <td>NaN</td>\n",
       "      <td>NaN</td>\n",
       "      <td>NaN</td>\n",
       "      <td>NaN</td>\n",
       "      <td>77303</td>\n",
       "      <td>15428</td>\n",
       "      <td>61754</td>\n",
       "      <td>16317</td>\n",
       "    </tr>\n",
       "    <tr>\n",
       "      <th>mean</th>\n",
       "      <td>NaN</td>\n",
       "      <td>NaN</td>\n",
       "      <td>NaN</td>\n",
       "      <td>NaN</td>\n",
       "      <td>NaN</td>\n",
       "      <td>NaN</td>\n",
       "      <td>NaN</td>\n",
       "      <td>NaN</td>\n",
       "      <td>NaN</td>\n",
       "      <td>NaN</td>\n",
       "      <td>...</td>\n",
       "      <td>NaN</td>\n",
       "      <td>NaN</td>\n",
       "      <td>0.647855</td>\n",
       "      <td>0.279881</td>\n",
       "      <td>0.357061</td>\n",
       "      <td>5.325440</td>\n",
       "      <td>NaN</td>\n",
       "      <td>NaN</td>\n",
       "      <td>NaN</td>\n",
       "      <td>NaN</td>\n",
       "    </tr>\n",
       "    <tr>\n",
       "      <th>std</th>\n",
       "      <td>NaN</td>\n",
       "      <td>NaN</td>\n",
       "      <td>NaN</td>\n",
       "      <td>NaN</td>\n",
       "      <td>NaN</td>\n",
       "      <td>NaN</td>\n",
       "      <td>NaN</td>\n",
       "      <td>NaN</td>\n",
       "      <td>NaN</td>\n",
       "      <td>NaN</td>\n",
       "      <td>...</td>\n",
       "      <td>NaN</td>\n",
       "      <td>NaN</td>\n",
       "      <td>5.485960</td>\n",
       "      <td>1.544084</td>\n",
       "      <td>2.235625</td>\n",
       "      <td>27.913634</td>\n",
       "      <td>NaN</td>\n",
       "      <td>NaN</td>\n",
       "      <td>NaN</td>\n",
       "      <td>NaN</td>\n",
       "    </tr>\n",
       "    <tr>\n",
       "      <th>min</th>\n",
       "      <td>NaN</td>\n",
       "      <td>NaN</td>\n",
       "      <td>NaN</td>\n",
       "      <td>NaN</td>\n",
       "      <td>NaN</td>\n",
       "      <td>NaN</td>\n",
       "      <td>NaN</td>\n",
       "      <td>NaN</td>\n",
       "      <td>NaN</td>\n",
       "      <td>NaN</td>\n",
       "      <td>...</td>\n",
       "      <td>NaN</td>\n",
       "      <td>NaN</td>\n",
       "      <td>0.000000</td>\n",
       "      <td>0.000000</td>\n",
       "      <td>0.000000</td>\n",
       "      <td>0.000000</td>\n",
       "      <td>NaN</td>\n",
       "      <td>NaN</td>\n",
       "      <td>NaN</td>\n",
       "      <td>NaN</td>\n",
       "    </tr>\n",
       "    <tr>\n",
       "      <th>25%</th>\n",
       "      <td>NaN</td>\n",
       "      <td>NaN</td>\n",
       "      <td>NaN</td>\n",
       "      <td>NaN</td>\n",
       "      <td>NaN</td>\n",
       "      <td>NaN</td>\n",
       "      <td>NaN</td>\n",
       "      <td>NaN</td>\n",
       "      <td>NaN</td>\n",
       "      <td>NaN</td>\n",
       "      <td>...</td>\n",
       "      <td>NaN</td>\n",
       "      <td>NaN</td>\n",
       "      <td>0.000000</td>\n",
       "      <td>0.000000</td>\n",
       "      <td>0.000000</td>\n",
       "      <td>0.000000</td>\n",
       "      <td>NaN</td>\n",
       "      <td>NaN</td>\n",
       "      <td>NaN</td>\n",
       "      <td>NaN</td>\n",
       "    </tr>\n",
       "    <tr>\n",
       "      <th>50%</th>\n",
       "      <td>NaN</td>\n",
       "      <td>NaN</td>\n",
       "      <td>NaN</td>\n",
       "      <td>NaN</td>\n",
       "      <td>NaN</td>\n",
       "      <td>NaN</td>\n",
       "      <td>NaN</td>\n",
       "      <td>NaN</td>\n",
       "      <td>NaN</td>\n",
       "      <td>NaN</td>\n",
       "      <td>...</td>\n",
       "      <td>NaN</td>\n",
       "      <td>NaN</td>\n",
       "      <td>0.000000</td>\n",
       "      <td>0.000000</td>\n",
       "      <td>0.000000</td>\n",
       "      <td>1.000000</td>\n",
       "      <td>NaN</td>\n",
       "      <td>NaN</td>\n",
       "      <td>NaN</td>\n",
       "      <td>NaN</td>\n",
       "    </tr>\n",
       "    <tr>\n",
       "      <th>75%</th>\n",
       "      <td>NaN</td>\n",
       "      <td>NaN</td>\n",
       "      <td>NaN</td>\n",
       "      <td>NaN</td>\n",
       "      <td>NaN</td>\n",
       "      <td>NaN</td>\n",
       "      <td>NaN</td>\n",
       "      <td>NaN</td>\n",
       "      <td>NaN</td>\n",
       "      <td>NaN</td>\n",
       "      <td>...</td>\n",
       "      <td>NaN</td>\n",
       "      <td>NaN</td>\n",
       "      <td>0.000000</td>\n",
       "      <td>0.000000</td>\n",
       "      <td>0.000000</td>\n",
       "      <td>2.000000</td>\n",
       "      <td>NaN</td>\n",
       "      <td>NaN</td>\n",
       "      <td>NaN</td>\n",
       "      <td>NaN</td>\n",
       "    </tr>\n",
       "    <tr>\n",
       "      <th>max</th>\n",
       "      <td>NaN</td>\n",
       "      <td>NaN</td>\n",
       "      <td>NaN</td>\n",
       "      <td>NaN</td>\n",
       "      <td>NaN</td>\n",
       "      <td>NaN</td>\n",
       "      <td>NaN</td>\n",
       "      <td>NaN</td>\n",
       "      <td>NaN</td>\n",
       "      <td>NaN</td>\n",
       "      <td>...</td>\n",
       "      <td>NaN</td>\n",
       "      <td>NaN</td>\n",
       "      <td>349.000000</td>\n",
       "      <td>161.000000</td>\n",
       "      <td>380.000000</td>\n",
       "      <td>699.000000</td>\n",
       "      <td>NaN</td>\n",
       "      <td>NaN</td>\n",
       "      <td>NaN</td>\n",
       "      <td>NaN</td>\n",
       "    </tr>\n",
       "  </tbody>\n",
       "</table>\n",
       "<p>11 rows × 31 columns</p>\n",
       "</div>"
      ],
      "text/plain": [
       "              Event.Id Investigation.Type Accident.Number  Event.Date  \\\n",
       "count            88889              88958           88889       88889   \n",
       "unique           87951                 71           88863       14782   \n",
       "top     20001212X19172           Accident      WPR22FA309  1982-05-16   \n",
       "freq                 3              85015               2          25   \n",
       "mean               NaN                NaN             NaN         NaN   \n",
       "std                NaN                NaN             NaN         NaN   \n",
       "min                NaN                NaN             NaN         NaN   \n",
       "25%                NaN                NaN             NaN         NaN   \n",
       "50%                NaN                NaN             NaN         NaN   \n",
       "75%                NaN                NaN             NaN         NaN   \n",
       "max                NaN                NaN             NaN         NaN   \n",
       "\n",
       "             Location        Country Latitude Longitude Airport.Code  \\\n",
       "count           88837          88663    34382     34373        50249   \n",
       "unique          27758            219    25592     27156        10375   \n",
       "top     ANCHORAGE, AK  United States  332739N  0112457W         NONE   \n",
       "freq              434          82248       19        24         1488   \n",
       "mean              NaN            NaN      NaN       NaN          NaN   \n",
       "std               NaN            NaN      NaN       NaN          NaN   \n",
       "min               NaN            NaN      NaN       NaN          NaN   \n",
       "25%               NaN            NaN      NaN       NaN          NaN   \n",
       "50%               NaN            NaN      NaN       NaN          NaN   \n",
       "75%               NaN            NaN      NaN       NaN          NaN   \n",
       "max               NaN            NaN      NaN       NaN          NaN   \n",
       "\n",
       "       Airport.Name  ... Purpose.of.flight Air.carrier Total.Fatal.Injuries  \\\n",
       "count         52790  ...             82697       16648         77488.000000   \n",
       "unique        24871  ...                26       13590                  NaN   \n",
       "top         Private  ...          Personal       Pilot                  NaN   \n",
       "freq            240  ...             49448         258                  NaN   \n",
       "mean            NaN  ...               NaN         NaN             0.647855   \n",
       "std             NaN  ...               NaN         NaN             5.485960   \n",
       "min             NaN  ...               NaN         NaN             0.000000   \n",
       "25%             NaN  ...               NaN         NaN             0.000000   \n",
       "50%             NaN  ...               NaN         NaN             0.000000   \n",
       "75%             NaN  ...               NaN         NaN             0.000000   \n",
       "max             NaN  ...               NaN         NaN           349.000000   \n",
       "\n",
       "       Total.Serious.Injuries Total.Minor.Injuries Total.Uninjured  \\\n",
       "count            76379.000000         76956.000000    82977.000000   \n",
       "unique                    NaN                  NaN             NaN   \n",
       "top                       NaN                  NaN             NaN   \n",
       "freq                      NaN                  NaN             NaN   \n",
       "mean                 0.279881             0.357061        5.325440   \n",
       "std                  1.544084             2.235625       27.913634   \n",
       "min                  0.000000             0.000000        0.000000   \n",
       "25%                  0.000000             0.000000        0.000000   \n",
       "50%                  0.000000             0.000000        1.000000   \n",
       "75%                  0.000000             0.000000        2.000000   \n",
       "max                161.000000           380.000000      699.000000   \n",
       "\n",
       "       Weather.Condition  Broad.phase.of.flight   Report.Status  \\\n",
       "count              84397                  61724           82508   \n",
       "unique                 4                     12           17007   \n",
       "top                  VMC                Landing  Probable Cause   \n",
       "freq               77303                  15428           61754   \n",
       "mean                 NaN                    NaN             NaN   \n",
       "std                  NaN                    NaN             NaN   \n",
       "min                  NaN                    NaN             NaN   \n",
       "25%                  NaN                    NaN             NaN   \n",
       "50%                  NaN                    NaN             NaN   \n",
       "75%                  NaN                    NaN             NaN   \n",
       "max                  NaN                    NaN             NaN   \n",
       "\n",
       "       Publication.Date  \n",
       "count             73659  \n",
       "unique             2923  \n",
       "top          25-09-2020  \n",
       "freq              16317  \n",
       "mean                NaN  \n",
       "std                 NaN  \n",
       "min                 NaN  \n",
       "25%                 NaN  \n",
       "50%                 NaN  \n",
       "75%                 NaN  \n",
       "max                 NaN  \n",
       "\n",
       "[11 rows x 31 columns]"
      ]
     },
     "execution_count": 30,
     "metadata": {},
     "output_type": "execute_result"
    }
   ],
   "source": [
    "#Get summary stats\n",
    "cleaned_df.describe(include='all')"
   ]
  },
  {
   "cell_type": "markdown",
   "metadata": {},
   "source": [
    "### 1. Columns to **DROP** (too many blanks + not very helpful)\n",
    "\n",
    "| Column                  | % Missing | Why drop it? |\n",
    "|-------------------------|-----------|--------------|\n",
    "| **Schedule**            | 86%       | Almost all rows are blank. It just says if the flight was on a regular schedule (like a bus). We already know from `Purpose.of.flight` if it was a normal passenger trip. |\n",
    "| **Air.carrier**         | 82%       | Mostly empty. It's just the airline name (like \"Delta\"). We don’t need the name to understand the crash. |\n",
    "| **FAR.Description**     | 65%       | A boring legal rule number. Missing for most small planes. Doesn’t help us predict injuries or damage. |\n",
    "| **Aircraft.Category**   | 64%       | Says if it's a plane, helicopter, etc. But we already have `Make` and `Model` — that’s enough! |\n",
    "| **Longitude / Latitude**| ~62%      | GPS numbers. Great for Google Maps, but more than half are missing. We still have city and airport to know *where*. |\n",
    "| **Airport.Code**        | 44%       | The short code like \"LAX\" or \"JFK\". Many crashes happen **away** from airports, so it’s often blank. |\n",
    "| **Airport.Name**        | 42%       | Same as above. We can just use the city name instead. |\n",
    "| **Broad.phase.of.flight**| 32%    | Tells you *when* in the flight it crashed (takeoff? landing?). Helpful, but too many blanks and too many options. Hard to guess the missing ones. |\n",
    "| **Publication.Date**    | 18%       | This is the day the **report** came out — not the crash day. Totally useless for understanding the accident. |\n",
    "\n",
    "---\n",
    "\n"
   ]
  },
  {
   "cell_type": "code",
   "execution_count": 33,
   "metadata": {},
   "outputs": [],
   "source": [
    "cols_to_drop = [\n",
    "    'Schedule', 'Air.carrier', 'FAR.Description', 'Aircraft.Category',\n",
    "    'Longitude', 'Latitude', 'Airport.Code', 'Airport.Name',\n",
    "    'Broad.phase.of.flight', 'Publication.Date'\n",
    "]\n",
    "\n",
    "cleaned_df= cleaned_df.drop(columns=cols_to_drop)"
   ]
  },
  {
   "cell_type": "code",
   "execution_count": 36,
   "metadata": {},
   "outputs": [
    {
     "data": {
      "application/vnd.microsoft.datawrangler.viewer.v0+json": {
       "columns": [
        {
         "name": "index",
         "rawType": "object",
         "type": "string"
        },
        {
         "name": "0",
         "rawType": "float64",
         "type": "float"
        }
       ],
       "ref": "a829f209-9351-4595-9b0b-006bab2e47ba",
       "rows": [
        [
         "Total.Serious.Injuries",
         "14.140380853886104"
        ],
        [
         "Total.Minor.Injuries",
         "13.491760156478339"
        ],
        [
         "Total.Fatal.Injuries",
         "12.893725128712427"
        ],
        [
         "Engine.Type",
         "8.033004339126329"
        ],
        [
         "Report.Status",
         "7.250612648665662"
        ],
        [
         "Purpose.of.flight",
         "7.038152836169878"
        ],
        [
         "Number.of.Engines",
         "6.916747229029429"
        ],
        [
         "Total.Uninjured",
         "6.723397558398345"
        ],
        [
         "Weather.Condition",
         "5.127138649699859"
        ],
        [
         "Aircraft.damage",
         "3.6680231120303963"
        ],
        [
         "Registration.Number",
         "1.5580386249690865"
        ],
        [
         "Injury.Severity",
         "1.20169068549203"
        ],
        [
         "Country",
         "0.33161716765215044"
        ],
        [
         "Amateur.Built",
         "0.19222554463904315"
        ],
        [
         "Model",
         "0.18098428471863126"
        ],
        [
         "Make",
         "0.14838463094943682"
        ],
        [
         "Location",
         "0.13601924503698373"
        ],
        [
         "Event.Date",
         "0.07756469345084196"
        ],
        [
         "Accident.Number",
         "0.07756469345084196"
        ],
        [
         "Event.Id",
         "0.07756469345084196"
        ],
        [
         "Investigation.Type",
         "0.0"
        ]
       ],
       "shape": {
        "columns": 1,
        "rows": 21
       }
      },
      "text/plain": [
       "Total.Serious.Injuries    14.140381\n",
       "Total.Minor.Injuries      13.491760\n",
       "Total.Fatal.Injuries      12.893725\n",
       "Engine.Type                8.033004\n",
       "Report.Status              7.250613\n",
       "Purpose.of.flight          7.038153\n",
       "Number.of.Engines          6.916747\n",
       "Total.Uninjured            6.723398\n",
       "Weather.Condition          5.127139\n",
       "Aircraft.damage            3.668023\n",
       "Registration.Number        1.558039\n",
       "Injury.Severity            1.201691\n",
       "Country                    0.331617\n",
       "Amateur.Built              0.192226\n",
       "Model                      0.180984\n",
       "Make                       0.148385\n",
       "Location                   0.136019\n",
       "Event.Date                 0.077565\n",
       "Accident.Number            0.077565\n",
       "Event.Id                   0.077565\n",
       "Investigation.Type         0.000000\n",
       "dtype: float64"
      ]
     },
     "execution_count": 36,
     "metadata": {},
     "output_type": "execute_result"
    }
   ],
   "source": [
    "cleaned_df.isnull().mean().sort_values(ascending=False) * 100 "
   ]
  },
  {
   "cell_type": "markdown",
   "metadata": {},
   "source": [
    "### 2. Columns to **KEEP** (a little blank is okay — they’re super important!)\n",
    "\n",
    "| Column | % Missing | Why keep it? |\n",
    "|--------|-----------|--------------|\n",
    "| **Total.Serious.Injuries** | 15% | This tells us how many people got **really hurt**. Most crashes have 0 — so we can just fill blanks with **0**. |\n",
    "| **Total.Minor.Injuries** | 15% | Same idea — small cuts or bruises. Fill blanks with **0**. |\n",
    "| **Total.Fatal.Injuries** | 14% | **Super important!** How many people died. We *must* keep this. Fill blanks with **0**. |\n",
    "| **Engine.Type** | 9% | Is it a normal engine or a jet? Big difference in crashes. Easy to fill with “Unknown” if missing. |\n",
    "| **Report.Status** | 9% | Says if the report is “final” or “still being checked”. Helps us know if the data is ready. |\n",
    "| **Purpose.of.flight** | 8% | Was it a normal passenger flight? Training? Crop dusting? **Tells us a lot** about the risk. |\n",
    "| **Number.of.Engines** | 8% | 1 engine or 2+? Two engines = safer usually. Easy to guess if missing. |\n",
    "| **Total.Uninjured** | 8% | How many people walked away fine. Completes the story! Fill with a number if missing. |\n",
    "| **Weather.Condition** | 7% | Was it sunny or stormy? Weather causes many crashes. Most are “good weather” — so fill with that. |\n",
    "| **Aircraft.damage** | 5% | Did the plane get scratched or totally destroyed? **Main thing** we want to predict. |\n",
    "| **Registration.Number** | 3% | The plane’s license plate (like N123AB). Helps find duplicates. |\n",
    "| **Injury.Severity** | 3% | Says “Fatal” or “Minor” in one word. We can make it from the injury counts if needed. |\n",
    "| **Country, Amateur.Built, Model, Make, Location, Event.Date, Accident.Number, Event.Id** | ≤ 2% | Almost no blanks! These are **must-haves**: \n",
    "\n"
   ]
  },
  {
   "cell_type": "code",
   "execution_count": 55,
   "metadata": {},
   "outputs": [
    {
     "data": {
      "application/vnd.microsoft.datawrangler.viewer.v0+json": {
       "columns": [
        {
         "name": "index",
         "rawType": "object",
         "type": "string"
        },
        {
         "name": "Country",
         "rawType": "int64",
         "type": "integer"
        }
       ],
       "ref": "6f6be2f1-c3c5-497a-825c-418b7377e87e",
       "rows": [
        [
         "United States",
         "82543"
        ],
        [
         "Brazil",
         "374"
        ],
        [
         "Canada",
         "359"
        ],
        [
         "Mexico",
         "358"
        ],
        [
         "United Kingdom",
         "344"
        ]
       ],
       "shape": {
        "columns": 1,
        "rows": 5
       }
      },
      "text/plain": [
       "United States     82543\n",
       "Brazil              374\n",
       "Canada              359\n",
       "Mexico              358\n",
       "United Kingdom      344\n",
       "Name: Country, dtype: int64"
      ]
     },
     "execution_count": 55,
     "metadata": {},
     "output_type": "execute_result"
    }
   ],
   "source": [
    "# checking country which appears most \n",
    "cleaned_df['Country'].value_counts().head()"
   ]
  },
  {
   "cell_type": "code",
   "execution_count": 54,
   "metadata": {},
   "outputs": [],
   "source": [
    "#any missing value will be replaced with mode country which is United states\n",
    "cleaned_df['Country'].fillna('United States', inplace=True)\n"
   ]
  },
  {
   "cell_type": "code",
   "execution_count": 56,
   "metadata": {},
   "outputs": [
    {
     "name": "stdout",
     "output_type": "stream",
     "text": [
      "<class 'pandas.core.frame.DataFrame'>\n",
      "Int64Index: 88958 entries, 0 to 90347\n",
      "Data columns (total 21 columns):\n",
      " #   Column                  Non-Null Count  Dtype  \n",
      "---  ------                  --------------  -----  \n",
      " 0   Event.Id                88889 non-null  object \n",
      " 1   Investigation.Type      88958 non-null  object \n",
      " 2   Accident.Number         88889 non-null  object \n",
      " 3   Event.Date              88889 non-null  object \n",
      " 4   Location                88837 non-null  object \n",
      " 5   Country                 88958 non-null  object \n",
      " 6   Injury.Severity         87889 non-null  object \n",
      " 7   Aircraft.damage         85695 non-null  object \n",
      " 8   Registration.Number     87572 non-null  object \n",
      " 9   Make                    88826 non-null  object \n",
      " 10  Model                   88797 non-null  object \n",
      " 11  Amateur.Built           88787 non-null  object \n",
      " 12  Number.of.Engines       82805 non-null  float64\n",
      " 13  Engine.Type             81812 non-null  object \n",
      " 14  Purpose.of.flight       82697 non-null  object \n",
      " 15  Total.Fatal.Injuries    77488 non-null  float64\n",
      " 16  Total.Serious.Injuries  76379 non-null  float64\n",
      " 17  Total.Minor.Injuries    76956 non-null  float64\n",
      " 18  Total.Uninjured         82977 non-null  float64\n",
      " 19  Weather.Condition       84397 non-null  object \n",
      " 20  Report.Status           82508 non-null  object \n",
      "dtypes: float64(5), object(16)\n",
      "memory usage: 14.9+ MB\n"
     ]
    }
   ],
   "source": [
    "cleaned_df.info()"
   ]
  },
  {
   "cell_type": "code",
   "execution_count": 91,
   "metadata": {},
   "outputs": [
    {
     "name": "stdout",
     "output_type": "stream",
     "text": [
      "['Number.of.Engines', 'Total.Fatal.Injuries', 'Total.Serious.Injuries', 'Total.Minor.Injuries', 'Total.Uninjured']\n"
     ]
    }
   ],
   "source": [
    "# lets get numeric column to see use mean mode or median to fill empty cells\n",
    "numeric_cols = cleaned_df.select_dtypes(include=['number']).columns\n",
    "print(numeric_cols.tolist())\n"
   ]
  },
  {
   "cell_type": "code",
   "execution_count": 87,
   "metadata": {},
   "outputs": [
    {
     "name": "stdout",
     "output_type": "stream",
     "text": [
      "Mode: 1.0, Median: 1.0, Mean: 1.15\n"
     ]
    }
   ],
   "source": [
    "# Will use the number of engine using make\n",
    "mode_value = cleaned_df['Number.of.Engines'].mode()[0]\n",
    "median_value = cleaned_df['Number.of.Engines'].median()\n",
    "mean_value = cleaned_df['Number.of.Engines'].mean()\n",
    "\n",
    "print(f\"Mode: {mode_value}, Median: {median_value}, Mean: {mean_value:.2f}\")\n"
   ]
  },
  {
   "cell_type": "code",
   "execution_count": 88,
   "metadata": {},
   "outputs": [],
   "source": [
    "# Replace missing or zero engine counts with 1\n",
    "cleaned_df['Number.of.Engines'] = cleaned_df['Number.of.Engines'].replace(0, np.nan)\n",
    "cleaned_df['Number.of.Engines'].fillna(1, inplace=True)"
   ]
  },
  {
   "cell_type": "markdown",
   "metadata": {},
   "source": [
    "## Fill missing injury counts with zero"
   ]
  },
  {
   "cell_type": "code",
   "execution_count": null,
   "metadata": {},
   "outputs": [],
   "source": [
    "injury_cols = ['Total.Fatal.Injuries', \n",
    "               'Total.Serious.Injuries', \n",
    "               'Total.Minor.Injuries', \n",
    "               'Total.Uninjured']\n",
    "\n",
    "# Replace NaN with 0\n",
    "cleaned_df[injury_cols] = cleaned_df[injury_cols].fillna(0)\n"
   ]
  },
  {
   "cell_type": "code",
   "execution_count": 93,
   "metadata": {},
   "outputs": [
    {
     "name": "stdout",
     "output_type": "stream",
     "text": [
      "<class 'pandas.core.frame.DataFrame'>\n",
      "Int64Index: 88958 entries, 0 to 90347\n",
      "Data columns (total 21 columns):\n",
      " #   Column                  Non-Null Count  Dtype  \n",
      "---  ------                  --------------  -----  \n",
      " 0   Event.Id                88889 non-null  object \n",
      " 1   Investigation.Type      88958 non-null  object \n",
      " 2   Accident.Number         88889 non-null  object \n",
      " 3   Event.Date              88889 non-null  object \n",
      " 4   Location                88837 non-null  object \n",
      " 5   Country                 88958 non-null  object \n",
      " 6   Injury.Severity         87889 non-null  object \n",
      " 7   Aircraft.damage         85695 non-null  object \n",
      " 8   Registration.Number     87572 non-null  object \n",
      " 9   Make                    88826 non-null  object \n",
      " 10  Model                   88797 non-null  object \n",
      " 11  Amateur.Built           88787 non-null  object \n",
      " 12  Number.of.Engines       88958 non-null  float64\n",
      " 13  Engine.Type             81812 non-null  object \n",
      " 14  Purpose.of.flight       82697 non-null  object \n",
      " 15  Total.Fatal.Injuries    88958 non-null  float64\n",
      " 16  Total.Serious.Injuries  88958 non-null  float64\n",
      " 17  Total.Minor.Injuries    88958 non-null  float64\n",
      " 18  Total.Uninjured         88958 non-null  float64\n",
      " 19  Weather.Condition       84397 non-null  object \n",
      " 20  Report.Status           82508 non-null  object \n",
      "dtypes: float64(5), object(16)\n",
      "memory usage: 14.9+ MB\n"
     ]
    }
   ],
   "source": [
    "cleaned_df.info()"
   ]
  },
  {
   "cell_type": "markdown",
   "metadata": {},
   "source": [
    "`` our Investigation.Type column and number has many entries of 88958 but generally the event id has 88889 ``\n",
    " "
   ]
  },
  {
   "cell_type": "code",
   "execution_count": 97,
   "metadata": {},
   "outputs": [
    {
     "data": {
      "application/vnd.microsoft.datawrangler.viewer.v0+json": {
       "columns": [
        {
         "name": "index",
         "rawType": "object",
         "type": "string"
        },
        {
         "name": "Investigation.Type",
         "rawType": "int64",
         "type": "integer"
        }
       ],
       "ref": "2205de93-4f91-43fa-b114-37b980e52328",
       "rows": [
        [
         "Accident",
         "85015"
        ],
        [
         "Incident",
         "3874"
        ],
        [
         "20-09-2021",
         "1"
        ],
        [
         "08-12-2022",
         "1"
        ],
        [
         "11-12-2020",
         "1"
        ],
        [
         "13-10-2022",
         "1"
        ],
        [
         "06-10-2022",
         "1"
        ],
        [
         "25-05-2021",
         "1"
        ],
        [
         "24-08-2021",
         "1"
        ],
        [
         "01-07-2022",
         "1"
        ],
        [
         "17-12-2021",
         "1"
        ],
        [
         "03-12-2020",
         "1"
        ],
        [
         "19-11-2020",
         "1"
        ],
        [
         "07-12-2020",
         "1"
        ],
        [
         "29-01-2021",
         "1"
        ],
        [
         "05-08-2022",
         "1"
        ],
        [
         "31-03-2021",
         "1"
        ],
        [
         "26-01-2021",
         "1"
        ],
        [
         "14-06-2021",
         "1"
        ],
        [
         "11-02-2021",
         "1"
        ],
        [
         "19-10-2021",
         "1"
        ],
        [
         "03-11-2022",
         "1"
        ],
        [
         "05-07-2022",
         "1"
        ],
        [
         "20-10-2021",
         "1"
        ],
        [
         "22-09-2022",
         "1"
        ],
        [
         "08-09-2022",
         "1"
        ],
        [
         "08-11-2021",
         "1"
        ],
        [
         "24-06-2021",
         "1"
        ],
        [
         "03-11-2020",
         "1"
        ],
        [
         "04-08-2021",
         "1"
        ],
        [
         "01-09-2022",
         "1"
        ],
        [
         "06-05-2021",
         "1"
        ],
        [
         "20-08-2021",
         "1"
        ],
        [
         "22-09-2021",
         "1"
        ],
        [
         "16-11-2021",
         "1"
        ],
        [
         "29-09-2021",
         "1"
        ],
        [
         "05-05-2021",
         "1"
        ],
        [
         "25-09-2020",
         "1"
        ],
        [
         "15-12-2022",
         "1"
        ],
        [
         "05-01-2021",
         "1"
        ],
        [
         "24-02-2021",
         "1"
        ],
        [
         "02-02-2021",
         "1"
        ],
        [
         "12-08-2022",
         "1"
        ],
        [
         "16-07-2021",
         "1"
        ],
        [
         "04-03-2021",
         "1"
        ],
        [
         "20-07-2022",
         "1"
        ],
        [
         "22-06-2022",
         "1"
        ],
        [
         "20-12-2022",
         "1"
        ],
        [
         "03-06-2021",
         "1"
        ],
        [
         "13-12-2021",
         "1"
        ]
       ],
       "shape": {
        "columns": 1,
        "rows": 71
       }
      },
      "text/plain": [
       "Accident      85015\n",
       "Incident       3874\n",
       "20-09-2021        1\n",
       "08-12-2022        1\n",
       "11-12-2020        1\n",
       "              ...  \n",
       "18-11-2020        1\n",
       "13-09-2021        1\n",
       "02-12-2022        1\n",
       "01-11-2022        1\n",
       "20-05-2021        1\n",
       "Name: Investigation.Type, Length: 71, dtype: int64"
      ]
     },
     "execution_count": 97,
     "metadata": {},
     "output_type": "execute_result"
    }
   ],
   "source": [
    "cleaned_df['Investigation.Type'].value_counts()"
   ]
  },
  {
   "cell_type": "markdown",
   "metadata": {},
   "source": [
    "#### cleaning event id where is null will solve the problem\n",
    "`` our Investigation.Type column and number has many entries of 88958 but generally the event id has 88889 ``\n",
    " "
   ]
  },
  {
   "cell_type": "code",
   "execution_count": null,
   "metadata": {},
   "outputs": [
    {
     "data": {
      "text/plain": [
       "69"
      ]
     },
     "execution_count": 100,
     "metadata": {},
     "output_type": "execute_result"
    }
   ],
   "source": [
    "# cleaning event id where is null will solve the problem\n",
    "cleaned_df['Event.Id'].isna().sum()"
   ]
  },
  {
   "cell_type": "code",
   "execution_count": 101,
   "metadata": {},
   "outputs": [],
   "source": [
    "# Drop rows where Event.Id is missing\n",
    "cleaned_df = cleaned_df.dropna(subset=['Event.Id']).reset_index(drop=True)"
   ]
  },
  {
   "cell_type": "code",
   "execution_count": 102,
   "metadata": {},
   "outputs": [
    {
     "name": "stdout",
     "output_type": "stream",
     "text": [
      "<class 'pandas.core.frame.DataFrame'>\n",
      "RangeIndex: 88889 entries, 0 to 88888\n",
      "Data columns (total 21 columns):\n",
      " #   Column                  Non-Null Count  Dtype  \n",
      "---  ------                  --------------  -----  \n",
      " 0   Event.Id                88889 non-null  object \n",
      " 1   Investigation.Type      88889 non-null  object \n",
      " 2   Accident.Number         88889 non-null  object \n",
      " 3   Event.Date              88889 non-null  object \n",
      " 4   Location                88837 non-null  object \n",
      " 5   Country                 88889 non-null  object \n",
      " 6   Injury.Severity         87889 non-null  object \n",
      " 7   Aircraft.damage         85695 non-null  object \n",
      " 8   Registration.Number     87572 non-null  object \n",
      " 9   Make                    88826 non-null  object \n",
      " 10  Model                   88797 non-null  object \n",
      " 11  Amateur.Built           88787 non-null  object \n",
      " 12  Number.of.Engines       88889 non-null  float64\n",
      " 13  Engine.Type             81812 non-null  object \n",
      " 14  Purpose.of.flight       82697 non-null  object \n",
      " 15  Total.Fatal.Injuries    88889 non-null  float64\n",
      " 16  Total.Serious.Injuries  88889 non-null  float64\n",
      " 17  Total.Minor.Injuries    88889 non-null  float64\n",
      " 18  Total.Uninjured         88889 non-null  float64\n",
      " 19  Weather.Condition       84397 non-null  object \n",
      " 20  Report.Status           82508 non-null  object \n",
      "dtypes: float64(5), object(16)\n",
      "memory usage: 14.2+ MB\n"
     ]
    }
   ],
   "source": [
    "cleaned_df.info()"
   ]
  },
  {
   "cell_type": "code",
   "execution_count": 105,
   "metadata": {},
   "outputs": [
    {
     "data": {
      "application/vnd.microsoft.datawrangler.viewer.v0+json": {
       "columns": [
        {
         "name": "index",
         "rawType": "object",
         "type": "string"
        },
        {
         "name": "Report.Status",
         "rawType": "int64",
         "type": "integer"
        }
       ],
       "ref": "eccd14d0-fa29-48ee-91c5-ab04bef907df",
       "rows": [
        [
         "Probable Cause",
         "61754"
        ],
        [
         "Foreign",
         "1999"
        ],
        [
         "<br /><br />",
         "167"
        ],
        [
         "Factual",
         "145"
        ],
        [
         "The pilot's failure to maintain directional control during the landing roll.",
         "58"
        ],
        [
         "A loss of engine power for undetermined reasons.",
         "53"
        ],
        [
         "The pilot's failure to maintain directional control during landing.",
         "50"
        ],
        [
         "A total loss of engine power for undetermined reasons.",
         "45"
        ],
        [
         "The loss of engine power for undetermined reasons.",
         "31"
        ],
        [
         "The pilots failure to maintain directional control during the landing roll.",
         "24"
        ],
        [
         "The pilots failure to maintain directional control during landing.",
         "23"
        ],
        [
         "The pilots failure to maintain directional control during the landing roll.\r\n\r",
         "21"
        ],
        [
         "The pilot's improper recovery from a bounced landing.",
         "19"
        ],
        [
         "The pilot's failure to maintain directional control during takeoff.",
         "19"
        ],
        [
         "The pilot's failure to maintain directional control of the airplane during landing.",
         "18"
        ],
        [
         "None.",
         "17"
        ],
        [
         "The student pilot's improper recovery from a bounced landing.",
         "16"
        ],
        [
         "The pilot's improper landing flare, which resulted in a hard landing.",
         "16"
        ],
        [
         ".",
         "16"
        ],
        [
         "Preliminary",
         "15"
        ],
        [
         "The pilot's failure to maintain directional control during the takeoff roll.",
         "15"
        ],
        [
         "A partial loss of engine power for undetermined reasons.",
         "14"
        ],
        [
         "A total loss of engine power for reasons that could not be determined based on the available information.",
         "13"
        ],
        [
         "The pilots failure to maintain directional control during landing.\r\n\r",
         "12"
        ],
        [
         "The pilot's improper fuel management, which resulted in a loss of engine power due to fuel exhaustion.",
         "11"
        ],
        [
         "an inadvertent encounter with clear air turbulence.",
         "11"
        ],
        [
         "A partial loss of engine power for reasons that could not be determined based on the available information.",
         "10"
        ],
        [
         "A loss of engine power for reasons that could not be determined based on the available information.",
         "10"
        ],
        [
         "The student pilot's improper flare, which resulted in a hard landing.",
         "10"
        ],
        [
         "The pilots improper landing flare, which resulted in a hard landing.\r\n\r",
         "10"
        ],
        [
         "The pilots failure to maintain directional control during takeoff.",
         "9"
        ],
        [
         "The student pilot's failure to maintain directional control during takeoff.",
         "9"
        ],
        [
         "The pilot's failure to maintain directional control during the landing roll, which resulted in a ground loop.",
         "9"
        ],
        [
         "The pilot's selection of unsuitable terrain for landing.",
         "9"
        ],
        [
         "The pilot's loss of directional control during landing.",
         "9"
        ],
        [
         "The pilot's failure to maintain directional control while landing.",
         "9"
        ],
        [
         "The pilots improper fuel management, which resulted in a loss of engine power due to fuel exhaustion.",
         "9"
        ],
        [
         "The pilot's failure to maintain directional control.",
         "8"
        ],
        [
         "The pilot's failure to maintain directional control of the airplane during the landing roll.",
         "8"
        ],
        [
         "The pilots improper recovery from a bounced landing.",
         "8"
        ],
        [
         "The pilot's failure to maintain directional control while landing with a crosswind.",
         "7"
        ],
        [
         "The pilot's improper landing flare and inadequate recovery from a bounced landing.",
         "7"
        ],
        [
         "The pilot's improper flare, which resulted in a hard landing.",
         "7"
        ],
        [
         "The pilot's failure to maintain directional control during the landing roll, which resulted in a runway excursion.",
         "7"
        ],
        [
         "The pilot's failure to maintain directional control during the landing.",
         "7"
        ],
        [
         "The loss of engine power due to fuel starvation.",
         "7"
        ],
        [
         "The pilot's inadequate flare, which resulted in a hard landing.",
         "7"
        ],
        [
         "The pilot's improper fuel management, which resulted in a loss of engine power due to fuel starvation.",
         "7"
        ],
        [
         "The total loss of engine power for undetermined reasons.",
         "7"
        ],
        [
         "The student pilot's failure to maintain directional control during landing.",
         "7"
        ]
       ],
       "shape": {
        "columns": 1,
        "rows": 17007
       }
      },
      "text/plain": [
       "Probable Cause                                                                                                                                                                                                                                                 61754\n",
       "Foreign                                                                                                                                                                                                                                                         1999\n",
       "<br /><br />                                                                                                                                                                                                                                                     167\n",
       "Factual                                                                                                                                                                                                                                                          145\n",
       "The pilot's failure to maintain directional control during the landing roll.                                                                                                                                                                                      58\n",
       "                                                                                                                                                                                                                                                               ...  \n",
       "The pilots improper flare, which resulted in a hard landing.                                                                                                                                                                                                       1\n",
       "The flight instructor's failure to ensure that adequate clearance from terrain was maintained after performance of a simulated engine failure maneuver, which resulted in controlled flight into terrain.                                                          1\n",
       "The pilot's inadequate helicopter preflight inspection and the mechanics inadequate annual inspection, both of which failed to detect a worn bolt in the tail rotor teeter hinge prior to its fracture due to fatigue.                                            1\n",
       "The pilot's failure to maintain control of the airplane in dark night conditions that resulted in an in-flight positive overload failure of the wings and the subsequent in-flight breakup of the airplane.                                                        1\n",
       "A fault in the No. 1 engine control module, which disabled the ignition system and resulted in the engine losing power; during the subsequent autorotation, the main rotor rpm was further reduced just before touchdown, which resulted in a hard landing.        1\n",
       "Name: Report.Status, Length: 17007, dtype: int64"
      ]
     },
     "execution_count": 105,
     "metadata": {},
     "output_type": "execute_result"
    }
   ],
   "source": [
    "cleaned_df['Report.Status'].value_counts()"
   ]
  },
  {
   "cell_type": "code",
   "execution_count": 106,
   "metadata": {},
   "outputs": [
    {
     "name": "stdout",
     "output_type": "stream",
     "text": [
      "<class 'pandas.core.frame.DataFrame'>\n",
      "RangeIndex: 88889 entries, 0 to 88888\n",
      "Data columns (total 21 columns):\n",
      " #   Column                  Non-Null Count  Dtype  \n",
      "---  ------                  --------------  -----  \n",
      " 0   Event.Id                88889 non-null  object \n",
      " 1   Investigation.Type      88889 non-null  object \n",
      " 2   Accident.Number         88889 non-null  object \n",
      " 3   Event.Date              88889 non-null  object \n",
      " 4   Location                88837 non-null  object \n",
      " 5   Country                 88889 non-null  object \n",
      " 6   Injury.Severity         87889 non-null  object \n",
      " 7   Aircraft.damage         85695 non-null  object \n",
      " 8   Registration.Number     87572 non-null  object \n",
      " 9   Make                    88826 non-null  object \n",
      " 10  Model                   88797 non-null  object \n",
      " 11  Amateur.Built           88787 non-null  object \n",
      " 12  Number.of.Engines       88889 non-null  float64\n",
      " 13  Engine.Type             81812 non-null  object \n",
      " 14  Purpose.of.flight       82697 non-null  object \n",
      " 15  Total.Fatal.Injuries    88889 non-null  float64\n",
      " 16  Total.Serious.Injuries  88889 non-null  float64\n",
      " 17  Total.Minor.Injuries    88889 non-null  float64\n",
      " 18  Total.Uninjured         88889 non-null  float64\n",
      " 19  Weather.Condition       84397 non-null  object \n",
      " 20  Report.Status           82508 non-null  object \n",
      "dtypes: float64(5), object(16)\n",
      "memory usage: 14.2+ MB\n"
     ]
    }
   ],
   "source": [
    "cleaned_df.info()"
   ]
  },
  {
   "cell_type": "code",
   "execution_count": null,
   "metadata": {},
   "outputs": [
    {
     "data": {
      "application/vnd.microsoft.datawrangler.viewer.v0+json": {
       "columns": [
        {
         "name": "index",
         "rawType": "object",
         "type": "string"
        },
        {
         "name": "Purpose.of.flight",
         "rawType": "float64",
         "type": "float"
        }
       ],
       "ref": "4d419e6a-5124-42dd-b49d-fe531a567991",
       "rows": [
        [
         "Personal",
         "59.79418842279648"
        ],
        [
         "Instructional",
         "12.819086544856525"
        ],
        [
         "Unknown",
         "8.225207685889451"
        ],
        [
         "Aerial Application",
         "5.697909234917833"
        ],
        [
         "Business",
         "4.858701041150223"
        ],
        [
         "Positioning",
         "1.990398684353725"
        ],
        [
         "Other Work Use",
         "1.5284714076689603"
        ],
        [
         "Ferry",
         "0.9818977713822751"
        ],
        [
         "Aerial Observation",
         "0.9601315646274956"
        ],
        [
         "Public Aircraft",
         "0.87064827019118"
        ],
        [
         "Executive/corporate",
         "0.66870624085517"
        ],
        [
         "Flight Test",
         "0.48973965198253866"
        ],
        [
         "Skydiving",
         "0.22008053496499266"
        ],
        [
         "External Load",
         "0.1487357461576599"
        ],
        [
         "Public Aircraft - Federal",
         "0.1269695394028804"
        ],
        [
         "Banner Tow",
         "0.12213260456848496"
        ],
        [
         "Air Race show",
         "0.11971413715128722"
        ],
        [
         "Public Aircraft - Local",
         "0.0894832944363157"
        ],
        [
         "Public Aircraft - State",
         "0.0773909573503271"
        ],
        [
         "Air Race/show",
         "0.07134478880733279"
        ],
        [
         "Glider Tow",
         "0.06408938655573963"
        ],
        [
         "Firefighting",
         "0.048369348343954434"
        ],
        [
         "Air Drop",
         "0.01330157079458747"
        ],
        [
         "ASHO",
         "0.007255402251593165"
        ],
        [
         "PUBS",
         "0.0048369348343954436"
        ],
        [
         "PUBL",
         "0.0012092337085988609"
        ]
       ],
       "shape": {
        "columns": 1,
        "rows": 26
       }
      },
      "text/plain": [
       "Personal                     59.794188\n",
       "Instructional                12.819087\n",
       "Unknown                       8.225208\n",
       "Aerial Application            5.697909\n",
       "Business                      4.858701\n",
       "Positioning                   1.990399\n",
       "Other Work Use                1.528471\n",
       "Ferry                         0.981898\n",
       "Aerial Observation            0.960132\n",
       "Public Aircraft               0.870648\n",
       "Executive/corporate           0.668706\n",
       "Flight Test                   0.489740\n",
       "Skydiving                     0.220081\n",
       "External Load                 0.148736\n",
       "Public Aircraft - Federal     0.126970\n",
       "Banner Tow                    0.122133\n",
       "Air Race show                 0.119714\n",
       "Public Aircraft - Local       0.089483\n",
       "Public Aircraft - State       0.077391\n",
       "Air Race/show                 0.071345\n",
       "Glider Tow                    0.064089\n",
       "Firefighting                  0.048369\n",
       "Air Drop                      0.013302\n",
       "ASHO                          0.007255\n",
       "PUBS                          0.004837\n",
       "PUBL                          0.001209\n",
       "Name: Purpose.of.flight, dtype: float64"
      ]
     },
     "execution_count": 107,
     "metadata": {},
     "output_type": "execute_result"
    }
   ],
   "source": [
    "cleaned_df['Purpose.of.flight'].value_counts(normalize=True)*100"
   ]
  },
  {
   "cell_type": "code",
   "execution_count": null,
   "metadata": {},
   "outputs": [
    {
     "data": {
      "application/vnd.microsoft.datawrangler.viewer.v0+json": {
       "columns": [
        {
         "name": "index",
         "rawType": "object",
         "type": "string"
        },
        {
         "name": "Event.Date",
         "rawType": "float64",
         "type": "float"
        }
       ],
       "ref": "6712fb50-05d7-490e-a77a-2dce4fd2c653",
       "rows": [
        [
         "1982-05-16",
         "0.028124964843793943"
        ],
        [
         "2000-07-08",
         "0.028124964843793943"
        ],
        [
         "1984-06-30",
         "0.028124964843793943"
        ],
        [
         "1983-06-05",
         "0.026999966250042185"
        ],
        [
         "1986-05-17",
         "0.026999966250042185"
        ],
        [
         "1983-08-05",
         "0.026999966250042185"
        ],
        [
         "1984-08-25",
         "0.026999966250042185"
        ],
        [
         "2001-06-16",
         "0.02587496765629043"
        ],
        [
         "1988-08-07",
         "0.02587496765629043"
        ],
        [
         "1982-10-03",
         "0.02587496765629043"
        ],
        [
         "1983-05-28",
         "0.02587496765629043"
        ],
        [
         "2001-07-21",
         "0.02587496765629043"
        ],
        [
         "1982-07-09",
         "0.02587496765629043"
        ],
        [
         "1982-05-01",
         "0.02587496765629043"
        ],
        [
         "1984-05-27",
         "0.024749969062538672"
        ],
        [
         "1984-06-23",
         "0.024749969062538672"
        ],
        [
         "1987-08-23",
         "0.024749969062538672"
        ],
        [
         "1984-09-01",
         "0.024749969062538672"
        ],
        [
         "1983-05-30",
         "0.024749969062538672"
        ],
        [
         "1982-04-25",
         "0.024749969062538672"
        ],
        [
         "1983-10-01",
         "0.024749969062538672"
        ],
        [
         "1983-09-10",
         "0.024749969062538672"
        ],
        [
         "1983-08-06",
         "0.024749969062538672"
        ],
        [
         "1983-08-27",
         "0.023624970468786914"
        ],
        [
         "1983-06-26",
         "0.023624970468786914"
        ],
        [
         "1989-07-09",
         "0.023624970468786914"
        ],
        [
         "1985-06-23",
         "0.023624970468786914"
        ],
        [
         "1983-07-28",
         "0.023624970468786914"
        ],
        [
         "1982-08-21",
         "0.023624970468786914"
        ],
        [
         "1983-08-13",
         "0.023624970468786914"
        ],
        [
         "2005-08-06",
         "0.023624970468786914"
        ],
        [
         "1998-07-18",
         "0.023624970468786914"
        ],
        [
         "1986-07-27",
         "0.023624970468786914"
        ],
        [
         "1982-04-18",
         "0.023624970468786914"
        ],
        [
         "1984-07-21",
         "0.023624970468786914"
        ],
        [
         "1982-06-19",
         "0.023624970468786914"
        ],
        [
         "1983-02-19",
         "0.023624970468786914"
        ],
        [
         "1987-07-26",
         "0.023624970468786914"
        ],
        [
         "1998-08-15",
         "0.023624970468786914"
        ],
        [
         "1984-06-09",
         "0.023624970468786914"
        ],
        [
         "1982-08-08",
         "0.023624970468786914"
        ],
        [
         "1990-08-25",
         "0.023624970468786914"
        ],
        [
         "1983-07-02",
         "0.023624970468786914"
        ],
        [
         "1983-08-20",
         "0.023624970468786914"
        ],
        [
         "1983-08-14",
         "0.023624970468786914"
        ],
        [
         "1982-07-24",
         "0.022499971875035156"
        ],
        [
         "1983-06-29",
         "0.022499971875035156"
        ],
        [
         "1982-07-31",
         "0.022499971875035156"
        ],
        [
         "1991-07-28",
         "0.022499971875035156"
        ],
        [
         "1986-08-30",
         "0.022499971875035156"
        ]
       ],
       "shape": {
        "columns": 1,
        "rows": 14782
       }
      },
      "text/plain": [
       "1982-05-16    0.028125\n",
       "2000-07-08    0.028125\n",
       "1984-06-30    0.028125\n",
       "1983-06-05    0.027000\n",
       "1986-05-17    0.027000\n",
       "                ...   \n",
       "2001-12-23    0.001125\n",
       "2021-12-20    0.001125\n",
       "2019-11-05    0.001125\n",
       "2020-05-05    0.001125\n",
       "2016-02-29    0.001125\n",
       "Name: Event.Date, Length: 14782, dtype: float64"
      ]
     },
     "execution_count": 112,
     "metadata": {},
     "output_type": "execute_result"
    }
   ],
   "source": [
    "cleaned_df['Aircraft.damage'].value_counts(normalize=True)*100"
   ]
  },
  {
   "cell_type": "code",
   "execution_count": 113,
   "metadata": {},
   "outputs": [
    {
     "name": "stdout",
     "output_type": "stream",
     "text": [
      "1982    4.042120\n",
      "1983    4.000495\n",
      "1984    3.889120\n",
      "1985    3.482996\n",
      "1986    3.239996\n",
      "1987    3.181496\n",
      "1988    3.071246\n",
      "1989    2.861996\n",
      "1990    2.832746\n",
      "1991    2.769747\n",
      "1992    2.649372\n",
      "1993    2.602122\n",
      "1995    2.597622\n",
      "1994    2.539122\n",
      "1998    2.504247\n",
      "2000    2.497497\n",
      "1999    2.485122\n",
      "1996    2.460372\n",
      "1997    2.416497\n",
      "2003    2.345622\n",
      "2001    2.320872\n",
      "2005    2.284872\n",
      "2002    2.272497\n",
      "2007    2.267997\n",
      "2004    2.195997\n",
      "2008    2.129622\n",
      "2006    2.082372\n",
      "2011    2.081247\n",
      "2012    2.064372\n",
      "2010    2.009247\n",
      "2009    2.005872\n",
      "2018    1.891123\n",
      "2016    1.871998\n",
      "2017    1.842748\n",
      "2019    1.826998\n",
      "2022    1.807873\n",
      "2015    1.779748\n",
      "2013    1.756123\n",
      "2021    1.738123\n",
      "2014    1.726873\n",
      "2020    1.565998\n",
      "1979    0.002250\n",
      "1977    0.001125\n",
      "1948    0.001125\n",
      "1981    0.001125\n",
      "1962    0.001125\n",
      "1974    0.001125\n",
      "Name: Year, dtype: float64\n"
     ]
    }
   ],
   "source": [
    "cleaned_df['Event.Date'] = pd.to_datetime(cleaned_df['Event.Date'], errors='coerce')\n",
    "\n",
    "# Extract year\n",
    "cleaned_df['Year'] = cleaned_df['Event.Date'].dt.year\n",
    "\n",
    "# Show year distribution as percentages\n",
    "year_counts = cleaned_df['Year'].value_counts(normalize=True) * 100\n",
    "print(year_counts)\n"
   ]
  }
 ],
 "metadata": {
  "kernelspec": {
   "display_name": "learn-env",
   "language": "python",
   "name": "python3"
  },
  "language_info": {
   "codemirror_mode": {
    "name": "ipython",
    "version": 3
   },
   "file_extension": ".py",
   "mimetype": "text/x-python",
   "name": "python",
   "nbconvert_exporter": "python",
   "pygments_lexer": "ipython3",
   "version": "3.8.12"
  }
 },
 "nbformat": 4,
 "nbformat_minor": 2
}
